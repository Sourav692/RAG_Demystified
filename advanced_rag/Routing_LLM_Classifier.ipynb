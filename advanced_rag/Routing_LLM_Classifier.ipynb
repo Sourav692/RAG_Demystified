{
 "cells": [
  {
   "cell_type": "markdown",
   "metadata": {
    "application/vnd.databricks.v1+cell": {
     "cellMetadata": {},
     "inputWidgets": {},
     "nuid": "d2daa318-1700-4dd9-92bd-a70db101273c",
     "showTitle": false,
     "tableResultSettingsMap": {},
     "title": ""
    },
    "id": "wgSEjqZKFskw"
   },
   "source": [
    "# Step-by-step implementation\n",
    "The provided code demonstrates a basic routing implementation with LLM-based classifiers using the LangChain library. Let’s break it down step by step:\n",
    "1. Import necessary modules\n",
    "2. Set up the OpenAI API key\n",
    "3. Define LLM templates\n",
    "4. Create a classification template\n",
    "5. Build a classification chain\n",
    "6. Define the `prompt_router` function\n",
    "7. Use the `prompt_router` function"
   ]
  },
  {
   "cell_type": "markdown",
   "metadata": {
    "application/vnd.databricks.v1+cell": {
     "cellMetadata": {},
     "inputWidgets": {},
     "nuid": "08a9b5fe-f4fc-4bdd-8026-7b126d1ec278",
     "showTitle": false,
     "tableResultSettingsMap": {},
     "title": ""
    },
    "id": "1Kx3ctQuFxTo"
   },
   "source": [
    "## 1. Import necessary modules"
   ]
  },
  {
   "cell_type": "code",
   "execution_count": 0,
   "metadata": {
    "application/vnd.databricks.v1+cell": {
     "cellMetadata": {},
     "inputWidgets": {},
     "nuid": "189e2972-7376-487b-9c75-aad596418c71",
     "showTitle": false,
     "tableResultSettingsMap": {},
     "title": ""
    },
    "id": "wjb5ojEa_sdN"
   },
   "outputs": [],
   "source": [
    "import os\n",
    "from langchain_core.output_parsers import StrOutputParser\n",
    "from langchain_core.prompts import PromptTemplate\n",
    "from langchain_openai import ChatOpenAI\n",
    "from langchain_core.runnables import RunnableLambda, RunnablePassthrough"
   ]
  },
  {
   "cell_type": "markdown",
   "metadata": {
    "application/vnd.databricks.v1+cell": {
     "cellMetadata": {},
     "inputWidgets": {},
     "nuid": "120060bc-4002-4822-b449-e7dd7879b6b6",
     "showTitle": false,
     "tableResultSettingsMap": {},
     "title": ""
    },
    "id": "O_lXqiAqFzS1"
   },
   "source": [
    "## 2. Set up the OpenAI API key"
   ]
  },
  {
   "cell_type": "code",
   "execution_count": 0,
   "metadata": {
    "application/vnd.databricks.v1+cell": {
     "cellMetadata": {},
     "inputWidgets": {},
     "nuid": "59872fd6-8422-4f8d-bd63-dadb0c3fd397",
     "showTitle": false,
     "tableResultSettingsMap": {},
     "title": ""
    },
    "id": "-jTofGbCASRt"
   },
   "outputs": [],
   "source": [
    "OPENAI_API_KEY = os.environ[\"OPENAI_API_KEY\"] = \"\"  # Add your OpenAI API key\n",
    "if OPENAI_API_KEY == \"\":\n",
    "    raise ValueError(\"Please set the OPENAI_API_KEY environment variable\")"
   ]
  },
  {
   "cell_type": "markdown",
   "metadata": {
    "application/vnd.databricks.v1+cell": {
     "cellMetadata": {},
     "inputWidgets": {},
     "nuid": "7dfd5537-5f0a-4182-af98-00ce5fb9e022",
     "showTitle": false,
     "tableResultSettingsMap": {},
     "title": ""
    },
    "id": "-f1pa_pfF1Wt"
   },
   "source": [
    "## 3. Define LLM templates"
   ]
  },
  {
   "cell_type": "code",
   "execution_count": 0,
   "metadata": {
    "application/vnd.databricks.v1+cell": {
     "cellMetadata": {},
     "inputWidgets": {},
     "nuid": "447b12fc-5d6e-408d-a616-663acdf4e28a",
     "showTitle": false,
     "tableResultSettingsMap": {},
     "title": ""
    },
    "id": "P3maaU_aAnBl"
   },
   "outputs": [],
   "source": [
    "personal_finance_template = \"\"\"You are a personal finance expert with extensive knowledge of budgeting, investing, and financial planning. You offer clear and practical advice on managing money and making sound financial decisions.\n",
    "\n",
    "Here is a question:\n",
    "{query}\"\"\"\n",
    "\n",
    "book_review_template = \"\"\"You are an experienced book critic with extensive knowledge of literature, genres, and authors. You provide thoughtful and analytical reviews and insights about books.\n",
    "\n",
    "Here is a question:\n",
    "{query}\"\"\"\n",
    "\n",
    "health_fitness_template = \"\"\"You are a certified health and fitness expert with a deep understanding of nutrition, exercise routines, and wellness strategies. You offer practical and evidence-based advice about health and fitness.\n",
    "\n",
    "Here is a question:\n",
    "{query}\"\"\"\n",
    "\n",
    "travel_guide_template = \"\"\"You are a seasoned travel expert with extensive knowledge of destinations, travel tips, and cultural insights. You provide detailed and useful advice about travel.\n",
    "\n",
    "Here is a question:\n",
    "{query}\"\"\""
   ]
  },
  {
   "cell_type": "markdown",
   "metadata": {
    "application/vnd.databricks.v1+cell": {
     "cellMetadata": {},
     "inputWidgets": {},
     "nuid": "fceb74d1-d514-4a95-b152-2d8f97bdd1e7",
     "showTitle": false,
     "tableResultSettingsMap": {},
     "title": ""
    },
    "id": "cZmyF0c9F3vt"
   },
   "source": [
    "## 4. Create a classification template"
   ]
  },
  {
   "cell_type": "code",
   "execution_count": 0,
   "metadata": {
    "application/vnd.databricks.v1+cell": {
     "cellMetadata": {},
     "inputWidgets": {},
     "nuid": "b8082276-2888-4263-a7c2-1f0a84a7564e",
     "showTitle": false,
     "tableResultSettingsMap": {},
     "title": ""
    },
    "id": "ThJOS99b_wbk"
   },
   "outputs": [],
   "source": [
    "classification_template = PromptTemplate.from_template(\n",
    "    \"\"\"You are good at classifying a question.\n",
    "    Given the user question below, classify it as either being about personal finance, book reviews, health & fitness, or travel guides.\n",
    "\n",
    "    <If the question is about budgeting, investing, or financial planning, classify it as 'Personal Finance'>\n",
    "    <If the question is about literature, genres, or authors, classify it as 'Book Review'>\n",
    "    <If the question is about nutrition, exercise routines, or wellness strategies, classify it as 'Health & Fitness'>\n",
    "    <If the question is about destinations, travel tips, or cultural insights, classify it as 'Travel Guide'>\n",
    "\n",
    "    <question>\n",
    "    {question}\n",
    "    </question>\n",
    "\n",
    "    Classification:\"\"\"\n",
    ")"
   ]
  },
  {
   "cell_type": "markdown",
   "metadata": {
    "application/vnd.databricks.v1+cell": {
     "cellMetadata": {},
     "inputWidgets": {},
     "nuid": "cd6d4c38-9f67-45c4-904b-b0079cc592bc",
     "showTitle": false,
     "tableResultSettingsMap": {},
     "title": ""
    },
    "id": "0pJiVeAeF-oa"
   },
   "source": [
    "## 5. Build a classification chain"
   ]
  },
  {
   "cell_type": "code",
   "execution_count": 0,
   "metadata": {
    "application/vnd.databricks.v1+cell": {
     "cellMetadata": {},
     "inputWidgets": {},
     "nuid": "7a2f6203-6362-4314-b18c-8ed067e9c695",
     "showTitle": false,
     "tableResultSettingsMap": {},
     "title": ""
    },
    "id": "8OQZBmUNF8Up"
   },
   "outputs": [],
   "source": [
    "classification_chain = classification_template | ChatOpenAI() | StrOutputParser()"
   ]
  },
  {
   "cell_type": "markdown",
   "metadata": {
    "application/vnd.databricks.v1+cell": {
     "cellMetadata": {},
     "inputWidgets": {},
     "nuid": "f2d67f64-0a54-4e6c-ac2b-09070fcf2699",
     "showTitle": false,
     "tableResultSettingsMap": {},
     "title": ""
    },
    "id": "2PsfOlLvGC0s"
   },
   "source": [
    "## 6. Define the `prompt_router` function"
   ]
  },
  {
   "cell_type": "code",
   "execution_count": 0,
   "metadata": {
    "application/vnd.databricks.v1+cell": {
     "cellMetadata": {},
     "inputWidgets": {},
     "nuid": "0f53e588-d88a-4a6a-8f5c-b6d5fe53376e",
     "showTitle": false,
     "tableResultSettingsMap": {},
     "title": ""
    },
    "id": "yafdYHuUAa7x"
   },
   "outputs": [],
   "source": [
    "def prompt_router(input_query):\n",
    "    classification = classification_chain.invoke({\"question\": input_query[\"query\"]})\n",
    "\n",
    "    if classification == \"Personal Finance\":\n",
    "        print(\"Using PERSONAL FINANCE\")\n",
    "        return PromptTemplate.from_template(personal_finance_template)\n",
    "    elif classification == \"Book Review\":\n",
    "        print(\"Using BOOK REVIEW\")\n",
    "        return PromptTemplate.from_template(book_review_template)\n",
    "    elif classification == \"Health & Fitness\":\n",
    "        print(\"Using HEALTH & FITNESS\")\n",
    "        return PromptTemplate.from_template(health_fitness_template)\n",
    "    elif classification == \"Travel Guide\":\n",
    "        print(\"Using TRAVEL GUIDE\")\n",
    "        return PromptTemplate.from_template(travel_guide_template)\n",
    "    else:\n",
    "        print(\"Unexpected classification:\", classification)\n",
    "        return None"
   ]
  },
  {
   "cell_type": "markdown",
   "metadata": {
    "application/vnd.databricks.v1+cell": {
     "cellMetadata": {},
     "inputWidgets": {},
     "nuid": "85e32958-80c7-4c7c-95af-f86061478543",
     "showTitle": false,
     "tableResultSettingsMap": {},
     "title": ""
    },
    "id": "y84tGGdxGJEo"
   },
   "source": [
    "## 7. Use the `prompt_router` function"
   ]
  },
  {
   "cell_type": "code",
   "execution_count": 0,
   "metadata": {
    "application/vnd.databricks.v1+cell": {
     "cellMetadata": {},
     "inputWidgets": {},
     "nuid": "b2e7411a-6e55-451a-ba67-3f7b8ccc33a1",
     "showTitle": false,
     "tableResultSettingsMap": {},
     "title": ""
    },
    "id": "kmQ3Oo_iAjAl"
   },
   "outputs": [],
   "source": [
    "input_query = {\"query\": \"What are effective strategies for losing weight?\"}\n",
    "prompt = prompt_router(input_query)"
   ]
  },
  {
   "cell_type": "code",
   "execution_count": 0,
   "metadata": {
    "application/vnd.databricks.v1+cell": {
     "cellMetadata": {},
     "inputWidgets": {},
     "nuid": "33da16b7-9560-43aa-a38c-f2ec951528a1",
     "showTitle": false,
     "tableResultSettingsMap": {},
     "title": ""
    },
    "id": "Jzbw3EExA0r4"
   },
   "outputs": [],
   "source": [
    "input_query = {\"query\": \"What are the must-see attractions in USA?\"}\n",
    "\n",
    "if prompt:  # Check if a valid prompt was returned\n",
    "    chain = (\n",
    "        {\"query\": RunnablePassthrough()}\n",
    "        | RunnableLambda(prompt_router)  # Reuse prompt_router for later queries\n",
    "        | ChatOpenAI()\n",
    "        | StrOutputParser()\n",
    "    )\n",
    "\n",
    "    # Assuming 'chain' is an object that uses the generated prompt, you invoke it as follows:\n",
    "    response = chain.invoke(input_query[\"query\"])\n",
    "\n",
    "    # Print the response\n",
    "    print(response)\n",
    "else:\n",
    "    print(\"Could not determine appropriate LLM for the query.\")"
   ]
  }
 ],
 "metadata": {
  "application/vnd.databricks.v1+notebook": {
   "computePreferences": null,
   "dashboards": [],
   "environmentMetadata": null,
   "language": "python",
   "notebookMetadata": {},
   "notebookName": "Routing_LLM_Classifier",
   "widgets": {}
  },
  "colab": {
   "provenance": []
  },
  "kernelspec": {
   "display_name": "Python 3",
   "name": "python3"
  },
  "language_info": {
   "name": "python"
  }
 },
 "nbformat": 4,
 "nbformat_minor": 0
}
