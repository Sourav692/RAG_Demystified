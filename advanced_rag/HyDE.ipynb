{
 "cells": [
  {
   "cell_type": "markdown",
   "metadata": {
    "application/vnd.databricks.v1+cell": {
     "cellMetadata": {},
     "inputWidgets": {},
     "nuid": "9c8ac953-2f74-460e-a8f5-24a9e9a93da5",
     "showTitle": false,
     "tableResultSettingsMap": {},
     "title": ""
    },
    "id": "N5HjlzUwm12o"
   },
   "source": [
    "# Step-by-step implementation\n",
    "Now, let’s dive into the provided code and understand how it implements HyDE:\n",
    "\n",
    "1. Import necessary modules\n",
    "2. Set up the OpenAI API key\n",
    "3. Load and split documents\n",
    "4. Create a vector store\n",
    "5. Generate embeddings (single and multiple)\n",
    "6. Query the vector store for HyDE\n",
    "7. Generate a hypothetical document\n",
    "8. Return the hypothetical document and original question"
   ]
  },
  {
   "cell_type": "markdown",
   "metadata": {
    "application/vnd.databricks.v1+cell": {
     "cellMetadata": {},
     "inputWidgets": {},
     "nuid": "c4302252-8188-4408-869d-25c414b9c456",
     "showTitle": false,
     "tableResultSettingsMap": {},
     "title": ""
    },
    "id": "gs4fcu59nJw2"
   },
   "source": [
    "## 1. Import necessary modules"
   ]
  },
  {
   "cell_type": "code",
   "execution_count": 0,
   "metadata": {
    "application/vnd.databricks.v1+cell": {
     "cellMetadata": {},
     "inputWidgets": {},
     "nuid": "878cb344-6150-4d9a-b441-2d6e2d14f615",
     "showTitle": false,
     "tableResultSettingsMap": {},
     "title": ""
    },
    "id": "a5VdAoFb90ot"
   },
   "outputs": [],
   "source": [
    "import os\n",
    "from langchain_openai import OpenAI\n",
    "from langchain_openai import OpenAIEmbeddings\n",
    "from langchain.chains import HypotheticalDocumentEmbedder\n",
    "from langchain.prompts import PromptTemplate\n",
    "from langchain.text_splitter import RecursiveCharacterTextSplitter\n",
    "from langchain_community.document_loaders import TextLoader\n",
    "from langchain_community.vectorstores import Chroma\n",
    "from langchain_core.prompts import ChatPromptTemplate\n",
    "from langchain_openai import ChatOpenAI\n",
    "from langchain_core.output_parsers import StrOutputParser\n",
    "from langchain_core.runnables import RunnablePassthrough"
   ]
  },
  {
   "cell_type": "markdown",
   "metadata": {
    "application/vnd.databricks.v1+cell": {
     "cellMetadata": {},
     "inputWidgets": {},
     "nuid": "79049a37-dda8-4bcf-a770-c22423162e75",
     "showTitle": false,
     "tableResultSettingsMap": {},
     "title": ""
    },
    "id": "lYXtcYttnMoO"
   },
   "source": [
    "## 2. Set up the OpenAI API key"
   ]
  },
  {
   "cell_type": "code",
   "execution_count": 0,
   "metadata": {
    "application/vnd.databricks.v1+cell": {
     "cellMetadata": {},
     "inputWidgets": {},
     "nuid": "90f65b07-5576-4d38-8ec3-6ff0e09f15d9",
     "showTitle": false,
     "tableResultSettingsMap": {},
     "title": ""
    },
    "id": "traE48Crspqh"
   },
   "outputs": [],
   "source": [
    "OPENAI_API_KEY = os.environ[\"OPENAI_API_KEY\"] = \"\"  # Add your OpenAI API key\n",
    "if OPENAI_API_KEY == \"\":\n",
    "    raise ValueError(\"Please set the OPENAI_API_KEY environment variable\")"
   ]
  },
  {
   "cell_type": "markdown",
   "metadata": {
    "application/vnd.databricks.v1+cell": {
     "cellMetadata": {},
     "inputWidgets": {},
     "nuid": "a197c081-2023-4419-a4fb-e6b9ffdc1ad5",
     "showTitle": false,
     "tableResultSettingsMap": {},
     "title": ""
    },
    "id": "yl4B7ZhznPAy"
   },
   "source": [
    "## 3. Load and split documents"
   ]
  },
  {
   "cell_type": "code",
   "execution_count": 0,
   "metadata": {
    "application/vnd.databricks.v1+cell": {
     "cellMetadata": {},
     "inputWidgets": {},
     "nuid": "8eb8e26c-b06c-4b1f-8400-2e7670ef4211",
     "showTitle": false,
     "tableResultSettingsMap": {},
     "title": ""
    },
    "id": "cI-Cl0m1tBHI"
   },
   "outputs": [],
   "source": [
    "loaders = [\n",
    "    TextLoader(\"blog.langchain.dev_announcing-langsmith_.txt\"),\n",
    "    TextLoader(\"blog.langchain.dev_automating-web-research_.txt\"),\n",
    "]\n",
    "\n",
    "docs = []\n",
    "for loader in loaders:\n",
    "    docs.extend(loader.load())\n",
    "\n",
    "text_splitter = RecursiveCharacterTextSplitter.from_tiktoken_encoder(chunk_size=400, chunk_overlap=60)\n",
    "splits = text_splitter.split_documents(docs)"
   ]
  },
  {
   "cell_type": "markdown",
   "metadata": {
    "application/vnd.databricks.v1+cell": {
     "cellMetadata": {},
     "inputWidgets": {},
     "nuid": "78b54f6d-1ee5-43fd-bb4b-fa67a0518221",
     "showTitle": false,
     "tableResultSettingsMap": {},
     "title": ""
    },
    "id": "78AqSbLTnR6u"
   },
   "source": [
    "## 4. Create a vector store"
   ]
  },
  {
   "cell_type": "code",
   "execution_count": 0,
   "metadata": {
    "application/vnd.databricks.v1+cell": {
     "cellMetadata": {},
     "inputWidgets": {},
     "nuid": "e0a961b8-e675-4057-bff1-17baa3af5606",
     "showTitle": false,
     "tableResultSettingsMap": {},
     "title": ""
    },
    "id": "S1OemhY3tooK"
   },
   "outputs": [],
   "source": [
    "# Create a vector store to facilitate information retrieval\n",
    "vectorstore = Chroma.from_documents(documents=splits, embedding=OpenAIEmbeddings())"
   ]
  },
  {
   "cell_type": "markdown",
   "metadata": {
    "application/vnd.databricks.v1+cell": {
     "cellMetadata": {},
     "inputWidgets": {},
     "nuid": "c0eb9118-79ae-4be7-8a9a-87711cfdfeb8",
     "showTitle": false,
     "tableResultSettingsMap": {},
     "title": ""
    },
    "id": "lfcvV86InWpD"
   },
   "source": [
    "## 5. Generate embeddings (single and multiple)"
   ]
  },
  {
   "cell_type": "markdown",
   "metadata": {
    "application/vnd.databricks.v1+cell": {
     "cellMetadata": {},
     "inputWidgets": {},
     "nuid": "56c97b0c-2d12-40e1-877e-02ee2aff1e32",
     "showTitle": false,
     "tableResultSettingsMap": {},
     "title": ""
    },
    "id": "7iR-f9OFnX-S"
   },
   "source": [
    "### Single embedding generation"
   ]
  },
  {
   "cell_type": "code",
   "execution_count": 0,
   "metadata": {
    "application/vnd.databricks.v1+cell": {
     "cellMetadata": {},
     "inputWidgets": {},
     "nuid": "79d33928-d5da-4621-b456-8bd6f5cd1b29",
     "showTitle": false,
     "tableResultSettingsMap": {},
     "title": ""
    },
    "id": "Nd7KNZ1Dv_aZ"
   },
   "outputs": [],
   "source": [
    "# Initialize the embedding model and LLM\n",
    "embeddings = HypotheticalDocumentEmbedder.from_llm(OpenAI(), OpenAIEmbeddings(), \"web_search\")\n",
    "\n",
    "query = \"What is LangSmith, and why do we need it?\"\n",
    "\n",
    "# Now we can use it as any embedding class\n",
    "result = embeddings.embed_query(query)"
   ]
  },
  {
   "cell_type": "code",
   "execution_count": 0,
   "metadata": {
    "application/vnd.databricks.v1+cell": {
     "cellMetadata": {},
     "inputWidgets": {},
     "nuid": "30cd2b7d-2c4c-4959-9090-778034dbda6b",
     "showTitle": false,
     "tableResultSettingsMap": {},
     "title": ""
    },
    "id": "DB-ysZNSuWEr"
   },
   "outputs": [],
   "source": [
    "result"
   ]
  },
  {
   "cell_type": "markdown",
   "metadata": {
    "application/vnd.databricks.v1+cell": {
     "cellMetadata": {},
     "inputWidgets": {},
     "nuid": "eb1d5c19-de04-4f19-a112-4fd43e26a050",
     "showTitle": false,
     "tableResultSettingsMap": {},
     "title": ""
    },
    "id": "qVLPTYCXxNjX"
   },
   "source": [
    "### Multiple embeddings generation"
   ]
  },
  {
   "cell_type": "code",
   "execution_count": 0,
   "metadata": {
    "application/vnd.databricks.v1+cell": {
     "cellMetadata": {},
     "inputWidgets": {},
     "nuid": "e81c1a24-10b1-49b5-b292-05f91a154db6",
     "showTitle": false,
     "tableResultSettingsMap": {},
     "title": ""
    },
    "id": "org25cqhxIij"
   },
   "outputs": [],
   "source": [
    "multi_llm = OpenAI(n=3, best_of=4)\n",
    "embeddings = HypotheticalDocumentEmbedder.from_llm(multi_llm, OpenAIEmbeddings(), \"web_search\")\n",
    "result = embeddings.embed_query(\"What is LangSmith, and why do we need it?\")"
   ]
  },
  {
   "cell_type": "code",
   "execution_count": 0,
   "metadata": {
    "application/vnd.databricks.v1+cell": {
     "cellMetadata": {},
     "inputWidgets": {},
     "nuid": "d50e3d43-2642-4b4a-944d-1105c3bb08ef",
     "showTitle": false,
     "tableResultSettingsMap": {},
     "title": ""
    },
    "id": "JEv61MLjZ6iu"
   },
   "outputs": [],
   "source": [
    "result"
   ]
  },
  {
   "cell_type": "markdown",
   "metadata": {
    "application/vnd.databricks.v1+cell": {
     "cellMetadata": {},
     "inputWidgets": {},
     "nuid": "c6a7f733-61bd-4934-abba-443b97d7d047",
     "showTitle": false,
     "tableResultSettingsMap": {},
     "title": ""
    },
    "id": "1JguUNYtwevl"
   },
   "source": [
    "## 6. Query the vector store for HyDE"
   ]
  },
  {
   "cell_type": "code",
   "execution_count": 0,
   "metadata": {
    "application/vnd.databricks.v1+cell": {
     "cellMetadata": {},
     "inputWidgets": {},
     "nuid": "2b384243-5ddb-4b15-91ab-4a275868f169",
     "showTitle": false,
     "tableResultSettingsMap": {},
     "title": ""
    },
    "id": "Tsj_YW5Xwkzp"
   },
   "outputs": [],
   "source": [
    "query = \"What is LangSmith, and why do we need it?\"\n",
    "vectorstore.similarity_search(query)"
   ]
  },
  {
   "cell_type": "markdown",
   "metadata": {
    "application/vnd.databricks.v1+cell": {
     "cellMetadata": {},
     "inputWidgets": {},
     "nuid": "16ab2e71-8f8b-4c17-9afb-acb76ff89973",
     "showTitle": false,
     "tableResultSettingsMap": {},
     "title": ""
    },
    "id": "2jyTITjpnmNb"
   },
   "source": [
    "## 7. Generate a hypothetical document"
   ]
  },
  {
   "cell_type": "code",
   "execution_count": 0,
   "metadata": {
    "application/vnd.databricks.v1+cell": {
     "cellMetadata": {},
     "inputWidgets": {},
     "nuid": "a187139c-3f4b-4f18-8c55-f66e494e23c1",
     "showTitle": false,
     "tableResultSettingsMap": {},
     "title": ""
    },
    "id": "QUUwAErUyDRE"
   },
   "outputs": [],
   "source": [
    "system = \"\"\"\n",
    "As a knowledgeable and helpful research assistant, your task is to provide informative answers based on the given context.\n",
    "Use your extensive knowledge base to offer clear, concise, and accurate responses to the user's inquiries.\n",
    "Question: {question}\n",
    "Answer:\n",
    "\"\"\"\n",
    "\n",
    "prompt = ChatPromptTemplate.from_messages(\n",
    "    [\n",
    "        (\"system\", system),\n",
    "        (\"human\", \"{question}\"),\n",
    "    ]\n",
    ")\n",
    "llm = ChatOpenAI(model=\"gpt-3.5-turbo-0125\", temperature=0)\n",
    "context = prompt | llm | StrOutputParser()"
   ]
  },
  {
   "cell_type": "code",
   "execution_count": 0,
   "metadata": {
    "application/vnd.databricks.v1+cell": {
     "cellMetadata": {},
     "inputWidgets": {},
     "nuid": "dd87eb9f-6258-4577-a7b6-39a55312767e",
     "showTitle": false,
     "tableResultSettingsMap": {},
     "title": ""
    },
    "id": "F33fhdOv0vyu"
   },
   "outputs": [],
   "source": [
    "answer = context.invoke(\n",
    "    {\n",
    "        \"What is LangSmith, and why do we need it?\"\n",
    "    }\n",
    ")\n",
    "print(answer)"
   ]
  },
  {
   "cell_type": "code",
   "execution_count": 0,
   "metadata": {
    "application/vnd.databricks.v1+cell": {
     "cellMetadata": {},
     "inputWidgets": {},
     "nuid": "38be2f38-baf7-4cc6-8a76-6ee75ab002bc",
     "showTitle": false,
     "tableResultSettingsMap": {},
     "title": ""
    },
    "id": "WEDVRokd1KM1"
   },
   "outputs": [],
   "source": [
    "answer = context.invoke(\n",
    "    {\n",
    "        \"What are the benefits of LangSmith?\"\n",
    "    }\n",
    ")\n",
    "print(answer)"
   ]
  },
  {
   "cell_type": "code",
   "execution_count": 0,
   "metadata": {
    "application/vnd.databricks.v1+cell": {
     "cellMetadata": {},
     "inputWidgets": {},
     "nuid": "e8be82bf-1cbe-455a-a6c7-a84f28b56d28",
     "showTitle": false,
     "tableResultSettingsMap": {},
     "title": ""
    },
    "id": "4YM4nD-c1zzK"
   },
   "outputs": [],
   "source": [
    "answer = context.invoke(\n",
    "    {\n",
    "        \"What is web research agent?\"\n",
    "    }\n",
    ")\n",
    "print(answer)"
   ]
  },
  {
   "cell_type": "markdown",
   "metadata": {
    "application/vnd.databricks.v1+cell": {
     "cellMetadata": {},
     "inputWidgets": {},
     "nuid": "cb99fa7c-703b-4c07-b096-b3f638d9e789",
     "showTitle": false,
     "tableResultSettingsMap": {},
     "title": ""
    },
    "id": "PX-nfXUvtjnX"
   },
   "source": [
    "## 8. Return the hypothetical document and original question\n",
    "\n"
   ]
  },
  {
   "cell_type": "code",
   "execution_count": 0,
   "metadata": {
    "application/vnd.databricks.v1+cell": {
     "cellMetadata": {},
     "inputWidgets": {},
     "nuid": "4885ef1e-9969-4b12-b671-7776f7fb8530",
     "showTitle": false,
     "tableResultSettingsMap": {},
     "title": ""
    },
    "id": "LhMVK_vktk-S"
   },
   "outputs": [],
   "source": [
    "chain = RunnablePassthrough.assign(hypothetical_document=context)\n",
    "\n",
    "chain.invoke(\n",
    "    {\n",
    "        \"question\": \"What is LangSmith, and why do we need it?\"\n",
    "    }\n",
    ")"
   ]
  }
 ],
 "metadata": {
  "application/vnd.databricks.v1+notebook": {
   "computePreferences": null,
   "dashboards": [],
   "environmentMetadata": null,
   "language": "python",
   "notebookMetadata": {},
   "notebookName": "HyDE",
   "widgets": {}
  },
  "colab": {
   "provenance": []
  },
  "kernelspec": {
   "display_name": "Python 3",
   "name": "python3"
  },
  "language_info": {
   "name": "python"
  }
 },
 "nbformat": 4,
 "nbformat_minor": 0
}
