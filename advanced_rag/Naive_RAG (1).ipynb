{
 "cells": [
  {
   "cell_type": "markdown",
   "metadata": {
    "application/vnd.databricks.v1+cell": {
     "cellMetadata": {},
     "inputWidgets": {},
     "nuid": "10344de7-07b0-47c7-bbd2-4028731178d3",
     "showTitle": false,
     "tableResultSettingsMap": {},
     "title": ""
    },
    "id": "CWIJXk6pLYfi"
   },
   "source": [
    "# Step-by-step implementation of Naive RAG\n",
    "The following are the steps to implement the Naive RAG using LangChain:\n",
    "- Import necessary libraries\n",
    "- OpenAI environment variable setup\n",
    "- Data indexing process\n",
    "- Retrieval process\n",
    "- Augment process\n",
    "- Generation process"
   ]
  },
  {
   "cell_type": "markdown",
   "metadata": {
    "application/vnd.databricks.v1+cell": {
     "cellMetadata": {},
     "inputWidgets": {},
     "nuid": "edf9a31f-1a9f-4028-a8a9-3b68c1bee052",
     "showTitle": false,
     "tableResultSettingsMap": {},
     "title": ""
    },
    "id": "78MC3bzEM04N"
   },
   "source": [
    "## Import necessary libraries"
   ]
  },
  {
   "cell_type": "code",
   "execution_count": 0,
   "metadata": {
    "application/vnd.databricks.v1+cell": {
     "cellMetadata": {},
     "inputWidgets": {},
     "nuid": "6ea60477-da87-4e41-b3fd-f544fc955733",
     "showTitle": false,
     "tableResultSettingsMap": {},
     "title": ""
    },
    "id": "Bm7tGLKHHBsh"
   },
   "outputs": [],
   "source": [
    "import os\n",
    "from langchain_community.document_loaders import PyPDFLoader\n",
    "from langchain.text_splitter import RecursiveCharacterTextSplitter\n",
    "from langchain_openai import OpenAIEmbeddings\n",
    "from langchain.vectorstores import Chroma\n",
    "from langchain.prompts import ChatPromptTemplate\n",
    "from langchain_openai import ChatOpenAI"
   ]
  },
  {
   "cell_type": "markdown",
   "metadata": {
    "application/vnd.databricks.v1+cell": {
     "cellMetadata": {},
     "inputWidgets": {},
     "nuid": "9d76b6f5-b896-4914-9e0e-142fb5876a8e",
     "showTitle": false,
     "tableResultSettingsMap": {},
     "title": ""
    },
    "id": "ShJJc7B1M-RL"
   },
   "source": [
    "## OpenAI environment variable setup\n"
   ]
  },
  {
   "cell_type": "code",
   "execution_count": 0,
   "metadata": {
    "application/vnd.databricks.v1+cell": {
     "cellMetadata": {},
     "inputWidgets": {},
     "nuid": "3411a8b8-c89d-4cb7-b22f-f94adcd3266f",
     "showTitle": false,
     "tableResultSettingsMap": {},
     "title": ""
    },
    "id": "V1374Q6XM_b-"
   },
   "outputs": [],
   "source": [
    "OPENAI_API_KEY = os.environ[\"OPENAI_API_KEY\"] = \"\"  # Add your OpenAI API Key\n",
    "if OPENAI_API_KEY == \"\":\n",
    "    raise ValueError(\"Please set the OPENAI_API_KEY environment variable\")"
   ]
  },
  {
   "cell_type": "markdown",
   "metadata": {
    "application/vnd.databricks.v1+cell": {
     "cellMetadata": {},
     "inputWidgets": {},
     "nuid": "36176460-aaf1-441a-8e07-f7a312d213aa",
     "showTitle": false,
     "tableResultSettingsMap": {},
     "title": ""
    },
    "id": "72pOtzc0NHz4"
   },
   "source": [
    "## Data indexing process"
   ]
  },
  {
   "cell_type": "code",
   "execution_count": 0,
   "metadata": {
    "application/vnd.databricks.v1+cell": {
     "cellMetadata": {},
     "inputWidgets": {},
     "nuid": "2be609e3-df75-408b-8a57-659160b976b2",
     "showTitle": false,
     "tableResultSettingsMap": {},
     "title": ""
    },
    "id": "wct8Nc7FNLT_"
   },
   "outputs": [],
   "source": [
    "DOC_PATH = \"Transformer.pdf\"\n",
    "loader = PyPDFLoader(DOC_PATH)\n",
    "pages = loader.load()\n",
    "text_splitter = RecursiveCharacterTextSplitter(chunk_size=500, chunk_overlap=50)\n",
    "chunks = text_splitter.split_documents(pages)\n",
    "\n",
    "embeddings = OpenAIEmbeddings(openai_api_key=OPENAI_API_KEY)\n",
    "\n",
    "CHROMA_PATH = \"/usr/local/notebooks\"\n",
    "db_chroma = Chroma.from_documents(chunks, embeddings, persist_directory=CHROMA_PATH)"
   ]
  },
  {
   "cell_type": "markdown",
   "metadata": {
    "application/vnd.databricks.v1+cell": {
     "cellMetadata": {},
     "inputWidgets": {},
     "nuid": "0815b7c8-17ce-48f8-b2e9-d6ee891a443e",
     "showTitle": false,
     "tableResultSettingsMap": {},
     "title": ""
    },
    "id": "VemuJ9heNotQ"
   },
   "source": [
    "## Retrieval process"
   ]
  },
  {
   "cell_type": "code",
   "execution_count": 0,
   "metadata": {
    "application/vnd.databricks.v1+cell": {
     "cellMetadata": {},
     "inputWidgets": {},
     "nuid": "22f9055c-526d-4d94-815b-2d61b0bb70c6",
     "showTitle": false,
     "tableResultSettingsMap": {},
     "title": ""
    },
    "id": "2eV65RulNul9"
   },
   "outputs": [],
   "source": [
    "query = 'What is Transformer?'\n",
    "docs_chroma = db_chroma.similarity_search_with_score(query, k=5)\n",
    "context_text = \"\\n\\n\".join([doc.page_content for doc, _score in docs_chroma])"
   ]
  },
  {
   "cell_type": "markdown",
   "metadata": {
    "application/vnd.databricks.v1+cell": {
     "cellMetadata": {},
     "inputWidgets": {},
     "nuid": "0ec53e2c-def9-4e3d-b41b-a2ddf39f11bb",
     "showTitle": false,
     "tableResultSettingsMap": {},
     "title": ""
    },
    "id": "chK5Sp__N1PH"
   },
   "source": [
    "## Augment process"
   ]
  },
  {
   "cell_type": "code",
   "execution_count": 0,
   "metadata": {
    "application/vnd.databricks.v1+cell": {
     "cellMetadata": {},
     "inputWidgets": {},
     "nuid": "61b00f99-3ba1-400b-ac47-96a0add3a588",
     "showTitle": false,
     "tableResultSettingsMap": {},
     "title": ""
    },
    "id": "knsnRTR_N3Y2"
   },
   "outputs": [],
   "source": [
    "PROMPT_TEMPLATE = \"\"\"\n",
    "Answer the question based only on the following context:\n",
    "{context}\n",
    "Answer the question based on the above context: {question}.\n",
    "Provide a detailed answer.\n",
    "Don’t justify your answers.\n",
    "Don’t give information not mentioned in the CONTEXT INFORMATION.\n",
    "Do not say \"according to the context\" or \"mentioned in the context\" or similar.\n",
    "\"\"\"\n",
    "\n",
    "prompt_template = ChatPromptTemplate.from_template(PROMPT_TEMPLATE)\n",
    "prompt = prompt_template.format(context=context_text, question=query)"
   ]
  },
  {
   "cell_type": "markdown",
   "metadata": {
    "application/vnd.databricks.v1+cell": {
     "cellMetadata": {},
     "inputWidgets": {},
     "nuid": "d6fe7698-490a-4e79-8de2-e36568b62be6",
     "showTitle": false,
     "tableResultSettingsMap": {},
     "title": ""
    },
    "id": "4nBn6FFjN677"
   },
   "source": [
    "## Generation process"
   ]
  },
  {
   "cell_type": "code",
   "execution_count": 0,
   "metadata": {
    "application/vnd.databricks.v1+cell": {
     "cellMetadata": {},
     "inputWidgets": {},
     "nuid": "bff49e6e-9219-41da-bc7f-c3d55d95eaf0",
     "showTitle": false,
     "tableResultSettingsMap": {},
     "title": ""
    },
    "id": "T96_62KZN93P"
   },
   "outputs": [],
   "source": [
    "model = ChatOpenAI()\n",
    "response_text = model.invoke(prompt)\n",
    "print(response_text)"
   ]
  }
 ],
 "metadata": {
  "application/vnd.databricks.v1+notebook": {
   "computePreferences": null,
   "dashboards": [],
   "environmentMetadata": null,
   "language": "python",
   "notebookMetadata": {},
   "notebookName": "Naive_RAG (1)",
   "widgets": {}
  },
  "colab": {
   "provenance": []
  },
  "kernelspec": {
   "display_name": "Python 3 (ipykernel)",
   "language": "python",
   "name": "python3"
  },
  "language_info": {
   "name": "python"
  }
 },
 "nbformat": 4,
 "nbformat_minor": 0
}
