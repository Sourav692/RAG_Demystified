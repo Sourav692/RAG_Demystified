{
 "cells": [
  {
   "cell_type": "markdown",
   "metadata": {
    "application/vnd.databricks.v1+cell": {
     "cellMetadata": {},
     "inputWidgets": {},
     "nuid": "78e455fe-2e83-44d2-8447-aeced011450c",
     "showTitle": false,
     "tableResultSettingsMap": {},
     "title": ""
    },
    "id": "HqwsGJDhvAQ5"
   },
   "source": [
    "# Step-by-step implementation\n",
    "\n",
    "The following are the steps to implement the Naive RAG self-querying retrieval (SQR) using the Langchain library:\n",
    "  1. Import necessary libraries\n",
    "  2. Set up the OpenAI API key\n",
    "  3. Example data\n",
    "  4. Define the embedding function\n",
    "  5. Initialize vector store\n",
    "  6. Create LLM and retriever\n",
    "  7. Example queries"
   ]
  },
  {
   "cell_type": "markdown",
   "metadata": {
    "application/vnd.databricks.v1+cell": {
     "cellMetadata": {},
     "inputWidgets": {},
     "nuid": "52384ef7-7505-4581-8ba8-72d84c49286f",
     "showTitle": false,
     "tableResultSettingsMap": {},
     "title": ""
    },
    "id": "bzRKezxKlww4"
   },
   "source": [
    "## 1. Import necessary libraries"
   ]
  },
  {
   "cell_type": "code",
   "execution_count": 0,
   "metadata": {
    "application/vnd.databricks.v1+cell": {
     "cellMetadata": {},
     "inputWidgets": {},
     "nuid": "b9ebafe0-5b37-47a3-ab47-4efc785378af",
     "showTitle": false,
     "tableResultSettingsMap": {},
     "title": ""
    },
    "id": "IfCt8bhHNu9u"
   },
   "outputs": [],
   "source": [
    "import os\n",
    "from langchain.schema import Document\n",
    "from langchain_openai import OpenAIEmbeddings\n",
    "from langchain.vectorstores import Chroma\n",
    "from langchain_openai import OpenAI\n",
    "from langchain.retrievers.self_query.base import SelfQueryRetriever\n",
    "from langchain.chains.query_constructor.base import AttributeInfo"
   ]
  },
  {
   "cell_type": "markdown",
   "metadata": {
    "application/vnd.databricks.v1+cell": {
     "cellMetadata": {},
     "inputWidgets": {},
     "nuid": "6a6ebfce-280e-424b-823e-418056cdfc8a",
     "showTitle": false,
     "tableResultSettingsMap": {},
     "title": ""
    },
    "id": "st13kScAmRRQ"
   },
   "source": [
    "## 2. Set up the OpenAI API key"
   ]
  },
  {
   "cell_type": "code",
   "execution_count": 0,
   "metadata": {
    "application/vnd.databricks.v1+cell": {
     "cellMetadata": {},
     "inputWidgets": {},
     "nuid": "2b592372-d32a-4e10-a9f1-de36a2129376",
     "showTitle": false,
     "tableResultSettingsMap": {},
     "title": ""
    },
    "id": "TnIVcOeKmSW1"
   },
   "outputs": [],
   "source": [
    "OPENAI_API_KEY = os.environ[\"OPENAI_API_KEY\"] = \"\"  # Add your OpenAI API key\n",
    "if OPENAI_API_KEY == \"\":\n",
    "    raise ValueError(\"Please set the OPENAI_API_KEY environment variable\")"
   ]
  },
  {
   "cell_type": "markdown",
   "metadata": {
    "application/vnd.databricks.v1+cell": {
     "cellMetadata": {},
     "inputWidgets": {},
     "nuid": "e7fa70b9-afaa-41f5-ba05-2576b42c91a1",
     "showTitle": false,
     "tableResultSettingsMap": {},
     "title": ""
    },
    "id": "YTDxLMs_vg8K"
   },
   "source": [
    "## 3. Example data with metadata"
   ]
  },
  {
   "cell_type": "code",
   "execution_count": 0,
   "metadata": {
    "application/vnd.databricks.v1+cell": {
     "cellMetadata": {},
     "inputWidgets": {},
     "nuid": "71fb2cf1-ec7f-4064-9fe3-652139f87d40",
     "showTitle": false,
     "tableResultSettingsMap": {},
     "title": ""
    },
    "id": "eAazrw6RP9Y5"
   },
   "outputs": [],
   "source": [
    "docs = [\n",
    "    Document(\n",
    "        page_content=\"A complex, layered narrative exploring themes of identity and belonging\",\n",
    "        metadata={\"title\":\"The Namesake\", \"author\": \"Jhumpa Lahiri\", \"year\": 2003, \"genre\": \"Fiction\", \"rating\": 4.5, \"language\":\"English\", \"country\":\"USA\"},\n",
    "    ),\n",
    "    Document(\n",
    "        page_content=\"A luxurious, heartfelt novel with themes of love and loss set against a historical backdrop\",\n",
    "        metadata={\"title\":\"The Nightingale\", \"author\": \"Kristin Hannah\", \"year\": 2015, \"genre\": \"Historical Fiction\", \"rating\": 4.8, \"language\":\"English\", \"country\":\"France\"},\n",
    "    ),\n",
    "    Document(\n",
    "        page_content=\"A full-bodied epic with rich characters and a sprawling plot\",\n",
    "        metadata={\"title\":\"War and Peace\", \"author\": \"Leo Tolstoy\", \"year\": 1869, \"genre\": \"Historical Fiction\", \"rating\": 4.7, \"language\":\"Russian\", \"country\":\"Russia\"},\n",
    "    ),\n",
    "    Document(\n",
    "        page_content=\"An elegant, balanced narrative with intricate character development and subtle themes\",\n",
    "        metadata={\"title\":\"Pride and Prejudice\", \"author\": \"Jane Austen\", \"year\": 1813, \"genre\": \"Romance\", \"rating\": 4.6, \"language\":\"English\", \"country\":\"UK\"},\n",
    "    ),\n",
    "    Document(\n",
    "        page_content=\"A highly regarded novel with deep themes and a nuanced exploration of human nature\",\n",
    "        metadata={\"title\":\"To Kill a Mockingbird\", \"author\": \"Harper Lee\", \"year\": 1960, \"genre\": \"Fiction\", \"rating\": 4.9, \"language\":\"English\", \"country\":\"USA\"},\n",
    "    ),\n",
    "    Document(\n",
    "        page_content=\"A crisp, engaging story with vibrant characters and a compelling plot\",\n",
    "        metadata={\"title\":\"The Alchemist\", \"author\": \"Paulo Coelho\", \"year\": 1988, \"genre\": \"Adventure\", \"rating\": 4.4, \"language\":\"Portuguese\", \"country\":\"Brazil\"},\n",
    "    ),\n",
    "    Document(\n",
    "        page_content=\"A rich, complex narrative set in a dystopian future with strong thematic elements\",\n",
    "        metadata={\"title\":\"1984\", \"author\": \"George Orwell\", \"year\": 1949, \"genre\": \"Dystopian\", \"rating\": 4.7, \"language\":\"English\", \"country\":\"UK\"},\n",
    "    ),\n",
    "    Document(\n",
    "        page_content=\"An intense, gripping story with dark themes and intricate plot twists\",\n",
    "        metadata={\"title\":\"Gone Girl\", \"author\": \"Gillian Flynn\", \"year\": 2012, \"genre\": \"Thriller\", \"rating\": 4.3, \"language\":\"English\", \"country\":\"USA\"},\n",
    "    ),\n",
    "    Document(\n",
    "        page_content=\"An exotic, enchanting tale with rich descriptions and an intricate plot\",\n",
    "        metadata={\"title\":\"One Hundred Years of Solitude\", \"author\": \"Gabriel García Márquez\", \"year\": 1967, \"genre\": \"Magical Realism\", \"rating\": 4.8, \"language\":\"Spanish\", \"country\":\"Colombia\"},\n",
    "    ),\n",
    "    # ... (add more book documents as needed)\n",
    "]"
   ]
  },
  {
   "cell_type": "markdown",
   "metadata": {
    "application/vnd.databricks.v1+cell": {
     "cellMetadata": {},
     "inputWidgets": {},
     "nuid": "466686ba-4d2a-45d5-bcc4-9d6c878005cb",
     "showTitle": false,
     "tableResultSettingsMap": {},
     "title": ""
    },
    "id": "uHhF_6_Emc4i"
   },
   "source": [
    "## 4. Define the embedding function"
   ]
  },
  {
   "cell_type": "code",
   "execution_count": 0,
   "metadata": {
    "application/vnd.databricks.v1+cell": {
     "cellMetadata": {},
     "inputWidgets": {},
     "nuid": "3b8fa5a7-3022-42ba-8e59-72e8cbafca77",
     "showTitle": false,
     "tableResultSettingsMap": {},
     "title": ""
    },
    "id": "1cfG54RJl5bA"
   },
   "outputs": [],
   "source": [
    "embeddings = OpenAIEmbeddings()"
   ]
  },
  {
   "cell_type": "markdown",
   "metadata": {
    "application/vnd.databricks.v1+cell": {
     "cellMetadata": {},
     "inputWidgets": {},
     "nuid": "0d6cf3f2-061c-4b86-a398-dd03bd08b280",
     "showTitle": false,
     "tableResultSettingsMap": {},
     "title": ""
    },
    "id": "Inc4dMahnGI-"
   },
   "source": [
    "## 5. Initializing vector store"
   ]
  },
  {
   "cell_type": "code",
   "execution_count": 0,
   "metadata": {
    "application/vnd.databricks.v1+cell": {
     "cellMetadata": {},
     "inputWidgets": {},
     "nuid": "725ef5d5-6f37-4c4a-a771-562691e55641",
     "showTitle": false,
     "tableResultSettingsMap": {},
     "title": ""
    },
    "id": "931i8bbznJ0T"
   },
   "outputs": [],
   "source": [
    "vectorstore = Chroma.from_documents(docs, embeddings)"
   ]
  },
  {
   "cell_type": "markdown",
   "metadata": {
    "application/vnd.databricks.v1+cell": {
     "cellMetadata": {},
     "inputWidgets": {},
     "nuid": "2d7b2975-7c9e-4e91-8933-b78669b97e6e",
     "showTitle": false,
     "tableResultSettingsMap": {},
     "title": ""
    },
    "id": "M-DU2BD6sPJj"
   },
   "source": [
    "## 6. Create LLM and retriever"
   ]
  },
  {
   "cell_type": "code",
   "execution_count": 0,
   "metadata": {
    "application/vnd.databricks.v1+cell": {
     "cellMetadata": {},
     "inputWidgets": {},
     "nuid": "db74a64e-1629-4a3a-94cf-5a63a62c71aa",
     "showTitle": false,
     "tableResultSettingsMap": {},
     "title": ""
    },
    "id": "GWW_t_MFsKC8"
   },
   "outputs": [],
   "source": [
    "metadata_field_info = [\n",
    "    AttributeInfo(\n",
    "        name=\"title\",\n",
    "        description=\"The title of the book\",\n",
    "        type=\"string or list[string]\",\n",
    "    ),\n",
    "    AttributeInfo(\n",
    "        name=\"author\",\n",
    "        description=\"The author of the book\",\n",
    "        type=\"string or list[string]\",\n",
    "    ),\n",
    "    AttributeInfo(\n",
    "        name=\"year\",\n",
    "        description=\"The year the book was published\",\n",
    "        type=\"integer\",\n",
    "    ),\n",
    "    AttributeInfo(\n",
    "        name=\"genre\",\n",
    "        description=\"The genre of the book\",\n",
    "        type=\"string or list[string]\",\n",
    "    ),\n",
    "    AttributeInfo(\n",
    "        name=\"rating\",\n",
    "        description=\"The rating of the book (1-5 scale)\",\n",
    "        type=\"float\",\n",
    "    ),\n",
    "    AttributeInfo(\n",
    "        name=\"language\",\n",
    "        description=\"The language the book is written in\",\n",
    "        type=\"string\",\n",
    "    ),\n",
    "    AttributeInfo(\n",
    "        name=\"country\",\n",
    "        description=\"The country the author is from\",\n",
    "        type=\"string\",\n",
    "    ),\n",
    "]\n",
    "\n",
    "document_content_description = \"Brief description of the book\""
   ]
  },
  {
   "cell_type": "code",
   "execution_count": 0,
   "metadata": {
    "application/vnd.databricks.v1+cell": {
     "cellMetadata": {},
     "inputWidgets": {},
     "nuid": "c95d7438-624c-443a-80b7-d6110ec190a3",
     "showTitle": false,
     "tableResultSettingsMap": {},
     "title": ""
    },
    "id": "Cjo9-YU5rCnv"
   },
   "outputs": [],
   "source": [
    "llm = OpenAI(temperature=0)\n",
    "\n",
    "retriever = SelfQueryRetriever.from_llm(\n",
    "    llm,\n",
    "    vectorstore,\n",
    "    document_content_description,\n",
    "    metadata_field_info,\n",
    "    verbose=True\n",
    ")"
   ]
  },
  {
   "cell_type": "markdown",
   "metadata": {
    "application/vnd.databricks.v1+cell": {
     "cellMetadata": {},
     "inputWidgets": {},
     "nuid": "403629e2-8377-4e6d-9794-4ac7d5ab4aa8",
     "showTitle": false,
     "tableResultSettingsMap": {},
     "title": ""
    },
    "id": "EnaHLwL7n-Qs"
   },
   "source": [
    "## 7. Example queries"
   ]
  },
  {
   "cell_type": "markdown",
   "metadata": {
    "application/vnd.databricks.v1+cell": {
     "cellMetadata": {},
     "inputWidgets": {},
     "nuid": "bb3f47c9-4cb1-45f3-9298-0e892fe0cdcc",
     "showTitle": false,
     "tableResultSettingsMap": {},
     "title": ""
    },
    "id": "o2D8zdBzn_H7"
   },
   "source": [
    "### 7.1 Basic query"
   ]
  },
  {
   "cell_type": "code",
   "execution_count": 0,
   "metadata": {
    "application/vnd.databricks.v1+cell": {
     "cellMetadata": {},
     "inputWidgets": {},
     "nuid": "ee79293f-9a08-41ae-8ab8-685c603e744b",
     "showTitle": false,
     "tableResultSettingsMap": {},
     "title": ""
    },
    "id": "6fNUskHNsRsL"
   },
   "outputs": [],
   "source": [
    "retriever.invoke(\"What are some highly rated historical fiction books\")"
   ]
  },
  {
   "cell_type": "markdown",
   "metadata": {
    "application/vnd.databricks.v1+cell": {
     "cellMetadata": {},
     "inputWidgets": {},
     "nuid": "06fe6336-6e58-467e-ba1c-a01354332959",
     "showTitle": false,
     "tableResultSettingsMap": {},
     "title": ""
    },
    "id": "owYFkWyOoD1M"
   },
   "source": [
    "### 7.2 Query with filtering"
   ]
  },
  {
   "cell_type": "code",
   "execution_count": 0,
   "metadata": {
    "application/vnd.databricks.v1+cell": {
     "cellMetadata": {},
     "inputWidgets": {},
     "nuid": "3f3c9670-f81d-44b4-a8b2-c3e932a2d871",
     "showTitle": false,
     "tableResultSettingsMap": {},
     "title": ""
    },
    "id": "xZlJud7_s3Ng"
   },
   "outputs": [],
   "source": [
    "retriever.invoke(\"I want a book with deep themes and a rating above 4.5\")"
   ]
  },
  {
   "cell_type": "markdown",
   "metadata": {
    "application/vnd.databricks.v1+cell": {
     "cellMetadata": {},
     "inputWidgets": {},
     "nuid": "437df00c-c98b-4e66-a442-19fc8a0dc69e",
     "showTitle": false,
     "tableResultSettingsMap": {},
     "title": ""
    },
    "id": "CZ33W-fLoHyU"
   },
   "source": [
    "### 7.3 Query with composite filter"
   ]
  },
  {
   "cell_type": "code",
   "execution_count": 0,
   "metadata": {
    "application/vnd.databricks.v1+cell": {
     "cellMetadata": {},
     "inputWidgets": {},
     "nuid": "deb8865e-e174-432a-ac1f-9b2cee705351",
     "showTitle": false,
     "tableResultSettingsMap": {},
     "title": ""
    },
    "id": "fcGVyKpwtOAJ"
   },
   "outputs": [],
   "source": [
    "retriever.invoke(\"I want a book with complex characters and a gripping plot\")"
   ]
  },
  {
   "cell_type": "markdown",
   "metadata": {
    "application/vnd.databricks.v1+cell": {
     "cellMetadata": {},
     "inputWidgets": {},
     "nuid": "3b9d992c-2f96-48e2-8ab4-0bd0ed46144b",
     "showTitle": false,
     "tableResultSettingsMap": {},
     "title": ""
    },
    "id": "hpFjw4Hqrwn4"
   },
   "source": [
    "### 7.4 Query with country filter"
   ]
  },
  {
   "cell_type": "code",
   "execution_count": 0,
   "metadata": {
    "application/vnd.databricks.v1+cell": {
     "cellMetadata": {},
     "inputWidgets": {},
     "nuid": "dd52d002-8cdc-4d7f-abbb-f5f5c950e85c",
     "showTitle": false,
     "tableResultSettingsMap": {},
     "title": ""
    },
    "id": "C5Qw1u9FtSRm"
   },
   "outputs": [],
   "source": [
    "retriever.invoke(\"What books come from the USA?\")"
   ]
  },
  {
   "cell_type": "markdown",
   "metadata": {
    "application/vnd.databricks.v1+cell": {
     "cellMetadata": {},
     "inputWidgets": {},
     "nuid": "8b0ac54a-ff54-4798-ae69-49c9f89009ca",
     "showTitle": false,
     "tableResultSettingsMap": {},
     "title": ""
    },
    "id": "wGRFoHhWrzZT"
   },
   "source": [
    "### 7.5 Query with year range and theme filter"
   ]
  },
  {
   "cell_type": "code",
   "execution_count": 0,
   "metadata": {
    "application/vnd.databricks.v1+cell": {
     "cellMetadata": {},
     "inputWidgets": {},
     "nuid": "d90c5204-d221-47ec-8ef1-e42a63a57b17",
     "showTitle": false,
     "tableResultSettingsMap": {},
     "title": ""
    },
    "id": "RBwo26n0taDI"
   },
   "outputs": [],
   "source": [
    "retriever.invoke(\"What's a book published after 2003 but before 2015 with deep themes and a high rating\")"
   ]
  },
  {
   "cell_type": "markdown",
   "metadata": {
    "application/vnd.databricks.v1+cell": {
     "cellMetadata": {},
     "inputWidgets": {},
     "nuid": "28b2c879-fb2f-450a-b26a-0d4ec0c46d84",
     "showTitle": false,
     "tableResultSettingsMap": {},
     "title": ""
    },
    "id": "pN6svT-_oJY_"
   },
   "source": [
    "### 7.6 Retrieval with limiting"
   ]
  },
  {
   "cell_type": "code",
   "execution_count": 0,
   "metadata": {
    "application/vnd.databricks.v1+cell": {
     "cellMetadata": {},
     "inputWidgets": {},
     "nuid": "1951dba9-86eb-49c3-ac13-ee41262e0940",
     "showTitle": false,
     "tableResultSettingsMap": {},
     "title": ""
    },
    "id": "oH3JPClFthXq"
   },
   "outputs": [],
   "source": [
    "retriever = SelfQueryRetriever.from_llm(\n",
    "    llm,\n",
    "    vectorstore,\n",
    "    document_content_description,\n",
    "    metadata_field_info,\n",
    "    enable_limit=True,\n",
    "    verbose=True,\n",
    ")"
   ]
  },
  {
   "cell_type": "code",
   "execution_count": 0,
   "metadata": {
    "application/vnd.databricks.v1+cell": {
     "cellMetadata": {},
     "inputWidgets": {},
     "nuid": "da653cf6-84ad-41a8-81fd-15017d2ebcf7",
     "showTitle": false,
     "tableResultSettingsMap": {},
     "title": ""
    },
    "id": "0D5eUK47txEs"
   },
   "outputs": [],
   "source": [
    "retriever.invoke(\"What are two books that have a rating above 4.8\")"
   ]
  },
  {
   "cell_type": "code",
   "execution_count": 0,
   "metadata": {
    "application/vnd.databricks.v1+cell": {
     "cellMetadata": {},
     "inputWidgets": {},
     "nuid": "cf4f3ba3-db22-4726-92f1-78a4f221ab23",
     "showTitle": false,
     "tableResultSettingsMap": {},
     "title": ""
    },
    "id": "P5ahYRXet4ka"
   },
   "outputs": [],
   "source": [
    "retriever.invoke(\"What are two books that come from USA or UK\")"
   ]
  }
 ],
 "metadata": {
  "accelerator": "GPU",
  "application/vnd.databricks.v1+notebook": {
   "computePreferences": null,
   "dashboards": [],
   "environmentMetadata": null,
   "language": "python",
   "notebookMetadata": {},
   "notebookName": "Self_Querying_Retrieval",
   "widgets": {}
  },
  "colab": {
   "gpuType": "T4",
   "provenance": []
  },
  "kernelspec": {
   "display_name": "Python 3",
   "name": "python3"
  },
  "language_info": {
   "name": "python"
  }
 },
 "nbformat": 4,
 "nbformat_minor": 0
}
