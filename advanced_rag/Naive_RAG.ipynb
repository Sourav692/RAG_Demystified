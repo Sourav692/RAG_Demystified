{
 "cells": [
  {
   "cell_type": "markdown",
   "metadata": {
    "application/vnd.databricks.v1+cell": {
     "cellMetadata": {},
     "inputWidgets": {},
     "nuid": "51b14f37-8617-4d03-a778-982d8a3e4db1",
     "showTitle": false,
     "tableResultSettingsMap": {},
     "title": ""
    },
    "id": "CWIJXk6pLYfi"
   },
   "source": [
    "# Step-by-step implementation of Naive RAG\n",
    "The following are the steps to implement the Naive RAG using LangChain:\n",
    "- Import necessary libraries\n",
    "- OpenAI environment variable setup\n",
    "- Data indexing process\n",
    "- Retrieval process\n",
    "- Augment process\n",
    "- Generation process"
   ]
  },
  {
   "cell_type": "markdown",
   "metadata": {
    "application/vnd.databricks.v1+cell": {
     "cellMetadata": {},
     "inputWidgets": {},
     "nuid": "b13843df-7b13-4567-a275-e90a17e209f0",
     "showTitle": false,
     "tableResultSettingsMap": {},
     "title": ""
    },
    "id": "78MC3bzEM04N"
   },
   "source": [
    "## Import necessary libraries"
   ]
  },
  {
   "cell_type": "code",
   "execution_count": 0,
   "metadata": {
    "application/vnd.databricks.v1+cell": {
     "cellMetadata": {},
     "inputWidgets": {},
     "nuid": "d4248bad-5301-4190-82fa-12e374430825",
     "showTitle": false,
     "tableResultSettingsMap": {},
     "title": ""
    },
    "id": "Bm7tGLKHHBsh"
   },
   "outputs": [],
   "source": [
    "import os\n",
    "from langchain_community.document_loaders import PyPDFLoader\n",
    "from langchain.text_splitter import RecursiveCharacterTextSplitter\n",
    "from langchain_openai import OpenAIEmbeddings\n",
    "from langchain.vectorstores import Chroma\n",
    "from langchain.prompts import ChatPromptTemplate\n",
    "from langchain_openai import ChatOpenAI\n",
    "from utils import get_apikey "
   ]
  },
  {
   "cell_type": "markdown",
   "metadata": {
    "application/vnd.databricks.v1+cell": {
     "cellMetadata": {},
     "inputWidgets": {},
     "nuid": "41cdf098-a742-481c-a380-f55f90234e5b",
     "showTitle": false,
     "tableResultSettingsMap": {},
     "title": ""
    },
    "id": "ShJJc7B1M-RL"
   },
   "source": [
    "## OpenAI environment variable setup\n"
   ]
  },
  {
   "cell_type": "code",
   "execution_count": 0,
   "metadata": {
    "application/vnd.databricks.v1+cell": {
     "cellMetadata": {},
     "inputWidgets": {},
     "nuid": "601d6d68-a8a7-4481-8431-b3b806ad5298",
     "showTitle": false,
     "tableResultSettingsMap": {},
     "title": ""
    },
    "id": "V1374Q6XM_b-"
   },
   "outputs": [],
   "source": [
    "OPENAI_API_KEY = os.environ[\"OPENAI_API_KEY\"] = get_apikey() # Add your OpenAI API Key\n",
    "if OPENAI_API_KEY == \"\":\n",
    "    raise ValueError(\"Please set the OPENAI_API_KEY environment variable\")"
   ]
  },
  {
   "cell_type": "markdown",
   "metadata": {
    "application/vnd.databricks.v1+cell": {
     "cellMetadata": {},
     "inputWidgets": {},
     "nuid": "e5886d54-b12e-452c-ae24-a0cbe58f1358",
     "showTitle": false,
     "tableResultSettingsMap": {},
     "title": ""
    },
    "id": "72pOtzc0NHz4"
   },
   "source": [
    "## Data indexing process"
   ]
  },
  {
   "cell_type": "code",
   "execution_count": 0,
   "metadata": {
    "application/vnd.databricks.v1+cell": {
     "cellMetadata": {},
     "inputWidgets": {},
     "nuid": "fb82c5ee-8167-4f45-987f-f6e0c63b09a4",
     "showTitle": false,
     "tableResultSettingsMap": {},
     "title": ""
    },
    "id": "wct8Nc7FNLT_"
   },
   "outputs": [],
   "source": [
    "DOC_PATH = \"Transformer.pdf\"\n",
    "loader = PyPDFLoader(DOC_PATH)\n",
    "pages = loader.load()\n",
    "text_splitter = RecursiveCharacterTextSplitter(chunk_size=500, chunk_overlap=50)\n",
    "chunks = text_splitter.split_documents(pages)\n",
    "\n",
    "embeddings = OpenAIEmbeddings(openai_api_key=OPENAI_API_KEY)\n",
    "\n",
    "CHROMA_PATH = \"/usr/local/notebooks\"\n",
    "db_chroma = Chroma.from_documents(chunks, embeddings, persist_directory=CHROMA_PATH)"
   ]
  },
  {
   "cell_type": "markdown",
   "metadata": {
    "application/vnd.databricks.v1+cell": {
     "cellMetadata": {},
     "inputWidgets": {},
     "nuid": "06f7acc4-2715-4a97-b230-ab04490debbc",
     "showTitle": false,
     "tableResultSettingsMap": {},
     "title": ""
    },
    "id": "VemuJ9heNotQ"
   },
   "source": [
    "## Retrieval process"
   ]
  },
  {
   "cell_type": "code",
   "execution_count": 0,
   "metadata": {
    "application/vnd.databricks.v1+cell": {
     "cellMetadata": {},
     "inputWidgets": {},
     "nuid": "54fec98d-1dea-4170-bc80-a19ee8bd134b",
     "showTitle": false,
     "tableResultSettingsMap": {},
     "title": ""
    },
    "id": "2eV65RulNul9"
   },
   "outputs": [],
   "source": [
    "query = 'What is Transformer?'\n",
    "docs_chroma = db_chroma.similarity_search_with_score(query, k=5)\n",
    "context_text = \"\\n\\n\".join([doc.page_content for doc, _score in docs_chroma])"
   ]
  },
  {
   "cell_type": "markdown",
   "metadata": {
    "application/vnd.databricks.v1+cell": {
     "cellMetadata": {},
     "inputWidgets": {},
     "nuid": "3dba9f93-656f-4bba-bcc6-f0e28704cdc5",
     "showTitle": false,
     "tableResultSettingsMap": {},
     "title": ""
    },
    "id": "chK5Sp__N1PH"
   },
   "source": [
    "## Augment process"
   ]
  },
  {
   "cell_type": "code",
   "execution_count": 0,
   "metadata": {
    "application/vnd.databricks.v1+cell": {
     "cellMetadata": {},
     "inputWidgets": {},
     "nuid": "824a298f-a189-4ef0-900e-133ffe8ac32b",
     "showTitle": false,
     "tableResultSettingsMap": {},
     "title": ""
    },
    "id": "knsnRTR_N3Y2"
   },
   "outputs": [],
   "source": [
    "PROMPT_TEMPLATE = \"\"\"\n",
    "Answer the question based only on the following context:\n",
    "{context}\n",
    "Answer the question based on the above context: {question}.\n",
    "Provide a detailed answer.\n",
    "Don’t justify your answers.\n",
    "Don’t give information not mentioned in the CONTEXT INFORMATION.\n",
    "Do not say \"according to the context\" or \"mentioned in the context\" or similar.\n",
    "\"\"\"\n",
    "\n",
    "prompt_template = ChatPromptTemplate.from_template(PROMPT_TEMPLATE)\n",
    "prompt = prompt_template.format(context=context_text, question=query)"
   ]
  },
  {
   "cell_type": "markdown",
   "metadata": {
    "application/vnd.databricks.v1+cell": {
     "cellMetadata": {},
     "inputWidgets": {},
     "nuid": "863caf94-08e6-4ca1-befb-78ac7633633b",
     "showTitle": false,
     "tableResultSettingsMap": {},
     "title": ""
    },
    "id": "4nBn6FFjN677"
   },
   "source": [
    "## Generation process"
   ]
  },
  {
   "cell_type": "code",
   "execution_count": 0,
   "metadata": {
    "application/vnd.databricks.v1+cell": {
     "cellMetadata": {},
     "inputWidgets": {},
     "nuid": "63905050-92db-4897-aa0c-85efc749bfa6",
     "showTitle": false,
     "tableResultSettingsMap": {},
     "title": ""
    },
    "id": "T96_62KZN93P"
   },
   "outputs": [
    {
     "output_type": "stream",
     "name": "stdout",
     "output_type": "stream",
     "text": [
      "content='Transformer is a general sequence processing tool that is used beyond language in various data modalities such as vision, audio, action, music, image generation, and neural signal processing. It is an architecture that involves attention mechanisms and is widely used for information processing in different fields.' additional_kwargs={'refusal': None} response_metadata={'token_usage': {'completion_tokens': 54, 'prompt_tokens': 179, 'total_tokens': 233}, 'model_name': 'gpt-3.5-turbo-0125', 'system_fingerprint': None, 'finish_reason': 'stop', 'logprobs': None} id='run-63c77321-c1c9-4eaf-b487-c954867f2f55-0' usage_metadata={'input_tokens': 179, 'output_tokens': 54, 'total_tokens': 233}\n"
     ]
    }
   ],
   "source": [
    "model = ChatOpenAI()\n",
    "response_text = model.invoke(prompt)\n",
    "print(response_text)"
   ]
  }
 ],
 "metadata": {
  "application/vnd.databricks.v1+notebook": {
   "computePreferences": null,
   "dashboards": [],
   "environmentMetadata": null,
   "language": "python",
   "notebookMetadata": {},
   "notebookName": "Naive_RAG",
   "widgets": {}
  },
  "colab": {
   "provenance": []
  },
  "kernelspec": {
   "display_name": "Python 3",
   "name": "python3"
  },
  "language_info": {
   "name": "python"
  }
 },
 "nbformat": 4,
 "nbformat_minor": 0
}
