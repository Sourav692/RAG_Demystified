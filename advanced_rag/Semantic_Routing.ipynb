{
 "cells": [
  {
   "cell_type": "markdown",
   "metadata": {
    "application/vnd.databricks.v1+cell": {
     "cellMetadata": {},
     "inputWidgets": {},
     "nuid": "4181eb50-cef1-4d8c-b2aa-98d7ca78de79",
     "showTitle": false,
     "tableResultSettingsMap": {},
     "title": ""
    },
    "id": "rZl9elG1-au5"
   },
   "source": [
    "# Step-by-step implementation of semantic routing\n",
    "The provided code demonstrates a basic implementation of Semantic Routing using the LangChain library. Let’s break it down step by step:\n",
    "1. Import necessary modules\n",
    "2. Set up the OpenAI API key\n",
    "3. Define domain-specific prompts and questions\n",
    "4. Create text embeddings\n",
    "5. Route based on maximum similarity\n",
    "6. Utilize the selected prompt"
   ]
  },
  {
   "cell_type": "markdown",
   "metadata": {
    "application/vnd.databricks.v1+cell": {
     "cellMetadata": {},
     "inputWidgets": {},
     "nuid": "62539a45-ac36-4b81-af90-7b9b2133f77c",
     "showTitle": false,
     "tableResultSettingsMap": {},
     "title": ""
    },
    "id": "mA_qaqVn-gxr"
   },
   "source": [
    "## 1. Import necessary modules"
   ]
  },
  {
   "cell_type": "code",
   "execution_count": 0,
   "metadata": {
    "application/vnd.databricks.v1+cell": {
     "cellMetadata": {},
     "inputWidgets": {},
     "nuid": "aa264002-8793-41b8-9ff5-e927393842e2",
     "showTitle": false,
     "tableResultSettingsMap": {},
     "title": ""
    },
    "id": "gC441dYQlQix"
   },
   "outputs": [],
   "source": [
    "import os\n",
    "from langchain.utils.math import cosine_similarity\n",
    "from langchain_core.output_parsers import StrOutputParser\n",
    "from langchain_core.prompts import PromptTemplate\n",
    "from langchain_core.runnables import RunnableLambda, RunnablePassthrough\n",
    "from langchain_openai import ChatOpenAI, OpenAIEmbeddings"
   ]
  },
  {
   "cell_type": "markdown",
   "metadata": {
    "application/vnd.databricks.v1+cell": {
     "cellMetadata": {},
     "inputWidgets": {},
     "nuid": "3829fd83-bc82-4aba-bcf2-eef4bed45203",
     "showTitle": false,
     "tableResultSettingsMap": {},
     "title": ""
    },
    "id": "wpuCdrIp-jO4"
   },
   "source": [
    "## 2. Set up the OpenAI API key"
   ]
  },
  {
   "cell_type": "code",
   "execution_count": 0,
   "metadata": {
    "application/vnd.databricks.v1+cell": {
     "cellMetadata": {},
     "inputWidgets": {},
     "nuid": "ea413e98-e637-41aa-983f-e4cf69645cfa",
     "showTitle": false,
     "tableResultSettingsMap": {},
     "title": ""
    },
    "id": "QimaisK2l8R3"
   },
   "outputs": [],
   "source": [
    "OPENAI_API_KEY = os.environ[\"OPENAI_API_KEY\"] = \"\"  # Add your OpenAI API key\n",
    "if OPENAI_API_KEY == \"\":\n",
    "    raise ValueError(\"Please set the OPENAI_API_KEY environment variable\")"
   ]
  },
  {
   "cell_type": "markdown",
   "metadata": {
    "application/vnd.databricks.v1+cell": {
     "cellMetadata": {},
     "inputWidgets": {},
     "nuid": "ae89dc19-b3d6-4b75-a31a-1d367559bada",
     "showTitle": false,
     "tableResultSettingsMap": {},
     "title": ""
    },
    "id": "upmnyQGV-mBX"
   },
   "source": [
    "## 3. Define domain-specific prompts and questions"
   ]
  },
  {
   "cell_type": "code",
   "execution_count": 0,
   "metadata": {
    "application/vnd.databricks.v1+cell": {
     "cellMetadata": {},
     "inputWidgets": {},
     "nuid": "aadc12a1-31a1-4dfb-814f-56e1c11f53c1",
     "showTitle": false,
     "tableResultSettingsMap": {},
     "title": ""
    },
    "id": "y2SK0tLplVQE"
   },
   "outputs": [],
   "source": [
    "personal_finance_template = \"\"\"You are a personal finance expert with extensive knowledge of budgeting, investing, and financial planning. You offer clear and practical advice on managing money and making sound financial decisions.\n",
    "\n",
    "Here is a question:\n",
    "{query}\"\"\"\n",
    "\n",
    "book_review_template = \"\"\"You are an experienced book critic with extensive knowledge of literature, genres, and authors. You provide thoughtful and analytical reviews and insights about books.\n",
    "\n",
    "Here is a question:\n",
    "{query}\"\"\"\n",
    "\n",
    "health_fitness_template = \"\"\"You are a certified health and fitness expert with a deep understanding of nutrition, exercise routines, and wellness strategies. You offer practical and evidence-based advice about health and fitness.\n",
    "\n",
    "Here is a question:\n",
    "{query}\"\"\"\n",
    "\n",
    "travel_guide_template = \"\"\"You are a seasoned travel expert with extensive knowledge of destinations, travel tips, and cultural insights. You provide detailed and useful advice about travel.\n",
    "\n",
    "Here is a question:\n",
    "{query}\"\"\""
   ]
  },
  {
   "cell_type": "code",
   "execution_count": 0,
   "metadata": {
    "application/vnd.databricks.v1+cell": {
     "cellMetadata": {},
     "inputWidgets": {},
     "nuid": "f828ddb2-de6f-414c-94bc-5c82fcb08404",
     "showTitle": false,
     "tableResultSettingsMap": {},
     "title": ""
    },
    "id": "WwC5x8SClw_7"
   },
   "outputs": [],
   "source": [
    "personal_finance_questions = [\n",
    "    \"What are the best strategies for saving money?\",\n",
    "    \"How do I start investing in the stock market?\",\n",
    "    \"What should I consider when creating a budget?\",\n",
    "]\n",
    "\n",
    "book_review_questions = [\n",
    "    \"What makes a novel a classic?\",\n",
    "    \"How do you analyze the themes in a book?\",\n",
    "    \"What are the key differences between literary fiction and genre fiction?\",\n",
    "]\n",
    "\n",
    "health_fitness_questions = [\n",
    "    \"What are the benefits of a balanced diet?\",\n",
    "    \"How often should I exercise to maintain good health?\",\n",
    "    \"What are effective strategies for losing weight?\",\n",
    "]\n",
    "\n",
    "travel_guide_questions = [\n",
    "    \"What are the must-see attractions in Tokyo?\",\n",
    "    \"How can I travel on a budget?\",\n",
    "    \"What should I know before traveling to a foreign country?\",\n",
    "]"
   ]
  },
  {
   "cell_type": "markdown",
   "metadata": {
    "application/vnd.databricks.v1+cell": {
     "cellMetadata": {},
     "inputWidgets": {},
     "nuid": "95905ca2-55d9-4da6-91a9-868f0fddcd77",
     "showTitle": false,
     "tableResultSettingsMap": {},
     "title": ""
    },
    "id": "c4h5trA4-ouv"
   },
   "source": [
    "## 4. Create text embeddings"
   ]
  },
  {
   "cell_type": "code",
   "execution_count": 0,
   "metadata": {
    "application/vnd.databricks.v1+cell": {
     "cellMetadata": {},
     "inputWidgets": {},
     "nuid": "1f881f63-93be-4710-ad3c-54d2e2f7875d",
     "showTitle": false,
     "tableResultSettingsMap": {},
     "title": ""
    },
    "id": "Upv_aAFkl0KO"
   },
   "outputs": [],
   "source": [
    "embeddings = OpenAIEmbeddings()\n",
    "\n",
    "book_review_question_embeddings = embeddings.embed_documents(book_review_questions)\n",
    "health_fitness_question_embeddings = embeddings.embed_documents(health_fitness_questions)\n",
    "travel_guide_question_embeddings = embeddings.embed_documents(travel_guide_questions)\n",
    "personal_finance_question_embeddings = embeddings.embed_documents(personal_finance_questions)"
   ]
  },
  {
   "cell_type": "markdown",
   "metadata": {
    "application/vnd.databricks.v1+cell": {
     "cellMetadata": {},
     "inputWidgets": {},
     "nuid": "68c90113-4c03-440b-95b8-25f99dbe6926",
     "showTitle": false,
     "tableResultSettingsMap": {},
     "title": ""
    },
    "id": "dXM3EuAL-uFs"
   },
   "source": [
    "## 5. Route based on maximum similarity"
   ]
  },
  {
   "cell_type": "code",
   "execution_count": 0,
   "metadata": {
    "application/vnd.databricks.v1+cell": {
     "cellMetadata": {},
     "inputWidgets": {},
     "nuid": "2f85f53c-3d38-4c3a-a503-eead2fbaf5a5",
     "showTitle": false,
     "tableResultSettingsMap": {},
     "title": ""
    },
    "id": "PCDhiMfzm4WK"
   },
   "outputs": [],
   "source": [
    "def prompt_router(input):\n",
    "    query_embedding = embeddings.embed_query(input[\"query\"])\n",
    "    book_review_similarity = cosine_similarity([query_embedding], book_review_question_embeddings)[0]\n",
    "    health_fitness_similarity = cosine_similarity([query_embedding], health_fitness_question_embeddings)[0]\n",
    "    travel_guide_similarity = cosine_similarity([query_embedding], travel_guide_question_embeddings)[0]\n",
    "    personal_finance_similarity = cosine_similarity([query_embedding], personal_finance_question_embeddings)[0]\n",
    "\n",
    "    max_similarity = max(\n",
    "        max(book_review_similarity),\n",
    "        max(health_fitness_similarity),\n",
    "        max(travel_guide_similarity),\n",
    "        max(personal_finance_similarity)\n",
    "    )\n",
    "\n",
    "    if max_similarity == max(book_review_similarity):\n",
    "        print(\"Using BOOK REVIEW\")\n",
    "        return PromptTemplate.from_template(book_review_template)\n",
    "    elif max_similarity == max(health_fitness_similarity):\n",
    "        print(\"Using HEALTH AND FITNESS\")\n",
    "        return PromptTemplate.from_template(health_fitness_template)\n",
    "    elif max_similarity == max(travel_guide_similarity):\n",
    "        print(\"Using TRAVEL GUIDE\")\n",
    "        return PromptTemplate.from_template(travel_guide_template)\n",
    "    else:\n",
    "        print(\"Using PERSONAL FINANCE\")\n",
    "        return PromptTemplate.from_template(personal_finance_template)"
   ]
  },
  {
   "cell_type": "markdown",
   "metadata": {
    "application/vnd.databricks.v1+cell": {
     "cellMetadata": {},
     "inputWidgets": {},
     "nuid": "0da5f28b-4f89-4246-a4cb-866840497ea7",
     "showTitle": false,
     "tableResultSettingsMap": {},
     "title": ""
    },
    "id": "ny8AB-D7-xCY"
   },
   "source": [
    "## 6. Utilize the selected prompt"
   ]
  },
  {
   "cell_type": "code",
   "execution_count": 0,
   "metadata": {
    "application/vnd.databricks.v1+cell": {
     "cellMetadata": {},
     "inputWidgets": {},
     "nuid": "e9a472e5-be7a-4905-90eb-c69d97b7ee2d",
     "showTitle": false,
     "tableResultSettingsMap": {},
     "title": ""
    },
    "id": "QG8pBQBW-z2v"
   },
   "outputs": [],
   "source": [
    "input_query = {\"query\": \"What are effective strategies for losing weight?\"}\n",
    "prompt = prompt_router(input_query)"
   ]
  },
  {
   "cell_type": "code",
   "execution_count": 0,
   "metadata": {
    "application/vnd.databricks.v1+cell": {
     "cellMetadata": {},
     "inputWidgets": {},
     "nuid": "5ce8f15b-d2e8-4609-a7c1-aee0bc0f39fd",
     "showTitle": false,
     "tableResultSettingsMap": {},
     "title": ""
    },
    "id": "GddtA0Zwm5WB"
   },
   "outputs": [],
   "source": [
    "chain = (\n",
    "    {\"query\": RunnablePassthrough()}\n",
    "    | RunnableLambda(prompt_router)\n",
    "    | ChatOpenAI()\n",
    "    | StrOutputParser()\n",
    ")"
   ]
  },
  {
   "cell_type": "code",
   "execution_count": 0,
   "metadata": {
    "application/vnd.databricks.v1+cell": {
     "cellMetadata": {},
     "inputWidgets": {},
     "nuid": "14c3f51b-cc15-40b7-9f5d-c64048912cfc",
     "showTitle": false,
     "tableResultSettingsMap": {},
     "title": ""
    },
    "id": "31UC7adum7TX"
   },
   "outputs": [],
   "source": [
    "# Define the input query\n",
    "input_query = {\"query\": \"What are the must-see attractions in USA?\"}\n",
    "\n",
    "# Assuming 'chain' is an object that uses the generated prompt, you invoke it as follows:\n",
    "response = chain.invoke(input_query[\"query\"])\n",
    "\n",
    "# Print the response\n",
    "print(response)"
   ]
  },
  {
   "cell_type": "code",
   "execution_count": 0,
   "metadata": {
    "application/vnd.databricks.v1+cell": {
     "cellMetadata": {},
     "inputWidgets": {},
     "nuid": "4028b572-888d-432a-99b5-3954c2e63f46",
     "showTitle": false,
     "tableResultSettingsMap": {},
     "title": ""
    },
    "id": "vMvWCYEQo5pC"
   },
   "outputs": [],
   "source": [
    "# Define the input query\n",
    "input_query = {\"query\": \"What makes a novel a classic?\"}\n",
    "\n",
    "# Assuming 'chain' is an object that uses the generated prompt, you invoke it as follows:\n",
    "response = chain.invoke(input_query[\"query\"])\n",
    "\n",
    "# Print the response\n",
    "print(response)"
   ]
  },
  {
   "cell_type": "code",
   "execution_count": 0,
   "metadata": {
    "application/vnd.databricks.v1+cell": {
     "cellMetadata": {},
     "inputWidgets": {},
     "nuid": "8d7453b9-541c-4317-b616-f2398aa64668",
     "showTitle": false,
     "tableResultSettingsMap": {},
     "title": ""
    },
    "id": "AP8HKQKlo6aC"
   },
   "outputs": [],
   "source": [
    "# Define the input query\n",
    "input_query = {\"query\": \"What are effective strategies for losing weight?\"}\n",
    "\n",
    "# Assuming 'chain' is an object that uses the generated prompt, you invoke it as follows:\n",
    "response = chain.invoke(input_query[\"query\"])\n",
    "\n",
    "# Print the response\n",
    "print(response)"
   ]
  },
  {
   "cell_type": "code",
   "execution_count": 0,
   "metadata": {
    "application/vnd.databricks.v1+cell": {
     "cellMetadata": {},
     "inputWidgets": {},
     "nuid": "0caf0d3e-f0d4-469d-a491-48505c4eed7d",
     "showTitle": false,
     "tableResultSettingsMap": {},
     "title": ""
    },
    "id": "eOXdF21po8ax"
   },
   "outputs": [],
   "source": [
    "# Define the input query\n",
    "input_query = {\"query\": \"What are the best strategies for saving money?\"}\n",
    "\n",
    "# Assuming 'chain' is an object that uses the generated prompt, you invoke it as follows:\n",
    "response = chain.invoke(input_query[\"query\"])\n",
    "\n",
    "# Print the response\n",
    "print(response)"
   ]
  }
 ],
 "metadata": {
  "application/vnd.databricks.v1+notebook": {
   "computePreferences": null,
   "dashboards": [],
   "environmentMetadata": null,
   "language": "python",
   "notebookMetadata": {},
   "notebookName": "Semantic_Routing",
   "widgets": {}
  },
  "colab": {
   "provenance": []
  },
  "kernelspec": {
   "display_name": "Python 3",
   "name": "python3"
  },
  "language_info": {
   "name": "python"
  }
 },
 "nbformat": 4,
 "nbformat_minor": 0
}
