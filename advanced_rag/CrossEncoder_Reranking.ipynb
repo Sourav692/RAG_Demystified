{
 "cells": [
  {
   "cell_type": "markdown",
   "metadata": {
    "application/vnd.databricks.v1+cell": {
     "cellMetadata": {},
     "inputWidgets": {},
     "nuid": "cf2e3462-8821-413c-b645-1d3be21b01e4",
     "showTitle": false,
     "tableResultSettingsMap": {},
     "title": ""
    },
    "id": "KsY-sYnbDf1Q"
   },
   "source": [
    "# Step-by-step implementation\n",
    "Let’s see how this works in practice with the provided code. We’ll break down the code step-by-step, explaining its functionality and how it implements CrossEncoder Reranking for enhanced information retrieval:\n",
    "1. Import necessary modules\n",
    "2. Set up the OpenAI API key\n",
    "3. Load and split documents\n",
    "4. Initial retrieval\n",
    "5. Set up Cross Encoder reranking\n",
    "6. Rerank with Cross Encoder\n",
    "\n",
    "\n",
    "\n",
    "\n",
    "\n"
   ]
  },
  {
   "cell_type": "markdown",
   "metadata": {
    "application/vnd.databricks.v1+cell": {
     "cellMetadata": {},
     "inputWidgets": {},
     "nuid": "1e22a834-a6da-4267-a9db-bbcde3fa517c",
     "showTitle": false,
     "tableResultSettingsMap": {},
     "title": ""
    },
    "id": "Wn6xe5eBDqym"
   },
   "source": [
    "## 1. Import necessary modules"
   ]
  },
  {
   "cell_type": "code",
   "execution_count": 0,
   "metadata": {
    "application/vnd.databricks.v1+cell": {
     "cellMetadata": {},
     "inputWidgets": {},
     "nuid": "f4fdd3cd-4b8c-476d-a005-02e1e47cd48f",
     "showTitle": false,
     "tableResultSettingsMap": {},
     "title": ""
    },
    "id": "zL6ZmtFEfkmi"
   },
   "outputs": [],
   "source": [
    "import os\n",
    "from langchain_community.document_loaders import TextLoader\n",
    "from langchain.text_splitter import RecursiveCharacterTextSplitter\n",
    "from langchain_openai import OpenAIEmbeddings\n",
    "from langchain_community.vectorstores import Chroma\n",
    "from langchain.retrievers import ContextualCompressionRetriever\n",
    "from langchain.retrievers.document_compressors import CrossEncoderReranker\n",
    "from langchain_community.cross_encoders import HuggingFaceCrossEncoder"
   ]
  },
  {
   "cell_type": "markdown",
   "metadata": {
    "application/vnd.databricks.v1+cell": {
     "cellMetadata": {},
     "inputWidgets": {},
     "nuid": "a5ea5f8b-abf8-40d9-aa8c-959789420417",
     "showTitle": false,
     "tableResultSettingsMap": {},
     "title": ""
    },
    "id": "UqMtYmv7DspM"
   },
   "source": [
    "## 2. Set up the OpenAI API key"
   ]
  },
  {
   "cell_type": "code",
   "execution_count": 0,
   "metadata": {
    "application/vnd.databricks.v1+cell": {
     "cellMetadata": {},
     "inputWidgets": {},
     "nuid": "0ab284d4-2055-467b-af9d-820493639219",
     "showTitle": false,
     "tableResultSettingsMap": {},
     "title": ""
    },
    "id": "k0-Sc4PyfIQR"
   },
   "outputs": [],
   "source": [
    "OPENAI_API_KEY = os.environ[\"OPENAI_API_KEY\"] = \"\"  # Add your OpenAI API key\n",
    "if OPENAI_API_KEY == \"\":\n",
    "    raise ValueError(\"Please set the OPENAI_API_KEY environment variable\")"
   ]
  },
  {
   "cell_type": "markdown",
   "metadata": {
    "application/vnd.databricks.v1+cell": {
     "cellMetadata": {},
     "inputWidgets": {},
     "nuid": "b3f7b903-b31c-4b5c-87bf-9e359d4b6963",
     "showTitle": false,
     "tableResultSettingsMap": {},
     "title": ""
    },
    "id": "ieNXbSV5Duva"
   },
   "source": [
    "## 3. Load and split documents"
   ]
  },
  {
   "cell_type": "code",
   "execution_count": 0,
   "metadata": {
    "application/vnd.databricks.v1+cell": {
     "cellMetadata": {},
     "inputWidgets": {},
     "nuid": "13e2eec4-5c94-4c02-ba9c-0e715a07b49e",
     "showTitle": false,
     "tableResultSettingsMap": {},
     "title": ""
    },
    "id": "WWk9z817ftMW"
   },
   "outputs": [],
   "source": [
    "loaders = [\n",
    "    TextLoader(\"blog.langchain.dev_announcing-langsmith_.txt\"),\n",
    "    TextLoader(\"blog.langchain.dev_automating-web-research_.txt\"),\n",
    "]\n",
    "docs = []\n",
    "for loader in loaders:\n",
    "    docs.extend(loader.load())\n",
    "\n",
    "text_splitter = RecursiveCharacterTextSplitter.from_tiktoken_encoder(chunk_size=400, chunk_overlap=60)\n",
    "splits = text_splitter.split_documents(docs)"
   ]
  },
  {
   "cell_type": "markdown",
   "metadata": {
    "application/vnd.databricks.v1+cell": {
     "cellMetadata": {},
     "inputWidgets": {},
     "nuid": "a0c1e7d5-cc26-459f-aed2-ddcebc6fa743",
     "showTitle": false,
     "tableResultSettingsMap": {},
     "title": ""
    },
    "id": "sElGmY_NDw8c"
   },
   "source": [
    "## 4. Initial retrieval"
   ]
  },
  {
   "cell_type": "code",
   "execution_count": 0,
   "metadata": {
    "application/vnd.databricks.v1+cell": {
     "cellMetadata": {},
     "inputWidgets": {},
     "nuid": "fd7cc71c-302a-4282-bb21-841dc15147d2",
     "showTitle": false,
     "tableResultSettingsMap": {},
     "title": ""
    },
    "id": "90wiLFL2gUeA"
   },
   "outputs": [],
   "source": [
    "# Index\n",
    "vectorstore = Chroma.from_documents(documents=splits, embedding=OpenAIEmbeddings())\n",
    "\n",
    "retriever = vectorstore.as_retriever()"
   ]
  },
  {
   "cell_type": "code",
   "execution_count": 0,
   "metadata": {
    "application/vnd.databricks.v1+cell": {
     "cellMetadata": {},
     "inputWidgets": {},
     "nuid": "f240ac7d-cc1f-4d6c-893e-a0864044940a",
     "showTitle": false,
     "tableResultSettingsMap": {},
     "title": ""
    },
    "id": "VSn7848Mgkc_"
   },
   "outputs": [],
   "source": [
    "query = \"What is LangSmith?\"\n",
    "docs = retriever.invoke(query)\n",
    "print(docs)"
   ]
  },
  {
   "cell_type": "markdown",
   "metadata": {
    "application/vnd.databricks.v1+cell": {
     "cellMetadata": {},
     "inputWidgets": {},
     "nuid": "744e50fc-011e-483c-84a5-04c66db89e43",
     "showTitle": false,
     "tableResultSettingsMap": {},
     "title": ""
    },
    "id": "E-Hp6txWD7mQ"
   },
   "source": [
    "## 5. Set up Cross Encoder reranking"
   ]
  },
  {
   "cell_type": "code",
   "execution_count": 0,
   "metadata": {
    "application/vnd.databricks.v1+cell": {
     "cellMetadata": {},
     "inputWidgets": {},
     "nuid": "bf52048b-464e-459f-b5c6-4f9f5e742a8d",
     "showTitle": false,
     "tableResultSettingsMap": {},
     "title": ""
    },
    "id": "CUKGcaG7kEgp"
   },
   "outputs": [],
   "source": [
    "# Replace 'your_huggingface_token_here' with your actual Hugging Face token before executing this cell\n",
    "!huggingface-cli login --token your_huggingface_token_here"
   ]
  },
  {
   "cell_type": "code",
   "execution_count": 0,
   "metadata": {
    "application/vnd.databricks.v1+cell": {
     "cellMetadata": {},
     "inputWidgets": {},
     "nuid": "c6eb7664-9dbe-4ffc-af94-4d6bf4e19b03",
     "showTitle": false,
     "tableResultSettingsMap": {},
     "title": ""
    },
    "id": "sgqzZhrtg6Zx"
   },
   "outputs": [],
   "source": [
    "model = HuggingFaceCrossEncoder(model_name=\"BAAI/bge-reranker-base\")"
   ]
  },
  {
   "cell_type": "code",
   "execution_count": 0,
   "metadata": {
    "application/vnd.databricks.v1+cell": {
     "cellMetadata": {},
     "inputWidgets": {},
     "nuid": "6091810c-84b7-46c3-87ae-eb2d14a74649",
     "showTitle": false,
     "tableResultSettingsMap": {},
     "title": ""
    },
    "id": "PHQqa1HEhN3k"
   },
   "outputs": [],
   "source": [
    "compressor = CrossEncoderReranker(model=model, top_n=3)"
   ]
  },
  {
   "cell_type": "code",
   "execution_count": 0,
   "metadata": {
    "application/vnd.databricks.v1+cell": {
     "cellMetadata": {},
     "inputWidgets": {},
     "nuid": "218c10c3-c0f0-467c-93b9-cf420a8f7d90",
     "showTitle": false,
     "tableResultSettingsMap": {},
     "title": ""
    },
    "id": "3DBjonjvhONM"
   },
   "outputs": [],
   "source": [
    "compression_retriever = ContextualCompressionRetriever(\n",
    "    base_compressor=compressor, base_retriever=retriever\n",
    ")"
   ]
  },
  {
   "cell_type": "markdown",
   "metadata": {
    "application/vnd.databricks.v1+cell": {
     "cellMetadata": {},
     "inputWidgets": {},
     "nuid": "7f4d59a7-0a69-4ccd-b755-9e4d00e4664b",
     "showTitle": false,
     "tableResultSettingsMap": {},
     "title": ""
    },
    "id": "RLlhCpZLD__c"
   },
   "source": [
    "## 6. Reranking with CrossEncoder"
   ]
  },
  {
   "cell_type": "code",
   "execution_count": 0,
   "metadata": {
    "application/vnd.databricks.v1+cell": {
     "cellMetadata": {},
     "inputWidgets": {},
     "nuid": "c4d2d471-203a-433a-894b-f1d00892c00e",
     "showTitle": false,
     "tableResultSettingsMap": {},
     "title": ""
    },
    "id": "B14bvm-ThP8x"
   },
   "outputs": [],
   "source": [
    "compressed_docs = compression_retriever.invoke(\"What is LangSmith?\")\n",
    "print(compressed_docs)"
   ]
  }
 ],
 "metadata": {
  "application/vnd.databricks.v1+notebook": {
   "computePreferences": null,
   "dashboards": [],
   "environmentMetadata": null,
   "language": "python",
   "notebookMetadata": {},
   "notebookName": "CrossEncoder_Reranking",
   "widgets": {}
  },
  "colab": {
   "provenance": []
  },
  "kernelspec": {
   "display_name": "Python 3",
   "name": "python3"
  },
  "language_info": {
   "name": "python"
  }
 },
 "nbformat": 4,
 "nbformat_minor": 0
}
