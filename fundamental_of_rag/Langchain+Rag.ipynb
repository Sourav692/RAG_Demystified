{
 "cells": [
  {
   "cell_type": "code",
   "execution_count": 0,
   "metadata": {
    "application/vnd.databricks.v1+cell": {
     "cellMetadata": {},
     "inputWidgets": {},
     "nuid": "d6ada533-4e14-4136-9ca0-6fc854b3e038",
     "showTitle": false,
     "tableResultSettingsMap": {},
     "title": ""
    }
   },
   "outputs": [],
   "source": [
    "import openai\n",
    "import os\n",
    "os.environ['OPENAI_API_KEY'] = \"\" # Set your OpenAI API key in the environment variable"
   ]
  },
  {
   "cell_type": "code",
   "execution_count": 0,
   "metadata": {
    "application/vnd.databricks.v1+cell": {
     "cellMetadata": {},
     "inputWidgets": {},
     "nuid": "4d40c9fe-64d0-4c9f-8e56-d4d41bd90d5a",
     "showTitle": false,
     "tableResultSettingsMap": {},
     "title": ""
    }
   },
   "outputs": [],
   "source": [
    "from langchain_openai import OpenAIEmbeddings"
   ]
  },
  {
   "cell_type": "code",
   "execution_count": 0,
   "metadata": {
    "application/vnd.databricks.v1+cell": {
     "cellMetadata": {},
     "inputWidgets": {},
     "nuid": "65838920-5b9f-4387-844a-f78fdce5b895",
     "showTitle": false,
     "tableResultSettingsMap": {},
     "title": ""
    }
   },
   "outputs": [
    {
     "output_type": "stream",
     "name": "stdout",
     "output_type": "stream",
     "text": [
      "5\n1536\n"
     ]
    }
   ],
   "source": [
    "\n",
    "embeddings_model = OpenAIEmbeddings() # Initialize the embeddings model\n",
    "# Generate embeddings for a list of documents\n",
    "embeddings = embeddings_model.embed_documents(\n",
    "    [\n",
    "    \"This is the Fundamentals of RAG course.\",\n",
    "    \"Educative is an AI-powered online learning platform.\",\n",
    "    \"There are several Generative AI courses available on Educative.\",\n",
    "    \"I am writing this using my keyboard.\",\n",
    "    \"JavaScript is a good programming language\"\n",
    "    ]\n",
    ")\n",
    "\n",
    "print(len(embeddings)) # Print the number of embeddings generated (should be equal to the number of documents)\n",
    "print(len((embeddings[0]))) # Print the length of the first embedding vector"
   ]
  },
  {
   "cell_type": "markdown",
   "metadata": {
    "application/vnd.databricks.v1+cell": {
     "cellMetadata": {},
     "inputWidgets": {},
     "nuid": "698e00bd-2a15-4506-83cf-b20e241d74fc",
     "showTitle": false,
     "tableResultSettingsMap": {},
     "title": ""
    }
   },
   "source": [
    "%md\n",
    "\n",
    "In a manual approach, after generating embeddings, we would need to store these embeddings in a vector database manually. This involves several steps, including connecting to the database, formatting the embeddings, and writing them to the database. This process can be cumbersome and prone to errors, especially as the volume of data grows. Rather than manually handling embeddings, we can directly create a vector store in LangChain, making the process more straightforward:"
   ]
  },
  {
   "cell_type": "code",
   "execution_count": 0,
   "metadata": {
    "application/vnd.databricks.v1+cell": {
     "cellMetadata": {},
     "inputWidgets": {},
     "nuid": "052e1ebc-6c13-4d39-a650-9e4680712031",
     "showTitle": false,
     "tableResultSettingsMap": {},
     "title": ""
    }
   },
   "outputs": [
    {
     "output_type": "display_data",
     "data": {
      "text/plain": [
       "\u001B[1;31mThe Kernel crashed while executing code in the current cell or a previous cell. \n",
       "\n",
       "\u001B[1;31mPlease review the code in the cell(s) to identify a possible cause of the failure. \n",
       "\n",
       "\u001B[1;31mClick <a href='https://aka.ms/vscodeJupyterKernelCrash'>here</a> for more info. \n",
       "\n",
       "\u001B[1;31mView Jupyter <a href='command:jupyter.viewOutput'>log</a> for further details."
      ]
     },
     "metadata": {
      "application/vnd.databricks.v1+output": {
       "arguments": {},
       "data": "\u001B[1;31mThe Kernel crashed while executing code in the current cell or a previous cell. \n\n\u001B[1;31mPlease review the code in the cell(s) to identify a possible cause of the failure. \n\n\u001B[1;31mClick <a href='https://aka.ms/vscodeJupyterKernelCrash'>here</a> for more info. \n\n\u001B[1;31mView Jupyter <a href='command:jupyter.viewOutput'>log</a> for further details.",
       "errorSummary": "<span class='ansi-red-fg'></span>: ",
       "errorTraceType": "ansi",
       "metadata": {},
       "type": "ipynbError"
      }
     },
     "output_type": "display_data"
    }
   ],
   "source": [
    "from langchain_openai import OpenAIEmbeddings\n",
    "from langchain_community.vectorstores import Chroma\n",
    "\n",
    "# List of example documents to be used in the database\n",
    "documents = [\n",
    "    \"Python is a high-level programming language known for its readability and versatile libraries.\",\n",
    "    \"Java is a popular programming language used for building enterprise-scale applications.\",\n",
    "    \"JavaScript is essential for web development, enabling interactive web pages.\",\n",
    "    \"Machine learning is a subset of artificial intelligence that involves training algorithms to make predictions.\",\n",
    "    \"Deep learning, a subset of machine learning, utilizes neural networks to model complex patterns in data.\",\n",
    "    \"The Eiffel Tower is a famous landmark in Paris, known for its architectural significance.\",\n",
    "    \"The Louvre Museum in Paris is home to thousands of works of art, including the Mona Lisa.\",\n",
    "    \"Artificial intelligence includes machine learning techniques that enable computers to learn from data.\",\n",
    "]\n",
    "\n",
    "\n",
    "# Create OpenAI embeddings object\n",
    "embeddings_model = OpenAIEmbeddings()\n",
    "\n",
    "# Create a Chroma database from the documents using OpenAI embeddings\n",
    "db = Chroma.from_texts(texts=documents, embedding=embeddings_model)\n",
    "print(db)"
   ]
  },
  {
   "cell_type": "code",
   "execution_count": 0,
   "metadata": {
    "application/vnd.databricks.v1+cell": {
     "cellMetadata": {},
     "inputWidgets": {},
     "nuid": "532bc0e3-7a84-4f9e-8b6d-9f02f326125a",
     "showTitle": false,
     "tableResultSettingsMap": {},
     "title": ""
    }
   },
   "outputs": [],
   "source": []
  }
 ],
 "metadata": {
  "application/vnd.databricks.v1+notebook": {
   "computePreferences": null,
   "dashboards": [],
   "environmentMetadata": null,
   "language": "python",
   "notebookMetadata": {},
   "notebookName": "Langchain+Rag",
   "widgets": {}
  },
  "kernelspec": {
   "display_name": "base",
   "language": "python",
   "name": "python3"
  },
  "language_info": {
   "name": "python"
  }
 },
 "nbformat": 4,
 "nbformat_minor": 0
}
