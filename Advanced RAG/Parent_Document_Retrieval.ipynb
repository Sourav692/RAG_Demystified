{
 "cells": [
  {
   "cell_type": "markdown",
   "metadata": {
    "application/vnd.databricks.v1+cell": {
     "cellMetadata": {},
     "inputWidgets": {},
     "nuid": "0ab33121-bb4b-4bb2-a300-bd61487f045c",
     "showTitle": false,
     "tableResultSettingsMap": {},
     "title": ""
    },
    "id": "VuJtLev5rn81"
   },
   "source": [
    "# Step-by-step implementation\n",
    "The following are the steps to implement the parent document retrieval (PDR):\n",
    "  1. Prepare the data\n",
    "  \n",
    "    i) Import necessary modules\n",
    "  \n",
    "    ii) Set up the OpenAI API key\n",
    "  \n",
    "    iii) Define the text embedding function\n",
    "  \n",
    "    vi) Load text data\n",
    "\n",
    "  2. Retrieve full documents\n",
    "  \n",
    "    i) Full document splitting\n",
    "  \n",
    "    ii) Vector store and storage setup\n",
    "  \n",
    "    iii) Parent document retriever\n",
    "  \n",
    "    iv) Adding documents\n",
    "  \n",
    "    v) Similarity search and retrieval\n",
    "  3. Retrieve larger chunks\n",
    "\n",
    "    i) Parent document retriever\n",
    "  \n",
    "    ii) Similarity search and retrieval\n",
    "  4. Integrate with `RetrievalQA`"
   ]
  },
  {
   "cell_type": "markdown",
   "metadata": {
    "application/vnd.databricks.v1+cell": {
     "cellMetadata": {},
     "inputWidgets": {},
     "nuid": "6ecc1f55-cba5-4fc6-8c14-88813cbebc0b",
     "showTitle": false,
     "tableResultSettingsMap": {},
     "title": ""
    },
    "id": "i5iJha0ksPT8"
   },
   "source": [
    "## Prepare the data"
   ]
  },
  {
   "cell_type": "markdown",
   "metadata": {
    "application/vnd.databricks.v1+cell": {
     "cellMetadata": {},
     "inputWidgets": {},
     "nuid": "91dc4d5a-aacb-492e-96cc-3bb106b27193",
     "showTitle": false,
     "tableResultSettingsMap": {},
     "title": ""
    },
    "id": "Niopg36jso0h"
   },
   "source": [
    "### i) Import necessary modules"
   ]
  },
  {
   "cell_type": "code",
   "execution_count": 0,
   "metadata": {
    "application/vnd.databricks.v1+cell": {
     "cellMetadata": {},
     "inputWidgets": {},
     "nuid": "da64f26e-5bb3-403e-9902-563948f3d32d",
     "showTitle": false,
     "tableResultSettingsMap": {},
     "title": ""
    },
    "id": "bl2naAmHsYZL"
   },
   "outputs": [],
   "source": [
    "from langchain.schema import Document\n",
    "from langchain.vectorstores import Chroma\n",
    "from langchain.retrievers import ParentDocumentRetriever\n",
    "from langchain.chains import RetrievalQA\n",
    "from langchain_openai import OpenAI\n",
    "from langchain.text_splitter import RecursiveCharacterTextSplitter\n",
    "from langchain.storage import InMemoryStore\n",
    "from langchain.document_loaders import TextLoader\n",
    "from langchain_openai import OpenAIEmbeddings\n",
    "import os"
   ]
  },
  {
   "cell_type": "markdown",
   "metadata": {
    "application/vnd.databricks.v1+cell": {
     "cellMetadata": {},
     "inputWidgets": {},
     "nuid": "21deaca7-977a-4635-b368-03f757772534",
     "showTitle": false,
     "tableResultSettingsMap": {},
     "title": ""
    },
    "id": "GMItWUJ2tZ9d"
   },
   "source": [
    "### ii) Set up the OpenAI API key"
   ]
  },
  {
   "cell_type": "code",
   "execution_count": 0,
   "metadata": {
    "application/vnd.databricks.v1+cell": {
     "cellMetadata": {},
     "inputWidgets": {},
     "nuid": "5a3310c5-c01b-467f-a2df-956968069819",
     "showTitle": false,
     "tableResultSettingsMap": {},
     "title": ""
    },
    "id": "MlFJBlDbtcmn"
   },
   "outputs": [],
   "source": [
    "OPENAI_API_KEY = os.environ[\"OPENAI_API_KEY\"] = \"\"  # Add your OpenAI API key\n",
    "if OPENAI_API_KEY == \"\":\n",
    "    raise ValueError(\"Please set the OPENAI_API_KEY environment variable\")"
   ]
  },
  {
   "cell_type": "markdown",
   "metadata": {
    "application/vnd.databricks.v1+cell": {
     "cellMetadata": {},
     "inputWidgets": {},
     "nuid": "f79dffe4-c62a-40b5-b2f3-a65bcb8d4683",
     "showTitle": false,
     "tableResultSettingsMap": {},
     "title": ""
    },
    "id": "A6UdVPK_tyS-"
   },
   "source": [
    "### iii) Define the text embedding function"
   ]
  },
  {
   "cell_type": "code",
   "execution_count": 0,
   "metadata": {
    "application/vnd.databricks.v1+cell": {
     "cellMetadata": {},
     "inputWidgets": {},
     "nuid": "5acade5f-1362-437b-a59f-755362cc7786",
     "showTitle": false,
     "tableResultSettingsMap": {},
     "title": ""
    },
    "id": "SyutVIvDt36H"
   },
   "outputs": [],
   "source": [
    "embeddings = OpenAIEmbeddings()"
   ]
  },
  {
   "cell_type": "markdown",
   "metadata": {
    "application/vnd.databricks.v1+cell": {
     "cellMetadata": {},
     "inputWidgets": {},
     "nuid": "d5ff91c9-ea8c-49b7-9cab-23a742c08758",
     "showTitle": false,
     "tableResultSettingsMap": {},
     "title": ""
    },
    "id": "88JdRVvuuUPm"
   },
   "source": [
    "### vi) Load text data"
   ]
  },
  {
   "cell_type": "code",
   "execution_count": 0,
   "metadata": {
    "application/vnd.databricks.v1+cell": {
     "cellMetadata": {},
     "inputWidgets": {},
     "nuid": "dca01e6b-36fd-46d0-a627-68f2f15711f6",
     "showTitle": false,
     "tableResultSettingsMap": {},
     "title": ""
    },
    "id": "faNVEcZyuZpr"
   },
   "outputs": [],
   "source": [
    "loaders = [\n",
    "    TextLoader('blog.langchain.dev_announcing-langsmith_.txt'),\n",
    "    TextLoader('blog.langchain.dev_automating-web-research_.txt'),\n",
    "]\n",
    "\n",
    "docs = []\n",
    "for l in loaders:\n",
    "    docs.extend(l.load())"
   ]
  },
  {
   "cell_type": "markdown",
   "metadata": {
    "application/vnd.databricks.v1+cell": {
     "cellMetadata": {},
     "inputWidgets": {},
     "nuid": "8119a9c8-c52a-4f7b-b9f3-150449cb64ec",
     "showTitle": false,
     "tableResultSettingsMap": {},
     "title": ""
    },
    "id": "rmAskAunvBnP"
   },
   "source": [
    "## 2. Retrieve full documents"
   ]
  },
  {
   "cell_type": "markdown",
   "metadata": {
    "application/vnd.databricks.v1+cell": {
     "cellMetadata": {},
     "inputWidgets": {},
     "nuid": "a17b5aa0-bcc3-4b4d-ad7d-c48cef7e2088",
     "showTitle": false,
     "tableResultSettingsMap": {},
     "title": ""
    },
    "id": "_zT9JQ6avEcC"
   },
   "source": [
    "### i) Full document splitting"
   ]
  },
  {
   "cell_type": "code",
   "execution_count": 0,
   "metadata": {
    "application/vnd.databricks.v1+cell": {
     "cellMetadata": {},
     "inputWidgets": {},
     "nuid": "0c57d571-0327-4172-a0dc-96e7f2b9dd33",
     "showTitle": false,
     "tableResultSettingsMap": {},
     "title": ""
    },
    "id": "DnJ7WPUGvHil"
   },
   "outputs": [],
   "source": [
    "child_splitter = RecursiveCharacterTextSplitter(chunk_size=400)"
   ]
  },
  {
   "cell_type": "markdown",
   "metadata": {
    "application/vnd.databricks.v1+cell": {
     "cellMetadata": {},
     "inputWidgets": {},
     "nuid": "ff212f0a-9e9e-4ae2-8d12-166b38936229",
     "showTitle": false,
     "tableResultSettingsMap": {},
     "title": ""
    },
    "id": "tcHx5MsjvJgK"
   },
   "source": [
    "### ii) Vector store and storage setup"
   ]
  },
  {
   "cell_type": "code",
   "execution_count": 0,
   "metadata": {
    "application/vnd.databricks.v1+cell": {
     "cellMetadata": {},
     "inputWidgets": {},
     "nuid": "ccf89f4f-d5c6-4c3d-b790-62499ce2be01",
     "showTitle": false,
     "tableResultSettingsMap": {},
     "title": ""
    },
    "id": "bTla5J6CvM7F"
   },
   "outputs": [],
   "source": [
    "vectorstore = Chroma(\n",
    "    collection_name=\"full_documents\",\n",
    "    embedding_function=OpenAIEmbeddings()\n",
    ")\n",
    "\n",
    "store = InMemoryStore()"
   ]
  },
  {
   "cell_type": "markdown",
   "metadata": {
    "application/vnd.databricks.v1+cell": {
     "cellMetadata": {},
     "inputWidgets": {},
     "nuid": "5a0e5809-76a7-495d-8c10-e805784e1479",
     "showTitle": false,
     "tableResultSettingsMap": {},
     "title": ""
    },
    "id": "Y3zVWeJUvO5_"
   },
   "source": [
    "### iii) Parent document retriever"
   ]
  },
  {
   "cell_type": "code",
   "execution_count": 0,
   "metadata": {
    "application/vnd.databricks.v1+cell": {
     "cellMetadata": {},
     "inputWidgets": {},
     "nuid": "7af57b79-1f45-4f87-b126-312e39b43bc6",
     "showTitle": false,
     "tableResultSettingsMap": {},
     "title": ""
    },
    "id": "_NQzrfrUvRQo"
   },
   "outputs": [],
   "source": [
    "full_doc_retriever = ParentDocumentRetriever(\n",
    "    vectorstore=vectorstore,\n",
    "    docstore=store,\n",
    "    child_splitter=child_splitter\n",
    ")"
   ]
  },
  {
   "cell_type": "markdown",
   "metadata": {
    "application/vnd.databricks.v1+cell": {
     "cellMetadata": {},
     "inputWidgets": {},
     "nuid": "c3cee217-7792-4bc4-a983-ee1306f2304a",
     "showTitle": false,
     "tableResultSettingsMap": {},
     "title": ""
    },
    "id": "B3JXrovivTTe"
   },
   "source": [
    "### iv) Adding documents"
   ]
  },
  {
   "cell_type": "code",
   "execution_count": 0,
   "metadata": {
    "application/vnd.databricks.v1+cell": {
     "cellMetadata": {},
     "inputWidgets": {},
     "nuid": "0d043661-31ed-4709-9473-ae305a27c603",
     "showTitle": false,
     "tableResultSettingsMap": {},
     "title": ""
    },
    "id": "P3ReTjTvvVi1"
   },
   "outputs": [],
   "source": [
    "full_doc_retriever.add_documents(docs)\n",
    "\n",
    "print(list(store.yield_keys()))  # List document IDs in the store"
   ]
  },
  {
   "cell_type": "markdown",
   "metadata": {
    "application/vnd.databricks.v1+cell": {
     "cellMetadata": {},
     "inputWidgets": {},
     "nuid": "1bcffb31-2b7b-4de5-b21b-f732f5acc49d",
     "showTitle": false,
     "tableResultSettingsMap": {},
     "title": ""
    },
    "id": "SBZxWHTavZpT"
   },
   "source": [
    "### v) Similarity search and retrieval"
   ]
  },
  {
   "cell_type": "code",
   "execution_count": 0,
   "metadata": {
    "application/vnd.databricks.v1+cell": {
     "cellMetadata": {},
     "inputWidgets": {},
     "nuid": "c189de75-9bb2-4d5e-a879-ccab99ee4467",
     "showTitle": false,
     "tableResultSettingsMap": {},
     "title": ""
    },
    "id": "BHx1RgbMvcAa"
   },
   "outputs": [],
   "source": [
    "sub_docs = vectorstore.similarity_search(\"What is LangSmith?\", k=2)\n",
    "print(len(sub_docs))\n",
    "\n",
    "print(sub_docs[0].page_content)\n",
    "\n",
    "retrieved_docs = full_doc_retriever.invoke(\"What is LangSmith?\")\n",
    "\n",
    "print(len(retrieved_docs[0].page_content))\n",
    "print(retrieved_docs[0].page_content)"
   ]
  },
  {
   "cell_type": "markdown",
   "metadata": {
    "application/vnd.databricks.v1+cell": {
     "cellMetadata": {},
     "inputWidgets": {},
     "nuid": "90b24aa4-d554-4e02-b055-cf4b5c8befbe",
     "showTitle": false,
     "tableResultSettingsMap": {},
     "title": ""
    },
    "id": "TI4I4S3BvfnW"
   },
   "source": [
    "## 3. Retrieve larger chunks"
   ]
  },
  {
   "cell_type": "markdown",
   "metadata": {
    "application/vnd.databricks.v1+cell": {
     "cellMetadata": {},
     "inputWidgets": {},
     "nuid": "f7c1525d-457e-4947-9967-dda5e3b7313a",
     "showTitle": false,
     "tableResultSettingsMap": {},
     "title": ""
    },
    "id": "2_cXmXFBviqz"
   },
   "source": [
    "### i) Parent document retriever"
   ]
  },
  {
   "cell_type": "code",
   "execution_count": 0,
   "metadata": {
    "application/vnd.databricks.v1+cell": {
     "cellMetadata": {},
     "inputWidgets": {},
     "nuid": "83dc7288-1697-459b-8315-e28ed7b8d17d",
     "showTitle": false,
     "tableResultSettingsMap": {},
     "title": ""
    },
    "id": "thv8S2-2vlHe"
   },
   "outputs": [],
   "source": [
    "parent_splitter = RecursiveCharacterTextSplitter(chunk_size=2000)\n",
    "child_splitter = RecursiveCharacterTextSplitter(chunk_size=400)\n",
    "\n",
    "vectorstore = Chroma(\n",
    "    collection_name=\"split_parents\",\n",
    "    embedding_function=OpenAIEmbeddings()\n",
    ")\n",
    "\n",
    "store = InMemoryStore()\n",
    "\n",
    "big_chunks_retriever = ParentDocumentRetriever(\n",
    "    vectorstore=vectorstore,\n",
    "    docstore=store,\n",
    "    child_splitter=child_splitter,\n",
    "    parent_splitter=parent_splitter\n",
    ")\n",
    "\n",
    "# Adding documents\n",
    "big_chunks_retriever.add_documents(docs)\n",
    "print(len(list(store.yield_keys())))  # List document IDs in the store"
   ]
  },
  {
   "cell_type": "markdown",
   "metadata": {
    "application/vnd.databricks.v1+cell": {
     "cellMetadata": {},
     "inputWidgets": {},
     "nuid": "396f06ca-dafc-43f2-a9bc-7404e54d940c",
     "showTitle": false,
     "tableResultSettingsMap": {},
     "title": ""
    },
    "id": "TADrucdSvnIc"
   },
   "source": [
    "### ii) Similarity search and retrieval"
   ]
  },
  {
   "cell_type": "code",
   "execution_count": 0,
   "metadata": {
    "application/vnd.databricks.v1+cell": {
     "cellMetadata": {},
     "inputWidgets": {},
     "nuid": "06100d93-c948-4612-a52e-4bc33ad26d98",
     "showTitle": false,
     "tableResultSettingsMap": {},
     "title": ""
    },
    "id": "0g_qhC0rvpe0"
   },
   "outputs": [],
   "source": [
    "sub_docs = vectorstore.similarity_search(\"What is LangSmith?\", k=2)\n",
    "print(len(sub_docs))\n",
    "\n",
    "print(sub_docs[0].page_content)\n",
    "\n",
    "retrieved_docs = big_chunks_retriever.invoke(\"What is LangSmith?\")\n",
    "print(len(retrieved_docs))\n",
    "\n",
    "print(len(retrieved_docs[0].page_content))\n",
    "print(retrieved_docs[0].page_content)"
   ]
  },
  {
   "cell_type": "markdown",
   "metadata": {
    "application/vnd.databricks.v1+cell": {
     "cellMetadata": {},
     "inputWidgets": {},
     "nuid": "c93fc79f-09ca-4cb6-b259-aada0b652983",
     "showTitle": false,
     "tableResultSettingsMap": {},
     "title": ""
    },
    "id": "Zh5CMZtbvq_q"
   },
   "source": [
    "## 4. Integrate with `RetrievalQA`"
   ]
  },
  {
   "cell_type": "code",
   "execution_count": 0,
   "metadata": {
    "application/vnd.databricks.v1+cell": {
     "cellMetadata": {},
     "inputWidgets": {},
     "nuid": "bfc0d8d9-0527-4cbe-91a2-0b5bff878361",
     "showTitle": false,
     "tableResultSettingsMap": {},
     "title": ""
    },
    "id": "IOdhMcYovuQU"
   },
   "outputs": [],
   "source": [
    "qa = RetrievalQA.from_chain_type(llm=OpenAI(),\n",
    "                                chain_type=\"stuff\",\n",
    "                                retriever=big_chunks_retriever)\n",
    "\n",
    "query = \"What is LangSmith?\"\n",
    "\n",
    "response = qa.invoke(query)\n",
    "print(response)"
   ]
  }
 ],
 "metadata": {
  "application/vnd.databricks.v1+notebook": {
   "computePreferences": null,
   "dashboards": [],
   "environmentMetadata": null,
   "language": "python",
   "notebookMetadata": {},
   "notebookName": "Parent_Document_Retrieval",
   "widgets": {}
  },
  "colab": {
   "provenance": []
  },
  "kernelspec": {
   "display_name": "Python 3",
   "name": "python3"
  },
  "language_info": {
   "name": "python"
  }
 },
 "nbformat": 4,
 "nbformat_minor": 0
}
