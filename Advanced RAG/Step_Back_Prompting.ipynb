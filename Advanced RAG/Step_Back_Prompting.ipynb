{
 "cells": [
  {
   "cell_type": "markdown",
   "metadata": {
    "application/vnd.databricks.v1+cell": {
     "cellMetadata": {},
     "inputWidgets": {},
     "nuid": "2dd99652-c55c-4b56-b891-e97ed09cfcbe",
     "showTitle": false,
     "tableResultSettingsMap": {},
     "title": ""
    },
    "id": "2Rcn9nwxdIP7"
   },
   "source": [
    "# Step-by-step implementation\n",
    "The following code demonstrates how to integrate step-back prompting into an RAG pipeline. Let’s break it down step-by-step:\n",
    "1. Import necessary libraries\n",
    "2. Set up the OpenAI API key\n",
    "3. Few-shot learning for step-back prompting\n",
    "4. Build the step-back prompt\n",
    "5. Retrieve information\n",
    "6. Build the RAG chain"
   ]
  },
  {
   "cell_type": "markdown",
   "metadata": {
    "application/vnd.databricks.v1+cell": {
     "cellMetadata": {},
     "inputWidgets": {},
     "nuid": "0f2f1d06-ef28-4be8-b2f5-4c62b1a2a427",
     "showTitle": false,
     "tableResultSettingsMap": {},
     "title": ""
    },
    "id": "6S-LTQYn_G5H"
   },
   "source": [
    "## 1. Import necessary libraries"
   ]
  },
  {
   "cell_type": "code",
   "execution_count": 0,
   "metadata": {
    "application/vnd.databricks.v1+cell": {
     "cellMetadata": {},
     "inputWidgets": {},
     "nuid": "ec4c80a2-a6f5-482e-9313-f900b36fdf2a",
     "showTitle": false,
     "tableResultSettingsMap": {},
     "title": ""
    },
    "id": "4OFxqAnFzS5M"
   },
   "outputs": [],
   "source": [
    "import os\n",
    "from langchain_core.output_parsers import StrOutputParser\n",
    "from langchain_core.prompts import ChatPromptTemplate, FewShotChatMessagePromptTemplate\n",
    "from langchain_core.runnables import RunnableLambda\n",
    "from langchain_openai import ChatOpenAI\n",
    "from langchain_community.utilities import DuckDuckGoSearchAPIWrapper\n",
    "from langchain import hub"
   ]
  },
  {
   "cell_type": "markdown",
   "metadata": {
    "application/vnd.databricks.v1+cell": {
     "cellMetadata": {},
     "inputWidgets": {},
     "nuid": "83991155-1a91-46c7-bf56-30e6fceef8bd",
     "showTitle": false,
     "tableResultSettingsMap": {},
     "title": ""
    },
    "id": "8MHq85nk_Jum"
   },
   "source": [
    "## 2. Set up the OpenAI API key"
   ]
  },
  {
   "cell_type": "code",
   "execution_count": 0,
   "metadata": {
    "application/vnd.databricks.v1+cell": {
     "cellMetadata": {},
     "inputWidgets": {},
     "nuid": "96476566-b188-4826-b940-76d256a2ba08",
     "showTitle": false,
     "tableResultSettingsMap": {},
     "title": ""
    },
    "id": "U4PmcZcc0FdU"
   },
   "outputs": [],
   "source": [
    "OPENAI_API_KEY = os.environ[\"OPENAI_API_KEY\"] = \"\"  # Add your OpenAI API key\n",
    "if OPENAI_API_KEY == \"\":\n",
    "    raise ValueError(\"Please set the OPENAI_API_KEY environment variable\")"
   ]
  },
  {
   "cell_type": "markdown",
   "metadata": {
    "application/vnd.databricks.v1+cell": {
     "cellMetadata": {},
     "inputWidgets": {},
     "nuid": "b8fb20c4-d8de-4074-ba5a-7e9a8bcaf0cb",
     "showTitle": false,
     "tableResultSettingsMap": {},
     "title": ""
    },
    "id": "6zzCafUZ_PJO"
   },
   "source": [
    "## 3. Few-shot learning for step-back prompting"
   ]
  },
  {
   "cell_type": "code",
   "execution_count": 0,
   "metadata": {
    "application/vnd.databricks.v1+cell": {
     "cellMetadata": {},
     "inputWidgets": {},
     "nuid": "e285e9e5-353e-4d5b-8c7c-bea72a8c1613",
     "showTitle": false,
     "tableResultSettingsMap": {},
     "title": ""
    },
    "id": "JIrFNzSpzyEU"
   },
   "outputs": [],
   "source": [
    "# Few Shot Examples\n",
    "examples = [\n",
    "    {\n",
    "        \"input\": \"Did the Beatles ever write a book?\",\n",
    "        \"output\": \"What types of creative works did the Beatles produce?\"\n",
    "    },\n",
    "    {\n",
    "        \"input\": \"Was Albert Einstein a musician?\",\n",
    "        \"output\": \"What fields did Albert Einstein work in?\"\n",
    "    }\n",
    "]\n",
    "\n",
    "# We now transform these to example messages\n",
    "example_prompt = ChatPromptTemplate.from_messages(\n",
    "    [\n",
    "        (\"human\", \"{input}\"),\n",
    "        (\"ai\", \"{output}\"),\n",
    "    ]\n",
    ")\n",
    "few_shot_prompt = FewShotChatMessagePromptTemplate(\n",
    "    example_prompt=example_prompt,\n",
    "    examples=examples,\n",
    ")"
   ]
  },
  {
   "cell_type": "markdown",
   "metadata": {
    "application/vnd.databricks.v1+cell": {
     "cellMetadata": {},
     "inputWidgets": {},
     "nuid": "badf5cbf-1a5c-478e-a005-ff3f32092c90",
     "showTitle": false,
     "tableResultSettingsMap": {},
     "title": ""
    },
    "id": "5nVexRfc_Tpt"
   },
   "source": [
    "## 4. Build the step-back prompt"
   ]
  },
  {
   "cell_type": "code",
   "execution_count": 0,
   "metadata": {
    "application/vnd.databricks.v1+cell": {
     "cellMetadata": {},
     "inputWidgets": {},
     "nuid": "e9c9c98f-4516-4a82-87f0-0a235577ed07",
     "showTitle": false,
     "tableResultSettingsMap": {},
     "title": ""
    },
    "id": "p9k_-AJwz4Dn"
   },
   "outputs": [],
   "source": [
    "prompt = ChatPromptTemplate.from_messages(\n",
    "    [\n",
    "        (\n",
    "            \"system\",\n",
    "            \"\"\"You are an expert at world knowledge. Your task is to step back and paraphrase a question to a more generic step-back question, which is easier to answer. Here are a few examples:\"\"\",\n",
    "        ),\n",
    "        few_shot_prompt,\n",
    "        (\"user\", \"{question}\"),\n",
    "    ]\n",
    ")"
   ]
  },
  {
   "cell_type": "code",
   "execution_count": 0,
   "metadata": {
    "application/vnd.databricks.v1+cell": {
     "cellMetadata": {},
     "inputWidgets": {},
     "nuid": "3f47adb2-23fc-4cad-b75a-796e908bd0a7",
     "showTitle": false,
     "tableResultSettingsMap": {},
     "title": ""
    },
    "id": "3u8k-Gjnz600"
   },
   "outputs": [],
   "source": [
    "question_gen = prompt | ChatOpenAI(temperature=0) | StrOutputParser()"
   ]
  },
  {
   "cell_type": "code",
   "execution_count": 0,
   "metadata": {
    "application/vnd.databricks.v1+cell": {
     "cellMetadata": {},
     "inputWidgets": {},
     "nuid": "55039861-2881-4845-900e-654060dd0864",
     "showTitle": false,
     "tableResultSettingsMap": {},
     "title": ""
    },
    "id": "jSqpDeGqz-_M"
   },
   "outputs": [],
   "source": [
    "question = \"Did Leonardo da Vinci invent the printing press?\""
   ]
  },
  {
   "cell_type": "code",
   "execution_count": 0,
   "metadata": {
    "application/vnd.databricks.v1+cell": {
     "cellMetadata": {},
     "inputWidgets": {},
     "nuid": "93516bea-cd98-4c60-8300-a7d57bb1f298",
     "showTitle": false,
     "tableResultSettingsMap": {},
     "title": ""
    },
    "id": "yROedxbg0TJ_"
   },
   "outputs": [],
   "source": [
    "question_gen.invoke({\"question\": question})"
   ]
  },
  {
   "cell_type": "markdown",
   "metadata": {
    "application/vnd.databricks.v1+cell": {
     "cellMetadata": {},
     "inputWidgets": {},
     "nuid": "1114a2ed-e717-4a20-8566-939bb210b93b",
     "showTitle": false,
     "tableResultSettingsMap": {},
     "title": ""
    },
    "id": "JQ9huOJs_aKJ"
   },
   "source": [
    "## 5. Retrieve information"
   ]
  },
  {
   "cell_type": "code",
   "execution_count": 0,
   "metadata": {
    "application/vnd.databricks.v1+cell": {
     "cellMetadata": {},
     "inputWidgets": {},
     "nuid": "90e9ac53-d6a8-440f-a748-2c461d657834",
     "showTitle": false,
     "tableResultSettingsMap": {},
     "title": ""
    },
    "id": "CnVipvVM0XrF"
   },
   "outputs": [],
   "source": [
    "search = DuckDuckGoSearchAPIWrapper(max_results=4)\n",
    "\n",
    "def retriever(query):\n",
    "    return search.run(query)"
   ]
  },
  {
   "cell_type": "code",
   "execution_count": 0,
   "metadata": {
    "application/vnd.databricks.v1+cell": {
     "cellMetadata": {},
     "inputWidgets": {},
     "nuid": "9079cd34-fac3-43b4-8819-1aecd7b5e85a",
     "showTitle": false,
     "tableResultSettingsMap": {},
     "title": ""
    },
    "id": "aoRML0Jf06JQ"
   },
   "outputs": [],
   "source": [
    "retriever(question)"
   ]
  },
  {
   "cell_type": "code",
   "execution_count": 0,
   "metadata": {
    "application/vnd.databricks.v1+cell": {
     "cellMetadata": {},
     "inputWidgets": {},
     "nuid": "10e1ba18-bae4-41d4-89e1-a39a2484ed19",
     "showTitle": false,
     "tableResultSettingsMap": {},
     "title": ""
    },
    "id": "cH6a5JJL084Z"
   },
   "outputs": [],
   "source": [
    "retriever(question_gen.invoke({\"question\": question}))"
   ]
  },
  {
   "cell_type": "markdown",
   "metadata": {
    "application/vnd.databricks.v1+cell": {
     "cellMetadata": {},
     "inputWidgets": {},
     "nuid": "df1e6a1f-406b-459a-aad9-287ed1625bce",
     "showTitle": false,
     "tableResultSettingsMap": {},
     "title": ""
    },
    "id": "NGpA5BkT_fBU"
   },
   "source": [
    "## 6. Build the RAG chain"
   ]
  },
  {
   "cell_type": "code",
   "execution_count": 0,
   "metadata": {
    "application/vnd.databricks.v1+cell": {
     "cellMetadata": {},
     "inputWidgets": {},
     "nuid": "24861fc3-1642-40c1-9d12-0d0dbb83b2de",
     "showTitle": false,
     "tableResultSettingsMap": {},
     "title": ""
    },
    "id": "zazmbsZo0_pp"
   },
   "outputs": [],
   "source": [
    "response_prompt = hub.pull(\"langchain-ai/stepback-answer\")"
   ]
  },
  {
   "cell_type": "code",
   "execution_count": 0,
   "metadata": {
    "application/vnd.databricks.v1+cell": {
     "cellMetadata": {},
     "inputWidgets": {},
     "nuid": "9bb97469-6daa-4fc2-9b86-651af7bdf7b9",
     "showTitle": false,
     "tableResultSettingsMap": {},
     "title": ""
    },
    "id": "g_GSGUwS1bZ1"
   },
   "outputs": [],
   "source": [
    "chain = (\n",
    "    {\n",
    "        \"normal_context\": RunnableLambda(lambda x: x[\"question\"]) | retriever,\n",
    "        \"step_back_context\": question_gen | retriever,\n",
    "        \"question\": lambda x: x[\"question\"],\n",
    "    }\n",
    "    | response_prompt\n",
    "    | ChatOpenAI(temperature=0)\n",
    "    | StrOutputParser()\n",
    ")"
   ]
  },
  {
   "cell_type": "code",
   "execution_count": 0,
   "metadata": {
    "application/vnd.databricks.v1+cell": {
     "cellMetadata": {},
     "inputWidgets": {},
     "nuid": "acf2a1c7-d1f5-4ffa-9b8f-abf58680e6ca",
     "showTitle": false,
     "tableResultSettingsMap": {},
     "title": ""
    },
    "id": "lgUxhtSJ1PJ3"
   },
   "outputs": [],
   "source": [
    "chain.invoke({\"question\": question})"
   ]
  }
 ],
 "metadata": {
  "application/vnd.databricks.v1+notebook": {
   "computePreferences": null,
   "dashboards": [],
   "environmentMetadata": null,
   "language": "python",
   "notebookMetadata": {},
   "notebookName": "Step_Back_Prompting",
   "widgets": {}
  },
  "colab": {
   "provenance": []
  },
  "kernelspec": {
   "display_name": "Python 3",
   "name": "python3"
  },
  "language_info": {
   "name": "python"
  }
 },
 "nbformat": 4,
 "nbformat_minor": 0
}
