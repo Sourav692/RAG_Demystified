{
 "cells": [
  {
   "cell_type": "markdown",
   "id": "ba574cab",
   "metadata": {},
   "source": [
    "## Setup Environments"
   ]
  },
  {
   "cell_type": "code",
   "execution_count": 1,
   "id": "7e452aa5",
   "metadata": {},
   "outputs": [],
   "source": [
    "%run Setup.ipynb"
   ]
  },
  {
   "cell_type": "markdown",
   "id": "09fa600c",
   "metadata": {},
   "source": [
    "# Exploring Vector Database Operations in LangChain"
   ]
  },
  {
   "cell_type": "markdown",
   "id": "7890847e",
   "metadata": {},
   "source": [
    "## Install Chroma Vector DB and LangChain wrapper"
   ]
  },
  {
   "cell_type": "code",
   "execution_count": 7,
   "id": "fd4155e9",
   "metadata": {},
   "outputs": [
    {
     "name": "stdout",
     "output_type": "stream",
     "text": [
      "\u001b[31mERROR: pip's dependency resolver does not currently take into account all the packages that are installed. This behaviour is the source of the following dependency conflicts.\n",
      "grpcio-status 1.73.1 requires protobuf<7.0.0,>=6.30.0, but you have protobuf 5.29.5 which is incompatible.\u001b[0m\u001b[31m\n",
      "\u001b[0m"
     ]
    }
   ],
   "source": [
    "!pip install -qq langchain-chroma"
   ]
  },
  {
   "cell_type": "code",
   "execution_count": 2,
   "id": "b0830b48",
   "metadata": {},
   "outputs": [],
   "source": [
    "documents = ['Quantum mechanics describes the behavior of very small particles.',\n",
    " 'Photosynthesis is the process by which green plants make food using sunlight.',\n",
    " \"Shakespeare's plays are a testament to English literature.\",\n",
    " 'Artificial Intelligence aims to create machines that can think and learn.',\n",
    " 'The pyramids of Egypt are historical monuments that have stood for thousands of years.']"
   ]
  },
  {
   "cell_type": "markdown",
   "id": "a767cee8",
   "metadata": {},
   "source": [
    "### Open AI Embedding Models\n",
    "\n",
    "LangChain enables us to access Open AI embedding models which include the newest models: a smaller and highly efficient `text-embedding-3-small` model, and a larger and more powerful `text-embedding-3-large` model."
   ]
  },
  {
   "cell_type": "code",
   "execution_count": 3,
   "id": "e78c0cad",
   "metadata": {},
   "outputs": [],
   "source": [
    "from langchain_openai import OpenAIEmbeddings\n",
    "\n",
    "# details here: https://openai.com/blog/new-embedding-models-and-api-updates\n",
    "openai_embed_model = OpenAIEmbeddings(model='text-embedding-3-small')"
   ]
  },
  {
   "cell_type": "markdown",
   "id": "07bfa228",
   "metadata": {},
   "source": [
    "## Vector Databases\n",
    "\n",
    "One of the most common ways to store and search over unstructured data is to embed it and store the resulting embedding vectors, and then at query time to embed the unstructured query and retrieve the embedding vectors that are 'most similar' to the embedded query. A vector database takes care of storing embedded data and performing vector search for you.\n",
    "\n",
    "### Chroma Vector DB\n",
    "\n",
    "[Chroma](https://docs.trychroma.com/getting-started) is a AI-native open-source vector database focused on developer productivity and happiness. Chroma is licensed under Apache 2.0."
   ]
  },
  {
   "cell_type": "code",
   "execution_count": 5,
   "id": "31ebcaa6",
   "metadata": {},
   "outputs": [],
   "source": [
    "# delete vector db if exists\n",
    "!rm -rf ./chroma_db"
   ]
  },
  {
   "cell_type": "markdown",
   "id": "02511503",
   "metadata": {},
   "source": [
    "### Create a Vector DB and persist on disk\n",
    "\n",
    "Here we initialize a connection to a Chroma vector DB client, and also we want to save to disk, so we simply initialize the Chroma client and pass the directory where we want the data to be saved to."
   ]
  },
  {
   "cell_type": "code",
   "execution_count": 8,
   "id": "3d212ed8",
   "metadata": {},
   "outputs": [],
   "source": [
    "from langchain_chroma import Chroma\n",
    "\n",
    "# create empty vector DB\n",
    "chroma_db = Chroma(collection_name='search_docs',\n",
    "                   embedding_function=openai_embed_model,\n",
    "                   persist_directory=\"./chroma_db\")"
   ]
  },
  {
   "cell_type": "markdown",
   "id": "a6d6eece",
   "metadata": {},
   "source": [
    "We take some sample documents"
   ]
  },
  {
   "cell_type": "code",
   "execution_count": 9,
   "id": "15a440a2",
   "metadata": {},
   "outputs": [
    {
     "data": {
      "text/plain": [
       "['Quantum mechanics describes the behavior of very small particles.',\n",
       " 'Photosynthesis is the process by which green plants make food using sunlight.',\n",
       " \"Shakespeare's plays are a testament to English literature.\",\n",
       " 'Artificial Intelligence aims to create machines that can think and learn.',\n",
       " 'The pyramids of Egypt are historical monuments that have stood for thousands of years.']"
      ]
     },
     "execution_count": 9,
     "metadata": {},
     "output_type": "execute_result"
    }
   ],
   "source": [
    "documents"
   ]
  },
  {
   "cell_type": "markdown",
   "id": "b4da2fed",
   "metadata": {},
   "source": [
    "We create document IDs to uniquely identify each document"
   ]
  },
  {
   "cell_type": "code",
   "execution_count": 10,
   "id": "aed2ad1b",
   "metadata": {},
   "outputs": [
    {
     "data": {
      "text/plain": [
       "['doc_0', 'doc_1', 'doc_2', 'doc_3', 'doc_4']"
      ]
     },
     "execution_count": 10,
     "metadata": {},
     "output_type": "execute_result"
    }
   ],
   "source": [
    "ids = ['doc_'+str(i) for i in range(len(documents))]\n",
    "ids"
   ]
  },
  {
   "cell_type": "markdown",
   "id": "e2590cd7",
   "metadata": {},
   "source": [
    "Checking the Vector DB to see if its empty"
   ]
  },
  {
   "cell_type": "code",
   "execution_count": 11,
   "id": "710e3ebb",
   "metadata": {},
   "outputs": [
    {
     "data": {
      "text/plain": [
       "{'ids': [],\n",
       " 'embeddings': None,\n",
       " 'documents': [],\n",
       " 'uris': None,\n",
       " 'included': ['metadatas', 'documents'],\n",
       " 'data': None,\n",
       " 'metadatas': []}"
      ]
     },
     "execution_count": 11,
     "metadata": {},
     "output_type": "execute_result"
    }
   ],
   "source": [
    "chroma_db.get()"
   ]
  },
  {
   "cell_type": "markdown",
   "id": "b34b5d95",
   "metadata": {},
   "source": [
    "### Adding documents to Vector DB\n",
    "\n",
    "Here we take our texts, pass them through the Open AI embedder to get embeddings and add it to the Chroma Vector DB.\n",
    "\n",
    "If you have documents in the LangChain `Document` format then you can use `add_documents` instead"
   ]
  },
  {
   "cell_type": "code",
   "execution_count": 12,
   "id": "f240ab54",
   "metadata": {},
   "outputs": [
    {
     "data": {
      "text/plain": [
       "['doc_0', 'doc_1', 'doc_2', 'doc_3', 'doc_4']"
      ]
     },
     "execution_count": 12,
     "metadata": {},
     "output_type": "execute_result"
    }
   ],
   "source": [
    "chroma_db.add_texts(texts=documents, ids=ids)"
   ]
  },
  {
   "cell_type": "markdown",
   "id": "870fd79b",
   "metadata": {},
   "source": [
    "We check out Vector DB now to see these documents have been indexed successfully"
   ]
  },
  {
   "cell_type": "code",
   "execution_count": 13,
   "id": "ee1dad6b",
   "metadata": {},
   "outputs": [
    {
     "data": {
      "text/plain": [
       "{'ids': ['doc_0', 'doc_1', 'doc_2', 'doc_3', 'doc_4'],\n",
       " 'embeddings': None,\n",
       " 'documents': ['Quantum mechanics describes the behavior of very small particles.',\n",
       "  'Photosynthesis is the process by which green plants make food using sunlight.',\n",
       "  \"Shakespeare's plays are a testament to English literature.\",\n",
       "  'Artificial Intelligence aims to create machines that can think and learn.',\n",
       "  'The pyramids of Egypt are historical monuments that have stood for thousands of years.'],\n",
       " 'uris': None,\n",
       " 'included': ['metadatas', 'documents'],\n",
       " 'data': None,\n",
       " 'metadatas': [None, None, None, None, None]}"
      ]
     },
     "execution_count": 13,
     "metadata": {},
     "output_type": "execute_result"
    }
   ],
   "source": [
    "chroma_db.get()"
   ]
  },
  {
   "cell_type": "markdown",
   "id": "679ce504",
   "metadata": {},
   "source": [
    "Run some search queries in our Vector DB"
   ]
  },
  {
   "cell_type": "code",
   "execution_count": 14,
   "id": "4b7f1130",
   "metadata": {},
   "outputs": [
    {
     "data": {
      "text/plain": [
       "[(Document(id='doc_3', metadata={}, page_content='Artificial Intelligence aims to create machines that can think and learn.'),\n",
       "  0.8805678486824036)]"
      ]
     },
     "execution_count": 14,
     "metadata": {},
     "output_type": "execute_result"
    }
   ],
   "source": [
    "query = 'Tell me about AI'\n",
    "docs = chroma_db.similarity_search_with_score(query=query, k=1)\n",
    "docs"
   ]
  },
  {
   "cell_type": "code",
   "execution_count": 15,
   "id": "802f08d0",
   "metadata": {},
   "outputs": [
    {
     "data": {
      "text/plain": [
       "[(Document(id='doc_4', metadata={}, page_content='The pyramids of Egypt are historical monuments that have stood for thousands of years.'),\n",
       "  0.8856477737426758)]"
      ]
     },
     "execution_count": 15,
     "metadata": {},
     "output_type": "execute_result"
    }
   ],
   "source": [
    "query = 'Do you know about the pyramids?'\n",
    "docs = chroma_db.similarity_search_with_score(query=query, k=1)\n",
    "docs"
   ]
  },
  {
   "cell_type": "code",
   "execution_count": 16,
   "id": "af43f968",
   "metadata": {},
   "outputs": [
    {
     "data": {
      "text/plain": [
       "[(Document(id='doc_1', metadata={}, page_content='Photosynthesis is the process by which green plants make food using sunlight.'),\n",
       "  1.5097492933273315)]"
      ]
     },
     "execution_count": 16,
     "metadata": {},
     "output_type": "execute_result"
    }
   ],
   "source": [
    "query = 'What is Biology?'\n",
    "docs = chroma_db.similarity_search_with_score(query=query, k=1)\n",
    "docs"
   ]
  },
  {
   "cell_type": "markdown",
   "id": "5566028f",
   "metadata": {},
   "source": [
    "### Adding more documents to our Vector DB\n",
    "\n",
    "You can add new documents anytime to the vector DB as shown below"
   ]
  },
  {
   "cell_type": "code",
   "execution_count": 17,
   "id": "c6634b21",
   "metadata": {},
   "outputs": [],
   "source": [
    "new_documents = [ 'Biology is the study of living organisms and their interactions with the environment.',\n",
    " 'Music therapy can aid in the mental well-being of individuals.',\n",
    " 'The Milky Way is just one of billions of galaxies in the universe.',\n",
    " 'Economic theories help understand the distribution of resources in society.',\n",
    " 'Yoga is an ancient practice that involves physical postures and meditation.']"
   ]
  },
  {
   "cell_type": "code",
   "execution_count": 18,
   "id": "260da1d8",
   "metadata": {},
   "outputs": [
    {
     "data": {
      "text/plain": [
       "['doc_5', 'doc_6', 'doc_7', 'doc_8', 'doc_9']"
      ]
     },
     "execution_count": 18,
     "metadata": {},
     "output_type": "execute_result"
    }
   ],
   "source": [
    "new_ids = ['doc_'+str(i+len(ids)) for i in range(len(new_documents))]\n",
    "new_ids"
   ]
  },
  {
   "cell_type": "code",
   "execution_count": 19,
   "id": "b9a319f8",
   "metadata": {},
   "outputs": [
    {
     "data": {
      "text/plain": [
       "['doc_5', 'doc_6', 'doc_7', 'doc_8', 'doc_9']"
      ]
     },
     "execution_count": 19,
     "metadata": {},
     "output_type": "execute_result"
    }
   ],
   "source": [
    "chroma_db.add_texts(texts=new_documents, ids=new_ids)"
   ]
  },
  {
   "cell_type": "code",
   "execution_count": 20,
   "id": "4e80686b",
   "metadata": {},
   "outputs": [
    {
     "data": {
      "text/plain": [
       "{'ids': ['doc_0',\n",
       "  'doc_1',\n",
       "  'doc_2',\n",
       "  'doc_3',\n",
       "  'doc_4',\n",
       "  'doc_5',\n",
       "  'doc_6',\n",
       "  'doc_7',\n",
       "  'doc_8',\n",
       "  'doc_9'],\n",
       " 'embeddings': None,\n",
       " 'documents': ['Quantum mechanics describes the behavior of very small particles.',\n",
       "  'Photosynthesis is the process by which green plants make food using sunlight.',\n",
       "  \"Shakespeare's plays are a testament to English literature.\",\n",
       "  'Artificial Intelligence aims to create machines that can think and learn.',\n",
       "  'The pyramids of Egypt are historical monuments that have stood for thousands of years.',\n",
       "  'Biology is the study of living organisms and their interactions with the environment.',\n",
       "  'Music therapy can aid in the mental well-being of individuals.',\n",
       "  'The Milky Way is just one of billions of galaxies in the universe.',\n",
       "  'Economic theories help understand the distribution of resources in society.',\n",
       "  'Yoga is an ancient practice that involves physical postures and meditation.'],\n",
       " 'uris': None,\n",
       " 'included': ['metadatas', 'documents'],\n",
       " 'data': None,\n",
       " 'metadatas': [None, None, None, None, None, None, None, None, None, None]}"
      ]
     },
     "execution_count": 20,
     "metadata": {},
     "output_type": "execute_result"
    }
   ],
   "source": [
    "chroma_db.get()"
   ]
  },
  {
   "cell_type": "markdown",
   "id": "b29657ca",
   "metadata": {},
   "source": [
    "### Do a Similarity Search in the Vector Database After Adding New Documents\n",
    "\n",
    "Now that we've added more documents to our vector database, let's perform a similarity search again to see how the results may change with the expanded knowledge base.\n"
   ]
  },
  {
   "cell_type": "code",
   "execution_count": 22,
   "id": "08302dd5",
   "metadata": {},
   "outputs": [
    {
     "data": {
      "text/plain": [
       "[(Document(id='doc_5', metadata={}, page_content='Biology is the study of living organisms and their interactions with the environment.'),\n",
       "  0.6787383556365967)]"
      ]
     },
     "execution_count": 22,
     "metadata": {},
     "output_type": "execute_result"
    }
   ],
   "source": [
    "query = 'What is Biology?'\n",
    "docs = chroma_db.similarity_search_with_score(query=query, k=1)\n",
    "docs"
   ]
  },
  {
   "cell_type": "markdown",
   "id": "25a123d9",
   "metadata": {},
   "source": [
    "### Updating documents in the Vector DB\n",
    "\n",
    "While building toward a real application, you want to go beyond adding data, and also update and delete data.\n",
    "\n",
    "Chroma has users provide ids to simplify the bookkeeping here and update documents as shown below using the `update_documents`function"
   ]
  },
  {
   "cell_type": "code",
   "execution_count": 23,
   "id": "ae9837c4",
   "metadata": {},
   "outputs": [
    {
     "data": {
      "text/plain": [
       "{'ids': ['doc_3'],\n",
       " 'embeddings': None,\n",
       " 'documents': ['Artificial Intelligence aims to create machines that can think and learn.'],\n",
       " 'uris': None,\n",
       " 'included': ['metadatas', 'documents'],\n",
       " 'data': None,\n",
       " 'metadatas': [None]}"
      ]
     },
     "execution_count": 23,
     "metadata": {},
     "output_type": "execute_result"
    }
   ],
   "source": [
    "chroma_db.get(['doc_3'])"
   ]
  },
  {
   "cell_type": "code",
   "execution_count": 24,
   "id": "1780a1b0",
   "metadata": {},
   "outputs": [
    {
     "data": {
      "text/plain": [
       "[Document(metadata={'doc': 'doc_3'}, page_content='AI is known as Artificial Intelligence. Artificial Intelligence aims to create machines that can think and learn.')]"
      ]
     },
     "execution_count": 24,
     "metadata": {},
     "output_type": "execute_result"
    }
   ],
   "source": [
    "from langchain_core.documents import Document\n",
    "\n",
    "ids = ['doc_3']\n",
    "texts = ['AI is known as Artificial Intelligence. Artificial Intelligence aims to create machines that can think and learn.']\n",
    "documents = [Document(page_content=text, metadata={'doc': id})\n",
    "                for id, text in zip(ids,texts)]\n",
    "documents"
   ]
  },
  {
   "cell_type": "code",
   "execution_count": 25,
   "id": "398ab166",
   "metadata": {},
   "outputs": [],
   "source": [
    "chroma_db.update_documents(ids=ids,documents=documents)"
   ]
  },
  {
   "cell_type": "code",
   "execution_count": 26,
   "id": "5eb7330b",
   "metadata": {},
   "outputs": [
    {
     "data": {
      "text/plain": [
       "{'ids': ['doc_3'],\n",
       " 'embeddings': None,\n",
       " 'documents': ['AI is known as Artificial Intelligence. Artificial Intelligence aims to create machines that can think and learn.'],\n",
       " 'uris': None,\n",
       " 'included': ['metadatas', 'documents'],\n",
       " 'data': None,\n",
       " 'metadatas': [{'doc': 'doc_3'}]}"
      ]
     },
     "execution_count": 26,
     "metadata": {},
     "output_type": "execute_result"
    }
   ],
   "source": [
    "chroma_db.get(['doc_3'])"
   ]
  },
  {
   "cell_type": "code",
   "execution_count": 27,
   "id": "26256e90",
   "metadata": {},
   "outputs": [
    {
     "data": {
      "text/plain": [
       "[(Document(id='doc_3', metadata={'doc': 'doc_3'}, page_content='AI is known as Artificial Intelligence. Artificial Intelligence aims to create machines that can think and learn.'),\n",
       "  0.5633718967437744)]"
      ]
     },
     "execution_count": 27,
     "metadata": {},
     "output_type": "execute_result"
    }
   ],
   "source": [
    "query = 'What is AI?'\n",
    "docs = chroma_db.similarity_search_with_score(query=query, k=1)\n",
    "docs"
   ]
  },
  {
   "cell_type": "markdown",
   "id": "e58943d7",
   "metadata": {},
   "source": [
    "### Deleting documents in the Vector DB\n",
    "\n",
    "Chroma has users provide ids to simplify the bookkeeping here and delete documents as shown below using the `delete`function"
   ]
  },
  {
   "cell_type": "code",
   "execution_count": 28,
   "id": "60b91561",
   "metadata": {},
   "outputs": [],
   "source": [
    "chroma_db.delete(['doc_9'])"
   ]
  },
  {
   "cell_type": "code",
   "execution_count": 29,
   "id": "654f81ce",
   "metadata": {},
   "outputs": [
    {
     "data": {
      "text/plain": [
       "{'ids': ['doc_0',\n",
       "  'doc_1',\n",
       "  'doc_2',\n",
       "  'doc_3',\n",
       "  'doc_4',\n",
       "  'doc_5',\n",
       "  'doc_6',\n",
       "  'doc_7',\n",
       "  'doc_8'],\n",
       " 'embeddings': None,\n",
       " 'documents': ['Quantum mechanics describes the behavior of very small particles.',\n",
       "  'Photosynthesis is the process by which green plants make food using sunlight.',\n",
       "  \"Shakespeare's plays are a testament to English literature.\",\n",
       "  'AI is known as Artificial Intelligence. Artificial Intelligence aims to create machines that can think and learn.',\n",
       "  'The pyramids of Egypt are historical monuments that have stood for thousands of years.',\n",
       "  'Biology is the study of living organisms and their interactions with the environment.',\n",
       "  'Music therapy can aid in the mental well-being of individuals.',\n",
       "  'The Milky Way is just one of billions of galaxies in the universe.',\n",
       "  'Economic theories help understand the distribution of resources in society.'],\n",
       " 'uris': None,\n",
       " 'included': ['metadatas', 'documents'],\n",
       " 'data': None,\n",
       " 'metadatas': [None,\n",
       "  None,\n",
       "  None,\n",
       "  {'doc': 'doc_3'},\n",
       "  None,\n",
       "  None,\n",
       "  None,\n",
       "  None,\n",
       "  None]}"
      ]
     },
     "execution_count": 29,
     "metadata": {},
     "output_type": "execute_result"
    }
   ],
   "source": [
    "chroma_db.get()"
   ]
  },
  {
   "cell_type": "markdown",
   "id": "d4ae24ef",
   "metadata": {},
   "source": [
    "### Load Vector DB from disk\n",
    "\n",
    "Once you have saved your DB to disk, you can load it up anytime and connect to it and run queries as shown below"
   ]
  },
  {
   "cell_type": "code",
   "execution_count": 30,
   "id": "82141c28",
   "metadata": {},
   "outputs": [
    {
     "data": {
      "text/plain": [
       "[(Document(id='doc_3', metadata={'doc': 'doc_3'}, page_content='AI is known as Artificial Intelligence. Artificial Intelligence aims to create machines that can think and learn.'),\n",
       "  0.5634348392486572)]"
      ]
     },
     "execution_count": 30,
     "metadata": {},
     "output_type": "execute_result"
    }
   ],
   "source": [
    "# load from disk\n",
    "db = Chroma(persist_directory=\"./chroma_db\",\n",
    "            embedding_function=openai_embed_model,\n",
    "            collection_name='search_docs')\n",
    "\n",
    "query = 'What is AI?'\n",
    "docs = db.similarity_search_with_score(query=query, k=1)\n",
    "docs"
   ]
  },
  {
   "cell_type": "code",
   "execution_count": null,
   "id": "53090270",
   "metadata": {},
   "outputs": [],
   "source": []
  }
 ],
 "metadata": {
  "kernelspec": {
   "display_name": "venv",
   "language": "python",
   "name": "python3"
  },
  "language_info": {
   "codemirror_mode": {
    "name": "ipython",
    "version": 3
   },
   "file_extension": ".py",
   "mimetype": "text/x-python",
   "name": "python",
   "nbconvert_exporter": "python",
   "pygments_lexer": "ipython3",
   "version": "3.11.6"
  }
 },
 "nbformat": 4,
 "nbformat_minor": 5
}
