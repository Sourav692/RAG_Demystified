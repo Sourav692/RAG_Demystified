{
 "cells": [
  {
   "cell_type": "markdown",
   "id": "402d1729",
   "metadata": {},
   "source": [
    "## Setup Environments"
   ]
  },
  {
   "cell_type": "code",
   "execution_count": 1,
   "id": "600e1eae",
   "metadata": {},
   "outputs": [
    {
     "name": "stdout",
     "output_type": "stream",
     "text": [
      "\u001b[31mERROR: pip's dependency resolver does not currently take into account all the packages that are installed. This behaviour is the source of the following dependency conflicts.\n",
      "opentelemetry-proto 1.34.1 requires protobuf<6.0,>=5.0, but you have protobuf 6.31.1 which is incompatible.\u001b[0m\u001b[31m\n",
      "\u001b[0m"
     ]
    }
   ],
   "source": [
    "%run Setup.ipynb"
   ]
  },
  {
   "cell_type": "markdown",
   "id": "a1f7446c",
   "metadata": {},
   "source": [
    "# Explore Various Retrieval Strategies with Retrievers in LangChain"
   ]
  },
  {
   "cell_type": "markdown",
   "id": "0ea22c42",
   "metadata": {},
   "source": [
    "## Install Chroma Vector DB and LangChain wrapper"
   ]
  },
  {
   "cell_type": "code",
   "execution_count": 3,
   "id": "6a29a843",
   "metadata": {},
   "outputs": [],
   "source": [
    "!pip install -qq langchain-chroma"
   ]
  },
  {
   "cell_type": "markdown",
   "id": "b6aea0d7",
   "metadata": {},
   "source": [
    "### Open AI Embedding Models\n",
    "\n",
    "LangChain enables us to access Open AI embedding models which include the newest models: a smaller and highly efficient `text-embedding-3-small` model, and a larger and more powerful `text-embedding-3-large` model."
   ]
  },
  {
   "cell_type": "code",
   "execution_count": 4,
   "id": "bcb45cfb",
   "metadata": {},
   "outputs": [],
   "source": [
    "from langchain_openai import OpenAIEmbeddings\n",
    "\n",
    "# details here: https://openai.com/blog/new-embedding-models-and-api-updates\n",
    "openai_embed_model = OpenAIEmbeddings(model='text-embedding-3-small')"
   ]
  },
  {
   "cell_type": "markdown",
   "id": "9027a66f",
   "metadata": {},
   "source": [
    "## Vector Databases\n",
    "\n",
    "One of the most common ways to store and search over unstructured data is to embed it and store the resulting embedding vectors, and then at query time to embed the unstructured query and retrieve the embedding vectors that are 'most similar' to the embedded query. A vector database takes care of storing embedded data and performing vector search for you.\n",
    "\n",
    "### Chroma Vector DB\n",
    "\n",
    "[Chroma](https://docs.trychroma.com/getting-started) is a AI-native open-source vector database focused on developer productivity and happiness. Chroma is licensed under Apache 2.0."
   ]
  },
  {
   "cell_type": "markdown",
   "id": "3507de8d",
   "metadata": {},
   "source": [
    "### Create a Vector DB and persist on disk\n",
    "\n",
    "Here we initialize a connection to a Chroma vector DB client, and also we want to save to disk, so we simply initialize the Chroma client and pass the directory where we want the data to be saved to."
   ]
  },
  {
   "cell_type": "code",
   "execution_count": 5,
   "id": "075dedf3",
   "metadata": {},
   "outputs": [],
   "source": [
    "docs = [\n",
    " 'Quantum mechanics describes the behavior of very small particles.',\n",
    " 'Photosynthesis is the process by which green plants make food using sunlight.',\n",
    " 'Artificial Intelligence aims to create machines that can think and learn.',\n",
    " 'The pyramids of Egypt are historical monuments that have stood for thousands of years.',\n",
    " 'New Delhi is the capital of India and the seat of all three branches of the Government of India.',\n",
    " 'Biology is the study of living organisms and their interactions with the environment.',\n",
    " 'Music therapy can aid in the mental well-being of individuals.',\n",
    " 'Mumbai is the financial capital and the most populous city of India. It is the financial, commercial, and entertainment capital of South Asia.',\n",
    " 'The Milky Way is just one of billions of galaxies in the universe.',\n",
    " 'Economic theories help understand the distribution of resources in society.',\n",
    " 'Kolkata is the de facto cultural capital of India and a historically and culturally significant city. Calcutta served as the de facto capital of India until 1911.',\n",
    " 'Yoga is an ancient practice that involves physical postures and meditation.'\n",
    "]"
   ]
  },
  {
   "cell_type": "code",
   "execution_count": 6,
   "id": "c0435021",
   "metadata": {},
   "outputs": [],
   "source": [
    "from langchain_chroma import Chroma\n",
    "\n",
    "# create vector DB of docs and embeddings - takes 1 min on Colab\n",
    "chroma_db = Chroma.from_texts(texts=docs, collection_name='db_docs',\n",
    "                              # need to set the distance function to cosine else it uses euclidean by default\n",
    "                              # check https://docs.trychroma.com/guides#changing-the-distance-function\n",
    "                              collection_metadata={\"hnsw:space\": \"cosine\"},\n",
    "                              embedding=openai_embed_model)"
   ]
  },
  {
   "cell_type": "markdown",
   "id": "cb3413b3",
   "metadata": {},
   "source": [
    "## Vector Database Retrievers\n",
    "\n",
    "Here we will explore the following retrieval strategies on our Vector Database:\n",
    "\n",
    "- Similarity or Ranking based Retrieval\n",
    "- Similarity with Threshold Retrieval\n",
    "- Custom Retriever with Similarity Scores + Thresholding\n",
    "- Multi Query Retrieval\n",
    "- Contextual Compression Retrieval\n",
    "- Ensemble Retrieval"
   ]
  },
  {
   "cell_type": "markdown",
   "id": "6f0a129f",
   "metadata": {},
   "source": [
    "### Similarity or Ranking based Retrieval\n",
    "\n",
    "We use cosine similarity here and retrieve the top 3 similar documents based on the user input query"
   ]
  },
  {
   "cell_type": "code",
   "execution_count": 7,
   "id": "7bdde332",
   "metadata": {},
   "outputs": [],
   "source": [
    "similarity_retriever = chroma_db.as_retriever(search_type=\"similarity\",\n",
    "                                              search_kwargs={\"k\": 3})"
   ]
  },
  {
   "cell_type": "code",
   "execution_count": 8,
   "id": "92cf3be9",
   "metadata": {},
   "outputs": [
    {
     "data": {
      "text/plain": [
       "[Document(id='c879ee9f-21de-4cd2-9558-244f3f540477', metadata={}, page_content='New Delhi is the capital of India and the seat of all three branches of the Government of India.'),\n",
       " Document(id='9c9b429e-aa77-4b89-a6a4-0d7f248d2246', metadata={}, page_content='Mumbai is the financial capital and the most populous city of India. It is the financial, commercial, and entertainment capital of South Asia.'),\n",
       " Document(id='20911a90-11cd-4d79-bc2c-ce7f6d5a6e5c', metadata={}, page_content='Kolkata is the de facto cultural capital of India and a historically and culturally significant city. Calcutta served as the de facto capital of India until 1911.')]"
      ]
     },
     "execution_count": 8,
     "metadata": {},
     "output_type": "execute_result"
    }
   ],
   "source": [
    "query = \"what is the capital of India?\"\n",
    "top3_docs = similarity_retriever.invoke(query)\n",
    "top3_docs"
   ]
  },
  {
   "cell_type": "code",
   "execution_count": 13,
   "id": "b29e48fa",
   "metadata": {},
   "outputs": [
    {
     "data": {
      "text/plain": [
       "[Document(id='20911a90-11cd-4d79-bc2c-ce7f6d5a6e5c', metadata={}, page_content='Kolkata is the de facto cultural capital of India and a historically and culturally significant city. Calcutta served as the de facto capital of India until 1911.'),\n",
       " Document(id='c879ee9f-21de-4cd2-9558-244f3f540477', metadata={}, page_content='New Delhi is the capital of India and the seat of all three branches of the Government of India.'),\n",
       " Document(id='9c9b429e-aa77-4b89-a6a4-0d7f248d2246', metadata={}, page_content='Mumbai is the financial capital and the most populous city of India. It is the financial, commercial, and entertainment capital of South Asia.')]"
      ]
     },
     "execution_count": 13,
     "metadata": {},
     "output_type": "execute_result"
    }
   ],
   "source": [
    "query = \"what is the old capital of India?\"\n",
    "top3_docs = similarity_retriever.invoke(query)\n",
    "top3_docs"
   ]
  },
  {
   "cell_type": "code",
   "execution_count": 9,
   "id": "600560e6",
   "metadata": {},
   "outputs": [
    {
     "data": {
      "text/plain": [
       "[Document(id='6448ae8e-2ccb-4db4-bfdc-07fa4b7421f1', metadata={}, page_content='Photosynthesis is the process by which green plants make food using sunlight.'),\n",
       " Document(id='fc769c1d-ca93-40ce-9337-bd6982927900', metadata={}, page_content='Biology is the study of living organisms and their interactions with the environment.'),\n",
       " Document(id='39c67680-098e-4dd5-9bab-303399362d9e', metadata={}, page_content='Artificial Intelligence aims to create machines that can think and learn.')]"
      ]
     },
     "execution_count": 9,
     "metadata": {},
     "output_type": "execute_result"
    }
   ],
   "source": [
    "query = \"how do plants make food?\"\n",
    "top3_docs = similarity_retriever.invoke(query)\n",
    "top3_docs"
   ]
  },
  {
   "cell_type": "markdown",
   "id": "f561d892",
   "metadata": {},
   "source": [
    "We use `maximum marginal relevance(mmr)` ranking here and retrieve the top 3 similar documents based on the user input query"
   ]
  },
  {
   "cell_type": "code",
   "execution_count": 10,
   "id": "fa6d4ddd",
   "metadata": {},
   "outputs": [],
   "source": [
    "mmr_retriever = chroma_db.as_retriever(search_type=\"mmr\",\n",
    "                                       search_kwargs={\"k\": 3,\n",
    "                                                      'fetch_k': 10})"
   ]
  },
  {
   "cell_type": "code",
   "execution_count": 11,
   "id": "ff7c97da",
   "metadata": {},
   "outputs": [
    {
     "data": {
      "text/plain": [
       "[Document(id='c879ee9f-21de-4cd2-9558-244f3f540477', metadata={}, page_content='New Delhi is the capital of India and the seat of all three branches of the Government of India.'),\n",
       " Document(id='9c9b429e-aa77-4b89-a6a4-0d7f248d2246', metadata={}, page_content='Mumbai is the financial capital and the most populous city of India. It is the financial, commercial, and entertainment capital of South Asia.'),\n",
       " Document(id='20911a90-11cd-4d79-bc2c-ce7f6d5a6e5c', metadata={}, page_content='Kolkata is the de facto cultural capital of India and a historically and culturally significant city. Calcutta served as the de facto capital of India until 1911.')]"
      ]
     },
     "execution_count": 11,
     "metadata": {},
     "output_type": "execute_result"
    }
   ],
   "source": [
    "query = \"what is the capital of India?\"\n",
    "top3_docs = mmr_retriever.invoke(query)\n",
    "top3_docs"
   ]
  },
  {
   "cell_type": "code",
   "execution_count": 12,
   "id": "87a358cb",
   "metadata": {},
   "outputs": [
    {
     "data": {
      "text/plain": [
       "[Document(id='20911a90-11cd-4d79-bc2c-ce7f6d5a6e5c', metadata={}, page_content='Kolkata is the de facto cultural capital of India and a historically and culturally significant city. Calcutta served as the de facto capital of India until 1911.'),\n",
       " Document(id='c879ee9f-21de-4cd2-9558-244f3f540477', metadata={}, page_content='New Delhi is the capital of India and the seat of all three branches of the Government of India.'),\n",
       " Document(id='e700fd0b-6737-450e-a85a-a06eccfe8bc4', metadata={}, page_content='Yoga is an ancient practice that involves physical postures and meditation.')]"
      ]
     },
     "execution_count": 12,
     "metadata": {},
     "output_type": "execute_result"
    }
   ],
   "source": [
    "query = \"what is the old capital of India?\"\n",
    "top3_docs = mmr_retriever.invoke(query)\n",
    "top3_docs"
   ]
  },
  {
   "cell_type": "code",
   "execution_count": 15,
   "id": "a7b5f919",
   "metadata": {},
   "outputs": [
    {
     "data": {
      "text/plain": [
       "[Document(id='6448ae8e-2ccb-4db4-bfdc-07fa4b7421f1', metadata={}, page_content='Photosynthesis is the process by which green plants make food using sunlight.'),\n",
       " Document(id='39c67680-098e-4dd5-9bab-303399362d9e', metadata={}, page_content='Artificial Intelligence aims to create machines that can think and learn.'),\n",
       " Document(id='6cf28dc7-fb2e-472c-980c-fc119e08052a', metadata={}, page_content='Economic theories help understand the distribution of resources in society.')]"
      ]
     },
     "execution_count": 15,
     "metadata": {},
     "output_type": "execute_result"
    }
   ],
   "source": [
    "query = \"how do plants make food?\"\n",
    "top3_docs = mmr_retriever.invoke(query)\n",
    "top3_docs"
   ]
  },
  {
   "cell_type": "markdown",
   "id": "59403158",
   "metadata": {},
   "source": [
    "### Similarity with Threshold Retrieval\n",
    "\n",
    "We use cosine similarity here and retrieve the top 3 similar documents based on the user input query and also introduce a cutoff to not return any documents which are below a certain similarity threshold"
   ]
  },
  {
   "cell_type": "code",
   "execution_count": 16,
   "id": "38506844",
   "metadata": {},
   "outputs": [],
   "source": [
    "similarity_threshold_retriever = chroma_db.as_retriever(search_type=\"similarity_score_threshold\",\n",
    "                                                        search_kwargs={\"k\": 3,\n",
    "                                                                       \"score_threshold\": 0.3})"
   ]
  },
  {
   "cell_type": "code",
   "execution_count": 17,
   "id": "88e31b9c",
   "metadata": {},
   "outputs": [
    {
     "data": {
      "text/plain": [
       "[Document(id='c879ee9f-21de-4cd2-9558-244f3f540477', metadata={}, page_content='New Delhi is the capital of India and the seat of all three branches of the Government of India.'),\n",
       " Document(id='9c9b429e-aa77-4b89-a6a4-0d7f248d2246', metadata={}, page_content='Mumbai is the financial capital and the most populous city of India. It is the financial, commercial, and entertainment capital of South Asia.'),\n",
       " Document(id='20911a90-11cd-4d79-bc2c-ce7f6d5a6e5c', metadata={}, page_content='Kolkata is the de facto cultural capital of India and a historically and culturally significant city. Calcutta served as the de facto capital of India until 1911.')]"
      ]
     },
     "execution_count": 17,
     "metadata": {},
     "output_type": "execute_result"
    }
   ],
   "source": [
    "query = \"what is the capital of India?\"\n",
    "top3_docs = similarity_threshold_retriever.invoke(query)\n",
    "top3_docs"
   ]
  },
  {
   "cell_type": "code",
   "execution_count": 18,
   "id": "732e3d85",
   "metadata": {},
   "outputs": [
    {
     "data": {
      "text/plain": [
       "[Document(id='20911a90-11cd-4d79-bc2c-ce7f6d5a6e5c', metadata={}, page_content='Kolkata is the de facto cultural capital of India and a historically and culturally significant city. Calcutta served as the de facto capital of India until 1911.'),\n",
       " Document(id='c879ee9f-21de-4cd2-9558-244f3f540477', metadata={}, page_content='New Delhi is the capital of India and the seat of all three branches of the Government of India.'),\n",
       " Document(id='9c9b429e-aa77-4b89-a6a4-0d7f248d2246', metadata={}, page_content='Mumbai is the financial capital and the most populous city of India. It is the financial, commercial, and entertainment capital of South Asia.')]"
      ]
     },
     "execution_count": 18,
     "metadata": {},
     "output_type": "execute_result"
    }
   ],
   "source": [
    "query = \"what is the old capital of India?\"\n",
    "top3_docs = similarity_threshold_retriever.invoke(query)\n",
    "top3_docs"
   ]
  },
  {
   "cell_type": "code",
   "execution_count": 19,
   "id": "0974b293",
   "metadata": {},
   "outputs": [
    {
     "data": {
      "text/plain": [
       "[Document(id='6448ae8e-2ccb-4db4-bfdc-07fa4b7421f1', metadata={}, page_content='Photosynthesis is the process by which green plants make food using sunlight.')]"
      ]
     },
     "execution_count": 19,
     "metadata": {},
     "output_type": "execute_result"
    }
   ],
   "source": [
    "query = \"how do plants make food?\"\n",
    "top3_docs = similarity_threshold_retriever.invoke(query)\n",
    "top3_docs"
   ]
  },
  {
   "cell_type": "markdown",
   "id": "28352961",
   "metadata": {},
   "source": [
    "### Custom Retriever with Similarity Scores + Thresholding\n",
    "\n",
    "Here we will create a custom retriever which will:\n",
    "\n",
    "- Retrieve documents with cosine distance\n",
    "- Convert to similarity score and apply thresholding\n",
    "- Return topk documents above a similarity threshold"
   ]
  },
  {
   "cell_type": "code",
   "execution_count": 20,
   "id": "19512f24",
   "metadata": {},
   "outputs": [
    {
     "data": {
      "text/plain": [
       "[(Document(id='6448ae8e-2ccb-4db4-bfdc-07fa4b7421f1', metadata={}, page_content='Photosynthesis is the process by which green plants make food using sunlight.'),\n",
       "  0.3538200259208679),\n",
       " (Document(id='fc769c1d-ca93-40ce-9337-bd6982927900', metadata={}, page_content='Biology is the study of living organisms and their interactions with the environment.'),\n",
       "  0.831728458404541),\n",
       " (Document(id='39c67680-098e-4dd5-9bab-303399362d9e', metadata={}, page_content='Artificial Intelligence aims to create machines that can think and learn.'),\n",
       "  0.8765019178390503)]"
      ]
     },
     "execution_count": 20,
     "metadata": {},
     "output_type": "execute_result"
    }
   ],
   "source": [
    "query = 'how do plants make food?'\n",
    "chroma_db.similarity_search_with_score(query, k=3)"
   ]
  },
  {
   "cell_type": "code",
   "execution_count": 23,
   "id": "d6e052e0",
   "metadata": {},
   "outputs": [
    {
     "data": {
      "text/plain": [
       "0.64625"
      ]
     },
     "execution_count": 23,
     "metadata": {},
     "output_type": "execute_result"
    }
   ],
   "source": [
    "# converts cosine distance to similarity; cosine_similarity = 1 - cosine_distance\n",
    "cosine_sim = chroma_db._select_relevance_score_fn()\n",
    "cosine_sim(0.35375)"
   ]
  },
  {
   "cell_type": "code",
   "execution_count": null,
   "id": "e28abfaa",
   "metadata": {},
   "outputs": [],
   "source": [
    "from typing import List\n",
    "from langchain_core.documents import Document\n",
    "from langchain_core.runnables import chain\n",
    "\n",
    "@chain\n",
    "def custom_retriever(query: str, topk=3, threshold_score=0.3) -> List[Document]:\n",
    "    \"\"\"\n",
    "    Custom retriever that:\n",
    "    - Retrieves top-k documents from the vector database using cosine distance.\n",
    "    - Converts cosine distance to similarity score.\n",
    "    - Filters and returns documents with similarity above a given threshold.\n",
    "    - Adds the similarity score to each document's metadata.\n",
    "    \"\"\"\n",
    "    # Get the function to convert cosine distance to similarity score\n",
    "    cosine_sim = chroma_db._select_relevance_score_fn()\n",
    "    # Retrieve top-k documents and their cosine distances\n",
    "    docs, scores = zip(*chroma_db.similarity_search_with_score(query, k=topk))\n",
    "    final_docs = []\n",
    "    for doc, score in zip(docs, scores):\n",
    "        # Convert cosine distance to similarity score\n",
    "        score = cosine_sim(score)\n",
    "        # Store the rounded similarity score in the document's metadata\n",
    "        doc.metadata[\"score\"] = round(score, 3)\n",
    "        # Only include documents with similarity above the threshold\n",
    "        if score > threshold_score:\n",
    "            final_docs.append(doc)\n",
    "\n",
    "    # Return the filtered list of documents\n",
    "    return final_docs"
   ]
  },
  {
   "cell_type": "code",
   "execution_count": 26,
   "id": "dfc1d1c5",
   "metadata": {},
   "outputs": [
    {
     "data": {
      "text/plain": [
       "[Document(id='9c9b429e-aa77-4b89-a6a4-0d7f248d2246', metadata={'score': 0.69}, page_content='Mumbai is the financial capital and the most populous city of India. It is the financial, commercial, and entertainment capital of South Asia.'),\n",
       " Document(id='c879ee9f-21de-4cd2-9558-244f3f540477', metadata={'score': 0.54}, page_content='New Delhi is the capital of India and the seat of all three branches of the Government of India.')]"
      ]
     },
     "execution_count": 26,
     "metadata": {},
     "output_type": "execute_result"
    }
   ],
   "source": [
    "query = \"what is the financial capital of India?\"\n",
    "top3_docs = custom_retriever.invoke(query, topk=3, threshold_score=0.51)\n",
    "top3_docs"
   ]
  },
  {
   "cell_type": "code",
   "execution_count": 27,
   "id": "0ed3e78a",
   "metadata": {},
   "outputs": [
    {
     "data": {
      "text/plain": [
       "[Document(id='6448ae8e-2ccb-4db4-bfdc-07fa4b7421f1', metadata={'score': 0.646}, page_content='Photosynthesis is the process by which green plants make food using sunlight.')]"
      ]
     },
     "execution_count": 27,
     "metadata": {},
     "output_type": "execute_result"
    }
   ],
   "source": [
    "query = 'how do plants make food?'\n",
    "top3_docs = custom_retriever.invoke(query, topk=3, threshold_score=0.5)\n",
    "top3_docs"
   ]
  },
  {
   "cell_type": "markdown",
   "id": "263f290d",
   "metadata": {},
   "source": [
    "### Multi Query Retrieval\n",
    "\n",
    "Retrieval may produce different results with subtle changes in query wording, or if the embeddings do not capture the semantics of the data well. Prompt engineering / tuning is sometimes done to manually address these problems, but can be tedious.\n",
    "\n",
    "The [`MultiQueryRetriever`](https://api.python.langchain.com/en/latest/retrievers/langchain.retrievers.multi_query.MultiQueryRetriever.html) automates the process of prompt tuning by using an LLM to generate multiple queries from different perspectives for a given user input query. For each query, it retrieves a set of relevant documents and takes the unique union across all queries to get a larger set of potentially relevant documents."
   ]
  },
  {
   "cell_type": "code",
   "execution_count": 28,
   "id": "81a94814",
   "metadata": {},
   "outputs": [],
   "source": [
    "from langchain_openai import ChatOpenAI\n",
    "\n",
    "chatgpt = ChatOpenAI(model_name=\"gpt-4o-mini\", temperature=0)"
   ]
  },
  {
   "cell_type": "markdown",
   "id": "05cb25dc",
   "metadata": {},
   "source": [
    "\n",
    "The following code demonstrates how to use the `MultiQueryRetriever` from LangChain. This retriever leverages a large language model (LLM) to generate multiple alternative queries for a user's input, retrieves relevant documents for each generated query, and then combines the results. This approach helps improve retrieval robustness and recall, especially when a single query might miss relevant information due to wording or embedding limitations.\n",
    "\n"
   ]
  },
  {
   "cell_type": "code",
   "execution_count": 30,
   "id": "9d187e96",
   "metadata": {},
   "outputs": [],
   "source": [
    "from langchain.retrievers.multi_query import MultiQueryRetriever\n",
    "# Set logging for the queries\n",
    "import logging\n",
    "\n",
    "similarity_retriever = chroma_db.as_retriever(search_type=\"similarity\",\n",
    "                                              search_kwargs={\"k\": 3})\n",
    "\n",
    "mq_retriever = MultiQueryRetriever.from_llm(\n",
    "    retriever=similarity_retriever, llm=chatgpt\n",
    ")\n",
    "\n",
    "logging.basicConfig()\n",
    "# so we can see what queries are generated by the LLM\n",
    "logging.getLogger(\"langchain.retrievers.multi_query\").setLevel(logging.INFO)"
   ]
  },
  {
   "cell_type": "code",
   "execution_count": 31,
   "id": "a498244a",
   "metadata": {},
   "outputs": [
    {
     "name": "stderr",
     "output_type": "stream",
     "text": [
      "INFO:langchain.retrievers.multi_query:Generated queries: ['What is the capital city of India in terms of its financial significance?  ', 'Which city in India serves as the financial hub of the country?  ', 'Can you tell me about the financial capital of India?']\n"
     ]
    },
    {
     "data": {
      "text/plain": [
       "[Document(id='9c9b429e-aa77-4b89-a6a4-0d7f248d2246', metadata={}, page_content='Mumbai is the financial capital and the most populous city of India. It is the financial, commercial, and entertainment capital of South Asia.'),\n",
       " Document(id='c879ee9f-21de-4cd2-9558-244f3f540477', metadata={}, page_content='New Delhi is the capital of India and the seat of all three branches of the Government of India.'),\n",
       " Document(id='20911a90-11cd-4d79-bc2c-ce7f6d5a6e5c', metadata={}, page_content='Kolkata is the de facto cultural capital of India and a historically and culturally significant city. Calcutta served as the de facto capital of India until 1911.')]"
      ]
     },
     "execution_count": 31,
     "metadata": {},
     "output_type": "execute_result"
    }
   ],
   "source": [
    "query = \"financial capital of India?\"\n",
    "docs = mq_retriever.invoke(query)\n",
    "docs"
   ]
  },
  {
   "cell_type": "code",
   "execution_count": 32,
   "id": "140c68fe",
   "metadata": {},
   "outputs": [
    {
     "name": "stderr",
     "output_type": "stream",
     "text": [
      "INFO:langchain.retrievers.multi_query:Generated queries: ['What was the former capital of India?  ', \"Which city served as India's capital before the current one?  \", 'Can you tell me the historical capital of India?']\n"
     ]
    },
    {
     "data": {
      "text/plain": [
       "[Document(id='20911a90-11cd-4d79-bc2c-ce7f6d5a6e5c', metadata={}, page_content='Kolkata is the de facto cultural capital of India and a historically and culturally significant city. Calcutta served as the de facto capital of India until 1911.'),\n",
       " Document(id='c879ee9f-21de-4cd2-9558-244f3f540477', metadata={}, page_content='New Delhi is the capital of India and the seat of all three branches of the Government of India.'),\n",
       " Document(id='9c9b429e-aa77-4b89-a6a4-0d7f248d2246', metadata={}, page_content='Mumbai is the financial capital and the most populous city of India. It is the financial, commercial, and entertainment capital of South Asia.')]"
      ]
     },
     "execution_count": 32,
     "metadata": {},
     "output_type": "execute_result"
    }
   ],
   "source": [
    "query = \"old capital of India?\"\n",
    "docs = mq_retriever.invoke(query)\n",
    "docs"
   ]
  },
  {
   "cell_type": "markdown",
   "id": "9aba327c",
   "metadata": {},
   "source": [
    "### Contextual Compression Retrieval\n",
    "\n",
    "The information most relevant to a query may be buried in a document with a lot of irrelevant text. Passing that full document through your application can lead to more expensive LLM calls and poorer responses.\n",
    "\n",
    "Contextual compression is meant to fix this. The idea is simple: instead of immediately returning retrieved documents as-is, you can compress them using the context of the given query, so that only the relevant information is returned.\n",
    "\n",
    "This compression can happen in the form of:\n",
    "\n",
    "- Remove parts of the content of retrieved documents which are not relevant to the query. This is done by extracting only relevant parts of the document to the given query\n",
    "\n",
    "- Filter out documents which are not relevant to the given query but do not remove content from the document"
   ]
  },
  {
   "cell_type": "markdown",
   "id": "3103604a",
   "metadata": {},
   "source": [
    "Here we wrap our base cosine distance retriever with a `ContextualCompressionRetriever`. Then we'll add an `LLMChainExtractor`, which will iterate over the initially returned documents and extract from each only the content that is relevant to the query."
   ]
  },
  {
   "cell_type": "code",
   "execution_count": 33,
   "id": "7e4f5961",
   "metadata": {},
   "outputs": [],
   "source": [
    "from langchain.retrievers import ContextualCompressionRetriever\n",
    "from langchain.retrievers.document_compressors import LLMChainExtractor\n",
    "\n",
    "# simple cosine distance based retriever\n",
    "similarity_retriever = chroma_db.as_retriever(search_type=\"similarity\",\n",
    "                                              search_kwargs={\"k\": 3})\n",
    "\n",
    "# extracts from each document only the content that is relevant to the query\n",
    "compressor = LLMChainExtractor.from_llm(llm=chatgpt)\n",
    "\n",
    "# retrieves the documents similar to query and then applies the compressor\n",
    "compression_retriever = ContextualCompressionRetriever(\n",
    "    base_compressor=compressor, base_retriever=similarity_retriever\n",
    ")"
   ]
  },
  {
   "cell_type": "code",
   "execution_count": 34,
   "id": "596f21a2",
   "metadata": {},
   "outputs": [
    {
     "data": {
      "text/plain": [
       "[Document(metadata={}, page_content='Mumbai is the financial capital and the most populous city of India.')]"
      ]
     },
     "execution_count": 34,
     "metadata": {},
     "output_type": "execute_result"
    }
   ],
   "source": [
    "query = \"what is the financial capital of India?\"\n",
    "docs = compression_retriever.invoke(query)\n",
    "docs"
   ]
  },
  {
   "cell_type": "code",
   "execution_count": 35,
   "id": "c8d33b37",
   "metadata": {},
   "outputs": [],
   "source": [
    "\n",
    "# The output shows the result of using a ContextualCompressionRetriever with an LLMChainExtractor.\n",
    "# Instead of returning the full retrieved documents, the retriever uses the LLM to extract only the parts of each document that are relevant to the query.\n",
    "# In this case, the query is \"what is the financial capital of India?\", so the output is a list of Document objects,\n",
    "# each containing only the text that the LLM determined to be relevant to the query.\n",
    "# For example, the document about Mumbai is returned with only the content that answers the question,\n",
    "# making the retrieval more focused and concise compared to returning the entire document.\n"
   ]
  },
  {
   "cell_type": "code",
   "execution_count": 36,
   "id": "548fd107",
   "metadata": {},
   "outputs": [
    {
     "data": {
      "text/plain": [
       "[Document(metadata={}, page_content='Calcutta served as the de facto capital of India until 1911.')]"
      ]
     },
     "execution_count": 36,
     "metadata": {},
     "output_type": "execute_result"
    }
   ],
   "source": [
    "query = \"what is the old capital of India?\"\n",
    "docs = compression_retriever.invoke(query)\n",
    "docs"
   ]
  },
  {
   "cell_type": "markdown",
   "id": "8c3f7488",
   "metadata": {},
   "source": [
    "The `LLMChainFilter` is slightly simpler but more robust compressor that uses an LLM chain to decide which of the initially retrieved documents to filter out and which ones to return, without manipulating the document contents."
   ]
  },
  {
   "cell_type": "code",
   "execution_count": 37,
   "id": "e3de8e81",
   "metadata": {},
   "outputs": [],
   "source": [
    "from langchain.retrievers.document_compressors import LLMChainFilter\n",
    "\n",
    "#  decides which of the initially retrieved documents to filter out and which ones to return\n",
    "_filter = LLMChainFilter.from_llm(llm=chatgpt)\n",
    "\n",
    "# retrieves the documents similar to query and then applies the filter\n",
    "compression_retriever = ContextualCompressionRetriever(\n",
    "    base_compressor=_filter, base_retriever=similarity_retriever\n",
    ")"
   ]
  },
  {
   "cell_type": "code",
   "execution_count": 38,
   "id": "7c1e9d28",
   "metadata": {},
   "outputs": [
    {
     "data": {
      "text/plain": [
       "[Document(id='9c9b429e-aa77-4b89-a6a4-0d7f248d2246', metadata={}, page_content='Mumbai is the financial capital and the most populous city of India. It is the financial, commercial, and entertainment capital of South Asia.')]"
      ]
     },
     "execution_count": 38,
     "metadata": {},
     "output_type": "execute_result"
    }
   ],
   "source": [
    "query = \"what is the financial capital of India?\"\n",
    "docs = compression_retriever.invoke(query)\n",
    "docs"
   ]
  },
  {
   "cell_type": "code",
   "execution_count": 39,
   "id": "681567ef",
   "metadata": {},
   "outputs": [
    {
     "data": {
      "text/plain": [
       "[Document(id='20911a90-11cd-4d79-bc2c-ce7f6d5a6e5c', metadata={}, page_content='Kolkata is the de facto cultural capital of India and a historically and culturally significant city. Calcutta served as the de facto capital of India until 1911.')]"
      ]
     },
     "execution_count": 39,
     "metadata": {},
     "output_type": "execute_result"
    }
   ],
   "source": [
    "query = \"what is the old capital of India?\"\n",
    "docs = compression_retriever.invoke(query)\n",
    "docs"
   ]
  },
  {
   "cell_type": "code",
   "execution_count": 40,
   "id": "734c251c",
   "metadata": {},
   "outputs": [
    {
     "data": {
      "text/plain": [
       "[Document(id='6448ae8e-2ccb-4db4-bfdc-07fa4b7421f1', metadata={}, page_content='Photosynthesis is the process by which green plants make food using sunlight.')]"
      ]
     },
     "execution_count": 40,
     "metadata": {},
     "output_type": "execute_result"
    }
   ],
   "source": [
    "query = \"how do plants live?\"\n",
    "docs = compression_retriever.invoke(query)\n",
    "docs"
   ]
  },
  {
   "cell_type": "markdown",
   "id": "3612b45d",
   "metadata": {},
   "source": [
    "### Ensemble Retrieval\n",
    "\n",
    "The `EnsembleRetriever` takes a list of retrievers as input and ensemble the results of each of their retrievals and rerank the results based on the [Reciprocal Rank Fusion](https://plg.uwaterloo.ca/~gvcormac/cormacksigir09-rrf.pdf) algorithm."
   ]
  },
  {
   "cell_type": "code",
   "execution_count": 41,
   "id": "52bbc118",
   "metadata": {},
   "outputs": [],
   "source": [
    "from langchain.retrievers import EnsembleRetriever\n",
    "\n",
    "# simple cosine distance based retriever\n",
    "similarity_retriever = chroma_db.as_retriever(search_type=\"similarity\",\n",
    "                                              search_kwargs={\"k\": 3})\n",
    "\n",
    "# retrieves the documents similar to query and then applies the filter\n",
    "compression_retriever = ContextualCompressionRetriever(\n",
    "    base_compressor=_filter, base_retriever=similarity_retriever\n",
    ")\n",
    "\n",
    "\n",
    "ensemble_retriever = EnsembleRetriever(\n",
    "    retrievers=[compression_retriever, similarity_retriever],\n",
    "    weights=[0.7, 0.3]\n",
    ")"
   ]
  },
  {
   "cell_type": "code",
   "execution_count": 42,
   "id": "7cb3d0cd",
   "metadata": {},
   "outputs": [
    {
     "data": {
      "text/plain": [
       "[Document(id='9c9b429e-aa77-4b89-a6a4-0d7f248d2246', metadata={}, page_content='Mumbai is the financial capital and the most populous city of India. It is the financial, commercial, and entertainment capital of South Asia.'),\n",
       " Document(id='c879ee9f-21de-4cd2-9558-244f3f540477', metadata={}, page_content='New Delhi is the capital of India and the seat of all three branches of the Government of India.'),\n",
       " Document(id='20911a90-11cd-4d79-bc2c-ce7f6d5a6e5c', metadata={}, page_content='Kolkata is the de facto cultural capital of India and a historically and culturally significant city. Calcutta served as the de facto capital of India until 1911.')]"
      ]
     },
     "execution_count": 42,
     "metadata": {},
     "output_type": "execute_result"
    }
   ],
   "source": [
    "query = \"what is the financial capital of India?\"\n",
    "docs = ensemble_retriever.invoke(query)\n",
    "docs"
   ]
  },
  {
   "cell_type": "code",
   "execution_count": 43,
   "id": "c27ddd9a",
   "metadata": {},
   "outputs": [
    {
     "data": {
      "text/plain": [
       "[Document(id='6448ae8e-2ccb-4db4-bfdc-07fa4b7421f1', metadata={}, page_content='Photosynthesis is the process by which green plants make food using sunlight.'),\n",
       " Document(id='fc769c1d-ca93-40ce-9337-bd6982927900', metadata={}, page_content='Biology is the study of living organisms and their interactions with the environment.'),\n",
       " Document(id='9c10a4e8-f044-411a-b16b-65e0ca135b9a', metadata={}, page_content='Music therapy can aid in the mental well-being of individuals.')]"
      ]
     },
     "execution_count": 43,
     "metadata": {},
     "output_type": "execute_result"
    }
   ],
   "source": [
    "query = \"how do plants live?\"\n",
    "docs = ensemble_retriever.invoke(query)\n",
    "docs"
   ]
  },
  {
   "cell_type": "markdown",
   "id": "fcbf5a5c",
   "metadata": {},
   "source": [
    "We will cover more retrieval strategies in the Advanced Course on RAG and LangChain in the future including:\n",
    "\n",
    "- Self Query Retrieval\n",
    "- Hybrid Search Retrieval\n",
    "- Parent Document Retrieval\n",
    "- Reranker Retrieval\n",
    "\n",
    "and more..."
   ]
  },
  {
   "cell_type": "code",
   "execution_count": null,
   "id": "a3857031",
   "metadata": {},
   "outputs": [],
   "source": []
  }
 ],
 "metadata": {
  "kernelspec": {
   "display_name": "venv",
   "language": "python",
   "name": "python3"
  },
  "language_info": {
   "codemirror_mode": {
    "name": "ipython",
    "version": 3
   },
   "file_extension": ".py",
   "mimetype": "text/x-python",
   "name": "python",
   "nbconvert_exporter": "python",
   "pygments_lexer": "ipython3",
   "version": "3.11.6"
  }
 },
 "nbformat": 4,
 "nbformat_minor": 5
}
