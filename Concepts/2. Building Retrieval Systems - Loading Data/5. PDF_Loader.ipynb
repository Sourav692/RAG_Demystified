{
 "cells": [
  {
   "cell_type": "markdown",
   "id": "b1485b87",
   "metadata": {},
   "source": [
    "## Set Up the Environment"
   ]
  },
  {
   "cell_type": "code",
   "execution_count": 1,
   "id": "c5fea0c6",
   "metadata": {},
   "outputs": [],
   "source": [
    "%run setup.ipynb"
   ]
  },
  {
   "cell_type": "markdown",
   "id": "41b00092",
   "metadata": {},
   "source": [
    "## Document Loaders\n",
    "\n",
    "Document loaders are used to import data from various sources into LangChain as `Document` objects. A `Document` typically includes a piece of text along with its associated metadata.\n",
    "\n",
    "### Examples of Document Loaders:\n",
    "\n",
    "- **Text File Loader:** Loads data from a simple `.txt` file.\n",
    "- **Web Page Loader:** Retrieves the text content from any web page.\n",
    "- **YouTube Video Transcript Loader:** Loads transcripts from YouTube videos.\n",
    "\n",
    "### Functionality:\n",
    "\n",
    "- **Load Method:** Each document loader has a `load` method that enables the loading of data as documents from a pre-configured source.\n",
    "- **Lazy Load Option:** Some loaders also support a \"lazy load\" feature, which allows data to be loaded into memory gradually as needed.\n",
    "\n",
    "For more detailed information, visit [LangChain's document loader documentation](https://python.langchain.com/docs/modules/data_connection/document_loaders/).\n"
   ]
  },
  {
   "cell_type": "markdown",
   "id": "4037bcc4",
   "metadata": {},
   "source": [
    "### PDF Loaders\n",
    "\n",
    "[Portable Document Format (PDF)](https://en.wikipedia.org/wiki/PDF), standardized as ISO 32000, is a file format developed by Adobe in 1992 to present documents, including text formatting and images, in a manner independent of application software, hardware, and operating systems.\n",
    "\n",
    "LangChain integrates with a host of PDF parsers. Some are simple and relatively low-level; others will support OCR and image-processing, or perform advanced document layout analysis. The right choice will depend on your use-case and through experimentation.\n",
    "\n",
    "Here we will see how to load PDF documents into the LangChain `Document` format\n",
    "\n",
    "We download a research paper to experiment with"
   ]
  },
  {
   "cell_type": "markdown",
   "id": "d086c1af",
   "metadata": {},
   "source": [
    "If the following command fails you can download the paper manually by going to http://arxiv.org/pdf/2103.15348.pdf, save it as `layoutparser_paper.pdf`and upload it on the left in Colab from the upload files option"
   ]
  },
  {
   "cell_type": "markdown",
   "id": "c3f5eb8d",
   "metadata": {},
   "source": [
    "### PyPDFLoader\n",
    "\n",
    "Here we load a PDF using `pypdf` into list of documents, where each document contains the page content and metadata with page number. Typically each PDF page becomes one document"
   ]
  },
  {
   "cell_type": "code",
   "execution_count": 2,
   "id": "5ae79979",
   "metadata": {},
   "outputs": [
    {
     "name": "stdout",
     "output_type": "stream",
     "text": [
      "LayoutParser: A Uniﬁed Toolkit for Deep\n",
      "Learning Based Document Image Analysis\n",
      "Zejiang Shen1 (\u0000 ), Ruochen Zhang2, Melissa Dell3, Benjamin Charles Germain\n",
      "Lee4, Jacob Carlson3, and Weining Li5\n",
      "1 Allen Institute for AI\n",
      "shannons@allenai.org\n",
      "2 Brown University\n",
      "ruochen zhang@brown.edu\n",
      "3 Harvard University\n",
      "{melissadell,jacob carlson}@fas.harvard.edu\n",
      "4 University of Washington\n",
      "bcgl@cs.washington.edu\n",
      "5 University of Waterloo\n",
      "w422li@uwaterloo.ca\n",
      "Abstract. Recent advances in document image analysis (DIA) have been\n",
      "primarily driven by the application of neural networks. Ideally, research\n",
      "outcomes could be easily deployed in production and extended for further\n",
      "investigation. However, various factors like loosely organized codebases\n",
      "and sophisticated model conﬁgurations complicate the easy reuse of im-\n",
      "portant innovations by a wide audience. Though there have been on-going\n",
      "eﬀorts to improve reusability and simplify deep learning (DL) model\n",
      "development in disciplines like natural language processing and computer\n",
      "vision, none of them are optimized for challenges in the domain of DIA.\n",
      "This represents a major gap in the existing toolkit, as DIA is central to\n",
      "academic research across a wide range of disciplines in the social sciences\n",
      "and humanities. This paper introduces LayoutParser, an open-source\n",
      "library for streamlining the usage of DL in DIA research and applica-\n",
      "tions. The core LayoutParser library comes with a set of simple and\n",
      "intuitive interfaces for applying and customizing DL models for layout de-\n",
      "tection, character recognition, and many other document processing tasks.\n",
      "To promote extensibility, LayoutParser also incorporates a community\n",
      "platform for sharing both pre-trained models and full document digiti-\n",
      "zation pipelines. We demonstrate that LayoutParser is helpful for both\n",
      "lightweight and large-scale digitization pipelines in real-word use cases.\n",
      "The library is publicly available at https://layout-parser.github.io.\n",
      "Keywords: Document Image Analysis · Deep Learning · Layout Analysis\n",
      "· Character Recognition · Open Source library · Toolkit.\n",
      "1 Introduction\n",
      "Deep Learning(DL)-based approaches are the state-of-the-art for a wide range of\n",
      "document image analysis (DIA) tasks including document image classiﬁcation [11,\n",
      "arXiv:2103.15348v2  [cs.CV]  21 Jun 2021\n",
      "{'producer': 'pdfTeX-1.40.21', 'creator': 'LaTeX with hyperref', 'creationdate': '2021-06-22T01:27:10+00:00', 'author': '', 'keywords': '', 'moddate': '2021-06-22T01:27:10+00:00', 'ptex.fullbanner': 'This is pdfTeX, Version 3.14159265-2.6-1.40.21 (TeX Live 2020) kpathsea version 6.3.2', 'subject': '', 'title': '', 'trapped': '/False', 'source': '../../docs/layoutparser_paper.pdf', 'total_pages': 16, 'page': 0, 'page_label': '1'}\n"
     ]
    }
   ],
   "source": [
    "from langchain_community.document_loaders import PyPDFLoader\n",
    "\n",
    "loader = PyPDFLoader(\"../../docs/layoutparser_paper.pdf\")\n",
    "pages = loader.load()\n",
    "\n",
    "print(pages[0].page_content)\n",
    "print(pages[0].metadata)"
   ]
  },
  {
   "cell_type": "code",
   "execution_count": 3,
   "id": "ad46be9b",
   "metadata": {},
   "outputs": [
    {
     "data": {
      "text/plain": [
       "16"
      ]
     },
     "execution_count": 3,
     "metadata": {},
     "output_type": "execute_result"
    }
   ],
   "source": [
    "len(pages)"
   ]
  },
  {
   "cell_type": "code",
   "execution_count": 5,
   "id": "af5983aa",
   "metadata": {},
   "outputs": [],
   "source": [
    "from pprint import pprint"
   ]
  },
  {
   "cell_type": "code",
   "execution_count": 6,
   "id": "1e8aca7f",
   "metadata": {},
   "outputs": [
    {
     "name": "stdout",
     "output_type": "stream",
     "text": [
      "Document(metadata={'producer': 'pdfTeX-1.40.21', 'creator': 'LaTeX with hyperref', 'creationdate': '2021-06-22T01:27:10+00:00', 'author': '', 'keywords': '', 'moddate': '2021-06-22T01:27:10+00:00', 'ptex.fullbanner': 'This is pdfTeX, Version 3.14159265-2.6-1.40.21 (TeX Live 2020) kpathsea version 6.3.2', 'subject': '', 'title': '', 'trapped': '/False', 'source': '../../docs/layoutparser_paper.pdf', 'total_pages': 16, 'page': 0, 'page_label': '1'}, page_content='LayoutParser: A Uniﬁed Toolkit for Deep\\nLearning Based Document Image Analysis\\nZejiang Shen1 (\\x00 ), Ruochen Zhang2, Melissa Dell3, Benjamin Charles Germain\\nLee4, Jacob Carlson3, and Weining Li5\\n1 Allen Institute for AI\\nshannons@allenai.org\\n2 Brown University\\nruochen zhang@brown.edu\\n3 Harvard University\\n{melissadell,jacob carlson}@fas.harvard.edu\\n4 University of Washington\\nbcgl@cs.washington.edu\\n5 University of Waterloo\\nw422li@uwaterloo.ca\\nAbstract. Recent advances in document image analysis (DIA) have been\\nprimarily driven by the application of neural networks. Ideally, research\\noutcomes could be easily deployed in production and extended for further\\ninvestigation. However, various factors like loosely organized codebases\\nand sophisticated model conﬁgurations complicate the easy reuse of im-\\nportant innovations by a wide audience. Though there have been on-going\\neﬀorts to improve reusability and simplify deep learning (DL) model\\ndevelopment in disciplines like natural language processing and computer\\nvision, none of them are optimized for challenges in the domain of DIA.\\nThis represents a major gap in the existing toolkit, as DIA is central to\\nacademic research across a wide range of disciplines in the social sciences\\nand humanities. This paper introduces LayoutParser, an open-source\\nlibrary for streamlining the usage of DL in DIA research and applica-\\ntions. The core LayoutParser library comes with a set of simple and\\nintuitive interfaces for applying and customizing DL models for layout de-\\ntection, character recognition, and many other document processing tasks.\\nTo promote extensibility, LayoutParser also incorporates a community\\nplatform for sharing both pre-trained models and full document digiti-\\nzation pipelines. We demonstrate that LayoutParser is helpful for both\\nlightweight and large-scale digitization pipelines in real-word use cases.\\nThe library is publicly available at https://layout-parser.github.io.\\nKeywords: Document Image Analysis · Deep Learning · Layout Analysis\\n· Character Recognition · Open Source library · Toolkit.\\n1 Introduction\\nDeep Learning(DL)-based approaches are the state-of-the-art for a wide range of\\ndocument image analysis (DIA) tasks including document image classiﬁcation [11,\\narXiv:2103.15348v2  [cs.CV]  21 Jun 2021')\n"
     ]
    }
   ],
   "source": [
    "pprint(pages[0])"
   ]
  },
  {
   "cell_type": "code",
   "execution_count": 7,
   "id": "bcb0c0c6",
   "metadata": {},
   "outputs": [
    {
     "name": "stdout",
     "output_type": "stream",
     "text": [
      "('LayoutParser: A Uniﬁed Toolkit for Deep\\n'\n",
      " 'Learning Based Document Image Analysis\\n'\n",
      " 'Zejiang Shen1 (\\x00 ), Ruochen Zhang2, Melissa Dell3, Benjamin Charles '\n",
      " 'Germain\\n'\n",
      " 'Lee4, Jacob Carlson3, and Weining Li5\\n'\n",
      " '1 Allen Institute for AI\\n'\n",
      " 'shannons@allenai.org\\n'\n",
      " '2 Brown University\\n'\n",
      " 'ruochen zhang@brown.edu\\n'\n",
      " '3 Harvard University\\n'\n",
      " '{melissadell,jacob carlson}@fas.harvard.edu\\n'\n",
      " '4 University of Washington\\n'\n",
      " 'bcgl@cs.washington.edu\\n'\n",
      " '5 University of Waterloo\\n'\n",
      " 'w422li@uwaterloo.ca\\n'\n",
      " 'Abstract. Recent advances in document image analysis (DIA) have been\\n'\n",
      " 'primarily driven by the application of neural networks. Ideally, research\\n'\n",
      " 'outcomes could be easily deployed in production and extended for further\\n'\n",
      " 'investigation. However, various factors like loosely organized codebases\\n'\n",
      " 'and sophisticated model conﬁgurations complicate the easy reuse of im-\\n'\n",
      " 'portant innovations by a wide audience. Though there have been on-going\\n'\n",
      " 'eﬀorts to improve reusability and simplify deep learning (DL) model\\n'\n",
      " 'development in disciplines like natural language processing and computer\\n'\n",
      " 'vision, none of them are optimized for challenges in the domain of DIA.\\n'\n",
      " 'This represents a major gap in the existing toolkit, as DIA is central to\\n'\n",
      " 'academic research across a wide range of disciplines in the social sciences\\n'\n",
      " 'and humanities. This paper introduces LayoutParser, an open-source\\n'\n",
      " 'library for streamlining the usage of DL in DIA research and applica-\\n'\n",
      " 'tions. The core LayoutParser library comes with a set of simple and\\n'\n",
      " 'intuitive interfaces for applying and customizing DL models for layout de-\\n'\n",
      " 'tection, character recognition, and many other document processing tasks.\\n'\n",
      " 'To promote extensibility, LayoutParser also incorporates a community\\n'\n",
      " 'platform for sharing both pre-trained models and full document digiti-\\n'\n",
      " 'zation pipelines. We demonstrate that LayoutParser is helpful for both\\n'\n",
      " 'lightweight and large-scale digitization pipelines in real-word use cases.\\n'\n",
      " 'The library is publicly available at https://layout-parser.github.io.\\n'\n",
      " 'Keywords: Document Image Analysis · Deep Learning · Layout Analysis\\n'\n",
      " '· Character Recognition · Open Source library · Toolkit.\\n'\n",
      " '1 Introduction\\n'\n",
      " 'Deep Learning(DL)-based approaches are the state-of-the-art for a wide range '\n",
      " 'of\\n'\n",
      " 'document image analysis (DIA) tasks including document image classiﬁcation '\n",
      " '[11,\\n'\n",
      " 'arXiv:2103.15348v2  [cs.CV]  21 Jun 2021')\n"
     ]
    }
   ],
   "source": [
    "pprint(pages[0].page_content)"
   ]
  },
  {
   "cell_type": "code",
   "execution_count": 8,
   "id": "d86680a2",
   "metadata": {},
   "outputs": [
    {
     "name": "stdout",
     "output_type": "stream",
     "text": [
      "{'producer': 'pdfTeX-1.40.21', 'creator': 'LaTeX with hyperref', 'creationdate': '2021-06-22T01:27:10+00:00', 'author': '', 'keywords': '', 'moddate': '2021-06-22T01:27:10+00:00', 'ptex.fullbanner': 'This is pdfTeX, Version 3.14159265-2.6-1.40.21 (TeX Live 2020) kpathsea version 6.3.2', 'subject': '', 'title': '', 'trapped': '/False', 'source': '../../docs/layoutparser_paper.pdf', 'total_pages': 16, 'page': 0, 'page_label': '1'}\n"
     ]
    }
   ],
   "source": [
    "print(pages[0].metadata)"
   ]
  },
  {
   "cell_type": "markdown",
   "id": "693726e4",
   "metadata": {},
   "source": [
    "### PyMuPDFLoader\n",
    "\n",
    "This is the fastest of the PDF parsing options, and contains detailed metadata about the PDF and its pages, as well as returns one document per page. It uses the `pymupdf` library internally."
   ]
  },
  {
   "cell_type": "code",
   "execution_count": 9,
   "id": "e0e56bf9",
   "metadata": {},
   "outputs": [
    {
     "name": "stdout",
     "output_type": "stream",
     "text": [
      "LayoutParser: A Uniﬁed Toolkit for Deep\n",
      "Learning Based Document Image Analysis\n",
      "Zejiang Shen1 (\u0000), Ruochen Zhang2, Melissa Dell3, Benjamin Charles Germain\n",
      "Lee4, Jacob Carlson3, and Weining Li5\n",
      "1 Allen Institute for AI\n",
      "shannons@allenai.org\n",
      "2 Brown University\n",
      "ruochen zhang@brown.edu\n",
      "3 Harvard University\n",
      "{melissadell,jacob carlson}@fas.harvard.edu\n",
      "4 University of Washington\n",
      "bcgl@cs.washington.edu\n",
      "5 University of Waterloo\n",
      "w422li@uwaterloo.ca\n",
      "Abstract. Recent advances in document image analysis (DIA) have been\n",
      "primarily driven by the application of neural networks. Ideally, research\n",
      "outcomes could be easily deployed in production and extended for further\n",
      "investigation. However, various factors like loosely organized codebases\n",
      "and sophisticated model conﬁgurations complicate the easy reuse of im-\n",
      "portant innovations by a wide audience. Though there have been on-going\n",
      "eﬀorts to improve reusability and simplify deep learning (DL) model\n",
      "development in disciplines like natural language processing and computer\n",
      "vision, none of them are optimized for challenges in the domain of DIA.\n",
      "This represents a major gap in the existing toolkit, as DIA is central to\n",
      "academic research across a wide range of disciplines in the social sciences\n",
      "and humanities. This paper introduces LayoutParser, an open-source\n",
      "library for streamlining the usage of DL in DIA research and applica-\n",
      "tions. The core LayoutParser library comes with a set of simple and\n",
      "intuitive interfaces for applying and customizing DL models for layout de-\n",
      "tection, character recognition, and many other document processing tasks.\n",
      "To promote extensibility, LayoutParser also incorporates a community\n",
      "platform for sharing both pre-trained models and full document digiti-\n",
      "zation pipelines. We demonstrate that LayoutParser is helpful for both\n",
      "lightweight and large-scale digitization pipelines in real-word use cases.\n",
      "The library is publicly available at https://layout-parser.github.io.\n",
      "Keywords: Document Image Analysis · Deep Learning · Layout Analysis\n",
      "· Character Recognition · Open Source library · Toolkit.\n",
      "1\n",
      "Introduction\n",
      "Deep Learning(DL)-based approaches are the state-of-the-art for a wide range of\n",
      "document image analysis (DIA) tasks including document image classiﬁcation [11,\n",
      "arXiv:2103.15348v2  [cs.CV]  21 Jun 2021\n",
      "{'producer': 'pdfTeX-1.40.21', 'creator': 'LaTeX with hyperref', 'creationdate': '2021-06-22T01:27:10+00:00', 'source': '../../docs/layoutparser_paper.pdf', 'file_path': '../../docs/layoutparser_paper.pdf', 'total_pages': 16, 'format': 'PDF 1.5', 'title': '', 'author': '', 'subject': '', 'keywords': '', 'moddate': '2021-06-22T01:27:10+00:00', 'trapped': '', 'modDate': 'D:20210622012710Z', 'creationDate': 'D:20210622012710Z', 'page': 0}\n"
     ]
    }
   ],
   "source": [
    "from langchain_community.document_loaders import PyMuPDFLoader\n",
    "\n",
    "loader = PyMuPDFLoader(\"../../docs/layoutparser_paper.pdf\")\n",
    "pages = loader.load()\n",
    "\n",
    "print(pages[0].page_content)\n",
    "print(pages[0].metadata)"
   ]
  },
  {
   "cell_type": "code",
   "execution_count": 10,
   "id": "aefee374",
   "metadata": {},
   "outputs": [
    {
     "data": {
      "text/plain": [
       "16"
      ]
     },
     "execution_count": 10,
     "metadata": {},
     "output_type": "execute_result"
    }
   ],
   "source": [
    "len(pages)"
   ]
  },
  {
   "cell_type": "code",
   "execution_count": 11,
   "id": "7eb867c8",
   "metadata": {},
   "outputs": [
    {
     "name": "stdout",
     "output_type": "stream",
     "text": [
      "page_content='LayoutParser: A Uniﬁed Toolkit for Deep\n",
      "Learning Based Document Image Analysis\n",
      "Zejiang Shen1 (\u0000), Ruochen Zhang2, Melissa Dell3, Benjamin Charles Germain\n",
      "Lee4, Jacob Carlson3, and Weining Li5\n",
      "1 Allen Institute for AI\n",
      "shannons@allenai.org\n",
      "2 Brown University\n",
      "ruochen zhang@brown.edu\n",
      "3 Harvard University\n",
      "{melissadell,jacob carlson}@fas.harvard.edu\n",
      "4 University of Washington\n",
      "bcgl@cs.washington.edu\n",
      "5 University of Waterloo\n",
      "w422li@uwaterloo.ca\n",
      "Abstract. Recent advances in document image analysis (DIA) have been\n",
      "primarily driven by the application of neural networks. Ideally, research\n",
      "outcomes could be easily deployed in production and extended for further\n",
      "investigation. However, various factors like loosely organized codebases\n",
      "and sophisticated model conﬁgurations complicate the easy reuse of im-\n",
      "portant innovations by a wide audience. Though there have been on-going\n",
      "eﬀorts to improve reusability and simplify deep learning (DL) model\n",
      "development in disciplines like natural language processing and computer\n",
      "vision, none of them are optimized for challenges in the domain of DIA.\n",
      "This represents a major gap in the existing toolkit, as DIA is central to\n",
      "academic research across a wide range of disciplines in the social sciences\n",
      "and humanities. This paper introduces LayoutParser, an open-source\n",
      "library for streamlining the usage of DL in DIA research and applica-\n",
      "tions. The core LayoutParser library comes with a set of simple and\n",
      "intuitive interfaces for applying and customizing DL models for layout de-\n",
      "tection, character recognition, and many other document processing tasks.\n",
      "To promote extensibility, LayoutParser also incorporates a community\n",
      "platform for sharing both pre-trained models and full document digiti-\n",
      "zation pipelines. We demonstrate that LayoutParser is helpful for both\n",
      "lightweight and large-scale digitization pipelines in real-word use cases.\n",
      "The library is publicly available at https://layout-parser.github.io.\n",
      "Keywords: Document Image Analysis · Deep Learning · Layout Analysis\n",
      "· Character Recognition · Open Source library · Toolkit.\n",
      "1\n",
      "Introduction\n",
      "Deep Learning(DL)-based approaches are the state-of-the-art for a wide range of\n",
      "document image analysis (DIA) tasks including document image classiﬁcation [11,\n",
      "arXiv:2103.15348v2  [cs.CV]  21 Jun 2021' metadata={'producer': 'pdfTeX-1.40.21', 'creator': 'LaTeX with hyperref', 'creationdate': '2021-06-22T01:27:10+00:00', 'source': '../../docs/layoutparser_paper.pdf', 'file_path': '../../docs/layoutparser_paper.pdf', 'total_pages': 16, 'format': 'PDF 1.5', 'title': '', 'author': '', 'subject': '', 'keywords': '', 'moddate': '2021-06-22T01:27:10+00:00', 'trapped': '', 'modDate': 'D:20210622012710Z', 'creationDate': 'D:20210622012710Z', 'page': 0}\n"
     ]
    }
   ],
   "source": [
    "print(pages[0])"
   ]
  },
  {
   "cell_type": "code",
   "execution_count": 12,
   "id": "971fe307",
   "metadata": {},
   "outputs": [
    {
     "data": {
      "text/plain": [
       "{'producer': 'pdfTeX-1.40.21', 'creator': 'LaTeX with hyperref', 'creationdate': '2021-06-22T01:27:10+00:00', 'source': '../../docs/layoutparser_paper.pdf', 'file_path': '../../docs/layoutparser_paper.pdf', 'total_pages': 16, 'format': 'PDF 1.5', 'title': '', 'author': '', 'subject': '', 'keywords': '', 'moddate': '2021-06-22T01:27:10+00:00', 'trapped': '', 'modDate': 'D:20210622012710Z', 'creationDate': 'D:20210622012710Z', 'page': 0}"
      ]
     },
     "execution_count": 12,
     "metadata": {},
     "output_type": "execute_result"
    }
   ],
   "source": [
    "pages[0].metadata"
   ]
  },
  {
   "cell_type": "code",
   "execution_count": 13,
   "id": "fe48b94b",
   "metadata": {},
   "outputs": [
    {
     "name": "stdout",
     "output_type": "stream",
     "text": [
      "LayoutParser: A Uniﬁed Toolkit for Deep\n",
      "Learning Based Document Image Analysis\n",
      "Zejiang Shen1 (\u0000), Ruochen Zhang2, Melissa Dell3, Benjamin Charles Germain\n",
      "Lee4, Jacob Carlson3, and Weining Li5\n",
      "1 Allen Institute for AI\n",
      "shannons@allenai.org\n",
      "2 Brown University\n",
      "ruochen zhang@brown.edu\n",
      "3 Harvard University\n",
      "{melissadell,jacob carlson}@fas.harvard.edu\n",
      "4 University of Washington\n",
      "bcgl@cs.washington.edu\n",
      "5 University of Waterloo\n",
      "w422li@uwaterloo.ca\n",
      "Abstract. Recent advances in document image analysis (DIA) have been\n",
      "primarily driven by the application of neural networks. Ideally, research\n",
      "outcomes could be easily deployed in production and extended for further\n",
      "investigation. However, various factors like loosely organized codebases\n",
      "and sophisticated model conﬁgurations complicate the easy reuse of im-\n",
      "portant innovations by a wide audience. Though there have been on-going\n",
      "eﬀorts to improve reusability and simplify deep learning (DL) model\n",
      "development in disciplines like natural language processing and computer\n",
      "vision, none of them are optimized for challenges in the domain of DIA.\n",
      "This represents a major gap in the existing toolkit, as DIA is central to\n",
      "academic research across a wide range of disciplines in the social sciences\n",
      "and humanities. This paper introduces LayoutParser, an open-source\n",
      "library for streamlining the usage of DL in DIA research and applica-\n",
      "tions. The core LayoutParser library comes with a set of simple and\n",
      "intuitive interfaces for applying and customizing DL models for layout de-\n",
      "tection, character recognition, and many other document processing tasks.\n",
      "To promote extensibility, LayoutParser also incorporates a community\n",
      "platform for sharing both pre-trained models and full document digiti-\n",
      "zation pipelines. We demonstrate that LayoutParser is helpful for both\n",
      "lightweight and large-scale digitization pipelines in real-word use cases.\n",
      "The library is publicly available at https://layout-parser.github.io.\n",
      "Keywords: Document Image Analysis · Deep Learning · Layout Analysis\n",
      "· Character Recognition · Open Source library · Toolkit.\n",
      "1\n",
      "Introduction\n",
      "Deep Learning(DL)-based approaches are the state-of-the-art for a wide range of\n",
      "document image analysis (DIA) tasks including document image classiﬁcation [11,\n",
      "arXiv:2103.15348v2  [cs.CV]  21 Jun 2021\n"
     ]
    }
   ],
   "source": [
    "print(pages[0].page_content)"
   ]
  },
  {
   "cell_type": "markdown",
   "id": "abd542de",
   "metadata": {},
   "source": [
    "### UnstructuredPDFLoader\n",
    "\n",
    "\n",
    "[Unstructured.io](https://unstructured-io.github.io/unstructured/) supports a common interface for working with unstructured or semi-structured file formats, such as Markdown or PDF. LangChain's [`UnstructuredPDFLoader`](https://api.python.langchain.com/en/latest/document_loaders/langchain_community.document_loaders.pdf.UnstructuredPDFLoader.html) integrates with Unstructured to parse PDF documents into LangChain [`Document`](https://api.python.langchain.com/en/latest/documents/langchain_core.documents.base.Document.html) objects."
   ]
  },
  {
   "cell_type": "code",
   "execution_count": 14,
   "id": "fa70dced",
   "metadata": {},
   "outputs": [
    {
     "name": "stdout",
     "output_type": "stream",
     "text": [
      "1 2 0 2\n",
      "\n",
      "n u J\n",
      "\n",
      "1 2\n",
      "\n",
      "]\n",
      "\n",
      "V C . s c [\n",
      "\n",
      "2 v 8 4 3 5 1 . 3 0 1 2 : v i X r a\n",
      "\n",
      "LayoutParser: A Uniﬁed Toolkit for Deep Learning Based Document Image Analysis\n",
      "\n",
      "Zejiang Shen1 ((cid:0)), Ruochen Zhang2, Melissa Dell3, Benjamin Charles Germain Lee4, Jacob Carlson3, and Weining Li5\n",
      "\n",
      "1 Allen Institute for AI shannons@allenai.org 2 Brown University ruochen zhang@brown.edu 3 Harvard University {melissadell,jacob carlson}@fas.harvard.edu 4 University of Washington bcgl@cs.washington.edu 5 University of Waterloo w422li@uwaterloo.ca\n",
      "\n",
      "Abstract. Recent advances in document image analysis (DIA) have been primarily driven by the application of neural networks. Ideally, research outcomes could be easily deployed in production and extended for further investigation. However, various factors like loosely organized codebases and sophisticated model conﬁgurations complicate the easy reuse of im- portant innovations by a wide audience. Though there have been on-going eﬀorts to improve reusability and simplify deep learning (DL) model development in disciplines like natural language processing and computer vision, none of them are optimized for challenges in the domain of DIA. This represents a major gap in the existing toolkit, as DIA is central to academic research across a wide range of disciplines in the social sciences and humanities. This paper introduces LayoutParser, an open-source library for streamlining the usage of DL in DIA research and applica- tions. The core LayoutParser library comes with a set of simple and intuitive interfaces for applying and customizing DL models for layout de- tection, character recognition, and many other document processing tasks. To promote extensibility, LayoutParser also incorporates a community platform for sharing both pre-trained models and full document digiti- zation pipelines. We demonstrate that LayoutParser is helpful for both lightweight and large-scale digitization pipelines in real-word use cases. The library is publicly available at https://layout-parser.github.io.\n",
      "\n",
      "Keywords: Document Image Analysis · Deep Learning · Layout Analysis · Character Recognition · Open Source library · Toolkit.\n",
      "\n",
      "1\n",
      "\n",
      "Introduction\n",
      "\n",
      "Deep Learning(DL)-based approaches are the state-of-the-art for a wide range of document image analysis (DIA) tasks including document image classiﬁcation [11,\n",
      "\n",
      "2\n",
      "\n",
      "Z. Shen et al.\n",
      "\n",
      "37], layout detection [38, 22], table detection [26], and scene text detection [4]. A generalized learning-based framework dramatically reduces the need for the manual speciﬁcation of complicated rules, which is the status quo with traditional methods. DL has the potential to transform DIA pipelines and beneﬁt a broad spectrum of large-scale document digitization projects.\n",
      "\n",
      "However, there are several practical diﬃculties for taking advantages of re- cent advances in DL-based methods: 1) DL models are notoriously convoluted for reuse and extension. Existing models are developed using distinct frame- works like TensorFlow [1] or PyTorch [24], and the high-level parameters can be obfuscated by implementation details [8]. It can be a time-consuming and frustrating experience to debug, reproduce, and adapt existing models for DIA, and many researchers who would beneﬁt the most from using these methods lack the technical background to implement them from scratch. 2) Document images contain diverse and disparate patterns across domains, and customized training is often required to achieve a desirable detection accuracy. Currently there is no full-ﬂedged infrastructure for easily curating the target document image datasets and ﬁne-tuning or re-training the models. 3) DIA usually requires a sequence of models and other processing to obtain the ﬁnal outputs. Often research teams use DL models and then perform further document analyses in separate processes, and these pipelines are not documented in any central location (and often not documented at all). This makes it diﬃcult for research teams to learn about how full pipelines are implemented and leads them to invest signiﬁcant resources in reinventing the DIA wheel.\n",
      "\n",
      "LayoutParser provides a uniﬁed toolkit to support DL-based document image analysis and processing. To address the aforementioned challenges, LayoutParser is built with the following components:\n",
      "\n",
      "1. An oﬀ-the-shelf toolkit for applying DL models for layout detection, character recognition, and other DIA tasks (Section 3)\n",
      "\n",
      "2. A rich repository of pre-trained neural network models (Model Zoo) that underlies the oﬀ-the-shelf usage\n",
      "\n",
      "3. Comprehensive tools for eﬃcient document image data annotation and model tuning to support diﬀerent levels of customization\n",
      "\n",
      "4. A DL model hub and community platform for the easy sharing, distribu- tion, and discussion of DIA models and pipelines, to promote reusability, reproducibility, and extensibility (Section 4)\n",
      "\n",
      "The library implements simple and intuitive Python APIs without sacriﬁcing generalizability and versatility, and can be easily installed via pip. Its convenient functions for handling document image data can be seamlessly integrated with existing DIA pipelines. With detailed documentations and carefully curated tutorials, we hope this tool will beneﬁt a variety of end-users, and will lead to advances in applications in both industry and academic research.\n",
      "\n",
      "LayoutParser is well aligned with recent eﬀorts for improving DL model reusability in other disciplines like natural language processing [8, 34] and com- puter vision [35], but with a focus on unique challenges in DIA. We show LayoutParser can be applied in sophisticated and large-scale digitization projects\n",
      "\n",
      "LayoutParser: A Uniﬁed Toolkit for DL-Based DIA\n",
      "\n",
      "that require precision, eﬃciency, and robustness, as well as simple and light- weight document processing tasks focusing on eﬃcacy and ﬂexibility (Section 5). LayoutParser is being actively maintained, and support for more deep learning models and novel methods in text-based layout analysis methods [37, 34] is planned.\n",
      "\n",
      "The rest of the paper is organized as follows. Section 2 provides an overview of related work. The core LayoutParser library, DL Model Zoo, and customized model training are described in Section 3, and the DL model hub and commu- nity platform are detailed in Section 4. Section 5 shows two examples of how LayoutParser can be used in practical DIA projects, and Section 6 concludes.\n",
      "\n",
      "2 Related Work\n",
      "\n",
      "Recently, various DL models and datasets have been developed for layout analysis tasks. The dhSegment [22] utilizes fully convolutional networks [20] for segmen- tation tasks on historical documents. Object detection-based methods like Faster R-CNN [28] and Mask R-CNN [12] are used for identifying document elements [38] and detecting tables [30, 26]. Most recently, Graph Neural Networks [29] have also been used in table detection [27]. However, these models are usually implemented individually and there is no uniﬁed framework to load and use such models.\n",
      "\n",
      "There has been a surge of interest in creating open-source tools for document image processing: a search of document image analysis in Github leads to 5M relevant code pieces 6; yet most of them rely on traditional rule-based methods or provide limited functionalities. The closest prior research to our work is the OCR-D project7, which also tries to build a complete toolkit for DIA. However, similar to the platform developed by Neudecker et al. [21], it is designed for analyzing historical documents, and provides no supports for recent DL models. The DocumentLayoutAnalysis project8 focuses on processing born-digital PDF documents via analyzing the stored PDF data. Repositories like DeepLayout9 and Detectron2-PubLayNet10 are individual deep learning models trained on layout analysis datasets without support for the full DIA pipeline. The Document Analysis and Exploitation (DAE) platform [15] and the DeepDIVA project [2] aim to improve the reproducibility of DIA methods (or DL models), yet they are not actively maintained. OCR engines like Tesseract [14], easyOCR11 and paddleOCR12 usually do not come with comprehensive functionalities for other DIA tasks like layout analysis.\n",
      "\n",
      "Recent years have also seen numerous eﬀorts to create libraries for promoting reproducibility and reusability in the ﬁeld of DL. Libraries like Dectectron2 [35],\n",
      "\n",
      "6 The number shown is obtained by specifying the search type as ‘code’. 7 https://ocr-d.de/en/about 8 https://github.com/BobLd/DocumentLayoutAnalysis 9 https://github.com/leonlulu/DeepLayout 10 https://github.com/hpanwar08/detectron2 11 https://github.com/JaidedAI/EasyOCR 12 https://github.com/PaddlePaddle/PaddleOCR\n",
      "\n",
      "3\n",
      "\n",
      "4\n",
      "\n",
      "Z. Shen et al.\n",
      "\n",
      "Efficient Data Annotation\n",
      "\n",
      "Customized Model Training\n",
      "\n",
      "Layout Data Structure\n",
      "\n",
      "Storage & Visualization\n",
      "\n",
      "OCR Module\n",
      "\n",
      "The Core LayoutParser Library\n",
      "\n",
      "Model Customization\n",
      "\n",
      "Layout Detection Models\n",
      "\n",
      "Community Platform\n",
      "\n",
      "DIA Pipeline Sharing\n",
      "\n",
      "DIA Model Hub\n",
      "\n",
      "Document Images\n",
      "\n",
      "Fig.1: The overall architecture of LayoutParser. For an input document image, the core LayoutParser library provides a set of oﬀ-the-shelf tools for layout detection, OCR, visualization, and storage, backed by a carefully designed layout data structure. LayoutParser also supports high level customization via eﬃcient layout annotation and model training functions. These improve model accuracy on the target samples. The community platform enables the easy sharing of DIA models and whole digitization pipelines to promote reusability and reproducibility. A collection of detailed documentation, tutorials and exemplar projects make LayoutParser easy to learn and use.\n",
      "\n",
      "AllenNLP [8] and transformers [34] have provided the community with complete DL-based support for developing and deploying models for general computer vision and natural language processing problems. LayoutParser, on the other hand, specializes speciﬁcally in DIA tasks. LayoutParser is also equipped with a community platform inspired by established model hubs such as Torch Hub [23] and TensorFlow Hub [1]. It enables the sharing of pretrained models as well as full document processing pipelines that are unique to DIA tasks.\n",
      "\n",
      "There have been a variety of document data collections to facilitate the development of DL models. Some examples include PRImA [3](magazine layouts), PubLayNet [38](academic paper layouts), Table Bank [18](tables in academic papers), Newspaper Navigator Dataset [16, 17](newspaper ﬁgure layouts) and HJDataset [31](historical Japanese document layouts). A spectrum of models trained on these datasets are currently available in the LayoutParser model zoo to support diﬀerent use cases.\n",
      "\n",
      "3 The Core LayoutParser Library\n",
      "\n",
      "At the core of LayoutParser is an oﬀ-the-shelf toolkit that streamlines DL- based document image analysis. Five components support a simple interface with comprehensive functionalities: 1) The layout detection models enable using pre-trained or self-trained DL models for layout detection with just four lines of code. 2) The detected layout information is stored in carefully engineered\n",
      "\n",
      "LayoutParser: A Uniﬁed Toolkit for DL-Based DIA\n",
      "\n",
      "Table 1: Current layout detection models in the LayoutParser model zoo\n",
      "\n",
      "Dataset\n",
      "\n",
      "Base Model1 Large Model Notes\n",
      "\n",
      "PubLayNet [38] PRImA [3] Newspaper [17] TableBank [18] HJDataset [31]\n",
      "\n",
      "F / M M F F F / M\n",
      "\n",
      "M - - F -\n",
      "\n",
      "Layouts of modern scientiﬁc documents Layouts of scanned modern magazines and scientiﬁc reports Layouts of scanned US newspapers from the 20th century Table region on modern scientiﬁc and business document Layouts of history Japanese documents\n",
      "\n",
      "1 For each dataset, we train several models of diﬀerent sizes for diﬀerent needs (the trade-oﬀ between accuracy vs. computational cost). For “base model” and “large model”, we refer to using the ResNet 50 or ResNet 101 backbones [13], respectively. One can train models of diﬀerent architectures, like Faster R-CNN [28] (F) and Mask R-CNN [12] (M). For example, an F in the Large Model column indicates it has a Faster R-CNN model trained using the ResNet 101 backbone. The platform is maintained and a number of additions will be made to the model zoo in coming months.\n",
      "\n",
      "layout data structures, which are optimized for eﬃciency and versatility. 3) When necessary, users can employ existing or customized OCR models via the uniﬁed API provided in the OCR module. 4) LayoutParser comes with a set of utility functions for the visualization and storage of the layout data. 5) LayoutParser is also highly customizable, via its integration with functions for layout data annotation and model training. We now provide detailed descriptions for each component.\n",
      "\n",
      "3.1 Layout Detection Models\n",
      "\n",
      "In LayoutParser, a layout model takes a document image as an input and generates a list of rectangular boxes for the target content regions. Diﬀerent from traditional methods, it relies on deep convolutional neural networks rather than manually curated rules to identify content regions. It is formulated as an object detection problem and state-of-the-art models like Faster R-CNN [28] and Mask R-CNN [12] are used. This yields prediction results of high accuracy and makes it possible to build a concise, generalized interface for layout detection. LayoutParser, built upon Detectron2 [35], provides a minimal API that can perform layout detection with only four lines of code in Python:\n",
      "\n",
      "1 import layoutparser as lp 2 image = cv2.imread(\"image_file\") # load images 3 model = lp.Detectron2LayoutModel(\n",
      "\n",
      "\"lp://PubLayNet/faster_rcnn_R_50_FPN_3x/config\")\n",
      "\n",
      "4 5 layout = model.detect(image)\n",
      "\n",
      "LayoutParser provides a wealth of pre-trained model weights using various datasets covering diﬀerent languages, time periods, and document types. Due to domain shift [7], the prediction performance can notably drop when models are ap- plied to target samples that are signiﬁcantly diﬀerent from the training dataset. As document structures and layouts vary greatly in diﬀerent domains, it is important to select models trained on a dataset similar to the test samples. A semantic syntax is used for initializing the model weights in LayoutParser, using both the dataset name and model name lp://<dataset-name>/<model-architecture-name>.\n",
      "\n",
      "5\n",
      "\n",
      "6\n",
      "\n",
      "Z. Shen et al.\n",
      "\n",
      "Fig.2: The relationship between the three types of layout data structures. Coordinate supports three kinds of variation; TextBlock consists of the co- ordinate information and extra features like block text, types, and reading orders; a Layout object is a list of all possible layout elements, including other Layout objects. They all support the same set of transformation and operation APIs for maximum ﬂexibility.\n",
      "\n",
      "Shown in Table 1, LayoutParser currently hosts 9 pre-trained models trained on 5 diﬀerent datasets. Description of the training dataset is provided alongside with the trained models such that users can quickly identify the most suitable models for their tasks. Additionally, when such a model is not readily available, LayoutParser also supports training customized layout models and community sharing of the models (detailed in Section 3.5).\n",
      "\n",
      "3.2 Layout Data Structures\n",
      "\n",
      "A critical feature of LayoutParser is the implementation of a series of data structures and operations that can be used to eﬃciently process and manipulate the layout elements. In document image analysis pipelines, various post-processing on the layout analysis model outputs is usually required to obtain the ﬁnal outputs. Traditionally, this requires exporting DL model outputs and then loading the results into other pipelines. All model outputs from LayoutParser will be stored in carefully engineered data types optimized for further processing, which makes it possible to build an end-to-end document digitization pipeline within LayoutParser. There are three key components in the data structure, namely the Coordinate system, the TextBlock, and the Layout. They provide diﬀerent levels of abstraction for the layout data, and a set of APIs are supported for transformations or operations on these classes.\n",
      "\n",
      "LayoutParser: A Uniﬁed Toolkit for DL-Based DIA\n",
      "\n",
      "Coordinates are the cornerstones for storing layout information. Currently, three types of Coordinate data structures are provided in LayoutParser, shown in Figure 2. Interval and Rectangle are the most common data types and support specifying 1D or 2D regions within a document. They are parameterized with 2 and 4 parameters. A Quadrilateral class is also implemented to support a more generalized representation of rectangular regions when the document is skewed or distorted, where the 4 corner points can be speciﬁed and a total of 8 degrees of freedom are supported. A wide collection of transformations like shift, pad, and scale, and operations like intersect, union, and is_in, are supported for these classes. Notably, it is common to separate a segment of the image and analyze it individually. LayoutParser provides full support for this scenario via image cropping operations crop_image and coordinate transformations like relative_to and condition_on that transform coordinates to and from their relative representations. We refer readers to Table 2 for a more detailed description of these operations13.\n",
      "\n",
      "Based on Coordinates, we implement the TextBlock class that stores both the positional and extra features of individual layout elements. It also supports specifying the reading orders via setting the parent ﬁeld to the index of the parent object. A Layout class is built that takes in a list of TextBlocks and supports processing the elements in batch. Layout can also be nested to support hierarchical layout structures. They support the same operations and transformations as the Coordinate classes, minimizing both learning and deployment eﬀort.\n",
      "\n",
      "3.3 OCR\n",
      "\n",
      "LayoutParser provides a uniﬁed interface for existing OCR tools. Though there are many OCR tools available, they are usually conﬁgured diﬀerently with distinct APIs or protocols for using them. It can be ineﬃcient to add new OCR tools into an existing pipeline, and diﬃcult to make direct comparisons among the available tools to ﬁnd the best option for a particular project. To this end, LayoutParser builds a series of wrappers among existing OCR engines, and provides nearly the same syntax for using them. It supports a plug-and-play style of using OCR engines, making it eﬀortless to switch, evaluate, and compare diﬀerent OCR modules:\n",
      "\n",
      "1 ocr_agent = lp.TesseractAgent() 2 # Can be easily switched to other OCR software 3 tokens = ocr_agent.detect(image)\n",
      "\n",
      "The OCR outputs will also be stored in the aforementioned layout data structures and can be seamlessly incorporated into the digitization pipeline. Currently LayoutParser supports the Tesseract and Google Cloud Vision OCR engines.\n",
      "\n",
      "LayoutParser also comes with a DL-based CNN-RNN OCR model [6] trained with the Connectionist Temporal Classiﬁcation (CTC) loss [10]. It can be used like the other OCR modules, and can be easily trained on customized datasets.\n",
      "\n",
      "13 This is also available in the LayoutParser documentation pages.\n",
      "\n",
      "7\n",
      "\n",
      "8\n",
      "\n",
      "Z. Shen et al.\n",
      "\n",
      "Table 2: All operations supported by the layout elements. The same APIs are supported across diﬀerent layout element classes including Coordinate types, TextBlock and Layout.\n",
      "\n",
      "Operation Name\n",
      "\n",
      "Description\n",
      "\n",
      "block.pad(top, bottom, right, left) Enlarge the current block according to the input\n",
      "\n",
      "block.scale(fx, fy)\n",
      "\n",
      "Scale the current block given the ratio in x and y direction\n",
      "\n",
      "block.shift(dx, dy)\n",
      "\n",
      "Move the current block with the shift distances in x and y direction\n",
      "\n",
      "block1.is in(block2)\n",
      "\n",
      "Whether block1 is inside of block2\n",
      "\n",
      "block1.intersect(block2)\n",
      "\n",
      "Return the intersection region of block1 and block2. Coordinate type to be determined based on the inputs.\n",
      "\n",
      "block1.union(block2)\n",
      "\n",
      "Return the union region of block1 and block2. Coordinate type to be determined based on the inputs.\n",
      "\n",
      "block1.relative to(block2)\n",
      "\n",
      "Convert the absolute coordinates of block1 to relative coordinates to block2\n",
      "\n",
      "block1.condition on(block2)\n",
      "\n",
      "Calculate the absolute coordinates of block1 given the canvas block2’s absolute coordinates\n",
      "\n",
      "block.crop image(image)\n",
      "\n",
      "Obtain the image segments in the block region\n",
      "\n",
      "3.4 Storage and visualization\n",
      "\n",
      "The end goal of DIA is to transform the image-based document data into a structured database. LayoutParser supports exporting layout data into diﬀerent formats like JSON, csv, and will add the support for the METS/ALTO XML format 14 . It can also load datasets from layout analysis-speciﬁc formats like COCO [38] and the Page Format [25] for training layout models (Section 3.5). Visualization of the layout detection results is critical for both presentation and debugging. LayoutParser is built with an integrated API for displaying the layout information along with the original document image. Shown in Figure 3, it enables presenting layout data with rich meta information and features in diﬀerent modes. More detailed information can be found in the online LayoutParser documentation page.\n",
      "\n",
      "3.5 Customized Model Training\n",
      "\n",
      "Besides the oﬀ-the-shelf library, LayoutParser is also highly customizable with supports for highly unique and challenging document analysis tasks. Target document images can be vastly diﬀerent from the existing datasets for train- ing layout models, which leads to low layout detection accuracy. Training data\n",
      "\n",
      "14 https://altoxml.github.io\n",
      "\n",
      "LayoutParser: A Uniﬁed Toolkit for DL-Based DIA\n",
      "\n",
      "Fig.3: Layout detection and OCR results visualization generated by the LayoutParser APIs. Mode I directly overlays the layout region bounding boxes and categories over the original image. Mode II recreates the original document via drawing the OCR’d texts at their corresponding positions on the image canvas. In this ﬁgure, tokens in textual regions are ﬁltered using the API and then displayed.\n",
      "\n",
      "can also be highly sensitive and not sharable publicly. To overcome these chal- lenges, LayoutParser is built with rich features for eﬃcient data annotation and customized model training.\n",
      "\n",
      "LayoutParser incorporates a toolkit optimized for annotating document lay- outs using object-level active learning [32]. With the help from a layout detection model trained along with labeling, only the most important layout objects within each image, rather than the whole image, are required for labeling. The rest of the regions are automatically annotated with high conﬁdence predictions from the layout detection model. This allows a layout dataset to be created more eﬃciently with only around 60% of the labeling budget.\n",
      "\n",
      "After the training dataset is curated, LayoutParser supports diﬀerent modes for training the layout models. Fine-tuning can be used for training models on a small newly-labeled dataset by initializing the model with existing pre-trained weights. Training from scratch can be helpful when the source dataset and target are signiﬁcantly diﬀerent and a large training set is available. However, as suggested in Studer et al.’s work[33], loading pre-trained weights on large-scale datasets like ImageNet [5], even from totally diﬀerent domains, can still boost model performance. Through the integrated API provided by LayoutParser, users can easily compare model performances on the benchmark datasets.\n",
      "\n",
      "9\n",
      "\n",
      "10\n",
      "\n",
      "Z. Shen et al.\n",
      "\n",
      "Fig.4: Illustration of (a) the original historical Japanese document with layout detection results and (b) a recreated version of the document image that achieves much better character recognition recall. The reorganization algorithm rearranges the tokens based on the their detected bounding boxes given a maximum allowed height.\n",
      "\n",
      "4 LayoutParser Community Platform\n",
      "\n",
      "Another focus of LayoutParser is promoting the reusability of layout detection models and full digitization pipelines. Similar to many existing deep learning libraries, LayoutParser comes with a community model hub for distributing layout models. End-users can upload their self-trained models to the model hub, and these models can be loaded into a similar interface as the currently available LayoutParser pre-trained models. For example, the model trained on the News Navigator dataset [17] has been incorporated in the model hub.\n",
      "\n",
      "Beyond DL models, LayoutParser also promotes the sharing of entire doc- ument digitization pipelines. For example, sometimes the pipeline requires the combination of multiple DL models to achieve better accuracy. Currently, pipelines are mainly described in academic papers and implementations are often not pub- licly available. To this end, the LayoutParser community platform also enables the sharing of layout pipelines to promote the discussion and reuse of techniques. For each shared pipeline, it has a dedicated project page, with links to the source code, documentation, and an outline of the approaches. A discussion panel is provided for exchanging ideas. Combined with the core LayoutParser library, users can easily build reusable components based on the shared pipelines and apply them to solve their unique problems.\n",
      "\n",
      "5 Use Cases\n",
      "\n",
      "The core objective of LayoutParser is to make it easier to create both large-scale and light-weight document digitization pipelines. Large-scale document processing\n",
      "\n",
      "LayoutParser: A Uniﬁed Toolkit for DL-Based DIA\n",
      "\n",
      "focuses on precision, eﬃciency, and robustness. The target documents may have complicated structures, and may require training multiple layout detection models to achieve the optimal accuracy. Light-weight pipelines are built for relatively simple documents, with an emphasis on development ease, speed and ﬂexibility. Ideally one only needs to use existing resources, and model training should be avoided. Through two exemplar projects, we show how practitioners in both academia and industry can easily build such pipelines using LayoutParser and extract high-quality structured document data for their downstream tasks. The source code for these projects will be publicly available in the LayoutParser community hub.\n",
      "\n",
      "5.1 A Comprehensive Historical Document Digitization Pipeline\n",
      "\n",
      "The digitization of historical documents can unlock valuable data that can shed light on many important social, economic, and historical questions. Yet due to scan noises, page wearing, and the prevalence of complicated layout structures, ob- taining a structured representation of historical document scans is often extremely complicated. In this example, LayoutParser was used to develop a comprehensive pipeline, shown in Figure 5, to gener- ate high-quality structured data from historical Japanese ﬁrm ﬁnancial ta- bles with complicated layouts. The pipeline applies two layout models to identify diﬀerent levels of document structures and two customized OCR engines for optimized character recog- nition accuracy.\n",
      "\n",
      "As shown in Figure 4 (a), the document contains columns of text written vertically 15, a common style in Japanese. Due to scanning noise and archaic printing technology, the columns can be skewed or have vari- able widths, and hence cannot be eas- ily identiﬁed via rule-based methods. Within each column, words are sepa- rated by white spaces of variable size, and the vertical positions of objects can be an indicator of their layout type.\n",
      "\n",
      "Fig.5: Illustration of how LayoutParser helps with the historical document digi- tization pipeline.\n",
      "\n",
      "15 A document page consists of eight rows like this. For simplicity we skip the row\n",
      "\n",
      "segmentation discussion and refer readers to the source code when available.\n",
      "\n",
      "11\n",
      "\n",
      "12\n",
      "\n",
      "Z. Shen et al.\n",
      "\n",
      "To decipher the complicated layout\n",
      "\n",
      "structure, two object detection models have been trained to recognize individual columns and tokens, respectively. A small training set (400 images with approxi- mately 100 annotations each) is curated via the active learning based annotation tool [32] in LayoutParser. The models learn to identify both the categories and regions for each token or column via their distinct visual features. The layout data structure enables easy grouping of the tokens within each column, and rearranging columns to achieve the correct reading orders based on the horizontal position. Errors are identiﬁed and rectiﬁed via checking the consistency of the model predictions. Therefore, though trained on a small dataset, the pipeline achieves a high level of layout detection accuracy: it achieves a 96.97 AP [19] score across 5 categories for the column detection model, and a 89.23 AP across 4 categories for the token detection model.\n",
      "\n",
      "A combination of character recognition methods is developed to tackle the unique challenges in this document. In our experiments, we found that irregular spacing between the tokens led to a low character recognition recall rate, whereas existing OCR models tend to perform better on densely-arranged texts. To overcome this challenge, we create a document reorganization algorithm that rearranges the text based on the token bounding boxes detected in the layout analysis step. Figure 4 (b) illustrates the generated image of dense text, which is sent to the OCR APIs as a whole to reduce the transaction costs. The ﬂexible coordinate system in LayoutParser is used to transform the OCR results relative to their original positions on the page.\n",
      "\n",
      "Additionally, it is common for historical documents to use unique fonts with diﬀerent glyphs, which signiﬁcantly degrades the accuracy of OCR models trained on modern texts. In this document, a special ﬂat font is used for printing numbers and could not be detected by oﬀ-the-shelf OCR engines. Using the highly ﬂexible functionalities from LayoutParser, a pipeline approach is constructed that achieves a high recognition accuracy with minimal eﬀort. As the characters have unique visual structures and are usually clustered together, we train the layout model to identify number regions with a dedicated category. Subsequently, LayoutParser crops images within these regions, and identiﬁes characters within them using a self-trained OCR model based on a CNN-RNN [6]. The model detects a total of 15 possible categories, and achieves a 0.98 Jaccard score16 and a 0.17 average Levinstein distances17 for token prediction on the test set.\n",
      "\n",
      "Overall, it is possible to create an intricate and highly accurate digitization pipeline for large-scale digitization using LayoutParser. The pipeline avoids specifying the complicated rules used in traditional methods, is straightforward to develop, and is robust to outliers. The DL models also generate ﬁne-grained results that enable creative approaches like page reorganization for OCR.\n",
      "\n",
      "16 This measures the overlap between the detected and ground-truth characters, and\n",
      "\n",
      "the maximum is 1.\n",
      "\n",
      "17 This measures the number of edits from the ground-truth text to the predicted text,\n",
      "\n",
      "and lower is better.\n",
      "\n",
      "LayoutParser: A Uniﬁed Toolkit for DL-Based DIA\n",
      "\n",
      "Fig.6: This lightweight table detector can identify tables (outlined in red) and cells (shaded in blue) in diﬀerent locations on a page. In very few cases (d), it might generate minor error predictions, e.g, failing to capture the top text line of a table.\n",
      "\n",
      "5.2 A light-weight Visual Table Extractor\n",
      "\n",
      "Detecting tables and parsing their structures (table extraction) are of central im- portance for many document digitization tasks. Many previous works [26, 30, 27] and tools 18 have been developed to identify and parse table structures. Yet they might require training complicated models from scratch, or are only applicable for born-digital PDF documents. In this section, we show how LayoutParser can help build a light-weight accurate visual table extractor for legal docket tables using the existing resources with minimal eﬀort.\n",
      "\n",
      "The extractor uses a pre-trained layout detection model for identifying the table regions and some simple rules for pairing the rows and the columns in the PDF image. Mask R-CNN [12] trained on the PubLayNet dataset [38] from the LayoutParser Model Zoo can be used for detecting table regions. By ﬁltering out model predictions of low conﬁdence and removing overlapping predictions, LayoutParser can identify the tabular regions on each page, which signiﬁcantly simpliﬁes the subsequent steps. By applying the line detection functions within the tabular segments, provided in the utility module from LayoutParser, the pipeline can identify the three distinct columns in the tables. A row clustering method is then applied via analyzing the y coordinates of token bounding boxes in the left-most column, which are obtained from the OCR engines. A non-maximal suppression algorithm is used to remove duplicated rows with extremely small gaps. Shown in Figure 6, the built pipeline can detect tables at diﬀerent positions on a page accurately. Continued tables from diﬀerent pages are concatenated, and a structured table representation has been easily created.\n",
      "\n",
      "18 https://github.com/atlanhq/camelot, https://github.com/tabulapdf/tabula\n",
      "\n",
      "13\n",
      "\n",
      "14\n",
      "\n",
      "Z. Shen et al.\n",
      "\n",
      "6 Conclusion\n",
      "\n",
      "LayoutParser provides a comprehensive toolkit for deep learning-based document image analysis. The oﬀ-the-shelf library is easy to install, and can be used to build ﬂexible and accurate pipelines for processing documents with complicated structures. It also supports high-level customization and enables easy labeling and training of DL models on unique document image datasets. The LayoutParser community platform facilitates sharing DL models and DIA pipelines, inviting discussion and promoting code reproducibility and reusability. The LayoutParser team is committed to keeping the library updated continuously and bringing the most recent advances in DL-based DIA, such as multi-modal document modeling [37, 36, 9] (an upcoming priority), to a diverse audience of end-users.\n",
      "\n",
      "Acknowledgements We thank the anonymous reviewers for their comments and suggestions. This project is supported in part by NSF Grant OIA-2033558 and funding from the Harvard Data Science Initiative and Harvard Catalyst. Zejiang Shen thanks Doug Downey for suggestions.\n",
      "\n",
      "References\n",
      "\n",
      "[1] Abadi, M., Agarwal, A., Barham, P., Brevdo, E., Chen, Z., Citro, C., Corrado, G.S., Davis, A., Dean, J., Devin, M., Ghemawat, S., Goodfellow, I., Harp, A., Irving, G., Isard, M., Jia, Y., Jozefowicz, R., Kaiser, L., Kudlur, M., Levenberg, J., Man´e, D., Monga, R., Moore, S., Murray, D., Olah, C., Schuster, M., Shlens, J., Steiner, B., Sutskever, I., Talwar, K., Tucker, P., Vanhoucke, V., Vasudevan, V., Vi´egas, F., Vinyals, O., Warden, P., Wattenberg, M., Wicke, M., Yu, Y., Zheng, X.: TensorFlow: Large-scale machine learning on heterogeneous systems (2015), https://www.tensorflow.org/, software available from tensorﬂow.org\n",
      "\n",
      "[2] Alberti, M., Pondenkandath, V., W¨ursch, M., Ingold, R., Liwicki, M.: Deepdiva: a highly-functional python framework for reproducible experiments. In: 2018 16th International Conference on Frontiers in Handwriting Recognition (ICFHR). pp. 423–428. IEEE (2018)\n",
      "\n",
      "[3] Antonacopoulos, A., Bridson, D., Papadopoulos, C., Pletschacher, S.: A realistic dataset for performance evaluation of document layout analysis. In: 2009 10th International Conference on Document Analysis and Recognition. pp. 296–300. IEEE (2009)\n",
      "\n",
      "[4] Baek, Y., Lee, B., Han, D., Yun, S., Lee, H.: Character region awareness for text detection. In: Proceedings of the IEEE/CVF Conference on Computer Vision and Pattern Recognition. pp. 9365–9374 (2019)\n",
      "\n",
      "[5] Deng, J., Dong, W., Socher, R., Li, L.J., Li, K., Fei-Fei, L.: ImageNet: A Large-Scale\n",
      "\n",
      "Hierarchical Image Database. In: CVPR09 (2009)\n",
      "\n",
      "[6] Deng, Y., Kanervisto, A., Ling, J., Rush, A.M.: Image-to-markup generation with coarse-to-ﬁne attention. In: International Conference on Machine Learning. pp. 980–989. PMLR (2017)\n",
      "\n",
      "[7] Ganin, Y., Lempitsky, V.: Unsupervised domain adaptation by backpropagation. In: International conference on machine learning. pp. 1180–1189. PMLR (2015)\n",
      "\n",
      "LayoutParser: A Uniﬁed Toolkit for DL-Based DIA\n",
      "\n",
      "[8] Gardner, M., Grus, J., Neumann, M., Tafjord, O., Dasigi, P., Liu, N., Peters, M., Schmitz, M., Zettlemoyer, L.: Allennlp: A deep semantic natural language processing platform. arXiv preprint arXiv:1803.07640 (2018) (cid:32)Lukasz Garncarek, Powalski, R., Stanis(cid:32)lawek, T., Topolski, B., Halama, P., Grali´nski, F.: Lambert: Layout-aware (language) modeling using bert for in- formation extraction (2020)\n",
      "\n",
      "[9]\n",
      "\n",
      "[10] Graves, A., Fern´andez, S., Gomez, F., Schmidhuber, J.: Connectionist temporal classiﬁcation: labelling unsegmented sequence data with recurrent neural networks. In: Proceedings of the 23rd international conference on Machine learning. pp. 369–376 (2006)\n",
      "\n",
      "[11] Harley, A.W., Ufkes, A., Derpanis, K.G.: Evaluation of deep convolutional nets for document image classiﬁcation and retrieval. In: 2015 13th International Conference on Document Analysis and Recognition (ICDAR). pp. 991–995. IEEE (2015) [12] He, K., Gkioxari, G., Doll´ar, P., Girshick, R.: Mask r-cnn. In: Proceedings of the\n",
      "\n",
      "IEEE international conference on computer vision. pp. 2961–2969 (2017)\n",
      "\n",
      "[13] He, K., Zhang, X., Ren, S., Sun, J.: Deep residual learning for image recognition. In: Proceedings of the IEEE conference on computer vision and pattern recognition. pp. 770–778 (2016)\n",
      "\n",
      "[14] Kay, A.: Tesseract: An open-source optical character recognition engine. Linux J.\n",
      "\n",
      "2007(159), 2 (Jul 2007)\n",
      "\n",
      "[15] Lamiroy, B., Lopresti, D.: An open architecture for end-to-end document analysis benchmarking. In: 2011 International Conference on Document Analysis and Recognition. pp. 42–47. IEEE (2011)\n",
      "\n",
      "[16] Lee, B.C., Weld, D.S.: Newspaper navigator: Open faceted search for 1.5 million images. In: Adjunct Publication of the 33rd Annual ACM Sym- posium on User Interface Software and Technology. p. 120–122. UIST ’20 Adjunct, Association for Computing Machinery, New York, NY, USA (2020). https://doi.org/10.1145/3379350.3416143, https://doi-org.offcampus. lib.washington.edu/10.1145/3379350.3416143\n",
      "\n",
      "[17] Lee, B.C.G., Mears, J., Jakeway, E., Ferriter, M., Adams, C., Yarasavage, N., Thomas, D., Zwaard, K., Weld, D.S.: The Newspaper Navigator Dataset: Extracting Headlines and Visual Content from 16 Million Historic Newspaper Pages in Chronicling America, p. 3055–3062. Association for Computing Machinery, New York, NY, USA (2020), https://doi.org/10.1145/3340531.3412767\n",
      "\n",
      "[18] Li, M., Cui, L., Huang, S., Wei, F., Zhou, M., Li, Z.: Tablebank: Table benchmark for image-based table detection and recognition. arXiv preprint arXiv:1903.01949 (2019)\n",
      "\n",
      "[19] Lin, T.Y., Maire, M., Belongie, S., Hays, J., Perona, P., Ramanan, D., Doll´ar, P., Zitnick, C.L.: Microsoft coco: Common objects in context. In: European conference on computer vision. pp. 740–755. Springer (2014)\n",
      "\n",
      "[20] Long, J., Shelhamer, E., Darrell, T.: Fully convolutional networks for semantic segmentation. In: Proceedings of the IEEE conference on computer vision and pattern recognition. pp. 3431–3440 (2015)\n",
      "\n",
      "[21] Neudecker, C., Schlarb, S., Dogan, Z.M., Missier, P., Suﬁ, S., Williams, A., Wolsten- croft, K.: An experimental workﬂow development platform for historical document digitisation and analysis. In: Proceedings of the 2011 workshop on historical document imaging and processing. pp. 161–168 (2011)\n",
      "\n",
      "[22] Oliveira, S.A., Seguin, B., Kaplan, F.: dhsegment: A generic deep-learning approach for document segmentation. In: 2018 16th International Conference on Frontiers in Handwriting Recognition (ICFHR). pp. 7–12. IEEE (2018)\n",
      "\n",
      "15\n",
      "\n",
      "16\n",
      "\n",
      "Z. Shen et al.\n",
      "\n",
      "[23] Paszke, A., Gross, S., Chintala, S., Chanan, G., Yang, E., DeVito, Z., Lin, Z., Desmaison, A., Antiga, L., Lerer, A.: Automatic diﬀerentiation in pytorch (2017) [24] Paszke, A., Gross, S., Massa, F., Lerer, A., Bradbury, J., Chanan, G., Killeen, T., Lin, Z., Gimelshein, N., Antiga, L., et al.: Pytorch: An imperative style, high-performance deep learning library. arXiv preprint arXiv:1912.01703 (2019) [25] Pletschacher, S., Antonacopoulos, A.: The page (page analysis and ground-truth elements) format framework. In: 2010 20th International Conference on Pattern Recognition. pp. 257–260. IEEE (2010)\n",
      "\n",
      "[26] Prasad, D., Gadpal, A., Kapadni, K., Visave, M., Sultanpure, K.: Cascadetabnet: An approach for end to end table detection and structure recognition from image- based documents. In: Proceedings of the IEEE/CVF Conference on Computer Vision and Pattern Recognition Workshops. pp. 572–573 (2020)\n",
      "\n",
      "[27] Qasim, S.R., Mahmood, H., Shafait, F.: Rethinking table recognition using graph neural networks. In: 2019 International Conference on Document Analysis and Recognition (ICDAR). pp. 142–147. IEEE (2019)\n",
      "\n",
      "[28] Ren, S., He, K., Girshick, R., Sun, J.: Faster r-cnn: Towards real-time object detection with region proposal networks. In: Advances in neural information processing systems. pp. 91–99 (2015)\n",
      "\n",
      "[29] Scarselli, F., Gori, M., Tsoi, A.C., Hagenbuchner, M., Monfardini, G.: The graph neural network model. IEEE transactions on neural networks 20(1), 61–80 (2008) [30] Schreiber, S., Agne, S., Wolf, I., Dengel, A., Ahmed, S.: Deepdesrt: Deep learning for detection and structure recognition of tables in document images. In: 2017 14th IAPR international conference on document analysis and recognition (ICDAR). vol. 1, pp. 1162–1167. IEEE (2017)\n",
      "\n",
      "[31] Shen, Z., Zhang, K., Dell, M.: A large dataset of historical japanese documents with complex layouts. In: Proceedings of the IEEE/CVF Conference on Computer Vision and Pattern Recognition Workshops. pp. 548–549 (2020)\n",
      "\n",
      "[32] Shen, Z., Zhao, J., Dell, M., Yu, Y., Li, W.: Olala: Object-level active learning\n",
      "\n",
      "based layout annotation. arXiv preprint arXiv:2010.01762 (2020)\n",
      "\n",
      "[33] Studer, L., Alberti, M., Pondenkandath, V., Goktepe, P., Kolonko, T., Fischer, A., Liwicki, M., Ingold, R.: A comprehensive study of imagenet pre-training for historical document image analysis. In: 2019 International Conference on Document Analysis and Recognition (ICDAR). pp. 720–725. IEEE (2019)\n",
      "\n",
      "[34] Wolf, T., Debut, L., Sanh, V., Chaumond, J., Delangue, C., Moi, A., Cistac, P., Rault, T., Louf, R., Funtowicz, M., et al.: Huggingface’s transformers: State-of- the-art natural language processing. arXiv preprint arXiv:1910.03771 (2019) [35] Wu, Y., Kirillov, A., Massa, F., Lo, W.Y., Girshick, R.: Detectron2. https://\n",
      "\n",
      "github.com/facebookresearch/detectron2 (2019)\n",
      "\n",
      "[36] Xu, Y., Xu, Y., Lv, T., Cui, L., Wei, F., Wang, G., Lu, Y., Florencio, D., Zhang, C., Che, W., et al.: Layoutlmv2: Multi-modal pre-training for visually-rich document understanding. arXiv preprint arXiv:2012.14740 (2020)\n",
      "\n",
      "[37] Xu, Y., Li, M., Cui, L., Huang, S., Wei, F., Zhou, M.: Layoutlm: Pre-training of\n",
      "\n",
      "text and layout for document image understanding (2019)\n",
      "\n",
      "[38] Zhong, X., Tang, J., Yepes, A.J.: Publaynet:\n",
      "\n",
      "largest dataset ever for doc- In: 2019 International Conference on Document IEEE (Sep 2019).\n",
      "\n",
      "ument Analysis and Recognition (ICDAR). pp. 1015–1022. https://doi.org/10.1109/ICDAR.2019.00166\n",
      "\n",
      "layout analysis.\n",
      "{'source': '../../docs/layoutparser_paper.pdf'}\n"
     ]
    }
   ],
   "source": [
    "from langchain_community.document_loaders import UnstructuredPDFLoader\n",
    "\n",
    "loader = UnstructuredPDFLoader('../../docs/layoutparser_paper.pdf')\n",
    "data = loader.load()\n",
    "\n",
    "print(data[0].page_content)\n",
    "print(data[0].metadata)"
   ]
  },
  {
   "cell_type": "markdown",
   "id": "061161aa",
   "metadata": {},
   "source": [
    "Load PDF with complex parsing, table detection and chunking by sections\n",
    "\n",
    "Refer to https://community.databricks.com/t5/data-engineering/trying-to-use-pdf2image-on-databricks/td-p/12914\n"
   ]
  },
  {
   "cell_type": "code",
   "execution_count": null,
   "id": "0bc7b1f0",
   "metadata": {},
   "outputs": [],
   "source": [
    "# #install poppler on the cluster (should be done by init scripts)\n",
    "# def install_ocr_on_nodes():\n",
    "#     \"\"\"\n",
    "#     install poppler on the cluster (should be done by init scripts)\n",
    "#     \"\"\"\n",
    "#     # from pyspark.sql import SparkSession\n",
    "#     import subprocess\n",
    "#     num_workers = max(1,int(spark.conf.get(\"spark.databricks.clusterUsageTags.clusterWorkers\")))\n",
    "#     command = \"sudo rm -rf /var/cache/apt/archives/* /var/lib/apt/lists/* && sudo apt-get clean && sudo apt-get update && sudo apt-get install poppler-utils tesseract-ocr -y\" \n",
    "#     def run_subprocess(command):\n",
    "#         try:\n",
    "#             output = subprocess.check_output(command, stderr=subprocess.STDOUT, shell=True)\n",
    "#             return output.decode()\n",
    "#         except subprocess.CalledProcessError as e:\n",
    "#             raise Exception(\"An error occurred installing OCR libs:\"+ e.output.decode())\n",
    "#     #install on the driver\n",
    "#     run_subprocess(command)\n",
    "#     def run_command(iterator):\n",
    "#         for x in iterator:\n",
    "#             yield run_subprocess(command)\n",
    "#     # spark = SparkSession.builder.getOrCreate()\n",
    "#     data = spark.sparkContext.parallelize(range(num_workers), num_workers) \n",
    "#     # Use mapPartitions to run command in each partition (worker)\n",
    "#     output = data.mapPartitions(run_command)\n",
    "#     try:\n",
    "#         output.collect();\n",
    "#         print(\"OCR libraries installed\")\n",
    "#     except Exception as e:\n",
    "#         print(f\"Couldn't install on all node: {e}\")\n",
    "#         raise e"
   ]
  },
  {
   "cell_type": "code",
   "execution_count": 19,
   "id": "62af43a3",
   "metadata": {},
   "outputs": [],
   "source": [
    "# install_ocr_on_nodes()"
   ]
  },
  {
   "cell_type": "code",
   "execution_count": 1,
   "id": "d46381e3",
   "metadata": {},
   "outputs": [
    {
     "ename": "NameError",
     "evalue": "name 'UnstructuredPDFLoader' is not defined",
     "output_type": "error",
     "traceback": [
      "\u001b[31m---------------------------------------------------------------------------\u001b[39m",
      "\u001b[31mNameError\u001b[39m                                 Traceback (most recent call last)",
      "\u001b[36mCell\u001b[39m\u001b[36m \u001b[39m\u001b[32mIn[1]\u001b[39m\u001b[32m, line 2\u001b[39m\n\u001b[32m      1\u001b[39m \u001b[38;5;66;03m# takes 3-4 mins on Colab\u001b[39;00m\n\u001b[32m----> \u001b[39m\u001b[32m2\u001b[39m loader = \u001b[43mUnstructuredPDFLoader\u001b[49m(\u001b[33m'\u001b[39m\u001b[33m../../docs/layoutparser_paper.pdf\u001b[39m\u001b[33m'\u001b[39m,\n\u001b[32m      3\u001b[39m                                strategy=\u001b[33m'\u001b[39m\u001b[33mhi_res\u001b[39m\u001b[33m'\u001b[39m,\n\u001b[32m      4\u001b[39m                                extract_images_in_pdf=\u001b[38;5;28;01mFalse\u001b[39;00m,\n\u001b[32m      5\u001b[39m                                infer_table_structure=\u001b[38;5;28;01mTrue\u001b[39;00m,\n\u001b[32m      6\u001b[39m                                chunking_strategy=\u001b[33m\"\u001b[39m\u001b[33mby_title\u001b[39m\u001b[33m\"\u001b[39m,\n\u001b[32m      7\u001b[39m                                max_characters=\u001b[32m4000\u001b[39m, \u001b[38;5;66;03m# max size of chunks\u001b[39;00m\n\u001b[32m      8\u001b[39m                                new_after_n_chars=\u001b[32m3800\u001b[39m, \u001b[38;5;66;03m# preferred size of chunks\u001b[39;00m\n\u001b[32m      9\u001b[39m                                combine_text_under_n_chars=\u001b[32m2000\u001b[39m, \u001b[38;5;66;03m# smaller chunks < 2000 chars will be combined into a larger chunk\u001b[39;00m\n\u001b[32m     10\u001b[39m                                mode=\u001b[33m'\u001b[39m\u001b[33melements\u001b[39m\u001b[33m'\u001b[39m)\n\u001b[32m     11\u001b[39m data = loader.load()\n",
      "\u001b[31mNameError\u001b[39m: name 'UnstructuredPDFLoader' is not defined"
     ]
    }
   ],
   "source": [
    "# takes 3-4 mins on Colab\n",
    "loader = UnstructuredPDFLoader('../../docs/layoutparser_paper.pdf',\n",
    "                               strategy='hi_res',\n",
    "                               extract_images_in_pdf=False,\n",
    "                               infer_table_structure=True,\n",
    "                               chunking_strategy=\"by_title\",\n",
    "                               max_characters=4000, # max size of chunks\n",
    "                               new_after_n_chars=3800, # preferred size of chunks\n",
    "                               combine_text_under_n_chars=2000, # smaller chunks < 2000 chars will be combined into a larger chunk\n",
    "                               mode='elements')\n",
    "data = loader.load()"
   ]
  },
  {
   "cell_type": "code",
   "execution_count": 17,
   "id": "2d6d43a9",
   "metadata": {},
   "outputs": [
    {
     "data": {
      "text/plain": [
       "[Document(metadata={'source': '../../docs/layoutparser_paper.pdf', 'filetype': 'application/pdf', 'languages': ['eng'], 'last_modified': '2025-05-30T10:16:46', 'page_number': 1, 'orig_elements': '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', 'file_directory': '../../docs', 'filename': 'layoutparser_paper.pdf', 'category': 'CompositeElement', 'element_id': 'e92d93955d4e5194e452e84f607f1c86'}, page_content='1 2 0 2 n u J 1 2 ] V C . s\\n\\nc\\n\\n[\\n\\n2\\n\\n2103.15348v2 arXiv\\n\\nv\\n\\n8\\n\\n4\\n\\n3\\n\\n5\\n\\n1\\n\\n.\\n\\n3\\n\\n0\\n\\n1\\n\\n2\\n\\n:\\n\\nv\\n\\ni\\n\\nX\\n\\nr\\n\\na\\n\\nLayoutParser: A Uniﬁed Toolkit for Deep Learning Based Document Image Analysis\\n\\nZejiang Shen! (4), Ruochen Zhang”, Melissa Dell?, Benjamin Charles Germain Lee*, Jacob Carlson’, and Weining Li®\\n\\n1 Allen Institute for AI shannons@allenai.org 2 Brown University ruochen zhang@brown.edu 3 Harvard University {melissadell,jacob carlson}@fas.harvard.edu 4 University of Washington bcgl@cs.washington.edu 5 University of Waterloo w422li@uwaterloo.ca\\n\\nAbstract. Recent advances in document image analysis (DIA) have been primarily driven by the application of neural networks. Ideally, research outcomes could be easily deployed in production and extended for further investigation. However, various factors like loosely organized codebases and sophisticated model conﬁgurations complicate the easy reuse of im- portant innovations by a wide audience. Though there have been on-going eﬀorts to improve reusability and simplify deep learning (DL) model development in disciplines like natural language processing and computer vision, none of them are optimized for challenges in the domain of DIA. This represents a major gap in the existing toolkit, as DIA is central to academic research across a wide range of disciplines in the social sciences and humanities. This paper introduces LayoutParser, an open-source library for streamlining the usage of DL in DIA research and applica- tions. The core LayoutParser library comes with a set of simple and intuitive interfaces for applying and customizing DL models for layout de- tection, character recognition, and many other document processing tasks. To promote extensibility, LayoutParser also incorporates a community platform for sharing both pre-trained models and full document digiti- zation pipelines. We demonstrate that LayoutParser is helpful for both lightweight and large-scale digitization pipelines in real-word use cases. The library is publicly available at https://layout-parser.github.io.\\n\\nKeywords: Document Image Analysis · Deep Learning · Layout Analysis · Character Recognition · Open Source library · Toolkit.'), Document(metadata={'source': '../../docs/layoutparser_paper.pdf', 'filetype': 'application/pdf', 'languages': ['eng'], 'last_modified': '2025-05-30T10:16:46', 'page_number': 1, 'orig_elements': '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', 'file_directory': '../../docs', 'filename': 'layoutparser_paper.pdf', 'category': 'CompositeElement', 'element_id': 'd20214c808c037f1e143967102db98c5'}, page_content='1 Introduction\\n\\nDeep Learning(DL)-based approaches are the state-of-the-art for a wide range of document image analysis (DIA) tasks including document image classiﬁcation [11,\\n\\n2 Z. Shen et al.\\n\\n37], layout detection [38, 22], table detection [26], and scene text detection [4]. A generalized learning-based framework dramatically reduces the need for the manual speciﬁcation of complicated rules, which is the status quo with traditional methods. DL has the potential to transform DIA pipelines and beneﬁt a broad spectrum of large-scale document digitization projects.\\n\\nHowever, there are several practical diﬃculties for taking advantages of re- cent advances in DL-based methods: 1) DL models are notoriously convoluted for reuse and extension. Existing models are developed using distinct frame- works like TensorFlow [1] or PyTorch [24], and the high-level parameters can be obfuscated by implementation details [8]. It can be a time-consuming and frustrating experience to debug, reproduce, and adapt existing models for DIA, and many researchers who would beneﬁt the most from using these methods lack the technical background to implement them from scratch. 2) Document images contain diverse and disparate patterns across domains, and customized training is often required to achieve a desirable detection accuracy. Currently there is no full-ﬂedged infrastructure for easily curating the target document image datasets and ﬁne-tuning or re-training the models. 3) DIA usually requires a sequence of models and other processing to obtain the ﬁnal outputs. Often research teams use DL models and then perform further document analyses in separate processes, and these pipelines are not documented in any central location (and often not documented at all). This makes it diﬃcult for research teams to learn about how full pipelines are implemented and leads them to invest signiﬁcant resources in reinventing the DIA wheel.\\n\\nLayoutParser provides a uniﬁed toolkit to support DL-based document image analysis and processing. To address the aforementioned challenges, LayoutParser is built with the following components:\\n\\n1. An oﬀ-the-shelf toolkit for applying DL models for layout detection, character recognition, and other DIA tasks (Section 3)\\n\\n2. A rich repository of pre-trained neural network models (Model Zoo) that underlies the oﬀ-the-shelf usage\\n\\n3. Comprehensive tools for eﬃcient document image data annotation and model tuning to support diﬀerent levels of customization\\n\\n4. A DL model hub and community platform for the easy sharing, distribu- tion, and discussion of DIA models and pipelines, to promote reusability, reproducibility, and extensibility (Section 4)\\n\\nThe library implements simple and intuitive Python APIs without sacriﬁcing generalizability and versatility, and can be easily installed via pip. Its convenient functions for handling document image data can be seamlessly integrated with existing DIA pipelines. With detailed documentations and carefully curated tutorials, we hope this tool will beneﬁt a variety of end-users, and will lead to advances in applications in both industry and academic research.\\n\\nLayoutParser is well aligned with recent eﬀorts for improving DL model reusability in other disciplines like natural language processing [8, 34] and com- puter vision [35], but with a focus on unique challenges in DIA. We show LayoutParser can be applied in sophisticated and large-scale digitization projects\\n\\nLayoutParser: A Uniﬁed Toolkit for DL-Based DIA\\n\\nthat require precision, eﬃciency, and robustness, as well as simple and light- weight document processing tasks focusing on eﬃcacy and ﬂexibility (Section 5). LayoutParser is being actively maintained, and support for more deep learning models and novel methods in text-based layout analysis methods [37, 34] is planned.'), Document(metadata={'source': '../../docs/layoutparser_paper.pdf', 'filetype': 'application/pdf', 'languages': ['eng'], 'last_modified': '2025-05-30T10:16:46', 'page_number': 3, 'orig_elements': 'eJxtk8tu2zAQRX9loLUl6C0ruwLZFEiKAPGqRmBQ4shmQ5ECSflRw//eoZS0TqGdeIfncu6Q2l4DlNijcjvBgwcIYl6xiqVViHXWhXm8jkNW8iJM0xzztmN5U6fBCoIeHePMMWKuQau14UIxh3ZaS3bRo9sdUOwPjpQ0jWNiPuST4O5AalJN6qCFcp7bbrMqi5IV5HUWFW8r+FyXRR6t/TrJsjoqF4SZICWwF+uw90lexBnl68BaDG5U4OiwdUKrXSuZtbvB6Ia2xVGdJfmaNnRCorsMOLEvz8HUsNqPbD+l2gao9sHbpFq36zUXncBpZmmcFmFchFm8SeKHpHzIy4kW6n0ir4F1zNCEFcczCUVBVYdnN8F+62ik/7Zzh1ESpb7n/7mkvgezRTBbAtNyfQfmi2C+CFb1HVgsgsUSmFXJHVgugmVw8+McaMA7NfYNGg/e7rjNAcGgdaA7cPQ9sAENCAva7JkSv5EDs9BpKfXJRvA6W0MKdLlHwdECU6CPaI4CT97EoKRHyuGkzXsE3r7VBuFpepgvzFiyl6IxzFxW8PgEz5qjhJ9ar8iJQztap/vp3H6qOMOEEmoPjFzovNaIhopC/e0lm0nfPfnN1GFsZjvd92MISrgLDNRYp03/4eQYvcYvRvm/fAXYAwUGd9KAZ9YPkpJSOhK/RmkpfoMw2tlqMIwMWibh8fs3P6NfZGjnBj+9S+pKtXKkMJG/tc8/4gczhjlxxI2/m9vbHzR5Uow=', 'file_directory': '../../docs', 'filename': 'layoutparser_paper.pdf', 'category': 'CompositeElement', 'element_id': '893c3ca427905529f43ee1c2bf979008'}, page_content='The rest of the paper is organized as follows. Section 2 provides an overview of related work. The core LayoutParser library, DL Model Zoo, and customized model training are described in Section 3, and the DL model hub and commu- nity platform are detailed in Section 4. Section 5 shows two examples of how LayoutParser can be used in practical DIA projects, and Section 6 concludes.'), Document(metadata={'source': '../../docs/layoutparser_paper.pdf', 'filetype': 'application/pdf', 'languages': ['eng'], 'last_modified': '2025-05-30T10:16:46', 'page_number': 3, 'orig_elements': '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', 'file_directory': '../../docs', 'filename': 'layoutparser_paper.pdf', 'category': 'CompositeElement', 'element_id': '6a5b5e2f89a6de571d8eb9fbb814f0b7'}, page_content='2 Related Work\\n\\nRecently, various DL models and datasets have been developed for layout analysis tasks. The dhSegment [22] utilizes fully convolutional networks [20] for segmen- tation tasks on historical documents. Object detection-based methods like Faster R-CNN [28] and Mask R-CNN [12] are used for identifying document elements [38] and detecting tables [30, 26]. Most recently, Graph Neural Networks [29] have also been used in table detection [27]. However, these models are usually implemented individually and there is no uniﬁed framework to load and use such models.\\n\\nThere has been a surge of interest in creating open-source tools for document image processing: a search of document image analysis in Github leads to 5M relevant code pieces 6; yet most of them rely on traditional rule-based methods or provide limited functionalities. The closest prior research to our work is the OCR-D project7, which also tries to build a complete toolkit for DIA. However, similar to the platform developed by Neudecker et al. [21], it is designed for analyzing historical documents, and provides no supports for recent DL models. The DocumentLayoutAnalysis project8 focuses on processing born-digital PDF documents via analyzing the stored PDF data. Repositories like DeepLayout9 and Detectron2-PubLayNet10 are individual deep learning models trained on layout analysis datasets without support for the full DIA pipeline. The Document Analysis and Exploitation (DAE) platform [15] and the DeepDIVA project [2] aim to improve the reproducibility of DIA methods (or DL models), yet they are not actively maintained. OCR engines like Tesseract [14], easyOCR11 and paddleOCR12 usually do not come with comprehensive functionalities for other DIA tasks like layout analysis.\\n\\nRecent years have also seen numerous eﬀorts to create libraries for promoting reproducibility and reusability in the ﬁeld of DL. Libraries like Dectectron2 [35],\\n\\n6 The number shown is obtained by specifying the search type as ‘code’.\\n\\n7 https://ocr-d.de/en/about\\n\\n8 https://github.com/BobLd/DocumentLayoutAnalysis\\n\\n9 https://github.com/leonlulu/DeepLayout\\n\\n10 https://github.com/hpanwar08/detectron2\\n\\n11 https://github.com/JaidedAI/EasyOCR\\n\\n12 https://github.com/PaddlePaddle/PaddleOCR\\n\\n4\\n\\nZ. Shen et al.\\n\\nEfficient Data Annotation Model Customization Document Images Community Platform ‘A >) ¥ DIA Model Hub a Customized Model Training] == | Layout Detection Models | ——= DIA Pipeline Sharing ~ OCR Module = { Layout Data stuctue ) = (store Visualization LY\\n\\nFig.1: The overall architecture of LayoutParser. For an input document image, the core LayoutParser library provides a set of oﬀ-the-shelf tools for layout detection, OCR, visualization, and storage, backed by a carefully designed layout data structure. LayoutParser also supports high level customization via eﬃcient layout annotation and model training functions. These improve model accuracy on the target samples. The community platform enables the easy sharing of DIA models and whole digitization pipelines to promote reusability and reproducibility. A collection of detailed documentation, tutorials and exemplar projects make LayoutParser easy to learn and use.\\n\\nAllenNLP [8] and transformers [34] have provided the community with complete DL-based support for developing and deploying models for general computer vision and natural language processing problems. LayoutParser, on the other hand, specializes speciﬁcally in DIA tasks. LayoutParser is also equipped with a community platform inspired by established model hubs such as Torch Hub [23] and TensorFlow Hub [1]. It enables the sharing of pretrained models as well as full document processing pipelines that are unique to DIA tasks.'), Document(metadata={'source': '../../docs/layoutparser_paper.pdf', 'filetype': 'application/pdf', 'languages': ['eng'], 'last_modified': '2025-05-30T10:16:46', 'page_number': 4, 'text_as_html': \"<table><thead><tr><th>Dataset</th><th>| Base Model'|</th><th>| Notes</th></tr></thead><tbody><tr><td>PubLayNet B8]|</td><td>F/M</td><td>Layouts of modern scientific documents</td></tr><tr><td>PRImA</td><td>M</td><td>Layouts of scanned modern magazines and scientific report</td></tr><tr><td>Newspaper</td><td>F</td><td>Layouts of scanned US newspapers from the 20th century</td></tr><tr><td>TableBank</td><td>F</td><td>Table region on modern scientific and business document</td></tr><tr><td>HJDataset</td><td>F/M</td><td>Layouts of history Japanese documents</td></tr></tbody></table>\", 'orig_elements': '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', 'file_directory': '../../docs', 'filename': 'layoutparser_paper.pdf', 'category': 'CompositeElement', 'element_id': '871de4ec5ecffd0e1fe5924355785a2b'}, page_content='There have been a variety of document data collections to facilitate the development of DL models. Some examples include PRImA [3](magazine layouts), PubLayNet [38](academic paper layouts), Table Bank [18](tables in academic papers), Newspaper Navigator Dataset [16, 17](newspaper ﬁgure layouts) and HJDataset [31](historical Japanese document layouts). A spectrum of models trained on these datasets are currently available in the LayoutParser model zoo to support diﬀerent use cases.\\n\\n3 The Core LayoutParser Library\\n\\nAt the core of LayoutParser is an oﬀ-the-shelf toolkit that streamlines DL- based document image analysis. Five components support a simple interface with comprehensive functionalities: 1) The layout detection models enable using pre-trained or self-trained DL models for layout detection with just four lines of code. 2) The detected layout information is stored in carefully engineered\\n\\nLayoutParser: A Uniﬁed Toolkit for DL-Based DIA\\n\\nTable 1: Current layout detection models in the LayoutParser model zoo\\n\\nDataset Base Model1 Large Model Notes PubLayNet [38] F / M M Layouts of modern scientiﬁc documents PRImA [3] M - Layouts of scanned modern magazines and scientiﬁc reports Newspaper [17] F - Layouts of scanned US newspapers from the 20th century TableBank [18] F F Table region on modern scientiﬁc and business document HJDataset [31] F / M - Layouts of history Japanese documents\\n\\n1 For each dataset, we train several models of diﬀerent sizes for diﬀerent needs (the trade-oﬀ between accuracy vs. computational cost). For “base model” and “large model”, we refer to using the ResNet 50 or ResNet 101 backbones [13], respectively. One can train models of diﬀerent architectures, like Faster R-CNN [28] (F) and Mask R-CNN [12] (M). For example, an F in the Large Model column indicates it has a Faster R-CNN model trained using the ResNet 101 backbone. The platform is maintained and a number of additions will be made to the model zoo in coming months.\\n\\nlayout data structures, which are optimized for eﬃciency and versatility. 3) When necessary, users can employ existing or customized OCR models via the uniﬁed API provided in the OCR module. 4) LayoutParser comes with a set of utility functions for the visualization and storage of the layout data. 5) LayoutParser is also highly customizable, via its integration with functions for layout data annotation and model training. We now provide detailed descriptions for each component.'), Document(metadata={'source': '../../docs/layoutparser_paper.pdf', 'filetype': 'application/pdf', 'languages': ['eng'], 'last_modified': '2025-05-30T10:16:46', 'page_number': 5, 'orig_elements': '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', 'file_directory': '../../docs', 'filename': 'layoutparser_paper.pdf', 'category': 'CompositeElement', 'element_id': '07af1e1a3f94372be8e1f1afb5187b68'}, page_content='3.1 Layout Detection Models\\n\\nIn LayoutParser, a layout model takes a document image as an input and generates a list of rectangular boxes for the target content regions. Diﬀerent from traditional methods, it relies on deep convolutional neural networks rather than manually curated rules to identify content regions. It is formulated as an object detection problem and state-of-the-art models like Faster R-CNN [28] and Mask R-CNN [12] are used. This yields prediction results of high accuracy and makes it possible to build a concise, generalized interface for layout detection. LayoutParser, built upon Detectron2 [35], provides a minimal API that can perform layout detection with only four lines of code in Python:\\n\\n1 import layoutparser as lp\\n\\n2 image = cv2.imread(\"image_file\") # load images 3 model = lp.Detectron2LayoutModel( 4 \"lp://PubLayNet/faster_rcnn_R_50_FPN_3x/config\")\\n\\n3 model = lp.Detectron2LayoutModel(\\n\\n5 layout = model.detect(image)\\n\\nLayoutParser provides a wealth of pre-trained model weights using various datasets covering diﬀerent languages, time periods, and document types. Due to domain shift [7], the prediction performance can notably drop when models are ap- plied to target samples that are signiﬁcantly diﬀerent from the training dataset. As document structures and layouts vary greatly in diﬀerent domains, it is important to select models trained on a dataset similar to the test samples. A semantic syntax is used for initializing the model weights in LayoutParser, using both the dataset name and model name lp://<dataset-name>/<model-architecture-name>.\\n\\n6\\n\\nZ. Shen et al.\\n\\n3 a a 4 a 3 — usta . i 8 8 4 8 3 3 t £ a ° Hy a 6 ‘ g ¥ Coordinate g 2 8 4 + 6 * 3 8 Extra features =| 9%) | Hock) Reading é ret | | Type | | order 2 & a ¢ @ [ coordinatel textblock1, 8 3 ’ 2 Q 3 , textblock2 , layoutl ] 8 q ® A list of the layout elements ‘sf\\n\\nFig.2: The relationship between the three types of layout data structures. Coordinate supports three kinds of variation; TextBlock consists of the co- ordinate information and extra features like block text, types, and reading orders; a Layout object is a list of all possible layout elements, including other Layout objects. They all support the same set of transformation and operation APIs for maximum ﬂexibility.\\n\\nShown in Table 1, LayoutParser currently hosts 9 pre-trained models trained on 5 diﬀerent datasets. Description of the training dataset is provided alongside with the trained models such that users can quickly identify the most suitable models for their tasks. Additionally, when such a model is not readily available, LayoutParser also supports training customized layout models and community sharing of the models (detailed in Section 3.5).'), Document(metadata={'source': '../../docs/layoutparser_paper.pdf', 'filetype': 'application/pdf', 'languages': ['eng'], 'last_modified': '2025-05-30T10:16:46', 'page_number': 6, 'orig_elements': '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', 'file_directory': '../../docs', 'filename': 'layoutparser_paper.pdf', 'category': 'CompositeElement', 'element_id': 'a1829b851d0576d3987fdcc0fac3a951'}, page_content='3.2 Layout Data Structures\\n\\nA critical feature of LayoutParser is the implementation of a series of data structures and operations that can be used to eﬃciently process and manipulate the layout elements. In document image analysis pipelines, various post-processing on the layout analysis model outputs is usually required to obtain the ﬁnal outputs. Traditionally, this requires exporting DL model outputs and then loading the results into other pipelines. All model outputs from LayoutParser will be stored in carefully engineered data types optimized for further processing, which makes it possible to build an end-to-end document digitization pipeline within LayoutParser. There are three key components in the data structure, namely the Coordinate system, the TextBlock, and the Layout. They provide diﬀerent levels of abstraction for the layout data, and a set of APIs are supported for transformations or operations on these classes.\\n\\nLayoutParser: A Uniﬁed Toolkit for DL-Based DIA\\n\\nCoordinates are the cornerstones for storing layout information. Currently, three types of Coordinate data structures are provided in LayoutParser, shown in Figure 2. Interval and Rectangle are the most common data types and support specifying 1D or 2D regions within a document. They are parameterized with 2 and 4 parameters. A Quadrilateral class is also implemented to support a more generalized representation of rectangular regions when the document is skewed or distorted, where the 4 corner points can be speciﬁed and a total of 8 degrees of freedom are supported. A wide collection of transformations like shift, pad, and scale, and operations like intersect, union, and is_in, are supported for these classes. Notably, it is common to separate a segment of the image and analyze it individually. LayoutParser provides full support for this scenario via image cropping operations crop_image and coordinate transformations like relative_to and condition_on that transform coordinates to and from their relative representations. We refer readers to Table 2 for a more detailed description of these operations13.\\n\\nBased on Coordinates, we implement the TextBlock class that stores both the positional and extra features of individual layout elements. It also supports specifying the reading orders via setting the parent ﬁeld to the index of the parent object. A Layout class is built that takes in a list of TextBlocks and supports processing the elements in batch. Layout can also be nested to support hierarchical layout structures. They support the same operations and transformations as the Coordinate classes, minimizing both learning and deployment eﬀort.'), Document(metadata={'source': '../../docs/layoutparser_paper.pdf', 'filetype': 'application/pdf', 'languages': ['eng'], 'last_modified': '2025-05-30T10:16:46', 'page_number': 7, 'text_as_html': '<table><thead><tr><th>block.pad(top, bottom,</th><th>right,</th><th>left)</th><th>Enlarge the current block according to the input</th></tr></thead><tbody><tr><td>block.scale(fx, fy)</td><td></td><td></td><td>Scale the current block given the ratio in x and y direction</td></tr><tr><td>block.shift(dx, dy)</td><td></td><td></td><td>Move the current block with the shift distances in x and y direction</td></tr><tr><td>block1.is_in(block2)</td><td></td><td></td><td>Whether block] is inside of block2</td></tr><tr><td>block1. intersect (block2)</td><td></td><td></td><td>Return the intersection region of blockl and block2. Coordinate type to be determined based on the inputs</td></tr><tr><td>block1.union(block2)</td><td></td><td></td><td>Return the union region of blockl and block2. Coordinate type to be determined based on the inputs</td></tr><tr><td>block1.relative_to(block2)</td><td></td><td></td><td>Convert the absolute coordinates of blockl to relative coordinates to block2</td></tr><tr><td>block1.condition_on(block2)</td><td></td><td></td><td>Calculate the absolute coordinates of blockl given the canvas block2’s absolute coordinates</td></tr><tr><td>block. crop_image (image)</td><td></td><td></td><td>Obtain the image segments in the block region</td></tr></tbody></table>', 'orig_elements': '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', 'file_directory': '../../docs', 'filename': 'layoutparser_paper.pdf', 'category': 'CompositeElement', 'element_id': 'e7f4f5217cf739c48045e6311e2c8160'}, page_content='3.3 OCR\\n\\nLayoutParser provides a uniﬁed interface for existing OCR tools. Though there are many OCR tools available, they are usually conﬁgured diﬀerently with distinct APIs or protocols for using them. It can be ineﬃcient to add new OCR tools into an existing pipeline, and diﬃcult to make direct comparisons among the available tools to ﬁnd the best option for a particular project. To this end, LayoutParser builds a series of wrappers among existing OCR engines, and provides nearly the same syntax for using them. It supports a plug-and-play style of using OCR engines, making it eﬀortless to switch, evaluate, and compare diﬀerent OCR modules:\\n\\n1 ocr_agent = lp.TesseractAgent() 2 # Can be easily switched to other OCR software 3 tokens = ocr_agent.detect(image)\\n\\nThe OCR outputs will also be stored in the aforementioned layout data structures and can be seamlessly incorporated into the digitization pipeline. Currently LayoutParser supports the Tesseract and Google Cloud Vision OCR engines.\\n\\nLayoutParser also comes with a DL-based CNN-RNN OCR model [6] trained with the Connectionist Temporal Classiﬁcation (CTC) loss [10]. It can be used like the other OCR modules, and can be easily trained on customized datasets.\\n\\n13 This is also available in the LayoutParser documentation pages.\\n\\n8 Z. Shen et al.\\n\\nTable 2: All operations supported by the layout elements. The same APIs are supported across diﬀerent layout element classes including Coordinate types, TextBlock and Layout.\\n\\nOperation Name Description block.pad(top, bottom, right, left) Enlarge the current block according to the input block.scale(fx, fy) Scale the current block given the ratio in x and y direction block.shift(dx, dy) Move the current block with the shift distances in x and y direction block1.is in(block2) Whether block1 is inside of block2 block1.intersect(block2) Return the intersection region of block1 and block2. Coordinate type to be determined based on the inputs. block1.union(block2) Return the union region of block1 and block2. Coordinate type to be determined based on the inputs. block1.relative to(block2) Convert the absolute coordinates of block1 to relative coordinates to block2 block1.condition on(block2) Calculate the absolute coordinates of block1 given the canvas block2’s absolute coordinates block.crop image(image) Obtain the image segments in the block region'), Document(metadata={'source': '../../docs/layoutparser_paper.pdf', 'filetype': 'application/pdf', 'languages': ['eng'], 'last_modified': '2025-05-30T10:16:46', 'page_number': 8, 'orig_elements': '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', 'file_directory': '../../docs', 'filename': 'layoutparser_paper.pdf', 'category': 'CompositeElement', 'element_id': 'f83e77d91168d519768b22707544543f'}, page_content='3.4 Storage and visualization\\n\\nThe end goal of DIA is to transform the image-based document data into a structured database. LayoutParser supports exporting layout data into diﬀerent formats like JSON, csv, and will add the support for the METS/ALTO XML format 14 . It can also load datasets from layout analysis-speciﬁc formats like COCO [38] and the Page Format [25] for training layout models (Section 3.5).\\n\\nVisualization of the layout detection results is critical for both presentation and debugging. LayoutParser is built with an integrated API for displaying the layout information along with the original document image. Shown in Figure 3, it enables presenting layout data with rich meta information and features in diﬀerent modes. More detailed information can be found in the online LayoutParser documentation page.\\n\\n3.5 Customized Model Training\\n\\nBesides the oﬀ-the-shelf library, LayoutParser is also highly customizable with supports for highly unique and challenging document analysis tasks. Target document images can be vastly diﬀerent from the existing datasets for train- ing layout models, which leads to low layout detection accuracy. Training data\\n\\n14 https://altoxml.github.io\\n\\nLayoutParser: A Uniﬁed Toolkit for DL-Based DIA\\n\\n0g Burpunog uayor Aeydsiq:1 vondo 10g Guypunog usyou ap:z uondo Mode I: Showing Layout on the Original Image Mode Il: Drawing OCR’ Text at the Correspoding Position\\n\\nFig.3: Layout detection and OCR results visualization generated by the LayoutParser APIs. Mode I directly overlays the layout region bounding boxes and categories over the original image. Mode II recreates the original document via drawing the OCR’d texts at their corresponding positions on the image canvas. In this ﬁgure, tokens in textual regions are ﬁltered using the API and then displayed.\\n\\ncan also be highly sensitive and not sharable publicly. To overcome these chal- lenges, LayoutParser is built with rich features for eﬃcient data annotation and customized model training.\\n\\nLayoutParser incorporates a toolkit optimized for annotating document lay- outs using object-level active learning [32]. With the help from a layout detection model trained along with labeling, only the most important layout objects within each image, rather than the whole image, are required for labeling. The rest of the regions are automatically annotated with high conﬁdence predictions from the layout detection model. This allows a layout dataset to be created more eﬃciently with only around 60% of the labeling budget.\\n\\nAfter the training dataset is curated, LayoutParser supports diﬀerent modes for training the layout models. Fine-tuning can be used for training models on a small newly-labeled dataset by initializing the model with existing pre-trained weights. Training from scratch can be helpful when the source dataset and target are signiﬁcantly diﬀerent and a large training set is available. However, as suggested in Studer et al.’s work[33], loading pre-trained weights on large-scale datasets like ImageNet [5], even from totally diﬀerent domains, can still boost model performance. Through the integrated API provided by LayoutParser, users can easily compare model performances on the benchmark datasets.\\n\\n10 Z. Shen et al.\\n\\nIntra-column reading order Token Categories tie (Adress tee Ewumber Variable Column reading order HEE company ype Column Categories (J tite Adress 1] ree [7] Section Header Maximum Allowed Height (b) Illustration of the recreated document with dense text structure for better OCR performance\\n\\nFig.4: Illustration of (a) the original historical Japanese document with layout detection results and (b) a recreated version of the document image that achieves much better character recognition recall. The reorganization algorithm rearranges the tokens based on the their detected bounding boxes given a maximum allowed height.'), Document(metadata={'source': '../../docs/layoutparser_paper.pdf', 'filetype': 'application/pdf', 'languages': ['eng'], 'last_modified': '2025-05-30T10:16:46', 'page_number': 10, 'orig_elements': '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', 'file_directory': '../../docs', 'filename': 'layoutparser_paper.pdf', 'category': 'CompositeElement', 'element_id': '0d62625f34062c3ae2c3379cfa8155dc'}, page_content='4 LayoutParser Community Platform\\n\\nAnother focus of LayoutParser is promoting the reusability of layout detection models and full digitization pipelines. Similar to many existing deep learning libraries, LayoutParser comes with a community model hub for distributing layout models. End-users can upload their self-trained models to the model hub, and these models can be loaded into a similar interface as the currently available LayoutParser pre-trained models. For example, the model trained on the News Navigator dataset [17] has been incorporated in the model hub.\\n\\nBeyond DL models, LayoutParser also promotes the sharing of entire doc- ument digitization pipelines. For example, sometimes the pipeline requires the combination of multiple DL models to achieve better accuracy. Currently, pipelines are mainly described in academic papers and implementations are often not pub- licly available. To this end, the LayoutParser community platform also enables the sharing of layout pipelines to promote the discussion and reuse of techniques. For each shared pipeline, it has a dedicated project page, with links to the source code, documentation, and an outline of the approaches. A discussion panel is provided for exchanging ideas. Combined with the core LayoutParser library, users can easily build reusable components based on the shared pipelines and apply them to solve their unique problems.\\n\\n5 Use Cases\\n\\nThe core objective of LayoutParser is to make it easier to create both large-scale and light-weight document digitization pipelines. Large-scale document processing\\n\\nLayoutParser: A Uniﬁed Toolkit for DL-Based DIA\\n\\nfocuses on precision, eﬃciency, and robustness. The target documents may have complicated structures, and may require training multiple layout detection models to achieve the optimal accuracy. Light-weight pipelines are built for relatively simple documents, with an emphasis on development ease, speed and ﬂexibility. Ideally one only needs to use existing resources, and model training should be avoided. Through two exemplar projects, we show how practitioners in both academia and industry can easily build such pipelines using LayoutParser and extract high-quality structured document data for their downstream tasks. The source code for these projects will be publicly available in the LayoutParser community hub.'), Document(metadata={'source': '../../docs/layoutparser_paper.pdf', 'filetype': 'application/pdf', 'languages': ['eng'], 'last_modified': '2025-05-30T10:16:46', 'page_number': 11, 'orig_elements': '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', 'file_directory': '../../docs', 'filename': 'layoutparser_paper.pdf', 'category': 'CompositeElement', 'element_id': 'aa1c1db3f9a6e3cb3b43737c46200b7d'}, page_content='5.1 A Comprehensive Historical Document Digitization Pipeline\\n\\nThe digitization of historical documents can unlock valuable data that can shed light on many important social, economic, and historical questions. Yet due to scan noises, page wearing, and the prevalence of complicated layout structures, ob- taining a structured representation of historical document scans is often extremely complicated.\\n\\nIn this example, LayoutParser was used to develop a comprehensive pipeline, shown in Figure 5, to gener- ate high-quality structured data from historical Japanese ﬁrm ﬁnancial ta- bles with complicated layouts. The pipeline applies two layout models to identify diﬀerent levels of document structures and two customized OCR engines for optimized character recog- nition accuracy.\\n\\nAs shown in Figure 4 (a), the document contains columns of text written vertically 15, a common style in Japanese. Due to scanning noise and archaic printing technology, the columns can be skewed or have vari- able widths, and hence cannot be eas- ily identiﬁed via rule-based methods. Within each column, words are sepa- rated by white spaces of variable size, and the vertical positions of objects can be an indicator of their layout type.\\n\\n-—————————_ Gow Annotate Layout Dataset |i¢-— (mciaiel oi ¥ 7 : Deep Leaming Layout ayout Detection | ~~ (Mode Training & inference, ¥ Postiprocessing | «<— { Handy Data Structures & a APIs for Layout Data_) 4 Text Recognition | <—— Default ane Customized ¥ eT Visualization & Export | *—— | visualization & Storage LS rieaien Beatie tiny oa eieeate\\n\\nFig.5: Illustration of how LayoutParser helps with the historical document digi- tization pipeline.\\n\\n15 A document page consists of eight rows like this. For simplicity we skip the row segmentation discussion and refer readers to the source code when available.'), Document(metadata={'source': '../../docs/layoutparser_paper.pdf', 'filetype': 'application/pdf', 'languages': ['eng'], 'last_modified': '2025-05-30T10:16:46', 'page_number': 12, 'orig_elements': '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', 'file_directory': '../../docs', 'filename': 'layoutparser_paper.pdf', 'category': 'CompositeElement', 'element_id': '092274e161e9b9c5639591138863504d'}, page_content='12 Z. Shen et al.\\n\\nTo decipher the complicated layout\\n\\nstructure, two object detection models have been trained to recognize individual columns and tokens, respectively. A small training set (400 images with approxi- mately 100 annotations each) is curated via the active learning based annotation tool [32] in LayoutParser. The models learn to identify both the categories and regions for each token or column via their distinct visual features. The layout data structure enables easy grouping of the tokens within each column, and rearranging columns to achieve the correct reading orders based on the horizontal position. Errors are identiﬁed and rectiﬁed via checking the consistency of the model predictions. Therefore, though trained on a small dataset, the pipeline achieves a high level of layout detection accuracy: it achieves a 96.97 AP [19] score across 5 categories for the column detection model, and a 89.23 AP across 4 categories for the token detection model.\\n\\nA combination of character recognition methods is developed to tackle the unique challenges in this document. In our experiments, we found that irregular spacing between the tokens led to a low character recognition recall rate, whereas existing OCR models tend to perform better on densely-arranged texts. To overcome this challenge, we create a document reorganization algorithm that rearranges the text based on the token bounding boxes detected in the layout analysis step. Figure 4 (b) illustrates the generated image of dense text, which is sent to the OCR APIs as a whole to reduce the transaction costs. The ﬂexible coordinate system in LayoutParser is used to transform the OCR results relative to their original positions on the page.\\n\\nAdditionally, it is common for historical documents to use unique fonts with diﬀerent glyphs, which signiﬁcantly degrades the accuracy of OCR models trained on modern texts. In this document, a special ﬂat font is used for printing numbers and could not be detected by oﬀ-the-shelf OCR engines. Using the highly ﬂexible functionalities from LayoutParser, a pipeline approach is constructed that achieves a high recognition accuracy with minimal eﬀort. As the characters have unique visual structures and are usually clustered together, we train the layout model to identify number regions with a dedicated category. Subsequently, LayoutParser crops images within these regions, and identiﬁes characters within them using a self-trained OCR model based on a CNN-RNN [6]. The model detects a total of 15 possible categories, and achieves a 0.98 Jaccard score16 and a 0.17 average Levinstein distances17 for token prediction on the test set.\\n\\nOverall, it is possible to create an intricate and highly accurate digitization pipeline for large-scale digitization using LayoutParser. The pipeline avoids specifying the complicated rules used in traditional methods, is straightforward to develop, and is robust to outliers. The DL models also generate ﬁne-grained results that enable creative approaches like page reorganization for OCR.\\n\\n16 This measures the overlap between the detected and ground-truth characters, and the maximum is 1.\\n\\n17 This measures the number of edits from the ground-truth text to the predicted text, and lower is better.\\n\\nLayoutParser: A Uniﬁed Toolkit for DL-Based DIA\\n\\n(@) Partial table at the bottom (6) Full page table (©) Partial table at the top (@) Mis-detected text line\\n\\nFig.6: This lightweight table detector can identify tables (outlined in red) and cells (shaded in blue) in diﬀerent locations on a page. In very few cases (d), it might generate minor error predictions, e.g, failing to capture the top text line of a table.'), Document(metadata={'source': '../../docs/layoutparser_paper.pdf', 'filetype': 'application/pdf', 'languages': ['eng'], 'last_modified': '2025-05-30T10:16:46', 'page_number': 13, 'orig_elements': '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', 'file_directory': '../../docs', 'filename': 'layoutparser_paper.pdf', 'category': 'CompositeElement', 'element_id': 'c8637eaa1789589a91a5861525ef2536'}, page_content='5.2 A light-weight Visual Table Extractor\\n\\nDetecting tables and parsing their structures (table extraction) are of central im- portance for many document digitization tasks. Many previous works [26, 30, 27] and tools 18 have been developed to identify and parse table structures. Yet they might require training complicated models from scratch, or are only applicable for born-digital PDF documents. In this section, we show how LayoutParser can help build a light-weight accurate visual table extractor for legal docket tables using the existing resources with minimal eﬀort.\\n\\nThe extractor uses a pre-trained layout detection model for identifying the table regions and some simple rules for pairing the rows and the columns in the PDF image. Mask R-CNN [12] trained on the PubLayNet dataset [38] from the LayoutParser Model Zoo can be used for detecting table regions. By ﬁltering out model predictions of low conﬁdence and removing overlapping predictions, LayoutParser can identify the tabular regions on each page, which signiﬁcantly simpliﬁes the subsequent steps. By applying the line detection functions within the tabular segments, provided in the utility module from LayoutParser, the pipeline can identify the three distinct columns in the tables. A row clustering method is then applied via analyzing the y coordinates of token bounding boxes in the left-most column, which are obtained from the OCR engines. A non-maximal suppression algorithm is used to remove duplicated rows with extremely small gaps. Shown in Figure 6, the built pipeline can detect tables at diﬀerent positions on a page accurately. Continued tables from diﬀerent pages are concatenated, and a structured table representation has been easily created.\\n\\n18 https://github.com/atlanhq/camelot, https://github.com/tabulapdf/tabula\\n\\n14 Z. Shen et al.\\n\\n6 Conclusion\\n\\nLayoutParser provides a comprehensive toolkit for deep learning-based document image analysis. The oﬀ-the-shelf library is easy to install, and can be used to build ﬂexible and accurate pipelines for processing documents with complicated structures. It also supports high-level customization and enables easy labeling and training of DL models on unique document image datasets. The LayoutParser community platform facilitates sharing DL models and DIA pipelines, inviting discussion and promoting code reproducibility and reusability. The LayoutParser team is committed to keeping the library updated continuously and bringing the most recent advances in DL-based DIA, such as multi-modal document modeling [37, 36, 9] (an upcoming priority), to a diverse audience of end-users.\\n\\nAcknowledgements We thank the anonymous reviewers for their comments and suggestions. This project is supported in part by NSF Grant OIA-2033558 and funding from the Harvard Data Science Initiative and Harvard Catalyst. Zejiang Shen thanks Doug Downey for suggestions.'), Document(metadata={'source': '../../docs/layoutparser_paper.pdf', 'filetype': 'application/pdf', 'languages': ['eng'], 'last_modified': '2025-05-30T10:16:46', 'page_number': 14, 'orig_elements': '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', 'file_directory': '../../docs', 'filename': 'layoutparser_paper.pdf', 'category': 'CompositeElement', 'element_id': '1eff6f6d18194b3815cf3313760ea955'}, page_content='References\\n\\n[1] Abadi, M., Agarwal, A., Barham, P., Brevdo, E., Chen, Z., Citro, C., Corrado, G.S., Davis, A., Dean, J., Devin, M., Ghemawat, S., Goodfellow, I., Harp, A., Irving, G., Isard, M., Jia, Y., Jozefowicz, R., Kaiser, L., Kudlur, M., Levenberg, J., Man´e, D., Monga, R., Moore, S., Murray, D., Olah, C., Schuster, M., Shlens, J., Steiner, B., Sutskever, I., Talwar, K., Tucker, P., Vanhoucke, V., Vasudevan, V., Vi´egas, F., Vinyals, O., Warden, P., Wattenberg, M., Wicke, M., Yu, Y., Zheng, X.: TensorFlow: Large-scale machine learning on heterogeneous systems (2015), https://www.tensorflow.org/, software available from tensorﬂow.org\\n\\n[2] Alberti, M., Pondenkandath, V., W¨ursch, M., Ingold, R., Liwicki, M.: Deepdiva: a highly-functional python framework for reproducible experiments. In: 2018 16th International Conference on Frontiers in Handwriting Recognition (ICFHR). pp. 423–428. IEEE (2018)\\n\\n[3] Antonacopoulos, A., Bridson, D., Papadopoulos, C., Pletschacher, S.: A realistic dataset for performance evaluation of document layout analysis. In: 2009 10th International Conference on Document Analysis and Recognition. pp. 296–300. IEEE (2009)\\n\\n[4] Baek, Y., Lee, B., Han, D., Yun, S., Lee, H.: Character region awareness for text detection. In: Proceedings of the IEEE/CVF Conference on Computer Vision and Pattern Recognition. pp. 9365–9374 (2019)\\n\\n[5] Deng, J., Dong, W., Socher, R., Li, L.J., Li, K., Fei-Fei, L.: ImageNet: A Large-Scale Hierarchical Image Database. In: CVPR09 (2009)\\n\\n[6] Deng, Y., Kanervisto, A., Ling, J., Rush, A.M.: Image-to-markup generation with coarse-to-ﬁne attention. In: International Conference on Machine Learning. pp. 980–989. PMLR (2017)\\n\\n[7] Ganin, Y., Lempitsky, V.: Unsupervised domain adaptation by backpropagation. In: International conference on machine learning. pp. 1180–1189. PMLR (2015)\\n\\nLayoutParser: A Uniﬁed Toolkit for DL-Based DIA\\n\\n[8] Gardner, M., Grus, J., Neumann, M., Tafjord, O., Dasigi, P., Liu, N., Peters, M., Schmitz, M., Zettlemoyer, L.: Allennlp: A deep semantic natural language processing platform. arXiv preprint arXiv:1803.07640 (2018)\\n\\nLukasz Garncarek, Powalski, R., Stanistawek, T., Topolski, B., Halama, P., Graliriski, F.: Lambert: Layout-aware (language) modeling using bert for in- formation extraction (2020)\\n\\n[10] Graves, A., Fern´andez, S., Gomez, F., Schmidhuber, J.: Connectionist temporal classiﬁcation: labelling unsegmented sequence data with recurrent neural networks. In: Proceedings of the 23rd international conference on Machine learning. pp. 369–376 (2006)\\n\\n[11] Harley, A.W., Ufkes, A., Derpanis, K.G.: Evaluation of deep convolutional nets for document image classiﬁcation and retrieval. In: 2015 13th International Conference on Document Analysis and Recognition (ICDAR). pp. 991–995. IEEE (2015)\\n\\n[12] He, K., Gkioxari, G., Doll´ar, P., Girshick, R.: Mask r-cnn. In: Proceedings of the IEEE international conference on computer vision. pp. 2961–2969 (2017)\\n\\n[13] He, K., Zhang, X., Ren, S., Sun, J.: Deep residual learning for image recognition. In: Proceedings of the IEEE conference on computer vision and pattern recognition. pp. 770–778 (2016)\\n\\n[14] Kay, A.: Tesseract: An open-source optical character recognition engine. Linux J. 2007(159), 2 (Jul 2007)\\n\\n[15] Lamiroy, B., Lopresti, D.: An open architecture for end-to-end document analysis benchmarking. In: 2011 International Conference on Document Analysis and Recognition. pp. 42–47. IEEE (2011)\\n\\n[16] Lee, B.C., Weld, D.S.: Newspaper navigator: Open faceted search for 1.5 million images. In: Adjunct Publication of the 33rd Annual ACM Sym- posium on User Interface Software and Technology. p. 120–122. UIST ’20 Adjunct, Association for Computing Machinery, New York, NY, USA (2020). https://doi.org/10.1145/3379350.3416143, https://doi-org.offcampus. lib.washington.edu/10.1145/3379350.3416143'), Document(metadata={'source': '../../docs/layoutparser_paper.pdf', 'filetype': 'application/pdf', 'languages': ['eng'], 'last_modified': '2025-05-30T10:16:46', 'page_number': 15, 'orig_elements': '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', 'file_directory': '../../docs', 'filename': 'layoutparser_paper.pdf', 'category': 'CompositeElement', 'element_id': 'e0c6d0f67b3369a375629ff424f01516'}, page_content='[17] Lee, B.C.G., Mears, J., Jakeway, E., Ferriter, M., Adams, C., Yarasavage, N., Thomas, D., Zwaard, K., Weld, D.S.: The Newspaper Navigator Dataset: Extracting Headlines and Visual Content from 16 Million Historic Newspaper Pages in Chronicling America, p. 3055–3062. Association for Computing Machinery, New York, NY, USA (2020), https://doi.org/10.1145/3340531.3412767\\n\\n[18] Li, M., Cui, L., Huang, S., Wei, F., Zhou, M., Li, Z.: Tablebank: Table benchmark for image-based table detection and recognition. arXiv preprint arXiv:1903.01949 (2019)\\n\\n[19] Lin, T.Y., Maire, M., Belongie, S., Hays, J., Perona, P., Ramanan, D., Doll´ar, P., Zitnick, C.L.: Microsoft coco: Common objects in context. In: European conference on computer vision. pp. 740–755. Springer (2014)\\n\\n[20] Long, J., Shelhamer, E., Darrell, T.: Fully convolutional networks for semantic segmentation. In: Proceedings of the IEEE conference on computer vision and pattern recognition. pp. 3431–3440 (2015)\\n\\n[21] Neudecker, C., Schlarb, S., Dogan, Z.M., Missier, P., Suﬁ, S., Williams, A., Wolsten- croft, K.: An experimental workﬂow development platform for historical document digitisation and analysis. In: Proceedings of the 2011 workshop on historical document imaging and processing. pp. 161–168 (2011)\\n\\n[22] Oliveira, S.A., Seguin, B., Kaplan, F.: dhsegment: A generic deep-learning approach for document segmentation. In: 2018 16th International Conference on Frontiers in Handwriting Recognition (ICFHR). pp. 7–12. IEEE (2018)\\n\\n16 Z. Shen et al.\\n\\n[23] Paszke, A., Gross, S., Chintala, S., Chanan, G., Yang, E., DeVito, Z., Lin, Z., Desmaison, A., Antiga, L., Lerer, A.: Automatic diﬀerentiation in pytorch (2017)\\n\\n[24] Paszke, A., Gross, S., Massa, F., Lerer, A., Bradbury, J., Chanan, G., Killeen, T., Lin, Z., Gimelshein, N., Antiga, L., et al.: Pytorch: An imperative style, high-performance deep learning library. arXiv preprint arXiv:1912.01703 (2019)\\n\\n[25] Pletschacher, S., Antonacopoulos, A.: The page (page analysis and ground-truth elements) format framework. In: 2010 20th International Conference on Pattern Recognition. pp. 257–260. IEEE (2010)\\n\\n[26] Prasad, D., Gadpal, A., Kapadni, K., Visave, M., Sultanpure, K.: Cascadetabnet: An approach for end to end table detection and structure recognition from image- based documents. In: Proceedings of the IEEE/CVF Conference on Computer Vision and Pattern Recognition Workshops. pp. 572–573 (2020)\\n\\n[27] Qasim, S.R., Mahmood, H., Shafait, F.: Rethinking table recognition using graph neural networks. In: 2019 International Conference on Document Analysis and Recognition (ICDAR). pp. 142–147. IEEE (2019)\\n\\n[28] Ren, S., He, K., Girshick, R., Sun, J.: Faster r-cnn: Towards real-time object detection with region proposal networks. In: Advances in neural information processing systems. pp. 91–99 (2015)\\n\\n[29] Scarselli, F., Gori, M., Tsoi, A.C., Hagenbuchner, M., Monfardini, G.: The graph neural network model. IEEE transactions on neural networks 20(1), 61–80 (2008)\\n\\n[30] Schreiber, S., Agne, S., Wolf, I., Dengel, A., Ahmed, S.: Deepdesrt: Deep learning for detection and structure recognition of tables in document images. In: 2017 14th IAPR international conference on document analysis and recognition (ICDAR). vol. 1, pp. 1162–1167. IEEE (2017)\\n\\n[31] Shen, Z., Zhang, K., Dell, M.: A large dataset of historical japanese documents with complex layouts. In: Proceedings of the IEEE/CVF Conference on Computer Vision and Pattern Recognition Workshops. pp. 548–549 (2020)\\n\\n[32] Shen, Z., Zhao, J., Dell, M., Yu, Y., Li, W.: Olala: Object-level active learning based layout annotation. arXiv preprint arXiv:2010.01762 (2020)\\n\\n[33] Studer, L., Alberti, M., Pondenkandath, V., Goktepe, P., Kolonko, T., Fischer, A., Liwicki, M., Ingold, R.: A comprehensive study of imagenet pre-training for historical document image analysis. In: 2019 International Conference on Document Analysis and Recognition (ICDAR). pp. 720–725. IEEE (2019)'), Document(metadata={'source': '../../docs/layoutparser_paper.pdf', 'filetype': 'application/pdf', 'languages': ['eng'], 'last_modified': '2025-05-30T10:16:46', 'page_number': 16, 'orig_elements': 'eJzFlm9P3DgQxr+Kta+KtDa283/fIaBXeiAhQActh5ATTzZWs/EqcbblqvvuN3ZY4O6odEWCe7NrPzuTtWd+eibX32fQwgo6d2v0bEFmWvKcR3lBK8E1jeMopWUmOVU8FTrO6xpEOpuT2Qqc0sopzPk+q6zttemUgyHsW3VnR3fbgFk2DhUpOcece/mr0a5BVWRBXVvTOZ93fR1lGUvnRERRxIqbOXkQYlGwzAsiihMmnlWmJJRmw93gYOVvc2q+QXu+VhXM/sQfNDionLHdbdWqYbhd97bEMM4KmScFBtSmBXe3hpB7ejILh+6Wo1qGm13PoFvOboI6uNuV1aY2EOomuUwoT2jELwRfiHQRhzKtMfO2G1cl9P7GqT+Fg2++KLPrKL4hl7at5+SCzckBlKObk2NcnquumZPfcLXfqHFlOz0nH0NIOA2gjrsTa+ZkzweZwalqTk5xfabG1k0PPLYjPvoMV+/HztmvpvoDk3ALjqiWLciHcbk03bLG8vw+Si6KgbhedUNt+xX0w4KcO2wptTUlrgGqekewx2OvWrKtCsESVjAM+BhGVH9lNqjAuseWTtuFKARnHBspyDv/Hzu+LNsaH+PJj3yvsC7/JLGqqzSpONCozDIa60xTpXVFszKKIwESkrR8PRLTjEmPmUxYFEjcCrmYBORO/EgJSS8kUYg0f3sSEyRxnJNPSMevpjdtazcTWyd4OoUEBZ7m5JL5kF9MPzSm+uLpWiCV/i697SQjjXPrYbG7S5bGNWPJKrva9XyV1n7pYQDVV82ufkj4SSQKlaU1xClNIEVzKrOKqqIsqU41l0qLPE6SVzWnJPQ7ZWJrTl5IMjG51YMV/VuZkl5qTlkavz0S6Q25ukdi+328mZxlfzSTUV2Cmdi4xIMgFz7mPvZ9a3voKoPQHOD2cxMi9oOngQfp0YeOQ+nb1UYuyAnal6F4eDQZdBKKhmQ6dBeCpkQ2ZhhV297R3lQN0bYaPRxk7DTalVOd/rENIWeSiTiLuWdO8v/MXCoV6DqPqCzrgsayzGkpI/wAHsecc4h08eoDMfGoPR2IaSRZfk9YzKJnlSnppTaUpNnbM5c9MndspmH1wNqHMRB0/hS7z40dfdgjQwty+pQaWxP/dIJskKnaAaQHdMzKD7G/AfSTnsRjpQAgo5UsUu9JgpZCSSrigpeV1FBL/YpjKmJ5aH6+HVOTkCXxloYkZ/xZZUp6IR9RIv8HPvIb33KPwRV2/yIA4V+MPsEaBj+wPiIKp2OJhevALbDlPR7EEV/4Ae0GNtBvAaBkQuAeC9Wp9m4wAyNHHTYAEcCFgx6bhPdHN9q3XQ3e0oDYjhxsCdq7zwuInUFll53xGeTd0f7B3tkOI+s1I4KLJLxjRYJLnJNHh4eH5N05rMM/7TwOTm0Ns/1yF1+ahODFbngI80GMc5Gmz2N58xdqaXf+', 'file_directory': '../../docs', 'filename': 'layoutparser_paper.pdf', 'category': 'CompositeElement', 'element_id': '38b05351528ff5e2cd0b81a5ab449224'}, page_content='[34] Wolf, T., Debut, L., Sanh, V., Chaumond, J., Delangue, C., Moi, A., Cistac, P., Rault, T., Louf, R., Funtowicz, M., et al.: Huggingface’s transformers: State-of- the-art natural language processing. arXiv preprint arXiv:1910.03771 (2019)\\n\\n[35] Wu, Y., Kirillov, A., Massa, F., Lo, W.Y., Girshick, R.: Detectron2. https:// github.com/facebookresearch/detectron2 (2019)\\n\\n[36] Xu, Y., Xu, Y., Lv, T., Cui, L., Wei, F., Wang, G., Lu, Y., Florencio, D., Zhang, C., Che, W., et al.: Layoutlmv2: Multi-modal pre-training for visually-rich document understanding. arXiv preprint arXiv:2012.14740 (2020)\\n\\n[37] Xu, Y., Li, M., Cui, L., Huang, S., Wei, F., Zhou, M.: Layoutlm: Pre-training of text and layout for document image understanding (2019)\\n\\n[38] Zhong, X., Tang, J., Yepes, A.J.: Publaynet: largest dataset ever for doc- ument layout analysis. In: 2019 International Conference on Document Analysis and Recognition (ICDAR). pp. 1015–1022. IEEE (Sep 2019). https://doi.org/10.1109/ICDAR.2019.00166')]"
      ]
     },
     "execution_count": 17,
     "metadata": {},
     "output_type": "execute_result"
    }
   ],
   "source": [
    "data"
   ]
  },
  {
   "cell_type": "code",
   "execution_count": 20,
   "id": "ab02ccc1",
   "metadata": {},
   "outputs": [
    {
     "data": {
      "text/plain": [
       "16"
      ]
     },
     "execution_count": 20,
     "metadata": {},
     "output_type": "execute_result"
    }
   ],
   "source": [
    "len(data)"
   ]
  },
  {
   "cell_type": "code",
   "execution_count": 21,
   "id": "b60e1818",
   "metadata": {},
   "outputs": [
    {
     "data": {
      "text/plain": [
       "['CompositeElement', 'CompositeElement', 'CompositeElement', 'CompositeElement', 'CompositeElement', 'CompositeElement', 'CompositeElement', 'CompositeElement', 'CompositeElement', 'CompositeElement', 'CompositeElement', 'CompositeElement', 'CompositeElement', 'CompositeElement', 'CompositeElement', 'CompositeElement']"
      ]
     },
     "execution_count": 21,
     "metadata": {},
     "output_type": "execute_result"
    }
   ],
   "source": [
    "[doc.metadata['category'] for doc in data]"
   ]
  },
  {
   "cell_type": "code",
   "execution_count": 22,
   "id": "183840ee",
   "metadata": {},
   "outputs": [
    {
     "name": "stdout",
     "output_type": "stream",
     "text": [
      "Document(metadata={'source': '../../docs/layoutparser_paper.pdf', 'filetype': 'application/pdf', 'languages': ['eng'], 'last_modified': '2025-05-30T10:16:46', 'page_number': 1, 'orig_elements': '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', 'file_directory': '../../docs', 'filename': 'layoutparser_paper.pdf', 'category': 'CompositeElement', 'element_id': 'e92d93955d4e5194e452e84f607f1c86'}, page_content='1 2 0 2 n u J 1 2 ] V C . s\\n\\nc\\n\\n[\\n\\n2\\n\\n2103.15348v2 arXiv\\n\\nv\\n\\n8\\n\\n4\\n\\n3\\n\\n5\\n\\n1\\n\\n.\\n\\n3\\n\\n0\\n\\n1\\n\\n2\\n\\n:\\n\\nv\\n\\ni\\n\\nX\\n\\nr\\n\\na\\n\\nLayoutParser: A Uniﬁed Toolkit for Deep Learning Based Document Image Analysis\\n\\nZejiang Shen! (4), Ruochen Zhang”, Melissa Dell?, Benjamin Charles Germain Lee*, Jacob Carlson’, and Weining Li®\\n\\n1 Allen Institute for AI shannons@allenai.org 2 Brown University ruochen zhang@brown.edu 3 Harvard University {melissadell,jacob carlson}@fas.harvard.edu 4 University of Washington bcgl@cs.washington.edu 5 University of Waterloo w422li@uwaterloo.ca\\n\\nAbstract. Recent advances in document image analysis (DIA) have been primarily driven by the application of neural networks. Ideally, research outcomes could be easily deployed in production and extended for further investigation. However, various factors like loosely organized codebases and sophisticated model conﬁgurations complicate the easy reuse of im- portant innovations by a wide audience. Though there have been on-going eﬀorts to improve reusability and simplify deep learning (DL) model development in disciplines like natural language processing and computer vision, none of them are optimized for challenges in the domain of DIA. This represents a major gap in the existing toolkit, as DIA is central to academic research across a wide range of disciplines in the social sciences and humanities. This paper introduces LayoutParser, an open-source library for streamlining the usage of DL in DIA research and applica- tions. The core LayoutParser library comes with a set of simple and intuitive interfaces for applying and customizing DL models for layout de- tection, character recognition, and many other document processing tasks. To promote extensibility, LayoutParser also incorporates a community platform for sharing both pre-trained models and full document digiti- zation pipelines. We demonstrate that LayoutParser is helpful for both lightweight and large-scale digitization pipelines in real-word use cases. The library is publicly available at https://layout-parser.github.io.\\n\\nKeywords: Document Image Analysis · Deep Learning · Layout Analysis · Character Recognition · Open Source library · Toolkit.')\n"
     ]
    }
   ],
   "source": [
    "pprint(data[0])"
   ]
  },
  {
   "cell_type": "code",
   "execution_count": 23,
   "id": "cad32f9c",
   "metadata": {},
   "outputs": [
    {
     "name": "stdout",
     "output_type": "stream",
     "text": [
      "1 2 0 2 n u J 1 2 ] V C . s\n",
      "\n",
      "c\n",
      "\n",
      "[\n",
      "\n",
      "2\n",
      "\n",
      "2103.15348v2 arXiv\n",
      "\n",
      "v\n",
      "\n",
      "8\n",
      "\n",
      "4\n",
      "\n",
      "3\n",
      "\n",
      "5\n",
      "\n",
      "1\n",
      "\n",
      ".\n",
      "\n",
      "3\n",
      "\n",
      "0\n",
      "\n",
      "1\n",
      "\n",
      "2\n",
      "\n",
      ":\n",
      "\n",
      "v\n",
      "\n",
      "i\n",
      "\n",
      "X\n",
      "\n",
      "r\n",
      "\n",
      "a\n",
      "\n",
      "LayoutParser: A Uniﬁed Toolkit for Deep Learning Based Document Image Analysis\n",
      "\n",
      "Zejiang Shen! (4), Ruochen Zhang”, Melissa Dell?, Benjamin Charles Germain Lee*, Jacob Carlson’, and Weining Li®\n",
      "\n",
      "1 Allen Institute for AI shannons@allenai.org 2 Brown University ruochen zhang@brown.edu 3 Harvard University {melissadell,jacob carlson}@fas.harvard.edu 4 University of Washington bcgl@cs.washington.edu 5 University of Waterloo w422li@uwaterloo.ca\n",
      "\n",
      "Abstract. Recent advances in document image analysis (DIA) have been primarily driven by the application of neural networks. Ideally, research outcomes could be easily deployed in production and extended for further investigation. However, various factors like loosely organized codebases and sophisticated model conﬁgurations complicate the easy reuse of im- portant innovations by a wide audience. Though there have been on-going eﬀorts to improve reusability and simplify deep learning (DL) model development in disciplines like natural language processing and computer vision, none of them are optimized for challenges in the domain of DIA. This represents a major gap in the existing toolkit, as DIA is central to academic research across a wide range of disciplines in the social sciences and humanities. This paper introduces LayoutParser, an open-source library for streamlining the usage of DL in DIA research and applica- tions. The core LayoutParser library comes with a set of simple and intuitive interfaces for applying and customizing DL models for layout de- tection, character recognition, and many other document processing tasks. To promote extensibility, LayoutParser also incorporates a community platform for sharing both pre-trained models and full document digiti- zation pipelines. We demonstrate that LayoutParser is helpful for both lightweight and large-scale digitization pipelines in real-word use cases. The library is publicly available at https://layout-parser.github.io.\n",
      "\n",
      "Keywords: Document Image Analysis · Deep Learning · Layout Analysis · Character Recognition · Open Source library · Toolkit.\n"
     ]
    }
   ],
   "source": [
    "print(data[0].page_content)"
   ]
  },
  {
   "cell_type": "code",
   "execution_count": 27,
   "id": "266a07f0",
   "metadata": {},
   "outputs": [
    {
     "name": "stdout",
     "output_type": "stream",
     "text": [
      "{'source': '../../docs/layoutparser_paper.pdf', 'filetype': 'application/pdf', 'languages': ['eng'], 'last_modified': '2025-05-30T10:16:46', 'page_number': 5, 'orig_elements': 'eJzNWW1v3LgR/ivEFi2S1lIoinrzXYpekwZn4BK4ifuljrGgSGqXtVbaEyXb2+T+e2dIyd61N2liYI2DEccacUjOPDPDZ6jzTzNd65Vu+rlRs2MyS3Ulq1TTQCj4xRlNglLwKtBpVKSppHlOs9kRma10L5ToBeh8msm27ZRpRK+te67Fph36+VKbxbIHCWOUgs4ovjaqX4I0ypx03ZqmR73z8zjjITsiEU3isLg4IneCPApTFOT0SwKnApKZ3dher9CWU3Oj6w9rIfXsN3ihdK9lb9pmLmth7XzdtSUMo2FBCw7vK1PrfrPWTvX07cztuFkMYuHMOp/pZjG7cFLbz1etMpXRzmmMsiQAT8X0LKLHUXrMU9Reg+a8GVal7mBUgnvo9Q06ZBaHEfnFuYO8nrZF3rZK1xY1p22cmb52m78Pk1aCqlzSQJdcBFwpFZRZFgc5lzItATFepQeEKQ5z8Dk4Pcw9TF4QF0XIUBDFnIbxXolXeiRQPI4OAVRtmkun+Wlme9GBkxulb0AQ5/EWaCzHwUNX44M0vQ473TAaJRWsAxg7nHYn4HR7gojdn2CpQT9bCXu5TzvJ8+2YSe5rXw+gXXh3dW3DZr9dfD3sTpox6k5FZ3V3RATxaJMVxh7pxaW2IFStHDDaiFnBZESArCGmWcNA0Siy0I3uMIxQ39ietBXpYA8IQi06UrY38K5qO9IvNUzaLXRPZNv0OGWnFwCtDclr83GoSkp1h+Kqa1ek74QyiLyoCYTuslX2iBjUqQ3MCDmitF7jVFdtPYwDGz107r/+uu0uLYGdLTUuDXteiWYQdb0hcsANK9INNUzUt8QoWNVUm4f7OgGz3e5XYAzqePPb8j9gIrkNToJhCUnpPAK49TpoqwCWDgBC708L3rnU5I0LD/I+ePXuHTln+YVTeQugT7KIgazTZLBaheRsCetvjK6VhUW0Mn69Ttuh7i06ewkZS4REo+TGzbZyyIGr1q21BvaFNpaDqWH7aKI0Vh+NwNXmv2AVpLPuKsg5B9QYBrfWhfcCBafqybCGfby+jTfI/AQiDhxxBe7EaFiZBkKmJj+dniAAgDp4bg3rgDcfrEGuTb8EUAGeqh1gD6bRzjwJzoP9kdMNhEBzvF0R34kOgDRX+gxDek9llFwljGYiiMqEwwHGWVCIIglYFFVaxBHlyQErYxKFUKEiHhVjZZwEnIcZCrIsCou9AqfyuLqYxGmSPfEJFkFtWLcQ6d4paxcnmCr1ehuvX6A8nKA5e6BKaBFrWsggTwoV8KpMgiJlImCJUomKsjwW8eGgiiN3HnGWhImDahQkaeKRiVjMQr5X4pUeB1YGkZg+MVhsLOQvibxioVl1WqhnH2dOOMeNfJw9J38gdSuUH2lJPB4JLwHQ8C7lfVVwTOUZ4eTjrF4fv3hxOpTw4p3uX/ijcN7Jppm/nyd0/ub03Ty+eQElqDILWOa7klmnQgta6YCWrAq4FBArUuYBjWkWCfBjkpWHixCehxmCnVPPNSdBQseQyQvqeM8DgVd5ZHxQ9tS5/A1Yf2tOpzxhsS5YkJZpBMSUVoGgiQzSjFc0KlUBkXfQ8ksRDx6NOT0J0jTkDqBoSun7Aqfy2Ixmcf7EkCXTafrSYxf63T1z2fv8W9GSGatYnIpAOLSiTAUijuNAZrrMeMw5zfVBuz1XcPPUl9dJkPPMJxw0DZHr7h5KvNIj24i44AfB64t9RJRmW9hl93n8QjTGNRJDYwdgS1dA1tT/JfPbBG2bg11rUSOvqpA8BkCpgVapMcOvHUgWiKZpFuRKdKYdLEForQaxbK90h2/UDje/9coR6c1KI6Ezjpoj87ztFdCVSOsHxz1Vu4KFiV2aqgeWA7ZgL7BFZ0dWKBpgoMgSm7YXJVBB1bVrcr3UzcShkRiLdUDW0AMonHpsKKxYrR2ZR56Jg6xZNH7fEUzY41x7WgzsSNAnzkxveEh+snd22L4bZD906Eywz8exRWdtyAJOTpwYLNud25vruxVg754bCfRKSywknbxtCSZAwAVi2gBsfWWwc0LrcIPa3toHm4MZwE+9kcRuml7c4ArYKjjmDpb0Bjk9GoTKu0ib+y2fh75sIURw9LSDRgCwrpNw6u7Rne0/jiMCFP31xY/uPfQ4cmkwv8BP/k34XSd7XkiZSQWML2MaK08WFCpPgjzjoijStOCSHbrysCTzh8D0nLMwds95hqz9wbMb/9Wac+AjIN3O/3Tb4f9qJLhl0XbY233J6Syr8rwoiiCJNPRGeS6ATgmo+VRxzfIoivPD9UYcjly25fTpeXJyGqXYCD14/n05/d8h+YC1CTJG1OF3IxCJNI4lFQHXOQUEgMsWSjN4LGkSiZglZXIwBBLOwuSIxCzyzen4nLM0jNzhGgEk+R6B1/jdYBBD4RTQfAhoUj7iFRiHotYLEhJDcvjh8C+Gnx7eUipwOP5RUvLzBv5OvVJOFv59Ql7dOhhkzM3wFxj2Z5gjJ/+4gYpNKqj77kh4+ZkUf3xOPpOfW3n5nLwHPov1FGfSBekgLj7Dzxm4wv0BE8PpzMifxk0IRv5GzskdpDVBs8oaZoMSk08mFaDzT3g4unvN4MFjXJMLGPmrn1DD+TBdwmFBH3nhGHd2NNZW27F6gixxX3yqWJZZKXnARAxlWcZpUKYS+KFigsVUae0vQQ9TltMMK0KejFcj43NEoe9KRvYX75d4nUfSwegJyPtOAL8xi5AdkzNAq9O1wE0BT1qTUvfXGoqLowDLTmvPqRDZ6e4MfL5FUMLt0AXqiKTDjqqXQD6dKrI8t8YPBMvS3zGW8ErQQtDYKWpkG5DbmUzjmJmjaUgJ9G4KuEtNF5IuOI/8Lj0b7MZ8cHFvf4CoHz9zjNenZvvOWNT13X3lvbgFJtXIevCTuQvdnYksXpPqjZtiNNzZYZG3IJ9BuzrR2F1L2jVeXOPTT6cn/op6JW7MalgRx+aYvjGlqU2/2antABhY/kqsUXVf3lQFL5KSq4AnMfySVAVlJJMgpVSWuqIi5+Kg32Owh42muj0JYkbHQo5fX4q9Eq/02O8xGU+etpFKtq8gt/oo7B10KD1CYbyvedpJwQ/L9ho/aZAzVCRQenfaKTl0SOuB6S9bzJLiYS+1w+ST++3A2FFBO6St7Izb1pRr99sPTIqxf1MQ0G2zsPCnvx2/HX+3rB3k0jc90AN01jVPvw5GXmJfMn3V8I0AdhGDcb6ZtMevMgZ+C3uJ3YWaPrnUmyPfeLkVxNgJwOagNfOJDSuIKwGdCkx4z2Oitu1WCZpMlHAytyv3wWH7S5NvrWS7Wg3QvmygTRSu7xw9NI55BpEHq7mPFeTD+NEgDpPnX+s1Lv4H/nScXQ==', 'file_directory': '../../docs', 'filename': 'layoutparser_paper.pdf', 'category': 'CompositeElement', 'element_id': '07af1e1a3f94372be8e1f1afb5187b68'}\n"
     ]
    }
   ],
   "source": [
    "print(data[5].metadata)"
   ]
  },
  {
   "cell_type": "code",
   "execution_count": 25,
   "id": "08d93568",
   "metadata": {},
   "outputs": [
    {
     "ename": "KeyError",
     "evalue": "'text_as_html'",
     "output_type": "error",
     "traceback": [
      "\u001b[31m---------------------------------------------------------------------------\u001b[39m",
      "\u001b[31mKeyError\u001b[39m                                  Traceback (most recent call last)",
      "\u001b[36mCell\u001b[39m\u001b[36m \u001b[39m\u001b[32mIn[25]\u001b[39m\u001b[32m, line 3\u001b[39m\n\u001b[32m      1\u001b[39m \u001b[38;5;28;01mfrom\u001b[39;00m\u001b[38;5;250m \u001b[39m\u001b[34;01mIPython\u001b[39;00m\u001b[34;01m.\u001b[39;00m\u001b[34;01mdisplay\u001b[39;00m\u001b[38;5;250m \u001b[39m\u001b[38;5;28;01mimport\u001b[39;00m HTML\n\u001b[32m----> \u001b[39m\u001b[32m3\u001b[39m HTML(\u001b[43mdata\u001b[49m\u001b[43m[\u001b[49m\u001b[32;43m5\u001b[39;49m\u001b[43m]\u001b[49m\u001b[43m.\u001b[49m\u001b[43mmetadata\u001b[49m\u001b[43m[\u001b[49m\u001b[33;43m'\u001b[39;49m\u001b[33;43mtext_as_html\u001b[39;49m\u001b[33;43m'\u001b[39;49m\u001b[43m]\u001b[49m)\n",
      "\u001b[31mKeyError\u001b[39m: 'text_as_html'"
     ]
    }
   ],
   "source": [
    "from IPython.display import HTML\n",
    "\n",
    "HTML(data[5].metadata['text_as_html'])"
   ]
  },
  {
   "cell_type": "markdown",
   "id": "98a7dd5d",
   "metadata": {},
   "source": [
    "Load using raw unstructured.io APIs for PDFs"
   ]
  },
  {
   "cell_type": "code",
   "execution_count": null,
   "id": "5ac696e7",
   "metadata": {},
   "outputs": [],
   "source": [
    "from unstructured.partition.pdf import partition_pdf\n",
    "\n",
    "# Get elements - takes 3-4 mins\n",
    "raw_pdf_elements = partition_pdf(\n",
    "    filename=\"./docs/layoutparser_paper.pdf\",\n",
    "    strategy='hi_res',\n",
    "    # Unstructured first finds embedded image blocks\n",
    "    extract_images_in_pdf=False,\n",
    "    # Use layout model (YOLOX) to get bounding boxes (for tables) and find titles\n",
    "    # Titles are any sub-section of the document\n",
    "    infer_table_structure=True,\n",
    "    # Post processing to aggregate text once we have the title\n",
    "    chunking_strategy=\"by_title\",\n",
    "    # Chunking params to aggregate text blocks\n",
    "    # Attempt to create a new chunk 3800 chars\n",
    "    # Attempt to keep chunks > 2000 chars\n",
    "    max_characters=4000,\n",
    "    new_after_n_chars=3800,\n",
    "    combine_text_under_n_chars=2000,\n",
    "    image_output_dir_path=\"./\",\n",
    ")"
   ]
  },
  {
   "cell_type": "code",
   "execution_count": null,
   "id": "a5594e89",
   "metadata": {},
   "outputs": [],
   "source": [
    "len(raw_pdf_elements)"
   ]
  },
  {
   "cell_type": "code",
   "execution_count": null,
   "id": "a8d3d2bd",
   "metadata": {},
   "outputs": [],
   "source": [
    "raw_pdf_elements"
   ]
  },
  {
   "cell_type": "code",
   "execution_count": null,
   "id": "2477a415",
   "metadata": {},
   "outputs": [],
   "source": [
    "raw_pdf_elements[5].to_dict()"
   ]
  },
  {
   "cell_type": "markdown",
   "id": "73a5202d",
   "metadata": {},
   "source": [
    "Convert into LangChain `document`format"
   ]
  },
  {
   "cell_type": "code",
   "execution_count": null,
   "id": "4d2cb454",
   "metadata": {},
   "outputs": [],
   "source": [
    "from langchain_core.documents import Document\n",
    "\n",
    "lc_docs = [Document(page_content=doc.text,\n",
    "                    metadata=doc.metadata.to_dict())\n",
    "              for doc in raw_pdf_elements]\n",
    "lc_docs[5]"
   ]
  }
 ],
 "metadata": {
  "kernelspec": {
   "display_name": "venv",
   "language": "python",
   "name": "python3"
  },
  "language_info": {
   "codemirror_mode": {
    "name": "ipython",
    "version": 3
   },
   "file_extension": ".py",
   "mimetype": "text/x-python",
   "name": "python",
   "nbconvert_exporter": "python",
   "pygments_lexer": "ipython3",
   "version": "3.11.6"
  }
 },
 "nbformat": 4,
 "nbformat_minor": 5
}
