{
 "cells": [
  {
   "cell_type": "markdown",
   "id": "0b6737f8",
   "metadata": {},
   "source": [
    "## Set Up the Environment"
   ]
  },
  {
   "cell_type": "code",
   "execution_count": 1,
   "id": "2764afbd",
   "metadata": {},
   "outputs": [],
   "source": [
    "%run setup.ipynb"
   ]
  },
  {
   "cell_type": "markdown",
   "id": "df0095fe",
   "metadata": {},
   "source": [
    "## Document Loaders\n",
    "\n",
    "Document loaders are used to import data from various sources into LangChain as `Document` objects. A `Document` typically includes a piece of text along with its associated metadata.\n",
    "\n",
    "### Examples of Document Loaders:\n",
    "\n",
    "- **Text File Loader:** Loads data from a simple `.txt` file.\n",
    "- **Web Page Loader:** Retrieves the text content from any web page.\n",
    "- **YouTube Video Transcript Loader:** Loads transcripts from YouTube videos.\n",
    "\n",
    "### Functionality:\n",
    "\n",
    "- **Load Method:** Each document loader has a `load` method that enables the loading of data as documents from a pre-configured source.\n",
    "- **Lazy Load Option:** Some loaders also support a \"lazy load\" feature, which allows data to be loaded into memory gradually as needed.\n",
    "\n",
    "For more detailed information, visit [LangChain's document loader documentation](https://python.langchain.com/docs/modules/data_connection/document_loaders/).\n"
   ]
  },
  {
   "cell_type": "markdown",
   "id": "7cfb4363",
   "metadata": {},
   "source": [
    "### JSON Loader\n",
    "\n",
    "[JSON (JavaScript Object Notation)](https://en.wikipedia.org/wiki/JSON) is an open standard file format and data interchange format that uses human-readable text to store and transmit data objects consisting of attribute–value pairs and arrays (or other serializable values).\n",
    "\n",
    "[JSON Lines](https://jsonlines.org/) is a file format where each line is a valid JSON value.\n",
    "\n",
    "LangChain implements a [JSONLoader](https://api.python.langchain.com/en/latest/document_loaders/langchain_community.document_loaders.json_loader.JSONLoader.html) to convert JSON and JSONL data into LangChain `Document` objects. It uses a specified [`jq` schema](https://en.wikipedia.org/wiki/Jq_(programming_language)) to parse the JSON files, allowing for the extraction of specific fields into the content and metadata of the LangChain Document.\n",
    "\n",
    "It uses the `jq` python package. Check out [this manual](https://jqlang.github.io/jq/manual/) for a detailed documentation of the `jq` syntax."
   ]
  },
  {
   "cell_type": "code",
   "execution_count": 2,
   "id": "a4050e3d",
   "metadata": {},
   "outputs": [],
   "source": [
    "import json\n",
    "\n",
    "# Sample data dictionary similar to the one you provided but with modified contents\n",
    "data = {\n",
    "    'image': {'creation_timestamp': 1675549016, 'uri': 'image_of_the_meeting.jpg'},\n",
    "    'is_still_participant': True,\n",
    "    'joinable_mode': {'link': '', 'mode': 1},\n",
    "    'magic_words': [],\n",
    "    'messages': [\n",
    "        {'content': 'See you soon!',\n",
    "         'sender_name': 'User B',\n",
    "         'timestamp_ms': 1675597571851},\n",
    "        {'content': 'Thanks for the update! See you then.',\n",
    "         'sender_name': 'User A',\n",
    "         'timestamp_ms': 1675597435669},\n",
    "        {'content': 'Actually, the green one is sold out.',\n",
    "         'sender_name': 'User B',\n",
    "         'timestamp_ms': 1675596277579},\n",
    "        {'content': 'I was hoping to purchase the green one!',\n",
    "         'sender_name': 'User A',\n",
    "         'timestamp_ms': 1675595140251},\n",
    "        {'content': 'I’m really interested in the green one, not the red!',\n",
    "         'sender_name': 'User A',\n",
    "         'timestamp_ms': 1675595109305},\n",
    "        {'content': 'Here’s the $150 for it.',\n",
    "         'sender_name': 'User B',\n",
    "         'timestamp_ms': 1675595068468},\n",
    "        {'photos': [{'creation_timestamp': 1675595059,\n",
    "                     'uri': 'image_of_the_item.jpg'}],\n",
    "         'sender_name': 'User B',\n",
    "         'timestamp_ms': 1675595060730},\n",
    "        {'content': 'It typically sells for at least $200 online',\n",
    "         'sender_name': 'User B',\n",
    "         'timestamp_ms': 1675595045152},\n",
    "        {'content': 'How much are you asking?',\n",
    "         'sender_name': 'User A',\n",
    "         'timestamp_ms': 1675594799696},\n",
    "        {'content': 'Good morning! $50 is far too low.',\n",
    "         'sender_name': 'User B',\n",
    "         'timestamp_ms': 1675577876645},\n",
    "        {'content': 'Hello! I’m interested in the item you posted. I can offer $50. Let me know if that works for you. Thanks!',\n",
    "         'sender_name': 'User A',\n",
    "         'timestamp_ms': 1675549022673}\n",
    "    ],\n",
    "    'participants': [{'name': 'User A'}, {'name': 'User B'}],\n",
    "    'thread_path': 'inbox/User A and User B chat',\n",
    "    'title': 'User A and User B chat'\n",
    "}\n",
    "\n",
    "# Save the modified data to a JSON file\n",
    "with open('../../docs/chat_data.json', 'w') as file:\n",
    "    json.dump(data, file, indent=4)\n"
   ]
  },
  {
   "cell_type": "code",
   "execution_count": 3,
   "id": "c19fb5de",
   "metadata": {},
   "outputs": [],
   "source": [
    "from langchain_community.document_loaders import JSONLoader\n",
    "\n",
    "loader = JSONLoader(file_path=\"../../docs/chat_data.json\",\n",
    "                    jq_schema='.',\n",
    "                    text_content=False)\n",
    "docs = loader.load()"
   ]
  },
  {
   "cell_type": "code",
   "execution_count": 4,
   "id": "e6287f38",
   "metadata": {},
   "outputs": [
    {
     "data": {
      "text/plain": [
       "1"
      ]
     },
     "execution_count": 4,
     "metadata": {},
     "output_type": "execute_result"
    }
   ],
   "source": [
    "len(docs)"
   ]
  },
  {
   "cell_type": "code",
   "execution_count": 5,
   "id": "7a00c0ad",
   "metadata": {},
   "outputs": [
    {
     "name": "stdout",
     "output_type": "stream",
     "text": [
      "{\"image\": {\"creation_timestamp\": 1675549016, \"uri\": \"image_of_the_meeting.jpg\"}, \"is_still_participant\": true, \"joinable_mode\": {\"link\": \"\", \"mode\": 1}, \"magic_words\": [], \"messages\": [{\"content\": \"See you soon!\", \"sender_name\": \"User B\", \"timestamp_ms\": 1675597571851}, {\"content\": \"Thanks for the update! See you then.\", \"sender_name\": \"User A\", \"timestamp_ms\": 1675597435669}, {\"content\": \"Actually, the green one is sold out.\", \"sender_name\": \"User B\", \"timestamp_ms\": 1675596277579}, {\"content\": \"I was hoping to purchase the green one!\", \"sender_name\": \"User A\", \"timestamp_ms\": 1675595140251}, {\"content\": \"I\\u2019m really interested in the green one, not the red!\", \"sender_name\": \"User A\", \"timestamp_ms\": 1675595109305}, {\"content\": \"Here\\u2019s the $150 for it.\", \"sender_name\": \"User B\", \"timestamp_ms\": 1675595068468}, {\"photos\": [{\"creation_timestamp\": 1675595059, \"uri\": \"image_of_the_item.jpg\"}], \"sender_name\": \"User B\", \"timestamp_ms\": 1675595060730}, {\"content\": \"It typically sells for at least $200 online\", \"sender_name\": \"User B\", \"timestamp_ms\": 1675595045152}, {\"content\": \"How much are you asking?\", \"sender_name\": \"User A\", \"timestamp_ms\": 1675594799696}, {\"content\": \"Good morning! $50 is far too low.\", \"sender_name\": \"User B\", \"timestamp_ms\": 1675577876645}, {\"content\": \"Hello! I\\u2019m interested in the item you posted. I can offer $50. Let me know if that works for you. Thanks!\", \"sender_name\": \"User A\", \"timestamp_ms\": 1675549022673}], \"participants\": [{\"name\": \"User A\"}, {\"name\": \"User B\"}], \"thread_path\": \"inbox/User A and User B chat\", \"title\": \"User A and User B chat\"}\n",
      "{'source': '/Users/sourav.banerjee/Documents/My Codebases/GenerativAI_Demystified/RAG/docs/chat_data.json', 'seq_num': 1}\n"
     ]
    }
   ],
   "source": [
    "print(docs[0].page_content)\n",
    "print(docs[0].metadata)"
   ]
  },
  {
   "cell_type": "code",
   "execution_count": 6,
   "id": "27b359b1",
   "metadata": {},
   "outputs": [
    {
     "name": "stdout",
     "output_type": "stream",
     "text": [
      "page_content='{\"image\": {\"creation_timestamp\": 1675549016, \"uri\": \"image_of_the_meeting.jpg\"}, \"is_still_participant\": true, \"joinable_mode\": {\"link\": \"\", \"mode\": 1}, \"magic_words\": [], \"messages\": [{\"content\": \"See you soon!\", \"sender_name\": \"User B\", \"timestamp_ms\": 1675597571851}, {\"content\": \"Thanks for the update! See you then.\", \"sender_name\": \"User A\", \"timestamp_ms\": 1675597435669}, {\"content\": \"Actually, the green one is sold out.\", \"sender_name\": \"User B\", \"timestamp_ms\": 1675596277579}, {\"content\": \"I was hoping to purchase the green one!\", \"sender_name\": \"User A\", \"timestamp_ms\": 1675595140251}, {\"content\": \"I\\u2019m really interested in the green one, not the red!\", \"sender_name\": \"User A\", \"timestamp_ms\": 1675595109305}, {\"content\": \"Here\\u2019s the $150 for it.\", \"sender_name\": \"User B\", \"timestamp_ms\": 1675595068468}, {\"photos\": [{\"creation_timestamp\": 1675595059, \"uri\": \"image_of_the_item.jpg\"}], \"sender_name\": \"User B\", \"timestamp_ms\": 1675595060730}, {\"content\": \"It typically sells for at least $200 online\", \"sender_name\": \"User B\", \"timestamp_ms\": 1675595045152}, {\"content\": \"How much are you asking?\", \"sender_name\": \"User A\", \"timestamp_ms\": 1675594799696}, {\"content\": \"Good morning! $50 is far too low.\", \"sender_name\": \"User B\", \"timestamp_ms\": 1675577876645}, {\"content\": \"Hello! I\\u2019m interested in the item you posted. I can offer $50. Let me know if that works for you. Thanks!\", \"sender_name\": \"User A\", \"timestamp_ms\": 1675549022673}], \"participants\": [{\"name\": \"User A\"}, {\"name\": \"User B\"}], \"thread_path\": \"inbox/User A and User B chat\", \"title\": \"User A and User B chat\"}' metadata={'source': '/Users/sourav.banerjee/Documents/My Codebases/GenerativAI_Demystified/RAG/docs/chat_data.json', 'seq_num': 1}\n"
     ]
    }
   ],
   "source": [
    "print(docs[0])"
   ]
  },
  {
   "cell_type": "code",
   "execution_count": 7,
   "id": "42fcf2b4",
   "metadata": {},
   "outputs": [
    {
     "data": {
      "text/plain": [
       "[Document(metadata={'source': '/Users/sourav.banerjee/Documents/My Codebases/GenerativAI_Demystified/RAG/docs/chat_data.json', 'seq_num': 1}, page_content='{\"image\": {\"creation_timestamp\": 1675549016, \"uri\": \"image_of_the_meeting.jpg\"}, \"is_still_participant\": true, \"joinable_mode\": {\"link\": \"\", \"mode\": 1}, \"magic_words\": [], \"messages\": [{\"content\": \"See you soon!\", \"sender_name\": \"User B\", \"timestamp_ms\": 1675597571851}, {\"content\": \"Thanks for the update! See you then.\", \"sender_name\": \"User A\", \"timestamp_ms\": 1675597435669}, {\"content\": \"Actually, the green one is sold out.\", \"sender_name\": \"User B\", \"timestamp_ms\": 1675596277579}, {\"content\": \"I was hoping to purchase the green one!\", \"sender_name\": \"User A\", \"timestamp_ms\": 1675595140251}, {\"content\": \"I\\\\u2019m really interested in the green one, not the red!\", \"sender_name\": \"User A\", \"timestamp_ms\": 1675595109305}, {\"content\": \"Here\\\\u2019s the $150 for it.\", \"sender_name\": \"User B\", \"timestamp_ms\": 1675595068468}, {\"photos\": [{\"creation_timestamp\": 1675595059, \"uri\": \"image_of_the_item.jpg\"}], \"sender_name\": \"User B\", \"timestamp_ms\": 1675595060730}, {\"content\": \"It typically sells for at least $200 online\", \"sender_name\": \"User B\", \"timestamp_ms\": 1675595045152}, {\"content\": \"How much are you asking?\", \"sender_name\": \"User A\", \"timestamp_ms\": 1675594799696}, {\"content\": \"Good morning! $50 is far too low.\", \"sender_name\": \"User B\", \"timestamp_ms\": 1675577876645}, {\"content\": \"Hello! I\\\\u2019m interested in the item you posted. I can offer $50. Let me know if that works for you. Thanks!\", \"sender_name\": \"User A\", \"timestamp_ms\": 1675549022673}], \"participants\": [{\"name\": \"User A\"}, {\"name\": \"User B\"}], \"thread_path\": \"inbox/User A and User B chat\", \"title\": \"User A and User B chat\"}')]"
      ]
     },
     "execution_count": 7,
     "metadata": {},
     "output_type": "execute_result"
    }
   ],
   "source": [
    "docs"
   ]
  },
  {
   "cell_type": "markdown",
   "id": "77cd9309",
   "metadata": {},
   "source": [
    "Suppose we are interested in extracting the values under the `messages` key of the JSON data"
   ]
  },
  {
   "cell_type": "code",
   "execution_count": 8,
   "id": "8c3de7ce",
   "metadata": {},
   "outputs": [
    {
     "data": {
      "text/plain": [
       "[Document(metadata={'source': '/Users/sourav.banerjee/Documents/My Codebases/GenerativAI_Demystified/RAG/docs/chat_data.json', 'seq_num': 1}, page_content='{\"content\": \"See you soon!\", \"sender_name\": \"User B\", \"timestamp_ms\": 1675597571851}'),\n",
       " Document(metadata={'source': '/Users/sourav.banerjee/Documents/My Codebases/GenerativAI_Demystified/RAG/docs/chat_data.json', 'seq_num': 2}, page_content='{\"content\": \"Thanks for the update! See you then.\", \"sender_name\": \"User A\", \"timestamp_ms\": 1675597435669}'),\n",
       " Document(metadata={'source': '/Users/sourav.banerjee/Documents/My Codebases/GenerativAI_Demystified/RAG/docs/chat_data.json', 'seq_num': 3}, page_content='{\"content\": \"Actually, the green one is sold out.\", \"sender_name\": \"User B\", \"timestamp_ms\": 1675596277579}'),\n",
       " Document(metadata={'source': '/Users/sourav.banerjee/Documents/My Codebases/GenerativAI_Demystified/RAG/docs/chat_data.json', 'seq_num': 4}, page_content='{\"content\": \"I was hoping to purchase the green one!\", \"sender_name\": \"User A\", \"timestamp_ms\": 1675595140251}'),\n",
       " Document(metadata={'source': '/Users/sourav.banerjee/Documents/My Codebases/GenerativAI_Demystified/RAG/docs/chat_data.json', 'seq_num': 5}, page_content='{\"content\": \"I\\\\u2019m really interested in the green one, not the red!\", \"sender_name\": \"User A\", \"timestamp_ms\": 1675595109305}'),\n",
       " Document(metadata={'source': '/Users/sourav.banerjee/Documents/My Codebases/GenerativAI_Demystified/RAG/docs/chat_data.json', 'seq_num': 6}, page_content='{\"content\": \"Here\\\\u2019s the $150 for it.\", \"sender_name\": \"User B\", \"timestamp_ms\": 1675595068468}'),\n",
       " Document(metadata={'source': '/Users/sourav.banerjee/Documents/My Codebases/GenerativAI_Demystified/RAG/docs/chat_data.json', 'seq_num': 7}, page_content='{\"photos\": [{\"creation_timestamp\": 1675595059, \"uri\": \"image_of_the_item.jpg\"}], \"sender_name\": \"User B\", \"timestamp_ms\": 1675595060730}'),\n",
       " Document(metadata={'source': '/Users/sourav.banerjee/Documents/My Codebases/GenerativAI_Demystified/RAG/docs/chat_data.json', 'seq_num': 8}, page_content='{\"content\": \"It typically sells for at least $200 online\", \"sender_name\": \"User B\", \"timestamp_ms\": 1675595045152}'),\n",
       " Document(metadata={'source': '/Users/sourav.banerjee/Documents/My Codebases/GenerativAI_Demystified/RAG/docs/chat_data.json', 'seq_num': 9}, page_content='{\"content\": \"How much are you asking?\", \"sender_name\": \"User A\", \"timestamp_ms\": 1675594799696}'),\n",
       " Document(metadata={'source': '/Users/sourav.banerjee/Documents/My Codebases/GenerativAI_Demystified/RAG/docs/chat_data.json', 'seq_num': 10}, page_content='{\"content\": \"Good morning! $50 is far too low.\", \"sender_name\": \"User B\", \"timestamp_ms\": 1675577876645}'),\n",
       " Document(metadata={'source': '/Users/sourav.banerjee/Documents/My Codebases/GenerativAI_Demystified/RAG/docs/chat_data.json', 'seq_num': 11}, page_content='{\"content\": \"Hello! I\\\\u2019m interested in the item you posted. I can offer $50. Let me know if that works for you. Thanks!\", \"sender_name\": \"User A\", \"timestamp_ms\": 1675549022673}')]"
      ]
     },
     "execution_count": 8,
     "metadata": {},
     "output_type": "execute_result"
    }
   ],
   "source": [
    "loader = JSONLoader(\n",
    "    file_path='../../docs/chat_data.json',\n",
    "    jq_schema='.messages[]',\n",
    "    text_content=False)\n",
    "\n",
    "data = loader.load()\n",
    "data"
   ]
  },
  {
   "cell_type": "markdown",
   "id": "4903f78c",
   "metadata": {},
   "source": [
    "Suppose we are interested in extracting the values under the `content` field within the `messages` key of the JSON data"
   ]
  },
  {
   "cell_type": "code",
   "execution_count": 9,
   "id": "5aae7f5a",
   "metadata": {},
   "outputs": [
    {
     "data": {
      "text/plain": [
       "[Document(metadata={'source': '/Users/sourav.banerjee/Documents/My Codebases/GenerativAI_Demystified/RAG/docs/chat_data.json', 'seq_num': 1}, page_content='See you soon!'),\n",
       " Document(metadata={'source': '/Users/sourav.banerjee/Documents/My Codebases/GenerativAI_Demystified/RAG/docs/chat_data.json', 'seq_num': 2}, page_content='Thanks for the update! See you then.'),\n",
       " Document(metadata={'source': '/Users/sourav.banerjee/Documents/My Codebases/GenerativAI_Demystified/RAG/docs/chat_data.json', 'seq_num': 3}, page_content='Actually, the green one is sold out.'),\n",
       " Document(metadata={'source': '/Users/sourav.banerjee/Documents/My Codebases/GenerativAI_Demystified/RAG/docs/chat_data.json', 'seq_num': 4}, page_content='I was hoping to purchase the green one!'),\n",
       " Document(metadata={'source': '/Users/sourav.banerjee/Documents/My Codebases/GenerativAI_Demystified/RAG/docs/chat_data.json', 'seq_num': 5}, page_content='I’m really interested in the green one, not the red!'),\n",
       " Document(metadata={'source': '/Users/sourav.banerjee/Documents/My Codebases/GenerativAI_Demystified/RAG/docs/chat_data.json', 'seq_num': 6}, page_content='Here’s the $150 for it.'),\n",
       " Document(metadata={'source': '/Users/sourav.banerjee/Documents/My Codebases/GenerativAI_Demystified/RAG/docs/chat_data.json', 'seq_num': 7}, page_content=''),\n",
       " Document(metadata={'source': '/Users/sourav.banerjee/Documents/My Codebases/GenerativAI_Demystified/RAG/docs/chat_data.json', 'seq_num': 8}, page_content='It typically sells for at least $200 online'),\n",
       " Document(metadata={'source': '/Users/sourav.banerjee/Documents/My Codebases/GenerativAI_Demystified/RAG/docs/chat_data.json', 'seq_num': 9}, page_content='How much are you asking?'),\n",
       " Document(metadata={'source': '/Users/sourav.banerjee/Documents/My Codebases/GenerativAI_Demystified/RAG/docs/chat_data.json', 'seq_num': 10}, page_content='Good morning! $50 is far too low.'),\n",
       " Document(metadata={'source': '/Users/sourav.banerjee/Documents/My Codebases/GenerativAI_Demystified/RAG/docs/chat_data.json', 'seq_num': 11}, page_content='Hello! I’m interested in the item you posted. I can offer $50. Let me know if that works for you. Thanks!')]"
      ]
     },
     "execution_count": 9,
     "metadata": {},
     "output_type": "execute_result"
    }
   ],
   "source": [
    "loader = JSONLoader(\n",
    "    file_path='../../docs/chat_data.json',\n",
    "    jq_schema='.messages[].content',\n",
    "    text_content=False)\n",
    "\n",
    "data = loader.load()\n",
    "data"
   ]
  },
  {
   "cell_type": "markdown",
   "id": "2b6eb0d6",
   "metadata": {},
   "source": [
    "#### Basic JSON Loading\n",
    "For robust loading, especially with diverse file types, consider these options:"
   ]
  },
  {
   "cell_type": "code",
   "execution_count": 10,
   "id": "45ebe7fd",
   "metadata": {},
   "outputs": [],
   "source": [
    "from pprint import pprint"
   ]
  },
  {
   "cell_type": "code",
   "execution_count": 11,
   "id": "63889b24",
   "metadata": {},
   "outputs": [
    {
     "name": "stdout",
     "output_type": "stream",
     "text": [
      "{'image': {'creation_timestamp': 1675549016, 'uri': 'image_of_the_chat.jpg'},\n",
      " 'is_still_participant': True,\n",
      " 'joinable_mode': {'link': '', 'mode': 1},\n",
      " 'magic_words': [],\n",
      " 'messages': [{'content': 'Bye!',\n",
      "               'sender_name': 'User 2',\n",
      "               'timestamp_ms': 1675597571851},\n",
      "              {'content': 'Oh no worries! Bye',\n",
      "               'sender_name': 'User 1',\n",
      "               'timestamp_ms': 1675597435669},\n",
      "              {'content': 'No Im sorry it was my mistake, the blue one is not '\n",
      "                          'for sale',\n",
      "               'sender_name': 'User 2',\n",
      "               'timestamp_ms': 1675596277579},\n",
      "              {'content': 'I thought you were selling the blue one!',\n",
      "               'sender_name': 'User 1',\n",
      "               'timestamp_ms': 1675595140251},\n",
      "              {'content': 'Im not interested in this bag. Im interested in the '\n",
      "                          'blue one!',\n",
      "               'sender_name': 'User 1',\n",
      "               'timestamp_ms': 1675595109305},\n",
      "              {'content': 'Here is $129',\n",
      "               'sender_name': 'User 2',\n",
      "               'timestamp_ms': 1675595068468},\n",
      "              {'content': '',\n",
      "               'photos': [{'creation_timestamp': 1675595059,\n",
      "                           'uri': 'url_of_some_picture.jpg'}],\n",
      "               'sender_name': 'User 2',\n",
      "               'timestamp_ms': 1675595060730},\n",
      "              {'content': 'Online is at least $100',\n",
      "               'sender_name': 'User 2',\n",
      "               'timestamp_ms': 1675595045152},\n",
      "              {'content': 'How much do you want?',\n",
      "               'sender_name': 'User 1',\n",
      "               'timestamp_ms': 1675594799696},\n",
      "              {'content': 'Goodmorning! $50 is too low.',\n",
      "               'sender_name': 'User 2',\n",
      "               'timestamp_ms': 1675577876645},\n",
      "              {'content': 'Hi! Im interested in your bag. Im offering $50. Let '\n",
      "                          'me know if you are interested. Thanks!',\n",
      "               'sender_name': 'User 1',\n",
      "               'timestamp_ms': 1675549022673}],\n",
      " 'participants': [{'name': 'User 1'}, {'name': 'User 2'}],\n",
      " 'thread_path': 'inbox/User 1 and User 2 chat',\n",
      " 'title': 'User 1 and User 2 chat'}\n"
     ]
    }
   ],
   "source": [
    "file_path = '../../docs/facebook_chat.json'\n",
    "with open(file_path, \"r\") as file:\n",
    "    data = json.load(file)\n",
    "\n",
    "pprint(data)"
   ]
  },
  {
   "cell_type": "markdown",
   "id": "42e31c9d",
   "metadata": {},
   "source": [
    "#### Using JSONLoader for Structured Retrieval: \n",
    "Use jq_schema to specify the data structure and extract only the required fields (Schema-Based Retrieval)"
   ]
  },
  {
   "cell_type": "code",
   "execution_count": 12,
   "id": "1f17c233",
   "metadata": {},
   "outputs": [
    {
     "name": "stdout",
     "output_type": "stream",
     "text": [
      "[Document(metadata={'source': '/Users/sourav.banerjee/Documents/My Codebases/GenerativAI_Demystified/RAG/docs/facebook_chat.json', 'seq_num': 1}, page_content='Bye!'),\n",
      " Document(metadata={'source': '/Users/sourav.banerjee/Documents/My Codebases/GenerativAI_Demystified/RAG/docs/facebook_chat.json', 'seq_num': 2}, page_content='Oh no worries! Bye'),\n",
      " Document(metadata={'source': '/Users/sourav.banerjee/Documents/My Codebases/GenerativAI_Demystified/RAG/docs/facebook_chat.json', 'seq_num': 3}, page_content='No Im sorry it was my mistake, the blue one is not for sale'),\n",
      " Document(metadata={'source': '/Users/sourav.banerjee/Documents/My Codebases/GenerativAI_Demystified/RAG/docs/facebook_chat.json', 'seq_num': 4}, page_content='I thought you were selling the blue one!'),\n",
      " Document(metadata={'source': '/Users/sourav.banerjee/Documents/My Codebases/GenerativAI_Demystified/RAG/docs/facebook_chat.json', 'seq_num': 5}, page_content='Im not interested in this bag. Im interested in the blue one!'),\n",
      " Document(metadata={'source': '/Users/sourav.banerjee/Documents/My Codebases/GenerativAI_Demystified/RAG/docs/facebook_chat.json', 'seq_num': 6}, page_content='Here is $129'),\n",
      " Document(metadata={'source': '/Users/sourav.banerjee/Documents/My Codebases/GenerativAI_Demystified/RAG/docs/facebook_chat.json', 'seq_num': 7}, page_content=''),\n",
      " Document(metadata={'source': '/Users/sourav.banerjee/Documents/My Codebases/GenerativAI_Demystified/RAG/docs/facebook_chat.json', 'seq_num': 8}, page_content='Online is at least $100'),\n",
      " Document(metadata={'source': '/Users/sourav.banerjee/Documents/My Codebases/GenerativAI_Demystified/RAG/docs/facebook_chat.json', 'seq_num': 9}, page_content='How much do you want?'),\n",
      " Document(metadata={'source': '/Users/sourav.banerjee/Documents/My Codebases/GenerativAI_Demystified/RAG/docs/facebook_chat.json', 'seq_num': 10}, page_content='Goodmorning! $50 is too low.'),\n",
      " Document(metadata={'source': '/Users/sourav.banerjee/Documents/My Codebases/GenerativAI_Demystified/RAG/docs/facebook_chat.json', 'seq_num': 11}, page_content='Hi! Im interested in your bag. Im offering $50. Let me know if you are interested. Thanks!')]\n"
     ]
    }
   ],
   "source": [
    "loader = JSONLoader(\n",
    "    file_path='../../docs/facebook_chat.json',\n",
    "    jq_schema='.messages[].content',\n",
    "    text_content=False)\n",
    "\n",
    "data = loader.load()\n",
    "pprint(data)"
   ]
  },
  {
   "cell_type": "markdown",
   "id": "3968ff0a",
   "metadata": {},
   "source": [
    "#### Processing JSON Lines (JSONL): \n",
    "Seamlessly handle files where each line represents a separate JSON object by setting json_lines=True."
   ]
  },
  {
   "cell_type": "code",
   "execution_count": 13,
   "id": "72833bd2",
   "metadata": {},
   "outputs": [
    {
     "name": "stdout",
     "output_type": "stream",
     "text": [
      "[Document(metadata={'source': '/Users/sourav.banerjee/Documents/My Codebases/GenerativAI_Demystified/RAG/docs/facebook_chat_messages.jsonl', 'seq_num': 1}, page_content='{\"sender_name\": \"User 2\", \"timestamp_ms\": 1675597571851, \"content\": \"Bye!\"}'),\n",
      " Document(metadata={'source': '/Users/sourav.banerjee/Documents/My Codebases/GenerativAI_Demystified/RAG/docs/facebook_chat_messages.jsonl', 'seq_num': 2}, page_content='{\"sender_name\": \"User 1\", \"timestamp_ms\": 1675597435669, \"content\": \"Oh no worries! Bye\"}'),\n",
      " Document(metadata={'source': '/Users/sourav.banerjee/Documents/My Codebases/GenerativAI_Demystified/RAG/docs/facebook_chat_messages.jsonl', 'seq_num': 3}, page_content='{\"sender_name\": \"User 2\", \"timestamp_ms\": 1675596277579, \"content\": \"No Im sorry it was my mistake, the blue one is not for sale\"}')]\n"
     ]
    }
   ],
   "source": [
    "# Example - JSON (Processing JSON Lines)\n",
    "\n",
    "loader = JSONLoader(\n",
    "    file_path='../../docs/facebook_chat_messages.jsonl',\n",
    "    jq_schema=\".\",\n",
    "    text_content=False,\n",
    "    json_lines=True\n",
    ")\n",
    "\n",
    "data = loader.load()\n",
    "pprint(data)"
   ]
  },
  {
   "cell_type": "code",
   "execution_count": 14,
   "id": "5435ff8e",
   "metadata": {},
   "outputs": [
    {
     "name": "stdout",
     "output_type": "stream",
     "text": [
      "[Document(metadata={'source': '/Users/sourav.banerjee/Documents/My Codebases/GenerativAI_Demystified/RAG/docs/facebook_chat_messages.jsonl', 'seq_num': 1}, page_content='User 2'),\n",
      " Document(metadata={'source': '/Users/sourav.banerjee/Documents/My Codebases/GenerativAI_Demystified/RAG/docs/facebook_chat_messages.jsonl', 'seq_num': 2}, page_content='User 1'),\n",
      " Document(metadata={'source': '/Users/sourav.banerjee/Documents/My Codebases/GenerativAI_Demystified/RAG/docs/facebook_chat_messages.jsonl', 'seq_num': 3}, page_content='User 2')]\n"
     ]
    }
   ],
   "source": [
    "# Example - JSON (Processing JSON Lines)\n",
    "\n",
    "loader = JSONLoader(\n",
    "    file_path='../../docs/facebook_chat_messages.jsonl',\n",
    "    jq_schema='.sender_name',\n",
    "    text_content=False,\n",
    "    json_lines=True\n",
    ")\n",
    "\n",
    "data = loader.load()\n",
    "pprint(data)"
   ]
  },
  {
   "cell_type": "code",
   "execution_count": 15,
   "id": "86591c22",
   "metadata": {},
   "outputs": [
    {
     "name": "stdout",
     "output_type": "stream",
     "text": [
      "[Document(metadata={'source': '/Users/sourav.banerjee/Documents/My Codebases/GenerativAI_Demystified/RAG/docs/facebook_chat_messages.jsonl', 'seq_num': 1}, page_content='User 2'),\n",
      " Document(metadata={'source': '/Users/sourav.banerjee/Documents/My Codebases/GenerativAI_Demystified/RAG/docs/facebook_chat_messages.jsonl', 'seq_num': 2}, page_content='User 1'),\n",
      " Document(metadata={'source': '/Users/sourav.banerjee/Documents/My Codebases/GenerativAI_Demystified/RAG/docs/facebook_chat_messages.jsonl', 'seq_num': 3}, page_content='User 2')]\n"
     ]
    }
   ],
   "source": [
    "# Example - JSON (Use jq_schema='.' and content_key for simpler extraction)\n",
    "\n",
    "loader = JSONLoader(\n",
    "    file_path='../../docs/facebook_chat_messages.jsonl',\n",
    "    jq_schema='.',\n",
    "    content_key=\"sender_name\",\n",
    "    text_content=False,\n",
    "    json_lines=True\n",
    ")\n",
    "\n",
    "data = loader.load()\n",
    "pprint(data)"
   ]
  },
  {
   "cell_type": "markdown",
   "id": "4ac1f181",
   "metadata": {},
   "source": [
    "#### Adding Metadata from JSON: \n",
    "Use custom functions to extract additional metadata, enhancing data context and traceability."
   ]
  },
  {
   "cell_type": "code",
   "execution_count": 16,
   "id": "f79a6819",
   "metadata": {},
   "outputs": [
    {
     "name": "stdout",
     "output_type": "stream",
     "text": [
      "[Document(metadata={'source': '/Users/sourav.banerjee/Documents/My Codebases/GenerativAI_Demystified/RAG/docs/facebook_chat.json', 'seq_num': 1, 'sender_name': 'User 2', 'timestamp_ms': 1675597571851}, page_content='Bye!'),\n",
      " Document(metadata={'source': '/Users/sourav.banerjee/Documents/My Codebases/GenerativAI_Demystified/RAG/docs/facebook_chat.json', 'seq_num': 2, 'sender_name': 'User 1', 'timestamp_ms': 1675597435669}, page_content='Oh no worries! Bye'),\n",
      " Document(metadata={'source': '/Users/sourav.banerjee/Documents/My Codebases/GenerativAI_Demystified/RAG/docs/facebook_chat.json', 'seq_num': 3, 'sender_name': 'User 2', 'timestamp_ms': 1675596277579}, page_content='No Im sorry it was my mistake, the blue one is not for sale'),\n",
      " Document(metadata={'source': '/Users/sourav.banerjee/Documents/My Codebases/GenerativAI_Demystified/RAG/docs/facebook_chat.json', 'seq_num': 4, 'sender_name': 'User 1', 'timestamp_ms': 1675595140251}, page_content='I thought you were selling the blue one!'),\n",
      " Document(metadata={'source': '/Users/sourav.banerjee/Documents/My Codebases/GenerativAI_Demystified/RAG/docs/facebook_chat.json', 'seq_num': 5, 'sender_name': 'User 1', 'timestamp_ms': 1675595109305}, page_content='Im not interested in this bag. Im interested in the blue one!'),\n",
      " Document(metadata={'source': '/Users/sourav.banerjee/Documents/My Codebases/GenerativAI_Demystified/RAG/docs/facebook_chat.json', 'seq_num': 6, 'sender_name': 'User 2', 'timestamp_ms': 1675595068468}, page_content='Here is $129'),\n",
      " Document(metadata={'source': '/Users/sourav.banerjee/Documents/My Codebases/GenerativAI_Demystified/RAG/docs/facebook_chat.json', 'seq_num': 7, 'sender_name': 'User 2', 'timestamp_ms': 1675595060730}, page_content=''),\n",
      " Document(metadata={'source': '/Users/sourav.banerjee/Documents/My Codebases/GenerativAI_Demystified/RAG/docs/facebook_chat.json', 'seq_num': 8, 'sender_name': 'User 2', 'timestamp_ms': 1675595045152}, page_content='Online is at least $100'),\n",
      " Document(metadata={'source': '/Users/sourav.banerjee/Documents/My Codebases/GenerativAI_Demystified/RAG/docs/facebook_chat.json', 'seq_num': 9, 'sender_name': 'User 1', 'timestamp_ms': 1675594799696}, page_content='How much do you want?'),\n",
      " Document(metadata={'source': '/Users/sourav.banerjee/Documents/My Codebases/GenerativAI_Demystified/RAG/docs/facebook_chat.json', 'seq_num': 10, 'sender_name': 'User 2', 'timestamp_ms': 1675577876645}, page_content='Goodmorning! $50 is too low.'),\n",
      " Document(metadata={'source': '/Users/sourav.banerjee/Documents/My Codebases/GenerativAI_Demystified/RAG/docs/facebook_chat.json', 'seq_num': 11, 'sender_name': 'User 1', 'timestamp_ms': 1675549022673}, page_content='Hi! Im interested in your bag. Im offering $50. Let me know if you are interested. Thanks!')]\n"
     ]
    }
   ],
   "source": [
    "# Example - JSON (Adding Metadata from JSON)\n",
    "\n",
    "def metadata_func(record: dict, metadata: dict) -> dict:\n",
    "    metadata[\"sender_name\"] = record.get(\"sender_name\")\n",
    "    metadata[\"timestamp_ms\"] = record.get(\"timestamp_ms\")\n",
    "    return metadata\n",
    "\n",
    "loader = JSONLoader(\n",
    "    file_path='../../docs/facebook_chat.json',\n",
    "    jq_schema='.messages[]',\n",
    "    content_key=\"content\",\n",
    "    metadata_func=metadata_func # Add metadata from JSON\n",
    ")\n",
    "\n",
    "data = loader.load()\n",
    "pprint(data)"
   ]
  },
  {
   "cell_type": "code",
   "execution_count": null,
   "id": "19d7a553",
   "metadata": {},
   "outputs": [],
   "source": []
  }
 ],
 "metadata": {
  "kernelspec": {
   "display_name": "venv",
   "language": "python",
   "name": "python3"
  },
  "language_info": {
   "codemirror_mode": {
    "name": "ipython",
    "version": 3
   },
   "file_extension": ".py",
   "mimetype": "text/x-python",
   "name": "python",
   "nbconvert_exporter": "python",
   "pygments_lexer": "ipython3",
   "version": "3.11.6"
  }
 },
 "nbformat": 4,
 "nbformat_minor": 5
}
