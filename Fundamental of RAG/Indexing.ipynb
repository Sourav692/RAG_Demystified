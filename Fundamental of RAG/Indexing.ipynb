{
 "cells": [
  {
   "cell_type": "code",
   "execution_count": 0,
   "metadata": {
    "application/vnd.databricks.v1+cell": {
     "cellMetadata": {},
     "inputWidgets": {},
     "nuid": "447a3f7d-81c1-48bd-b9f0-4f82f2d01554",
     "showTitle": false,
     "tableResultSettingsMap": {},
     "title": ""
    }
   },
   "outputs": [
    {
     "output_type": "stream",
     "name": "stdout",
     "output_type": "stream",
     "text": [
      "----------------------------------------------------------------------------------------------------\nThis is how it looks after being vectorized:\n\nTF-IDF Matrix:\n             ai  available   course   courses  educative  fundamentals  \\\nDoc 1  0.000000   0.000000  0.57735  0.000000   0.000000       0.57735   \nDoc 2  0.344315   0.000000  0.00000  0.000000   0.344315       0.00000   \nDoc 3  0.382743   0.485461  0.00000  0.485461   0.382743       0.00000   \nDoc 4  0.000000   0.000000  0.00000  0.000000   0.000000       0.00000   \n\n       generative  keyboard  learning    online  platform   powered      rag  \\\nDoc 1    0.000000   0.00000  0.000000  0.000000  0.000000  0.000000  0.57735   \nDoc 2    0.000000   0.00000  0.436719  0.436719  0.436719  0.436719  0.00000   \nDoc 3    0.485461   0.00000  0.000000  0.000000  0.000000  0.000000  0.00000   \nDoc 4    0.000000   0.57735  0.000000  0.000000  0.000000  0.000000  0.00000   \n\n         using  writing  \nDoc 1  0.00000  0.00000  \nDoc 2  0.00000  0.00000  \nDoc 3  0.00000  0.00000  \nDoc 4  0.57735  0.57735  \n"
     ]
    }
   ],
   "source": [
    "# Importing the TfidfVectorizer from sklearn to convert text to TF-IDF vectors\n",
    "from sklearn.feature_extraction.text import TfidfVectorizer\n",
    "import pandas as pd\n",
    "\n",
    "# List of documents to be processed\n",
    "documents = [\n",
    "    \"This is the `Fundamentals of RAG course`\",\n",
    "    \"Educative is an AI-powered online learning platform\",\n",
    "    \"There are several Generative AI courses available on Educative\",\n",
    "    \"I am writing this using my keyboard\"\n",
    "]\n",
    "\n",
    "# Initializing TfidfVectorizer to remove English stop words\n",
    "vectorizer = TfidfVectorizer(stop_words='english')\n",
    "\n",
    "# Transforming the documents into a matrix of TF-IDF features\n",
    "tfidf_matrix = vectorizer.fit_transform(documents)\n",
    "\n",
    "# Create a DataFrame to display the TF-IDF matrix more readably\n",
    "feature_names = vectorizer.get_feature_names_out()\n",
    "df = pd.DataFrame(tfidf_matrix.toarray(), columns=feature_names, index=[f\"Doc {i+1}\" for i in range(len(documents))])\n",
    "\n",
    "# Print the TF-IDF matrix using DataFrame for better formatting\n",
    "print(\"--\" * 50)\n",
    "print(\"This is how it looks after being vectorized:\\n\")\n",
    "print(\"TF-IDF Matrix:\")\n",
    "print(df)"
   ]
  },
  {
   "cell_type": "code",
   "execution_count": 0,
   "metadata": {
    "application/vnd.databricks.v1+cell": {
     "cellMetadata": {},
     "inputWidgets": {},
     "nuid": "da37d4b8-0d8e-4ff7-801f-a9fc145f3ed2",
     "showTitle": false,
     "tableResultSettingsMap": {},
     "title": ""
    }
   },
   "outputs": [
    {
     "output_type": "stream",
     "name": "stdout",
     "output_type": "stream",
     "text": [
      "NearestNeighbors(metric='cosine', n_neighbors=1)\n"
     ]
    }
   ],
   "source": [
    "# Importing NearestNeighbors from sklearn for creating the nearest neighbor index\n",
    "# This module is used to efficiently find the closest vector(s) in high-dimensional space, which is\n",
    "# crucial for the retrieval functionality in our RAG system\n",
    "from sklearn.neighbors import NearestNeighbors\n",
    "\n",
    "# Initializing NearestNeighbors to create a conceptual vector database (index) for the RAG system\n",
    "# This index, utilizing cosine similarity, functions effectively as the vector database,\n",
    "# storing all document vectors and enabling their retrieval based on similarity measures\n",
    "index = NearestNeighbors(n_neighbors=1, metric='cosine').fit(tfidf_matrix)\n",
    "print(index)"
   ]
  },
  {
   "cell_type": "code",
   "execution_count": 0,
   "metadata": {
    "application/vnd.databricks.v1+cell": {
     "cellMetadata": {},
     "inputWidgets": {},
     "nuid": "6cad8bca-69ef-4bc3-888c-5918cbad8084",
     "showTitle": false,
     "tableResultSettingsMap": {},
     "title": ""
    }
   },
   "outputs": [
    {
     "output_type": "stream",
     "name": "stdout",
     "output_type": "stream",
     "text": [
      "Query Vector for 'AI-powered online learning platform':\n[[0.36673901 0.         0.         0.         0.         0.\n  0.         0.         0.46516193 0.46516193 0.46516193 0.46516193\n  0.         0.         0.        ]]\n[[0.06114564]]\n[[1]]\nNearest document index: 1\nDistance from query: 0.06114563896438718\n----------------------------------------------------------------------------------------------------\nRetrieved document: Educative is an AI-powered online learning platform\n"
     ]
    }
   ],
   "source": [
    "# Function to query the index with a new document/query\n",
    "def query_index(query):\n",
    "    # Transforming the query into the same TF-IDF vector space as the documents\n",
    "    query_vec = vectorizer.transform([query])\n",
    "    print(f\"Query Vector for '{query}':\")\n",
    "    print(query_vec.toarray())\n",
    "    \n",
    "    # Finding the nearest neighbor to the query vector in the index\n",
    "    distance, indices = index.kneighbors(query_vec)\n",
    "    print(distance)\n",
    "    print(indices)\n",
    "    print(\"Nearest document index:\", indices[0][0])\n",
    "    print(\"Distance from query:\", distance[0][0])\n",
    "    \n",
    "    return documents[indices[0][0]]\n",
    "\n",
    "# Example query to test the indexing and retrieval system\n",
    "query = \"AI-powered online learning platform\"\n",
    "result = query_index(query)\n",
    "\n",
    "# Printing the document retrieved as the closest match to the query\n",
    "print(\"--\" * 50)\n",
    "print(\"Retrieved document:\", result)"
   ]
  },
  {
   "cell_type": "code",
   "execution_count": 0,
   "metadata": {
    "application/vnd.databricks.v1+cell": {
     "cellMetadata": {},
     "inputWidgets": {},
     "nuid": "d6b9da41-c1ce-4c81-bed0-e5688c037b71",
     "showTitle": false,
     "tableResultSettingsMap": {},
     "title": ""
    }
   },
   "outputs": [],
   "source": []
  }
 ],
 "metadata": {
  "application/vnd.databricks.v1+notebook": {
   "computePreferences": null,
   "dashboards": [],
   "environmentMetadata": null,
   "language": "python",
   "notebookMetadata": {},
   "notebookName": "Indexing",
   "widgets": {}
  },
  "kernelspec": {
   "display_name": "base",
   "language": "python",
   "name": "python3"
  },
  "language_info": {
   "name": "python"
  }
 },
 "nbformat": 4,
 "nbformat_minor": 0
}
