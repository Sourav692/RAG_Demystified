{
 "cells": [
  {
   "cell_type": "code",
   "execution_count": 0,
   "metadata": {
    "application/vnd.databricks.v1+cell": {
     "cellMetadata": {},
     "inputWidgets": {},
     "nuid": "dbfb078c-7438-497d-b8f9-13c3e79e77e4",
     "showTitle": false,
     "tableResultSettingsMap": {},
     "title": ""
    }
   },
   "outputs": [],
   "source": [
    "from utils import get_apikey"
   ]
  },
  {
   "cell_type": "code",
   "execution_count": 0,
   "metadata": {
    "application/vnd.databricks.v1+cell": {
     "cellMetadata": {},
     "inputWidgets": {},
     "nuid": "c3487814-bb0c-4a3b-9c4c-59c9d91a1843",
     "showTitle": false,
     "tableResultSettingsMap": {},
     "title": ""
    }
   },
   "outputs": [],
   "source": [
    "import openai\n",
    "openai.api_key = get_apikey() # Set your OpenAI API key here"
   ]
  },
  {
   "cell_type": "code",
   "execution_count": 0,
   "metadata": {
    "application/vnd.databricks.v1+cell": {
     "cellMetadata": {},
     "inputWidgets": {},
     "nuid": "0c7c8010-63b4-4ffb-bf60-ece29a47bf98",
     "showTitle": false,
     "tableResultSettingsMap": {},
     "title": ""
    }
   },
   "outputs": [],
   "source": [
    "import numpy as np\n",
    "from sklearn.neighbors import NearestNeighbors"
   ]
  },
  {
   "cell_type": "code",
   "execution_count": 0,
   "metadata": {
    "application/vnd.databricks.v1+cell": {
     "cellMetadata": {},
     "inputWidgets": {},
     "nuid": "bc6254f5-5c95-464c-a87e-b436ed284d67",
     "showTitle": false,
     "tableResultSettingsMap": {},
     "title": ""
    }
   },
   "outputs": [],
   "source": [
    "def get_gpt4_embedding(text): # Function to get embeddings from GPT-4 model\n",
    "    response = openai.Embedding.create(\n",
    "        input=text,\n",
    "        model=\"text-embedding-3-small\"  # Use the latest embedding model suitable for GPT-4\n",
    "    )\n",
    "    return response['data'][0]['embedding'] # Extract and return the embedding from the response"
   ]
  },
  {
   "cell_type": "code",
   "execution_count": 0,
   "metadata": {
    "application/vnd.databricks.v1+cell": {
     "cellMetadata": {},
     "inputWidgets": {},
     "nuid": "3d7382f2-d6ec-49f0-aab4-ea82af50ecdf",
     "showTitle": false,
     "tableResultSettingsMap": {},
     "title": ""
    }
   },
   "outputs": [
    {
     "output_type": "stream",
     "name": "stdout",
     "output_type": "stream",
     "text": [
      "----------------------------------------------------------------------------------------------------\nThis is how it looks after going through an embedding model:\n\n[[-3.02747115e-02  4.11193855e-02  9.89152770e-03 ... -1.07105263e-02\n   4.71630320e-03 -2.53607202e-02]\n [-1.95051357e-02 -5.74573763e-02 -3.16413902e-02 ...  2.26169955e-02\n  -1.56339835e-02  1.40656056e-02]\n [-4.96361889e-02 -1.45944459e-02  5.92318475e-02 ... -2.19670273e-02\n   9.87825450e-03 -5.52315637e-03]\n [ 2.41343491e-02  1.09905740e-02  4.54153754e-02 ...  7.39440584e-05\n  -2.86157825e-03 -3.66968922e-02]\n [-3.84624414e-02  1.66771654e-02 -3.34709547e-02 ... -2.31614336e-02\n  -9.42318141e-03 -1.19655747e-02]]\n"
     ]
    }
   ],
   "source": [
    "# List of example documents to be used in the index\n",
    "documents = [\n",
    "    \"This is the Fundamentals of RAG course.\",\n",
    "    \"Educative is an AI-powered online learning platform.\",\n",
    "    \"There are several Generative AI courses available on Educative.\",\n",
    "    \"I am writing this using my keyboard.\",\n",
    "    \"JavaScript is a good programming language :)\"\n",
    "]\n",
    "\n",
    "# Get embeddings for each document using the get_gpt4_embedding function\n",
    "embeddings = [get_gpt4_embedding(doc) for doc in documents]\n",
    "embeddings = np.array(embeddings)\n",
    "print(\"--\" * 50)\n",
    "print(\"This is how it looks after going through an embedding model:\\n\")\n",
    "print(embeddings)"
   ]
  },
  {
   "cell_type": "code",
   "execution_count": 0,
   "metadata": {
    "application/vnd.databricks.v1+cell": {
     "cellMetadata": {},
     "inputWidgets": {},
     "nuid": "ffc5be15-ba56-4170-94f2-8cf25ac7be33",
     "showTitle": false,
     "tableResultSettingsMap": {},
     "title": ""
    }
   },
   "outputs": [
    {
     "output_type": "stream",
     "name": "stdout",
     "output_type": "stream",
     "text": [
      "Query: What is JS?\nNearest document index: 4\nDistance from query: 0.534633222348955\nRetrieved document: JavaScript is a good programming language :)\n"
     ]
    }
   ],
   "source": [
    "# Fit a NearestNeighbors model on the document embeddings using cosine similarity\n",
    "index = NearestNeighbors(n_neighbors=1, metric='cosine').fit(embeddings)\n",
    "\n",
    "# Function to query the index with a given text query\n",
    "def query_index(query):\n",
    "    query_embedding = get_gpt4_embedding(query)\n",
    "    query_embedding = np.array([query_embedding])\n",
    "    distance, indices = index.kneighbors(query_embedding)\n",
    "    print(\"Nearest document index:\", indices[0][0])\n",
    "    print(\"Distance from query:\", distance[0][0])\n",
    "    return documents[indices[0][0]]\n",
    "\n",
    "# Example Query\n",
    "query = \"What is JS?\"\n",
    "print(\"Query:\", query)\n",
    "result = query_index(query) # Retrieve the most similar document to the query\n",
    "\n",
    "print(\"Retrieved document:\", result) # Print the retrieved document"
   ]
  },
  {
   "cell_type": "code",
   "execution_count": 0,
   "metadata": {
    "application/vnd.databricks.v1+cell": {
     "cellMetadata": {},
     "inputWidgets": {},
     "nuid": "dafc2847-7459-4b1e-9062-c685d7c56442",
     "showTitle": false,
     "tableResultSettingsMap": {},
     "title": ""
    }
   },
   "outputs": [],
   "source": []
  }
 ],
 "metadata": {
  "application/vnd.databricks.v1+notebook": {
   "computePreferences": null,
   "dashboards": [],
   "environmentMetadata": null,
   "language": "python",
   "notebookMetadata": {},
   "notebookName": "Retrieval Strategies",
   "widgets": {}
  },
  "kernelspec": {
   "display_name": "base",
   "language": "python",
   "name": "python3"
  },
  "language_info": {
   "name": "python"
  }
 },
 "nbformat": 4,
 "nbformat_minor": 0
}
