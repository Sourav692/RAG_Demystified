{
 "cells": [
  {
   "cell_type": "markdown",
   "metadata": {
    "application/vnd.databricks.v1+cell": {
     "cellMetadata": {},
     "inputWidgets": {},
     "nuid": "40593191-0b62-4413-86cd-8899710603f2",
     "showTitle": false,
     "tableResultSettingsMap": {},
     "title": ""
    }
   },
   "source": [
    "**Reference Link:** [RAG Systems Essentials (Analytics Vidhya)](https://courses.analyticsvidhya.com/courses/take/rag-systems-essentials/lessons/60148017-hands-on-deep-dive-into-rag-evaluation-metrics-generator-metrics-i)"
   ]
  },
  {
   "cell_type": "code",
   "execution_count": 2,
   "metadata": {},
   "outputs": [
    {
     "name": "stdout",
     "output_type": "stream",
     "text": [
      "\u001b[31mERROR: pip's dependency resolver does not currently take into account all the packages that are installed. This behaviour is the source of the following dependency conflicts.\n",
      "langchain-community 0.3.11 requires langchain<0.4.0,>=0.3.11, but you have langchain 0.3.10 which is incompatible.\u001b[0m\u001b[31m\n",
      "\u001b[0mMetadata: {'id': 10, 'title': 'Artificial Intelligence'}\n",
      "Content Brief:\n"
     ]
    },
    {
     "data": {
      "text/markdown": [
       "Artificial intelligence refers to machines mimicking human intelligence, like problem-solving and learning. AI includes applications like virtual assistants, robotics, and autonomous vehicles. It's evolving rapidly with advancements in machine learning and deep learning."
      ],
      "text/plain": [
       "<IPython.core.display.Markdown object>"
      ]
     },
     "metadata": {},
     "output_type": "display_data"
    },
    {
     "name": "stdout",
     "output_type": "stream",
     "text": [
      "\n",
      "Metadata: {'id': 3, 'title': 'Natural Language Processing (NLP)'}\n",
      "Content Brief:\n"
     ]
    },
    {
     "data": {
      "text/markdown": [
       "NLP is a branch of AI that enables computers to understand, interpret, and generate human language. Techniques include tokenization, stemming, and sentiment analysis. Applications range from chatbots to language translation services."
      ],
      "text/plain": [
       "<IPython.core.display.Markdown object>"
      ]
     },
     "metadata": {},
     "output_type": "display_data"
    },
    {
     "name": "stdout",
     "output_type": "stream",
     "text": [
      "\n",
      "Metadata: {'id': 1, 'title': 'Machine Learning'}\n",
      "Content Brief:\n"
     ]
    },
    {
     "data": {
      "text/markdown": [
       "Machine learning is a field of artificial intelligence focused on enabling systems to learn patterns from data. Algorithms analyze past data to make predictions or classify information. Popular applications include recommendation systems and image recognition."
      ],
      "text/plain": [
       "<IPython.core.display.Markdown object>"
      ]
     },
     "metadata": {},
     "output_type": "display_data"
    },
    {
     "name": "stdout",
     "output_type": "stream",
     "text": [
      "\n",
      "Metadata: {'id': 5, 'title': 'Photosynthesis'}\n",
      "Content Brief:\n"
     ]
    },
    {
     "data": {
      "text/markdown": [
       "Photosynthesis is the process plants use to convert sunlight into energy. This process produces glucose and releases oxygen as a byproduct. It is crucial for sustaining life on Earth by providing food and oxygen."
      ],
      "text/plain": [
       "<IPython.core.display.Markdown object>"
      ]
     },
     "metadata": {},
     "output_type": "display_data"
    },
    {
     "name": "stdout",
     "output_type": "stream",
     "text": [
      "\n"
     ]
    }
   ],
   "source": [
    "%run Build_RAG_Pipeline_with_Source.ipynb"
   ]
  },
  {
   "cell_type": "markdown",
   "metadata": {
    "application/vnd.databricks.v1+cell": {
     "cellMetadata": {},
     "inputWidgets": {},
     "nuid": "88b0ac04-8452-41c7-8ea0-1bd223c44b03",
     "showTitle": false,
     "tableResultSettingsMap": {},
     "title": ""
    },
    "id": "MTTk1BaCBfYa"
   },
   "source": [
    "# Retriever Evaluation Metrics\n",
    "\n",
    "![](https://i.imgur.com/5S4FhMB.png)\n",
    "\n",
    "The retrieval process generally includes these steps:\n",
    "\n",
    "- Convert the initial input query into an embedding using an embedding model of your choice (e.g., OpenAI's `text-embedding-3` model).\n",
    "- Conduct a vector search with the embedded input on a vector database that holds your vectorized knowledge base, retrieving the top-K most \"similar\" document chunks.\n",
    "- Optionally user a Reranker to rerank the retrieved results\n",
    "\n",
    "\n",
    "Key Metrics to Evaluate here include:\n",
    "\n",
    "- Contextual Precision\n",
    "- Contextual Recall\n",
    "- Contextual Relevancy"
   ]
  },
  {
   "cell_type": "markdown",
   "metadata": {
    "application/vnd.databricks.v1+cell": {
     "cellMetadata": {},
     "inputWidgets": {},
     "nuid": "5d4b9c03-88eb-480d-8818-3281e1dce5b9",
     "showTitle": false,
     "tableResultSettingsMap": {},
     "title": ""
    },
    "id": "gQOoZNPzDdjY"
   },
   "source": [
    "## Contextual Precision\n",
    "\n",
    "The contextual precision metric measures your RAG pipeline's retriever by evaluating whether document chunks (nodes) in your `retrieval_context` that are relevant to the given `input` are ranked higher than irrelevant ones.\n",
    "\n",
    "`deepeval`'s contextual precision metric is a self-explaining LLM-Eval, meaning it outputs a reason for its metric score using an LLM as a judge.\n",
    "\n",
    "In `deepeval`, to use the ContextualPrecisionMetric, you'll have to provide the following arguments when creating an `LLMTestCase`:\n",
    "\n",
    "- `input` : Input Query\n",
    "- `actual_output` : Actual LLM Response (not used in the computation)\n",
    "- `expected_output` : Expected LLM Response (ground truth answer)\n",
    "- `retrieval_context` : Top-N retrieved document chunks (nodes) from Vector DB\n",
    "\n",
    "\n",
    "![](https://i.imgur.com/oVwrRAU.png)\n",
    "\n",
    "\n",
    "\n"
   ]
  },
  {
   "cell_type": "code",
   "execution_count": 3,
   "metadata": {
    "application/vnd.databricks.v1+cell": {
     "cellMetadata": {},
     "inputWidgets": {},
     "nuid": "98fee6a9-a9ee-409a-a82f-74bb08c3f4de",
     "showTitle": false,
     "tableResultSettingsMap": {},
     "title": ""
    },
    "colab": {
     "base_uri": "https://localhost:8080/"
    },
    "executionInfo": {
     "elapsed": 1400,
     "status": "ok",
     "timestamp": 1734095838031,
     "user": {
      "displayName": "Dipanjan “DJ” Sarkar",
      "userId": "05135987707016476934"
     },
     "user_tz": -330
    },
    "id": "deG08v9sF0pY",
    "outputId": "8905b41c-2671-4a66-889c-eb7423d3343d"
   },
   "outputs": [
    {
     "data": {
      "text/plain": [
       "{'context': [Document(metadata={'id': 10, 'title': 'Artificial Intelligence'}, page_content=\"Artificial intelligence refers to machines mimicking human intelligence, like problem-solving and learning. AI includes applications like virtual assistants, robotics, and autonomous vehicles. It's evolving rapidly with advancements in machine learning and deep learning.\"),\n",
       "  Document(metadata={'id': 3, 'title': 'Natural Language Processing (NLP)'}, page_content='NLP is a branch of AI that enables computers to understand, interpret, and generate human language. Techniques include tokenization, stemming, and sentiment analysis. Applications range from chatbots to language translation services.'),\n",
       "  Document(metadata={'id': 1, 'title': 'Machine Learning'}, page_content='Machine learning is a field of artificial intelligence focused on enabling systems to learn patterns from data. Algorithms analyze past data to make predictions or classify information. Popular applications include recommendation systems and image recognition.')],\n",
       " 'question': 'What is AI?',\n",
       " 'response': 'AI refers to machines mimicking human intelligence, such as problem-solving and learning, and includes applications like virtual assistants, robotics, and autonomous vehicles.'}"
      ]
     },
     "execution_count": 3,
     "metadata": {},
     "output_type": "execute_result"
    }
   ],
   "source": [
    "query = \"What is AI?\"\n",
    "response = rag_chain_w_sources.invoke(query)\n",
    "response"
   ]
  },
  {
   "cell_type": "markdown",
   "metadata": {
    "application/vnd.databricks.v1+cell": {
     "cellMetadata": {},
     "inputWidgets": {},
     "nuid": "509ebdb4-1b67-4ff1-b059-a937f176dcd0",
     "showTitle": false,
     "tableResultSettingsMap": {},
     "title": ""
    },
    "id": "FXisPv9hSbSL"
   },
   "source": [
    "### Example:"
   ]
  },
  {
   "cell_type": "code",
   "execution_count": 4,
   "metadata": {
    "application/vnd.databricks.v1+cell": {
     "cellMetadata": {},
     "inputWidgets": {},
     "nuid": "83e27c8d-6a7d-4de7-872e-43bb5049dc89",
     "showTitle": false,
     "tableResultSettingsMap": {},
     "title": ""
    },
    "colab": {
     "base_uri": "https://localhost:8080/"
    },
    "executionInfo": {
     "elapsed": 2,
     "status": "ok",
     "timestamp": 1734095838362,
     "user": {
      "displayName": "Dipanjan “DJ” Sarkar",
      "userId": "05135987707016476934"
     },
     "user_tz": -330
    },
    "id": "v9cW2lv1IzIx",
    "outputId": "d9fdaa17-172c-4026-971a-dc418ed41c82"
   },
   "outputs": [
    {
     "data": {
      "text/plain": [
       "[\"Artificial intelligence refers to machines mimicking human intelligence, like problem-solving and learning. AI includes applications like virtual assistants, robotics, and autonomous vehicles. It's evolving rapidly with advancements in machine learning and deep learning.\",\n",
       " 'NLP is a branch of AI that enables computers to understand, interpret, and generate human language. Techniques include tokenization, stemming, and sentiment analysis. Applications range from chatbots to language translation services.',\n",
       " 'Machine learning is a field of artificial intelligence focused on enabling systems to learn patterns from data. Algorithms analyze past data to make predictions or classify information. Popular applications include recommendation systems and image recognition.']"
      ]
     },
     "execution_count": 4,
     "metadata": {},
     "output_type": "execute_result"
    }
   ],
   "source": [
    "retrieved_context = [doc.page_content for doc in response['context']]\n",
    "retrieved_context"
   ]
  },
  {
   "cell_type": "code",
   "execution_count": 5,
   "metadata": {
    "application/vnd.databricks.v1+cell": {
     "cellMetadata": {},
     "inputWidgets": {},
     "nuid": "36d16b5a-442e-4bbd-8044-ac3fdf463793",
     "showTitle": false,
     "tableResultSettingsMap": {},
     "title": ""
    },
    "executionInfo": {
     "elapsed": 2,
     "status": "ok",
     "timestamp": 1734095840510,
     "user": {
      "displayName": "Dipanjan “DJ” Sarkar",
      "userId": "05135987707016476934"
     },
     "user_tz": -330
    },
    "id": "Bm8St8H7F5nS"
   },
   "outputs": [],
   "source": [
    "human_answer = \"\"\"AI, also known as Artificial Intelligence is used to build complex systems for applications\n",
    "                  like virtual assistants, robotics and autonomous vehicles.\"\"\""
   ]
  },
  {
   "cell_type": "code",
   "execution_count": 6,
   "metadata": {
    "application/vnd.databricks.v1+cell": {
     "cellMetadata": {},
     "inputWidgets": {},
     "nuid": "ea6a017b-bc10-48df-9779-f05b4f591171",
     "showTitle": false,
     "tableResultSettingsMap": {},
     "title": ""
    },
    "colab": {
     "base_uri": "https://localhost:8080/"
    },
    "executionInfo": {
     "elapsed": 323,
     "status": "ok",
     "timestamp": 1734095841851,
     "user": {
      "displayName": "Dipanjan “DJ” Sarkar",
      "userId": "05135987707016476934"
     },
     "user_tz": -330
    },
    "id": "nOhNhwphJEfU",
    "outputId": "9504fe9d-340b-4cdd-da6a-71d88d96ee49"
   },
   "outputs": [
    {
     "data": {
      "text/plain": [
       "['Machine Learning is the study of algorithms which learn with more data',\n",
       " 'AI is known as Artificial Intelligence',\n",
       " \"Artificial intelligence refers to machines mimicking human intelligence, like problem-solving and learning. AI includes applications like virtual assistants, robotics, and autonomous vehicles. It's evolving rapidly with advancements in machine learning and deep learning.\",\n",
       " 'NLP is a branch of AI that enables computers to understand, interpret, and generate human language. Techniques include tokenization, stemming, and sentiment analysis. Applications range from chatbots to language translation services.',\n",
       " 'Machine learning is a field of artificial intelligence focused on enabling systems to learn patterns from data. Algorithms analyze past data to make predictions or classify information. Popular applications include recommendation systems and image recognition.']"
      ]
     },
     "execution_count": 6,
     "metadata": {},
     "output_type": "execute_result"
    }
   ],
   "source": [
    "new_context = ['Machine Learning is the study of algorithms which learn with more data',\n",
    "               'AI is known as Artificial Intelligence'] + retrieved_context\n",
    "new_context"
   ]
  },
  {
   "cell_type": "code",
   "execution_count": 7,
   "metadata": {
    "application/vnd.databricks.v1+cell": {
     "cellMetadata": {},
     "inputWidgets": {},
     "nuid": "13ea9336-a615-45cb-924c-64c9342f82d8",
     "showTitle": false,
     "tableResultSettingsMap": {},
     "title": ""
    },
    "colab": {
     "base_uri": "https://localhost:8080/",
     "height": 1000
    },
    "executionInfo": {
     "elapsed": 9005,
     "status": "ok",
     "timestamp": 1734095853038,
     "user": {
      "displayName": "Dipanjan “DJ” Sarkar",
      "userId": "05135987707016476934"
     },
     "user_tz": -330
    },
    "id": "2Urkt1YHIuK8",
    "outputId": "8736b357-0964-4c4c-b00c-d008ea353895"
   },
   "outputs": [
    {
     "name": "stderr",
     "output_type": "stream",
     "text": [
      "/Users/sourav.banerjee/Documents/My Codebases/GenerativAI_Demystified/venv/lib/python3.11/site-packages/deepeval/__init__.py:49: UserWarning: You are using deepeval version 1.4.7, however version 3.2.5 is available. You should consider upgrading via the \"pip install --upgrade deepeval\" command.\n",
      "  warnings.warn(\n"
     ]
    },
    {
     "data": {
      "text/html": [
       "<pre style=\"white-space:pre;overflow-x:auto;line-height:normal;font-family:Menlo,'DejaVu Sans Mono',consolas,'Courier New',monospace\">✨ You're running DeepEval's latest <span style=\"color: #6a00ff; text-decoration-color: #6a00ff\">Contextual Precision Metric</span>! <span style=\"color: #374151; text-decoration-color: #374151; font-weight: bold\">(</span><span style=\"color: #374151; text-decoration-color: #374151\">using gpt-4o, </span><span style=\"color: #374151; text-decoration-color: #374151\">strict</span><span style=\"color: #374151; text-decoration-color: #374151\">=</span><span style=\"color: #374151; text-decoration-color: #374151; font-style: italic\">False</span><span style=\"color: #374151; text-decoration-color: #374151\">, </span><span style=\"color: #374151; text-decoration-color: #374151\">async_mode</span><span style=\"color: #374151; text-decoration-color: #374151\">=</span><span style=\"color: #374151; text-decoration-color: #374151; font-style: italic\">True</span><span style=\"color: #374151; text-decoration-color: #374151; font-weight: bold\">)</span><span style=\"color: #374151; text-decoration-color: #374151\">...</span>\n",
       "</pre>\n"
      ],
      "text/plain": [
       "✨ You're running DeepEval's latest \u001b[38;2;106;0;255mContextual Precision Metric\u001b[0m! \u001b[1;38;2;55;65;81m(\u001b[0m\u001b[38;2;55;65;81musing gpt-4o, \u001b[0m\u001b[38;2;55;65;81mstrict\u001b[0m\u001b[38;2;55;65;81m=\u001b[0m\u001b[3;38;2;55;65;81mFalse\u001b[0m\u001b[38;2;55;65;81m, \u001b[0m\u001b[38;2;55;65;81masync_mode\u001b[0m\u001b[38;2;55;65;81m=\u001b[0m\u001b[3;38;2;55;65;81mTrue\u001b[0m\u001b[1;38;2;55;65;81m)\u001b[0m\u001b[38;2;55;65;81m...\u001b[0m\n"
      ]
     },
     "metadata": {},
     "output_type": "display_data"
    },
    {
     "name": "stdout",
     "output_type": "stream",
     "text": [
      "Event loop is already running. Applying nest_asyncio patch to allow async execution...\n"
     ]
    },
    {
     "name": "stderr",
     "output_type": "stream",
     "text": [
      "Evaluating 1 test case(s) in parallel: |██████████|100% (1/1) [Time Taken: 00:08,  8.89s/test case]"
     ]
    },
    {
     "name": "stdout",
     "output_type": "stream",
     "text": [
      "**************************************************\n",
      "Contextual Precision Verbose Logs\n",
      "**************************************************\n",
      "\n",
      "Verdicts:\n",
      "[\n",
      "    {\n",
      "        \"verdict\": \"no\",\n",
      "        \"reason\": \"This context is about machine learning, which is a subset of AI, but it doesn't directly define AI or mention its applications as required by the expected output.\"\n",
      "    },\n",
      "    {\n",
      "        \"verdict\": \"yes\",\n",
      "        \"reason\": \"The context provides a direct definition of AI as 'Artificial Intelligence', aligning with the expected output's initial clarification.\"\n",
      "    },\n",
      "    {\n",
      "        \"verdict\": \"yes\",\n",
      "        \"reason\": \"This context elaborates on what AI encompasses, including applications like 'virtual assistants, robotics, and autonomous vehicles', which matches the expected output.\"\n",
      "    },\n",
      "    {\n",
      "        \"verdict\": \"no\",\n",
      "        \"reason\": \"While related to AI, this context specifically focuses on NLP, a branch of AI, without addressing the general concept or applications of AI as a whole.\"\n",
      "    },\n",
      "    {\n",
      "        \"verdict\": \"no\",\n",
      "        \"reason\": \"The context is about machine learning, a subset of AI, and focuses on its applications and algorithms, which does not directly answer the question about AI in general.\"\n",
      "    }\n",
      "]\n",
      " \n",
      "Score: 0.5833333333333333\n",
      "Reason: The score is 0.58 because the first node in the retrieval context is not directly about AI but rather about 'machine learning, which is a subset of AI, but it doesn't directly define AI or mention its applications as required by the expected output.' This irrelevant node is ranked higher than relevant nodes, such as the second node, which provides 'a direct definition of AI as 'Artificial Intelligence.'' Another relevant node is the third, which 'elaborates on what AI encompasses, including applications like 'virtual assistants, robotics, and autonomous vehicles.' Additionally, the fourth node focuses on 'NLP, a branch of AI, without addressing the general concept or applications of AI as a whole,' and the fifth focuses on 'machine learning, a subset of AI,' both of which are irrelevant yet ranked higher than some relevant nodes. These rankings lower the precision score.\n",
      "\n",
      "======================================================================\n",
      "\n",
      "======================================================================\n",
      "\n",
      "Metrics Summary\n",
      "\n",
      "  - ✅ Contextual Precision (score: 0.5833333333333333, threshold: 0.5, strict: False, evaluation model: gpt-4o, reason: The score is 0.58 because the first node in the retrieval context is not directly about AI but rather about 'machine learning, which is a subset of AI, but it doesn't directly define AI or mention its applications as required by the expected output.' This irrelevant node is ranked higher than relevant nodes, such as the second node, which provides 'a direct definition of AI as 'Artificial Intelligence.'' Another relevant node is the third, which 'elaborates on what AI encompasses, including applications like 'virtual assistants, robotics, and autonomous vehicles.' Additionally, the fourth node focuses on 'NLP, a branch of AI, without addressing the general concept or applications of AI as a whole,' and the fifth focuses on 'machine learning, a subset of AI,' both of which are irrelevant yet ranked higher than some relevant nodes. These rankings lower the precision score., error: None)\n",
      "\n",
      "For test case:\n",
      "\n",
      "  - input: What is AI?\n",
      "  - actual output: AI refers to machines mimicking human intelligence, such as problem-solving and learning, and includes applications like virtual assistants, robotics, and autonomous vehicles.\n",
      "  - expected output: AI, also known as Artificial Intelligence is used to build complex systems for applications\n",
      "                  like virtual assistants, robotics and autonomous vehicles.\n",
      "  - context: None\n",
      "  - retrieval context: ['Machine Learning is the study of algorithms which learn with more data', 'AI is known as Artificial Intelligence', \"Artificial intelligence refers to machines mimicking human intelligence, like problem-solving and learning. AI includes applications like virtual assistants, robotics, and autonomous vehicles. It's evolving rapidly with advancements in machine learning and deep learning.\", 'NLP is a branch of AI that enables computers to understand, interpret, and generate human language. Techniques include tokenization, stemming, and sentiment analysis. Applications range from chatbots to language translation services.', 'Machine learning is a field of artificial intelligence focused on enabling systems to learn patterns from data. Algorithms analyze past data to make predictions or classify information. Popular applications include recommendation systems and image recognition.']\n",
      "\n",
      "======================================================================\n",
      "\n",
      "Overall Metric Pass Rates\n",
      "\n",
      "Contextual Precision: 100.00% pass rate\n",
      "\n",
      "======================================================================\n",
      "\n"
     ]
    },
    {
     "name": "stderr",
     "output_type": "stream",
     "text": [
      "\n"
     ]
    },
    {
     "data": {
      "text/html": [
       "<pre style=\"white-space:pre;overflow-x:auto;line-height:normal;font-family:Menlo,'DejaVu Sans Mono',consolas,'Courier New',monospace\"><span style=\"color: #05f58d; text-decoration-color: #05f58d\">✓</span> Tests finished 🎉! Run <span style=\"color: #008000; text-decoration-color: #008000\">'deepeval login'</span> to save and analyze evaluation results on Confident AI. \n",
       "‼️  Friendly reminder 😇: You can also run evaluations with ALL of deepeval's metrics directly on Confident AI \n",
       "instead.\n",
       "</pre>\n"
      ],
      "text/plain": [
       "\u001b[38;2;5;245;141m✓\u001b[0m Tests finished 🎉! Run \u001b[32m'deepeval login'\u001b[0m to save and analyze evaluation results on Confident AI. \n",
       "‼️  Friendly reminder 😇: You can also run evaluations with ALL of deepeval's metrics directly on Confident AI \n",
       "instead.\n"
      ]
     },
     "metadata": {},
     "output_type": "display_data"
    }
   ],
   "source": [
    "from deepeval.test_case import LLMTestCase\n",
    "from deepeval.metrics import ContextualPrecisionMetric\n",
    "from deepeval import evaluate\n",
    "\n",
    "test_case = LLMTestCase(\n",
    "    input=response['question'],\n",
    "    actual_output=response['response'],\n",
    "    expected_output=human_answer,\n",
    "    retrieval_context=new_context\n",
    ")\n",
    "\n",
    "metric = ContextualPrecisionMetric(\n",
    "    threshold=0.5,\n",
    "    model=\"gpt-4o\",\n",
    "    include_reason=True,\n",
    "    verbose_mode=True\n",
    ")\n",
    "\n",
    "result = evaluate([test_case], [metric])"
   ]
  },
  {
   "cell_type": "code",
   "execution_count": 8,
   "metadata": {
    "application/vnd.databricks.v1+cell": {
     "cellMetadata": {},
     "inputWidgets": {},
     "nuid": "95df2e5e-7300-4868-ae1c-dd3b9feb7a69",
     "showTitle": false,
     "tableResultSettingsMap": {},
     "title": ""
    },
    "colab": {
     "base_uri": "https://localhost:8080/"
    },
    "executionInfo": {
     "elapsed": 413,
     "status": "ok",
     "timestamp": 1734095863827,
     "user": {
      "displayName": "Dipanjan “DJ” Sarkar",
      "userId": "05135987707016476934"
     },
     "user_tz": -330
    },
    "id": "00qrXrl9JY06",
    "outputId": "07ae6595-2dcc-4908-9d5b-7fd5da06e859"
   },
   "outputs": [
    {
     "name": "stdout",
     "output_type": "stream",
     "text": [
      "Sucess: True\n",
      "Score: 0.5833333333333333\n",
      "Reason: The score is 0.58 because the first node in the retrieval context is not directly about AI but rather about 'machine learning, which is a subset of AI, but it doesn't directly define AI or mention its applications as required by the expected output.' This irrelevant node is ranked higher than relevant nodes, such as the second node, which provides 'a direct definition of AI as 'Artificial Intelligence.'' Another relevant node is the third, which 'elaborates on what AI encompasses, including applications like 'virtual assistants, robotics, and autonomous vehicles.' Additionally, the fourth node focuses on 'NLP, a branch of AI, without addressing the general concept or applications of AI as a whole,' and the fifth focuses on 'machine learning, a subset of AI,' both of which are irrelevant yet ranked higher than some relevant nodes. These rankings lower the precision score.\n"
     ]
    }
   ],
   "source": [
    "print('Sucess:', result.test_results[0].metrics_data[0].success)\n",
    "print('Score:', result.test_results[0].metrics_data[0].score)\n",
    "print('Reason:', result.test_results[0].metrics_data[0].reason)"
   ]
  },
  {
   "cell_type": "markdown",
   "metadata": {
    "application/vnd.databricks.v1+cell": {
     "cellMetadata": {},
     "inputWidgets": {},
     "nuid": "d171d551-224f-46b0-89da-338999a49bf6",
     "showTitle": false,
     "tableResultSettingsMap": {},
     "title": ""
    },
    "id": "uTDmP7-dLRlp"
   },
   "source": [
    "## Contextual Recall\n",
    "\n",
    "The contextual recall metric measures the quality of your RAG pipeline's retriever by evaluating the extent of which the `retrieval_context` aligns with the `expected_output`.\n",
    "\n",
    "`deepeval`'s contextual recall metric is a self-explaining LLM-Eval, meaning it outputs a reason for its metric score using an LLM as a Judge.\n",
    "\n",
    "In `deepeval`, to use the ContextualRecallMetric, you'll have to provide the following arguments when creating an `LLMTestCase`:\n",
    "\n",
    "- `input` : Input Query (not used in the computation)\n",
    "- `actual_output` : Actual LLM Response (not used in the computation)\n",
    "- `expected_output` : Expected LLM Response (ground truth answer)\n",
    "- `retrieval_context` : Top-N retrieved document chunks (nodes) from Vector DB\n",
    "\n",
    "\n",
    "![](https://i.imgur.com/PDbwuX5.png)\n",
    "\n",
    "\n",
    "\n"
   ]
  },
  {
   "cell_type": "code",
   "execution_count": 9,
   "metadata": {
    "application/vnd.databricks.v1+cell": {
     "cellMetadata": {},
     "inputWidgets": {},
     "nuid": "3856d0f0-5970-422f-878f-75f0ba81196b",
     "showTitle": false,
     "tableResultSettingsMap": {},
     "title": ""
    },
    "colab": {
     "base_uri": "https://localhost:8080/"
    },
    "id": "VhnDaJvELRlq",
    "outputId": "c2cc9da2-ca24-41f6-a7d0-53890dacb488"
   },
   "outputs": [
    {
     "data": {
      "text/plain": [
       "{'context': [Document(metadata={'id': 10, 'title': 'Artificial Intelligence'}, page_content=\"Artificial intelligence refers to machines mimicking human intelligence, like problem-solving and learning. AI includes applications like virtual assistants, robotics, and autonomous vehicles. It's evolving rapidly with advancements in machine learning and deep learning.\"),\n",
       "  Document(metadata={'id': 3, 'title': 'Natural Language Processing (NLP)'}, page_content='NLP is a branch of AI that enables computers to understand, interpret, and generate human language. Techniques include tokenization, stemming, and sentiment analysis. Applications range from chatbots to language translation services.'),\n",
       "  Document(metadata={'id': 1, 'title': 'Machine Learning'}, page_content='Machine learning is a field of artificial intelligence focused on enabling systems to learn patterns from data. Algorithms analyze past data to make predictions or classify information. Popular applications include recommendation systems and image recognition.')],\n",
       " 'question': 'What is AI?',\n",
       " 'response': 'AI refers to machines mimicking human intelligence, such as problem-solving and learning, and includes applications like virtual assistants, robotics, and autonomous vehicles.'}"
      ]
     },
     "execution_count": 9,
     "metadata": {},
     "output_type": "execute_result"
    }
   ],
   "source": [
    "query = \"What is AI?\"\n",
    "response = rag_chain_w_sources.invoke(query)\n",
    "response"
   ]
  },
  {
   "cell_type": "markdown",
   "metadata": {
    "application/vnd.databricks.v1+cell": {
     "cellMetadata": {},
     "inputWidgets": {},
     "nuid": "d1706141-cec1-4f6c-a733-598dc9e2f217",
     "showTitle": false,
     "tableResultSettingsMap": {},
     "title": ""
    },
    "id": "SRdTNvgESiaC"
   },
   "source": [
    "### Example 1:"
   ]
  },
  {
   "cell_type": "code",
   "execution_count": 10,
   "metadata": {
    "application/vnd.databricks.v1+cell": {
     "cellMetadata": {},
     "inputWidgets": {},
     "nuid": "2ce87eea-5b8c-488a-b35d-ffa7184a6049",
     "showTitle": false,
     "tableResultSettingsMap": {},
     "title": ""
    },
    "colab": {
     "base_uri": "https://localhost:8080/"
    },
    "id": "Uv7FKS6XLRlr",
    "outputId": "76f5611a-9ed0-4120-dd20-abbfafef7221"
   },
   "outputs": [
    {
     "data": {
      "text/plain": [
       "[\"Artificial intelligence refers to machines mimicking human intelligence, like problem-solving and learning. AI includes applications like virtual assistants, robotics, and autonomous vehicles. It's evolving rapidly with advancements in machine learning and deep learning.\",\n",
       " 'NLP is a branch of AI that enables computers to understand, interpret, and generate human language. Techniques include tokenization, stemming, and sentiment analysis. Applications range from chatbots to language translation services.',\n",
       " 'Machine learning is a field of artificial intelligence focused on enabling systems to learn patterns from data. Algorithms analyze past data to make predictions or classify information. Popular applications include recommendation systems and image recognition.']"
      ]
     },
     "execution_count": 10,
     "metadata": {},
     "output_type": "execute_result"
    }
   ],
   "source": [
    "retrieved_context = [doc.page_content for doc in response['context']]\n",
    "retrieved_context"
   ]
  },
  {
   "cell_type": "code",
   "execution_count": 11,
   "metadata": {
    "application/vnd.databricks.v1+cell": {
     "cellMetadata": {},
     "inputWidgets": {},
     "nuid": "012c0c29-3be5-4006-9b77-a52f98250666",
     "showTitle": false,
     "tableResultSettingsMap": {},
     "title": ""
    },
    "id": "90_guzmVLRls"
   },
   "outputs": [],
   "source": [
    "human_answer = \"\"\"AI, also known as Artificial Intelligence is used to build complex systems for applications\n",
    "                  like virtual assistants, robotics and autonomous vehicles.\"\"\""
   ]
  },
  {
   "cell_type": "code",
   "execution_count": 12,
   "metadata": {
    "application/vnd.databricks.v1+cell": {
     "cellMetadata": {},
     "inputWidgets": {},
     "nuid": "505c658c-4fb3-4a33-a19d-8c380403934f",
     "showTitle": false,
     "tableResultSettingsMap": {},
     "title": ""
    },
    "colab": {
     "base_uri": "https://localhost:8080/"
    },
    "id": "84eNVGrwLRlt",
    "outputId": "f522e7cd-e815-4634-a180-9e3347630fe1"
   },
   "outputs": [
    {
     "data": {
      "text/plain": [
       "['NVIDIA makes chips for AI', 'AI is an acronym for Artificial Intellence']"
      ]
     },
     "execution_count": 12,
     "metadata": {},
     "output_type": "execute_result"
    }
   ],
   "source": [
    "new_context = ['NVIDIA makes chips for AI', 'AI is an acronym for Artificial Intellence']\n",
    "new_context"
   ]
  },
  {
   "cell_type": "code",
   "execution_count": 13,
   "metadata": {
    "application/vnd.databricks.v1+cell": {
     "cellMetadata": {},
     "inputWidgets": {},
     "nuid": "f9fba24a-0264-4a5f-aa33-244b13b511ed",
     "showTitle": false,
     "tableResultSettingsMap": {},
     "title": ""
    },
    "colab": {
     "base_uri": "https://localhost:8080/",
     "height": 1000
    },
    "id": "Of-wta5OLRlt",
    "outputId": "267e8858-71f1-41a8-d27d-e80f5f635cd8"
   },
   "outputs": [
    {
     "data": {
      "text/html": [
       "<pre style=\"white-space:pre;overflow-x:auto;line-height:normal;font-family:Menlo,'DejaVu Sans Mono',consolas,'Courier New',monospace\">✨ You're running DeepEval's latest <span style=\"color: #6a00ff; text-decoration-color: #6a00ff\">Contextual Recall Metric</span>! <span style=\"color: #374151; text-decoration-color: #374151; font-weight: bold\">(</span><span style=\"color: #374151; text-decoration-color: #374151\">using gpt-4o, </span><span style=\"color: #374151; text-decoration-color: #374151\">strict</span><span style=\"color: #374151; text-decoration-color: #374151\">=</span><span style=\"color: #374151; text-decoration-color: #374151; font-style: italic\">False</span><span style=\"color: #374151; text-decoration-color: #374151\">, </span><span style=\"color: #374151; text-decoration-color: #374151\">async_mode</span><span style=\"color: #374151; text-decoration-color: #374151\">=</span><span style=\"color: #374151; text-decoration-color: #374151; font-style: italic\">True</span><span style=\"color: #374151; text-decoration-color: #374151; font-weight: bold\">)</span><span style=\"color: #374151; text-decoration-color: #374151\">...</span>\n",
       "</pre>\n"
      ],
      "text/plain": [
       "✨ You're running DeepEval's latest \u001b[38;2;106;0;255mContextual Recall Metric\u001b[0m! \u001b[1;38;2;55;65;81m(\u001b[0m\u001b[38;2;55;65;81musing gpt-4o, \u001b[0m\u001b[38;2;55;65;81mstrict\u001b[0m\u001b[38;2;55;65;81m=\u001b[0m\u001b[3;38;2;55;65;81mFalse\u001b[0m\u001b[38;2;55;65;81m, \u001b[0m\u001b[38;2;55;65;81masync_mode\u001b[0m\u001b[38;2;55;65;81m=\u001b[0m\u001b[3;38;2;55;65;81mTrue\u001b[0m\u001b[1;38;2;55;65;81m)\u001b[0m\u001b[38;2;55;65;81m...\u001b[0m\n"
      ]
     },
     "metadata": {},
     "output_type": "display_data"
    },
    {
     "name": "stdout",
     "output_type": "stream",
     "text": [
      "Event loop is already running. Applying nest_asyncio patch to allow async execution...\n"
     ]
    },
    {
     "name": "stderr",
     "output_type": "stream",
     "text": [
      "Evaluating 2 test case(s) in parallel: |██████████|100% (2/2) [Time Taken: 00:02,  1.43s/test case]"
     ]
    },
    {
     "name": "stdout",
     "output_type": "stream",
     "text": [
      "**************************************************\n",
      "Contextual Recall Verbose Logs\n",
      "**************************************************\n",
      "\n",
      "Verdicts:\n",
      "[\n",
      "    {\n",
      "        \"verdict\": \"yes\",\n",
      "        \"reason\": \"The sentence can be attributed to the 2nd node in the retrieval context: 'AI is an acronym for Artificial Intellence'.\"\n",
      "    }\n",
      "]\n",
      " \n",
      "Score: 1.0\n",
      "Reason: The score is 1.00 because every sentence in the expected output is perfectly aligned with the nodes in the retrieval context. Great job!\n",
      "\n",
      "======================================================================\n",
      "**************************************************\n",
      "Contextual Recall Verbose Logs\n",
      "**************************************************\n",
      "\n",
      "Verdicts:\n",
      "[\n",
      "    {\n",
      "        \"verdict\": \"yes\",\n",
      "        \"reason\": \"The sentence can be attributed to the 1st node in the retrieval context, which states: 'AI includes applications like virtual assistants, robotics, and autonomous vehicles...'\"\n",
      "    }\n",
      "]\n",
      " \n",
      "Score: 1.0\n",
      "Reason: The score is 1.00 because the expected output is perfectly aligned with the information from the node(s) in retrieval context. Great job!\n",
      "\n",
      "======================================================================\n",
      "\n",
      "======================================================================\n",
      "\n",
      "Metrics Summary\n",
      "\n",
      "  - ✅ Contextual Recall (score: 1.0, threshold: 0.5, strict: False, evaluation model: gpt-4o, reason: The score is 1.00 because every sentence in the expected output is perfectly aligned with the nodes in the retrieval context. Great job!, error: None)\n",
      "\n",
      "For test case:\n",
      "\n",
      "  - input: What is AI?\n",
      "  - actual output: AI refers to machines mimicking human intelligence, such as problem-solving and learning, and includes applications like virtual assistants, robotics, and autonomous vehicles.\n",
      "  - expected output: AI, also known as Artificial Intelligence is used to build complex systems for applications\n",
      "                  like virtual assistants, robotics and autonomous vehicles.\n",
      "  - context: None\n",
      "  - retrieval context: ['NVIDIA makes chips for AI', 'AI is an acronym for Artificial Intellence']\n",
      "\n",
      "======================================================================\n",
      "\n",
      "Metrics Summary\n",
      "\n",
      "  - ✅ Contextual Recall (score: 1.0, threshold: 0.5, strict: False, evaluation model: gpt-4o, reason: The score is 1.00 because the expected output is perfectly aligned with the information from the node(s) in retrieval context. Great job!, error: None)\n",
      "\n",
      "For test case:\n",
      "\n",
      "  - input: What is AI?\n",
      "  - actual output: AI refers to machines mimicking human intelligence, such as problem-solving and learning, and includes applications like virtual assistants, robotics, and autonomous vehicles.\n",
      "  - expected output: AI, also known as Artificial Intelligence is used to build complex systems for applications\n",
      "                  like virtual assistants, robotics and autonomous vehicles.\n",
      "  - context: None\n",
      "  - retrieval context: [\"Artificial intelligence refers to machines mimicking human intelligence, like problem-solving and learning. AI includes applications like virtual assistants, robotics, and autonomous vehicles. It's evolving rapidly with advancements in machine learning and deep learning.\", 'NLP is a branch of AI that enables computers to understand, interpret, and generate human language. Techniques include tokenization, stemming, and sentiment analysis. Applications range from chatbots to language translation services.', 'Machine learning is a field of artificial intelligence focused on enabling systems to learn patterns from data. Algorithms analyze past data to make predictions or classify information. Popular applications include recommendation systems and image recognition.']\n",
      "\n",
      "======================================================================\n",
      "\n",
      "Overall Metric Pass Rates\n",
      "\n",
      "Contextual Recall: 100.00% pass rate\n",
      "\n",
      "======================================================================\n",
      "\n"
     ]
    },
    {
     "name": "stderr",
     "output_type": "stream",
     "text": [
      "\n"
     ]
    },
    {
     "data": {
      "text/html": [
       "<pre style=\"white-space:pre;overflow-x:auto;line-height:normal;font-family:Menlo,'DejaVu Sans Mono',consolas,'Courier New',monospace\"><span style=\"color: #05f58d; text-decoration-color: #05f58d\">✓</span> Tests finished 🎉! Run <span style=\"color: #008000; text-decoration-color: #008000\">'deepeval login'</span> to save and analyze evaluation results on Confident AI. \n",
       "‼️  Friendly reminder 😇: You can also run evaluations with ALL of deepeval's metrics directly on Confident AI \n",
       "instead.\n",
       "</pre>\n"
      ],
      "text/plain": [
       "\u001b[38;2;5;245;141m✓\u001b[0m Tests finished 🎉! Run \u001b[32m'deepeval login'\u001b[0m to save and analyze evaluation results on Confident AI. \n",
       "‼️  Friendly reminder 😇: You can also run evaluations with ALL of deepeval's metrics directly on Confident AI \n",
       "instead.\n"
      ]
     },
     "metadata": {},
     "output_type": "display_data"
    }
   ],
   "source": [
    "from deepeval.test_case import LLMTestCase\n",
    "from deepeval.metrics import ContextualRecallMetric\n",
    "from deepeval import evaluate\n",
    "\n",
    "test_case1 = LLMTestCase(\n",
    "    input=response['question'],\n",
    "    actual_output=response['response'],\n",
    "    expected_output=human_answer,\n",
    "    retrieval_context=retrieved_context\n",
    ")\n",
    "\n",
    "test_case2 = LLMTestCase(\n",
    "    input=response['question'],\n",
    "    actual_output=response['response'],\n",
    "    expected_output=human_answer,\n",
    "    retrieval_context=new_context\n",
    ")\n",
    "\n",
    "metric = ContextualRecallMetric(\n",
    "    threshold=0.5,\n",
    "    model=\"gpt-4o\",\n",
    "    include_reason=True,\n",
    "    verbose_mode=True\n",
    ")\n",
    "\n",
    "result = evaluate([test_case1, test_case2], [metric])"
   ]
  },
  {
   "cell_type": "code",
   "execution_count": 14,
   "metadata": {
    "application/vnd.databricks.v1+cell": {
     "cellMetadata": {},
     "inputWidgets": {},
     "nuid": "dc205eaf-804d-4bbb-903a-908434645930",
     "showTitle": false,
     "tableResultSettingsMap": {},
     "title": ""
    },
    "colab": {
     "base_uri": "https://localhost:8080/"
    },
    "id": "13c3vhCQLRlt",
    "outputId": "bcae6817-0a1c-4ec6-ae51-7b2ca301be03"
   },
   "outputs": [
    {
     "name": "stdout",
     "output_type": "stream",
     "text": [
      "Sucess: True\n",
      "Score: 1.0\n",
      "Reason: The score is 1.00 because every sentence in the expected output is perfectly aligned with the nodes in the retrieval context. Great job!\n"
     ]
    }
   ],
   "source": [
    "print('Sucess:', result.test_results[0].metrics_data[0].success)\n",
    "print('Score:', result.test_results[0].metrics_data[0].score)\n",
    "print('Reason:', result.test_results[0].metrics_data[0].reason)"
   ]
  },
  {
   "cell_type": "code",
   "execution_count": 15,
   "metadata": {
    "application/vnd.databricks.v1+cell": {
     "cellMetadata": {},
     "inputWidgets": {},
     "nuid": "fd924b8c-720f-44d8-9ee6-552d4e29077d",
     "showTitle": false,
     "tableResultSettingsMap": {},
     "title": ""
    },
    "colab": {
     "base_uri": "https://localhost:8080/"
    },
    "id": "X-bbC5jelN9v",
    "outputId": "f86d6460-af92-4cb3-c90f-d6b8984cec82"
   },
   "outputs": [
    {
     "name": "stdout",
     "output_type": "stream",
     "text": [
      "Sucess: True\n",
      "Score: 1.0\n",
      "Reason: The score is 1.00 because the expected output is perfectly aligned with the information from the node(s) in retrieval context. Great job!\n"
     ]
    }
   ],
   "source": [
    "print('Sucess:', result.test_results[1].metrics_data[0].success)\n",
    "print('Score:', result.test_results[1].metrics_data[0].score)\n",
    "print('Reason:', result.test_results[1].metrics_data[0].reason)"
   ]
  },
  {
   "cell_type": "markdown",
   "metadata": {
    "application/vnd.databricks.v1+cell": {
     "cellMetadata": {},
     "inputWidgets": {},
     "nuid": "47140171-afc1-4cdf-9102-f1a3a91df344",
     "showTitle": false,
     "tableResultSettingsMap": {},
     "title": ""
    },
    "id": "SfHpMTVvSx7h"
   },
   "source": [
    "## Contextual Relevancy\n",
    "\n",
    "The contextual relevancy metric measures the quality of your RAG pipeline's retriever by evaluating the overall relevance of the information presented in your `retrieval_context` for a given `input`.\n",
    "\n",
    "`deepeval`'s contextual relevancy metric is a self-explaining LLM-Eval, meaning it outputs a reason for its metric score using an LLM as a Judge.\n",
    "\n",
    "In `deepeval`, to use the ContextualRelevancyMetric, you'll have to provide the following arguments when creating an `LLMTestCase`:\n",
    "\n",
    "- `input` : Input Query\n",
    "- `actual_output` : Actual LLM Response (not used in the computation)\n",
    "- `retrieval_context` : Top-N retrieved document chunks (nodes) from Vector DB\n",
    "\n",
    "\n",
    "![](https://i.imgur.com/VLKoEsI.png)\n",
    "\n",
    "\n",
    "\n"
   ]
  },
  {
   "cell_type": "code",
   "execution_count": 16,
   "metadata": {
    "application/vnd.databricks.v1+cell": {
     "cellMetadata": {},
     "inputWidgets": {},
     "nuid": "81abe1cd-1d29-4cb0-bf08-b947d965a0a5",
     "showTitle": false,
     "tableResultSettingsMap": {},
     "title": ""
    },
    "colab": {
     "base_uri": "https://localhost:8080/"
    },
    "id": "QI5H2AWqSx7h",
    "outputId": "89ad1a10-6299-4a0b-cea1-49bdbea2e0f5"
   },
   "outputs": [
    {
     "data": {
      "text/plain": [
       "{'context': [Document(metadata={'id': 10, 'title': 'Artificial Intelligence'}, page_content=\"Artificial intelligence refers to machines mimicking human intelligence, like problem-solving and learning. AI includes applications like virtual assistants, robotics, and autonomous vehicles. It's evolving rapidly with advancements in machine learning and deep learning.\"),\n",
       "  Document(metadata={'id': 3, 'title': 'Natural Language Processing (NLP)'}, page_content='NLP is a branch of AI that enables computers to understand, interpret, and generate human language. Techniques include tokenization, stemming, and sentiment analysis. Applications range from chatbots to language translation services.'),\n",
       "  Document(metadata={'id': 1, 'title': 'Machine Learning'}, page_content='Machine learning is a field of artificial intelligence focused on enabling systems to learn patterns from data. Algorithms analyze past data to make predictions or classify information. Popular applications include recommendation systems and image recognition.')],\n",
       " 'question': 'What is AI?',\n",
       " 'response': 'AI refers to machines mimicking human intelligence, including problem-solving and learning, with applications like virtual assistants, robotics, and autonomous vehicles.'}"
      ]
     },
     "execution_count": 16,
     "metadata": {},
     "output_type": "execute_result"
    }
   ],
   "source": [
    "query = \"What is AI?\"\n",
    "response = rag_chain_w_sources.invoke(query)\n",
    "response"
   ]
  },
  {
   "cell_type": "markdown",
   "metadata": {
    "application/vnd.databricks.v1+cell": {
     "cellMetadata": {},
     "inputWidgets": {},
     "nuid": "55aaa3ff-5c22-4ef0-964c-1f3b33db39e4",
     "showTitle": false,
     "tableResultSettingsMap": {},
     "title": ""
    },
    "id": "45UdHqalSx7i"
   },
   "source": [
    "### Example 1:"
   ]
  },
  {
   "cell_type": "code",
   "execution_count": 17,
   "metadata": {
    "application/vnd.databricks.v1+cell": {
     "cellMetadata": {},
     "inputWidgets": {},
     "nuid": "c3d78c36-f7ab-48b5-a080-d812641b4454",
     "showTitle": false,
     "tableResultSettingsMap": {},
     "title": ""
    },
    "colab": {
     "base_uri": "https://localhost:8080/"
    },
    "id": "aOpExtxiSx7i",
    "outputId": "2420dba1-4969-45df-923a-5ce5577f60af"
   },
   "outputs": [
    {
     "data": {
      "text/plain": [
       "[\"Artificial intelligence refers to machines mimicking human intelligence, like problem-solving and learning. AI includes applications like virtual assistants, robotics, and autonomous vehicles. It's evolving rapidly with advancements in machine learning and deep learning.\",\n",
       " 'NLP is a branch of AI that enables computers to understand, interpret, and generate human language. Techniques include tokenization, stemming, and sentiment analysis. Applications range from chatbots to language translation services.',\n",
       " 'Machine learning is a field of artificial intelligence focused on enabling systems to learn patterns from data. Algorithms analyze past data to make predictions or classify information. Popular applications include recommendation systems and image recognition.']"
      ]
     },
     "execution_count": 17,
     "metadata": {},
     "output_type": "execute_result"
    }
   ],
   "source": [
    "retrieved_context = [doc.page_content for doc in response['context']]\n",
    "retrieved_context"
   ]
  },
  {
   "cell_type": "code",
   "execution_count": 18,
   "metadata": {
    "application/vnd.databricks.v1+cell": {
     "cellMetadata": {},
     "inputWidgets": {},
     "nuid": "7de2e77e-508e-4c3a-bbed-e3c7ef62dddf",
     "showTitle": false,
     "tableResultSettingsMap": {},
     "title": ""
    },
    "colab": {
     "base_uri": "https://localhost:8080/"
    },
    "id": "xyAtudlSSx7k",
    "outputId": "9d4a3240-3268-4f5e-d61b-3f8e55c0d51a"
   },
   "outputs": [
    {
     "data": {
      "text/plain": [
       "['NVIDIA makes chips for AI',\n",
       " 'Google and Microsoft are battling out the market share for AI Chatbots',\n",
       " \"Artificial intelligence refers to machines mimicking human intelligence, like problem-solving and learning. AI includes applications like virtual assistants, robotics, and autonomous vehicles. It's evolving rapidly with advancements in machine learning and deep learning.\",\n",
       " 'NLP is a branch of AI that enables computers to understand, interpret, and generate human language. Techniques include tokenization, stemming, and sentiment analysis. Applications range from chatbots to language translation services.',\n",
       " 'Machine learning is a field of artificial intelligence focused on enabling systems to learn patterns from data. Algorithms analyze past data to make predictions or classify information. Popular applications include recommendation systems and image recognition.']"
      ]
     },
     "execution_count": 18,
     "metadata": {},
     "output_type": "execute_result"
    }
   ],
   "source": [
    "new_context = ['NVIDIA makes chips for AI', 'Google and Microsoft are battling out the market share for AI Chatbots'] + retrieved_context\n",
    "new_context"
   ]
  },
  {
   "cell_type": "code",
   "execution_count": 19,
   "metadata": {
    "application/vnd.databricks.v1+cell": {
     "cellMetadata": {},
     "inputWidgets": {},
     "nuid": "70df5754-f978-4aa1-af42-957c70dca14d",
     "showTitle": false,
     "tableResultSettingsMap": {},
     "title": ""
    },
    "colab": {
     "base_uri": "https://localhost:8080/",
     "height": 1000
    },
    "id": "2_fQqaFUSx7l",
    "outputId": "34468573-ef29-489e-8b4d-1cc27cca3714"
   },
   "outputs": [
    {
     "data": {
      "text/html": [
       "<pre style=\"white-space:pre;overflow-x:auto;line-height:normal;font-family:Menlo,'DejaVu Sans Mono',consolas,'Courier New',monospace\">✨ You're running DeepEval's latest <span style=\"color: #6a00ff; text-decoration-color: #6a00ff\">Contextual Relevancy Metric</span>! <span style=\"color: #374151; text-decoration-color: #374151; font-weight: bold\">(</span><span style=\"color: #374151; text-decoration-color: #374151\">using gpt-4o, </span><span style=\"color: #374151; text-decoration-color: #374151\">strict</span><span style=\"color: #374151; text-decoration-color: #374151\">=</span><span style=\"color: #374151; text-decoration-color: #374151; font-style: italic\">False</span><span style=\"color: #374151; text-decoration-color: #374151\">, </span><span style=\"color: #374151; text-decoration-color: #374151\">async_mode</span><span style=\"color: #374151; text-decoration-color: #374151\">=</span><span style=\"color: #374151; text-decoration-color: #374151; font-style: italic\">True</span><span style=\"color: #374151; text-decoration-color: #374151; font-weight: bold\">)</span><span style=\"color: #374151; text-decoration-color: #374151\">...</span>\n",
       "</pre>\n"
      ],
      "text/plain": [
       "✨ You're running DeepEval's latest \u001b[38;2;106;0;255mContextual Relevancy Metric\u001b[0m! \u001b[1;38;2;55;65;81m(\u001b[0m\u001b[38;2;55;65;81musing gpt-4o, \u001b[0m\u001b[38;2;55;65;81mstrict\u001b[0m\u001b[38;2;55;65;81m=\u001b[0m\u001b[3;38;2;55;65;81mFalse\u001b[0m\u001b[38;2;55;65;81m, \u001b[0m\u001b[38;2;55;65;81masync_mode\u001b[0m\u001b[38;2;55;65;81m=\u001b[0m\u001b[3;38;2;55;65;81mTrue\u001b[0m\u001b[1;38;2;55;65;81m)\u001b[0m\u001b[38;2;55;65;81m...\u001b[0m\n"
      ]
     },
     "metadata": {},
     "output_type": "display_data"
    },
    {
     "name": "stdout",
     "output_type": "stream",
     "text": [
      "Event loop is already running. Applying nest_asyncio patch to allow async execution...\n"
     ]
    },
    {
     "name": "stderr",
     "output_type": "stream",
     "text": [
      "Evaluating 1 test case(s) in parallel: |██████████|100% (1/1) [Time Taken: 00:04,  4.05s/test case]"
     ]
    },
    {
     "name": "stdout",
     "output_type": "stream",
     "text": [
      "**************************************************\n",
      "Contextual Relevancy Verbose Logs\n",
      "**************************************************\n",
      "\n",
      "Verdicts:\n",
      "[\n",
      "    {\n",
      "        \"verdicts\": [\n",
      "            {\n",
      "                \"statement\": \"NVIDIA makes chips for AI\",\n",
      "                \"verdict\": \"no\",\n",
      "                \"reason\": \"The statement 'NVIDIA makes chips for AI' is about NVIDIA's products, not about what AI is.\"\n",
      "            }\n",
      "        ]\n",
      "    },\n",
      "    {\n",
      "        \"verdicts\": [\n",
      "            {\n",
      "                \"statement\": \"Google and Microsoft are battling out the market share for AI Chatbots\",\n",
      "                \"verdict\": \"no\",\n",
      "                \"reason\": \"The statement 'Google and Microsoft are battling out the market share for AI Chatbots' is about competition between companies, not about what AI is.\"\n",
      "            }\n",
      "        ]\n",
      "    },\n",
      "    {\n",
      "        \"verdicts\": [\n",
      "            {\n",
      "                \"statement\": \"Artificial intelligence refers to machines mimicking human intelligence, like problem-solving and learning.\",\n",
      "                \"verdict\": \"yes\",\n",
      "                \"reason\": null\n",
      "            },\n",
      "            {\n",
      "                \"statement\": \"AI includes applications like virtual assistants, robotics, and autonomous vehicles.\",\n",
      "                \"verdict\": \"yes\",\n",
      "                \"reason\": null\n",
      "            },\n",
      "            {\n",
      "                \"statement\": \"It's evolving rapidly with advancements in machine learning and deep learning.\",\n",
      "                \"verdict\": \"yes\",\n",
      "                \"reason\": null\n",
      "            }\n",
      "        ]\n",
      "    },\n",
      "    {\n",
      "        \"verdicts\": [\n",
      "            {\n",
      "                \"statement\": \"NLP is a branch of AI that enables computers to understand, interpret, and generate human language.\",\n",
      "                \"verdict\": \"yes\",\n",
      "                \"reason\": null\n",
      "            },\n",
      "            {\n",
      "                \"statement\": \"Techniques include tokenization, stemming, and sentiment analysis.\",\n",
      "                \"verdict\": \"yes\",\n",
      "                \"reason\": null\n",
      "            },\n",
      "            {\n",
      "                \"statement\": \"Applications range from chatbots to language translation services.\",\n",
      "                \"verdict\": \"yes\",\n",
      "                \"reason\": null\n",
      "            }\n",
      "        ]\n",
      "    },\n",
      "    {\n",
      "        \"verdicts\": [\n",
      "            {\n",
      "                \"statement\": \"Machine learning is a field of artificial intelligence focused on enabling systems to learn patterns from data.\",\n",
      "                \"verdict\": \"yes\",\n",
      "                \"reason\": null\n",
      "            },\n",
      "            {\n",
      "                \"statement\": \"Algorithms analyze past data to make predictions or classify information.\",\n",
      "                \"verdict\": \"yes\",\n",
      "                \"reason\": null\n",
      "            },\n",
      "            {\n",
      "                \"statement\": \"Popular applications include recommendation systems and image recognition.\",\n",
      "                \"verdict\": \"yes\",\n",
      "                \"reason\": null\n",
      "            }\n",
      "        ]\n",
      "    }\n",
      "]\n",
      " \n",
      "Score: 0.8181818181818182\n",
      "Reason: The score is 0.82 because while some parts of the context focus on companies and market dynamics, the statements like 'Artificial intelligence refers to machines mimicking human intelligence, like problem-solving and learning.' and 'AI includes applications like virtual assistants, robotics, and autonomous vehicles.' directly address what AI is, providing substantial relevant information.\n",
      "\n",
      "======================================================================\n",
      "\n",
      "======================================================================\n",
      "\n",
      "Metrics Summary\n",
      "\n",
      "  - ✅ Contextual Relevancy (score: 0.8181818181818182, threshold: 0.5, strict: False, evaluation model: gpt-4o, reason: The score is 0.82 because while some parts of the context focus on companies and market dynamics, the statements like 'Artificial intelligence refers to machines mimicking human intelligence, like problem-solving and learning.' and 'AI includes applications like virtual assistants, robotics, and autonomous vehicles.' directly address what AI is, providing substantial relevant information., error: None)\n",
      "\n",
      "For test case:\n",
      "\n",
      "  - input: What is AI?\n",
      "  - actual output: AI refers to machines mimicking human intelligence, including problem-solving and learning, with applications like virtual assistants, robotics, and autonomous vehicles.\n",
      "  - expected output: AI, also known as Artificial Intelligence is used to build complex systems for applications\n",
      "                  like virtual assistants, robotics and autonomous vehicles.\n",
      "  - context: None\n",
      "  - retrieval context: ['NVIDIA makes chips for AI', 'Google and Microsoft are battling out the market share for AI Chatbots', \"Artificial intelligence refers to machines mimicking human intelligence, like problem-solving and learning. AI includes applications like virtual assistants, robotics, and autonomous vehicles. It's evolving rapidly with advancements in machine learning and deep learning.\", 'NLP is a branch of AI that enables computers to understand, interpret, and generate human language. Techniques include tokenization, stemming, and sentiment analysis. Applications range from chatbots to language translation services.', 'Machine learning is a field of artificial intelligence focused on enabling systems to learn patterns from data. Algorithms analyze past data to make predictions or classify information. Popular applications include recommendation systems and image recognition.']\n",
      "\n",
      "======================================================================\n",
      "\n",
      "Overall Metric Pass Rates\n",
      "\n",
      "Contextual Relevancy: 100.00% pass rate\n",
      "\n",
      "======================================================================\n",
      "\n"
     ]
    },
    {
     "name": "stderr",
     "output_type": "stream",
     "text": [
      "\n"
     ]
    },
    {
     "data": {
      "text/html": [
       "<pre style=\"white-space:pre;overflow-x:auto;line-height:normal;font-family:Menlo,'DejaVu Sans Mono',consolas,'Courier New',monospace\"><span style=\"color: #05f58d; text-decoration-color: #05f58d\">✓</span> Tests finished 🎉! Run <span style=\"color: #008000; text-decoration-color: #008000\">'deepeval login'</span> to save and analyze evaluation results on Confident AI. \n",
       "‼️  Friendly reminder 😇: You can also run evaluations with ALL of deepeval's metrics directly on Confident AI \n",
       "instead.\n",
       "</pre>\n"
      ],
      "text/plain": [
       "\u001b[38;2;5;245;141m✓\u001b[0m Tests finished 🎉! Run \u001b[32m'deepeval login'\u001b[0m to save and analyze evaluation results on Confident AI. \n",
       "‼️  Friendly reminder 😇: You can also run evaluations with ALL of deepeval's metrics directly on Confident AI \n",
       "instead.\n"
      ]
     },
     "metadata": {},
     "output_type": "display_data"
    }
   ],
   "source": [
    "from deepeval.test_case import LLMTestCase\n",
    "from deepeval.metrics import ContextualRelevancyMetric\n",
    "from deepeval import evaluate\n",
    "\n",
    "test_case = LLMTestCase(\n",
    "    input=response['question'],\n",
    "    actual_output=response['response'],\n",
    "    expected_output=human_answer,\n",
    "    retrieval_context=new_context\n",
    ")\n",
    "\n",
    "metric = ContextualRelevancyMetric(\n",
    "    threshold=0.5,\n",
    "    model=\"gpt-4o\",\n",
    "    include_reason=True,\n",
    "    verbose_mode=True\n",
    ")\n",
    "\n",
    "result = evaluate([test_case], [metric])"
   ]
  },
  {
   "cell_type": "code",
   "execution_count": 20,
   "metadata": {
    "application/vnd.databricks.v1+cell": {
     "cellMetadata": {},
     "inputWidgets": {},
     "nuid": "31ff3d07-9152-45ee-a728-d32c2ae8bc38",
     "showTitle": false,
     "tableResultSettingsMap": {},
     "title": ""
    },
    "colab": {
     "base_uri": "https://localhost:8080/"
    },
    "id": "NnZIKnxmSx7l",
    "outputId": "f73af640-72dd-4949-d462-c9219cd35168"
   },
   "outputs": [
    {
     "name": "stdout",
     "output_type": "stream",
     "text": [
      "Sucess: True\n",
      "Score: 0.8181818181818182\n",
      "Reason: The score is 0.82 because while some parts of the context focus on companies and market dynamics, the statements like 'Artificial intelligence refers to machines mimicking human intelligence, like problem-solving and learning.' and 'AI includes applications like virtual assistants, robotics, and autonomous vehicles.' directly address what AI is, providing substantial relevant information.\n"
     ]
    }
   ],
   "source": [
    "print('Sucess:', result.test_results[0].metrics_data[0].success)\n",
    "print('Score:', result.test_results[0].metrics_data[0].score)\n",
    "print('Reason:', result.test_results[0].metrics_data[0].reason)"
   ]
  },
  {
   "cell_type": "code",
   "execution_count": null,
   "metadata": {},
   "outputs": [],
   "source": []
  },
  {
   "cell_type": "code",
   "execution_count": null,
   "metadata": {},
   "outputs": [],
   "source": []
  },
  {
   "cell_type": "code",
   "execution_count": null,
   "metadata": {},
   "outputs": [],
   "source": []
  }
 ],
 "metadata": {
  "application/vnd.databricks.v1+notebook": {
   "computePreferences": null,
   "dashboards": [],
   "environmentMetadata": null,
   "language": "python",
   "notebookMetadata": {},
   "notebookName": "M7_Deep_Dive_into_RAG_Evaluation_Metrics",
   "widgets": {}
  },
  "colab": {
   "provenance": []
  },
  "kernelspec": {
   "display_name": "venv",
   "language": "python",
   "name": "python3"
  },
  "language_info": {
   "codemirror_mode": {
    "name": "ipython",
    "version": 3
   },
   "file_extension": ".py",
   "mimetype": "text/x-python",
   "name": "python",
   "nbconvert_exporter": "python",
   "pygments_lexer": "ipython3",
   "version": "3.11.6"
  },
  "widgets": {
   "application/vnd.jupyter.widget-state+json": {
    "0a1982c87e18425a97c43a61c18f928b": {
     "model_module": "@jupyter-widgets/controls",
     "model_module_version": "1.5.0",
     "model_name": "HTMLModel",
     "state": {
      "_dom_classes": [],
      "_model_module": "@jupyter-widgets/controls",
      "_model_module_version": "1.5.0",
      "_model_name": "HTMLModel",
      "_view_count": null,
      "_view_module": "@jupyter-widgets/controls",
      "_view_module_version": "1.5.0",
      "_view_name": "HTMLView",
      "description": "",
      "description_tooltip": null,
      "layout": "IPY_MODEL_28c6583c344341599988c3dad3070cc8",
      "placeholder": "​",
      "style": "IPY_MODEL_9d4be022d51847e8a1ccd0a9eb885de2",
      "value": "Evaluating: 100%"
     }
    },
    "28c6583c344341599988c3dad3070cc8": {
     "model_module": "@jupyter-widgets/base",
     "model_module_version": "1.2.0",
     "model_name": "LayoutModel",
     "state": {
      "_model_module": "@jupyter-widgets/base",
      "_model_module_version": "1.2.0",
      "_model_name": "LayoutModel",
      "_view_count": null,
      "_view_module": "@jupyter-widgets/base",
      "_view_module_version": "1.2.0",
      "_view_name": "LayoutView",
      "align_content": null,
      "align_items": null,
      "align_self": null,
      "border": null,
      "bottom": null,
      "display": null,
      "flex": null,
      "flex_flow": null,
      "grid_area": null,
      "grid_auto_columns": null,
      "grid_auto_flow": null,
      "grid_auto_rows": null,
      "grid_column": null,
      "grid_gap": null,
      "grid_row": null,
      "grid_template_areas": null,
      "grid_template_columns": null,
      "grid_template_rows": null,
      "height": null,
      "justify_content": null,
      "justify_items": null,
      "left": null,
      "margin": null,
      "max_height": null,
      "max_width": null,
      "min_height": null,
      "min_width": null,
      "object_fit": null,
      "object_position": null,
      "order": null,
      "overflow": null,
      "overflow_x": null,
      "overflow_y": null,
      "padding": null,
      "right": null,
      "top": null,
      "visibility": null,
      "width": null
     }
    },
    "7614ca4667f948ccba8f980a1ae4722d": {
     "model_module": "@jupyter-widgets/base",
     "model_module_version": "1.2.0",
     "model_name": "LayoutModel",
     "state": {
      "_model_module": "@jupyter-widgets/base",
      "_model_module_version": "1.2.0",
      "_model_name": "LayoutModel",
      "_view_count": null,
      "_view_module": "@jupyter-widgets/base",
      "_view_module_version": "1.2.0",
      "_view_name": "LayoutView",
      "align_content": null,
      "align_items": null,
      "align_self": null,
      "border": null,
      "bottom": null,
      "display": null,
      "flex": null,
      "flex_flow": null,
      "grid_area": null,
      "grid_auto_columns": null,
      "grid_auto_flow": null,
      "grid_auto_rows": null,
      "grid_column": null,
      "grid_gap": null,
      "grid_row": null,
      "grid_template_areas": null,
      "grid_template_columns": null,
      "grid_template_rows": null,
      "height": null,
      "justify_content": null,
      "justify_items": null,
      "left": null,
      "margin": null,
      "max_height": null,
      "max_width": null,
      "min_height": null,
      "min_width": null,
      "object_fit": null,
      "object_position": null,
      "order": null,
      "overflow": null,
      "overflow_x": null,
      "overflow_y": null,
      "padding": null,
      "right": null,
      "top": null,
      "visibility": null,
      "width": null
     }
    },
    "8890484b6c3e4018907b96b026510712": {
     "model_module": "@jupyter-widgets/controls",
     "model_module_version": "1.5.0",
     "model_name": "HBoxModel",
     "state": {
      "_dom_classes": [],
      "_model_module": "@jupyter-widgets/controls",
      "_model_module_version": "1.5.0",
      "_model_name": "HBoxModel",
      "_view_count": null,
      "_view_module": "@jupyter-widgets/controls",
      "_view_module_version": "1.5.0",
      "_view_name": "HBoxView",
      "box_style": "",
      "children": [
       "IPY_MODEL_0a1982c87e18425a97c43a61c18f928b",
       "IPY_MODEL_d7e48662099b409baeb15177af124bb5",
       "IPY_MODEL_d3d8515a3b194fb3b1fdc820607a00bf"
      ],
      "layout": "IPY_MODEL_ce0f9b8f431246da93ebbe3c5cb8b026"
     }
    },
    "9d4be022d51847e8a1ccd0a9eb885de2": {
     "model_module": "@jupyter-widgets/controls",
     "model_module_version": "1.5.0",
     "model_name": "DescriptionStyleModel",
     "state": {
      "_model_module": "@jupyter-widgets/controls",
      "_model_module_version": "1.5.0",
      "_model_name": "DescriptionStyleModel",
      "_view_count": null,
      "_view_module": "@jupyter-widgets/base",
      "_view_module_version": "1.2.0",
      "_view_name": "StyleView",
      "description_width": ""
     }
    },
    "ab7499442d7648168ca9415bda596e05": {
     "model_module": "@jupyter-widgets/controls",
     "model_module_version": "1.5.0",
     "model_name": "ProgressStyleModel",
     "state": {
      "_model_module": "@jupyter-widgets/controls",
      "_model_module_version": "1.5.0",
      "_model_name": "ProgressStyleModel",
      "_view_count": null,
      "_view_module": "@jupyter-widgets/base",
      "_view_module_version": "1.2.0",
      "_view_name": "StyleView",
      "bar_color": null,
      "description_width": ""
     }
    },
    "ad467cc9f9884950ada71fbb95cfccbd": {
     "model_module": "@jupyter-widgets/base",
     "model_module_version": "1.2.0",
     "model_name": "LayoutModel",
     "state": {
      "_model_module": "@jupyter-widgets/base",
      "_model_module_version": "1.2.0",
      "_model_name": "LayoutModel",
      "_view_count": null,
      "_view_module": "@jupyter-widgets/base",
      "_view_module_version": "1.2.0",
      "_view_name": "LayoutView",
      "align_content": null,
      "align_items": null,
      "align_self": null,
      "border": null,
      "bottom": null,
      "display": null,
      "flex": null,
      "flex_flow": null,
      "grid_area": null,
      "grid_auto_columns": null,
      "grid_auto_flow": null,
      "grid_auto_rows": null,
      "grid_column": null,
      "grid_gap": null,
      "grid_row": null,
      "grid_template_areas": null,
      "grid_template_columns": null,
      "grid_template_rows": null,
      "height": null,
      "justify_content": null,
      "justify_items": null,
      "left": null,
      "margin": null,
      "max_height": null,
      "max_width": null,
      "min_height": null,
      "min_width": null,
      "object_fit": null,
      "object_position": null,
      "order": null,
      "overflow": null,
      "overflow_x": null,
      "overflow_y": null,
      "padding": null,
      "right": null,
      "top": null,
      "visibility": null,
      "width": null
     }
    },
    "c5bd0a78f28749e39a63421f0da20446": {
     "model_module": "@jupyter-widgets/controls",
     "model_module_version": "1.5.0",
     "model_name": "DescriptionStyleModel",
     "state": {
      "_model_module": "@jupyter-widgets/controls",
      "_model_module_version": "1.5.0",
      "_model_name": "DescriptionStyleModel",
      "_view_count": null,
      "_view_module": "@jupyter-widgets/base",
      "_view_module_version": "1.2.0",
      "_view_name": "StyleView",
      "description_width": ""
     }
    },
    "ce0f9b8f431246da93ebbe3c5cb8b026": {
     "model_module": "@jupyter-widgets/base",
     "model_module_version": "1.2.0",
     "model_name": "LayoutModel",
     "state": {
      "_model_module": "@jupyter-widgets/base",
      "_model_module_version": "1.2.0",
      "_model_name": "LayoutModel",
      "_view_count": null,
      "_view_module": "@jupyter-widgets/base",
      "_view_module_version": "1.2.0",
      "_view_name": "LayoutView",
      "align_content": null,
      "align_items": null,
      "align_self": null,
      "border": null,
      "bottom": null,
      "display": null,
      "flex": null,
      "flex_flow": null,
      "grid_area": null,
      "grid_auto_columns": null,
      "grid_auto_flow": null,
      "grid_auto_rows": null,
      "grid_column": null,
      "grid_gap": null,
      "grid_row": null,
      "grid_template_areas": null,
      "grid_template_columns": null,
      "grid_template_rows": null,
      "height": null,
      "justify_content": null,
      "justify_items": null,
      "left": null,
      "margin": null,
      "max_height": null,
      "max_width": null,
      "min_height": null,
      "min_width": null,
      "object_fit": null,
      "object_position": null,
      "order": null,
      "overflow": null,
      "overflow_x": null,
      "overflow_y": null,
      "padding": null,
      "right": null,
      "top": null,
      "visibility": null,
      "width": null
     }
    },
    "d3d8515a3b194fb3b1fdc820607a00bf": {
     "model_module": "@jupyter-widgets/controls",
     "model_module_version": "1.5.0",
     "model_name": "HTMLModel",
     "state": {
      "_dom_classes": [],
      "_model_module": "@jupyter-widgets/controls",
      "_model_module_version": "1.5.0",
      "_model_name": "HTMLModel",
      "_view_count": null,
      "_view_module": "@jupyter-widgets/controls",
      "_view_module_version": "1.5.0",
      "_view_name": "HTMLView",
      "description": "",
      "description_tooltip": null,
      "layout": "IPY_MODEL_ad467cc9f9884950ada71fbb95cfccbd",
      "placeholder": "​",
      "style": "IPY_MODEL_c5bd0a78f28749e39a63421f0da20446",
      "value": " 1/1 [00:03&lt;00:00,  3.12s/it]"
     }
    },
    "d7e48662099b409baeb15177af124bb5": {
     "model_module": "@jupyter-widgets/controls",
     "model_module_version": "1.5.0",
     "model_name": "FloatProgressModel",
     "state": {
      "_dom_classes": [],
      "_model_module": "@jupyter-widgets/controls",
      "_model_module_version": "1.5.0",
      "_model_name": "FloatProgressModel",
      "_view_count": null,
      "_view_module": "@jupyter-widgets/controls",
      "_view_module_version": "1.5.0",
      "_view_name": "ProgressView",
      "bar_style": "success",
      "description": "",
      "description_tooltip": null,
      "layout": "IPY_MODEL_7614ca4667f948ccba8f980a1ae4722d",
      "max": 1,
      "min": 0,
      "orientation": "horizontal",
      "style": "IPY_MODEL_ab7499442d7648168ca9415bda596e05",
      "value": 1
     }
    }
   }
  }
 },
 "nbformat": 4,
 "nbformat_minor": 0
}
