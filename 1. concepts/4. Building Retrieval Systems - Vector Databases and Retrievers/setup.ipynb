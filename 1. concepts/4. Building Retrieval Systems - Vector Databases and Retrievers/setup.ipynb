{
 "cells": [
  {
   "cell_type": "markdown",
   "id": "90b55cf7",
   "metadata": {},
   "source": [
    "## Install OpenAI, HuggingFace and LangChain dependencies"
   ]
  },
  {
   "cell_type": "code",
   "execution_count": null,
   "id": "255c2849",
   "metadata": {},
   "outputs": [],
   "source": [
    "!pip install -qq langchain\n",
    "!pip install -qq langchain-openai\n",
    "!pip install -qq langchain-community\n",
    "!pip install -qq jq\n",
    "!pip install -qq pypdf\n",
    "!pip install -qq PyMuPDF"
   ]
  },
  {
   "cell_type": "code",
   "execution_count": null,
   "id": "732f20f1",
   "metadata": {},
   "outputs": [],
   "source": [
    "# takes 2 - 5 mins to install on Colab\n",
    "!pip install -qq \"unstructured[all-docs]\""
   ]
  },
  {
   "cell_type": "code",
   "execution_count": null,
   "id": "fdabd396",
   "metadata": {},
   "outputs": [],
   "source": [
    "!pip install -qq -U pydantic"
   ]
  },
  {
   "cell_type": "code",
   "execution_count": null,
   "id": "a770b234",
   "metadata": {},
   "outputs": [],
   "source": [
    "!pip install -qq pytesseract\n",
    "!pip install -qq pdf2image"
   ]
  },
  {
   "cell_type": "code",
   "execution_count": null,
   "id": "2c9d9566",
   "metadata": {},
   "outputs": [],
   "source": [
    "import os\n",
    "from dotenv import load_dotenv\n",
    "\n",
    "load_dotenv()"
   ]
  }
 ],
 "metadata": {
  "kernelspec": {
   "display_name": "venv",
   "language": "python",
   "name": "python3"
  },
  "language_info": {
   "name": "python",
   "version": "3.11.6"
  }
 },
 "nbformat": 4,
 "nbformat_minor": 5
}
