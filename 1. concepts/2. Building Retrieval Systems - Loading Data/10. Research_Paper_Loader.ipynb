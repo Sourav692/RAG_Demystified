{
 "cells": [
  {
   "cell_type": "code",
   "execution_count": 1,
   "id": "23c08aac",
   "metadata": {},
   "outputs": [],
   "source": [
    "%run setup.ipynb"
   ]
  },
  {
   "cell_type": "markdown",
   "id": "87f4c69e",
   "metadata": {},
   "source": [
    "### Research Paper Data Loader\n",
    "ArXiv is an open-source archive for over 2 million scholarly articles in the fields of physics, mathematics, computer science, finance, statistics, electrical engineering, system science, economics, biology, and so on. So ArXiv is a great source of data in various domain. We can easily properly use data for our applications.\n",
    "\n",
    "To access ArXiv data, we need to install the language community, Arxiv, and PyMuPDF integration packages. PyMuPDF helps to transform PDF files downloaded from the ArXiv website into text format."
   ]
  },
  {
   "cell_type": "code",
   "execution_count": 4,
   "id": "41ed2d13",
   "metadata": {},
   "outputs": [
    {
     "name": "stdout",
     "output_type": "stream",
     "text": [
      "Note: you may need to restart the kernel to use updated packages.\n"
     ]
    }
   ],
   "source": [
    "%pip install -qU langchain-community arxiv pymupdf\n",
    "# Fix SSL certificate issues on macOS\n",
    "import ssl\n",
    "import certifi\n",
    "ssl._create_default_https_context = ssl._create_unverified_context"
   ]
  },
  {
   "cell_type": "code",
   "execution_count": 5,
   "id": "b8376e51",
   "metadata": {},
   "outputs": [
    {
     "name": "stdout",
     "output_type": "stream",
     "text": [
      "Successfully loaded 3 documents\n",
      "First document preview:\n",
      "Title: Optimizing YOLOv8 for Parking Space Detection: Comparative Analysis of Custom YOLOv8 Architecture\n",
      "Authors: Apar Pokhrel, Gia Dao\n",
      "Content length: 29956 characters\n",
      "Content preview: arXiv:2505.17364v1  [cs.CV]  23 May 2025\n",
      "Optimizing YOLOv8 for Parking Space Detection: Comparative Analysis of\n",
      "Custom Backbone Architectures\n",
      "Apar Pokhrel\n",
      "The University of Texas at Arlington\n",
      "apar.pokhrel@mavs.uta.edu\n",
      "Gia Dao\n",
      "The University of Texas at Arlington\n",
      "gia.daoduyduc@mavs.uta.edu\n",
      "Abstract\n",
      "Parking space occupancy detection is a critical compo-\n",
      "nent in the development of intelligent parking management\n",
      "systems. Traditional object detection approaches, such as\n",
      "YOLOv8, provide fast and accur...\n",
      "\n",
      "==================================================\n",
      "Getting summaries...\n",
      "Successfully retrieved 3 summaries\n",
      "First summary: Parking space occupancy detection is a critical component in the development\n",
      "of intelligent parking management systems. Traditional object detection\n",
      "approaches, such as YOLOv8, provide fast and accurate vehicle detection across\n",
      "parking lots but can struggle with borderline cases, such as partially visible\n",
      "vehicles, small vehicles (e.g., motorcycles), and poor lighting conditions. In\n",
      "this work, we perform a comprehensive comparative analysis of customized\n",
      "backbone architectures integrated with YOLOv8. Specifically, we evaluate\n",
      "various backbones -- ResNet-18, VGG16, EfficientNetV2, Ghost -- on the PKLot\n",
      "dataset in terms of detection accuracy and computational efficiency.\n",
      "Experimental results highlight each architecture's strengths and trade-offs,\n",
      "providing insight into selecting suitable models for parking occupancy.\n"
     ]
    }
   ],
   "source": [
    "\n",
    "from langchain_community.document_loaders import ArxivLoader\n",
    "import fitz\n",
    "\n",
    "# Fix PyMuPDF module structure issue\n",
    "if not hasattr(fitz, 'fitz'):\n",
    "    fitz.fitz = fitz\n",
    "\n",
    "try:\n",
    "    # Supports all arguments of `ArxivAPIWrapper`\n",
    "    loader = ArxivLoader(\n",
    "        query=\"Yolov8\",\n",
    "        load_max_docs=2,\n",
    "        # doc_content_chars_max=1000,\n",
    "        # load_all_available_meta=False,\n",
    "        # ...\n",
    "    )\n",
    "\n",
    "    docs = loader.load()\n",
    "    print(f\"Successfully loaded {len(docs)} documents\")\n",
    "    print(f\"First document preview:\")\n",
    "    print(f\"Title: {docs[0].metadata.get('Title', 'Unknown')}\")\n",
    "    print(f\"Authors: {docs[0].metadata.get('Authors', 'Unknown')}\")\n",
    "    print(f\"Content length: {len(docs[0].page_content)} characters\")\n",
    "    print(f\"Content preview: {docs[0].page_content[:500]}...\")\n",
    "    \n",
    "    # get the summary of the paper\n",
    "    print(\"\\n\" + \"=\"*50)\n",
    "    print(\"Getting summaries...\")\n",
    "    summary_docs = loader.get_summaries_as_docs()\n",
    "    print(f\"Successfully retrieved {len(summary_docs)} summaries\")\n",
    "    if summary_docs:\n",
    "        print(f\"First summary: {summary_docs[0].page_content}\")\n",
    "    \n",
    "except Exception as e:\n",
    "    print(f\"Error occurred: {e}\")\n",
    "    print(\"\\nTrying alternative approach with direct search...\")\n",
    "    \n",
    "    # Alternative approach using ArxivAPIWrapper directly\n",
    "    from langchain_community.utilities import ArxivAPIWrapper\n",
    "    \n",
    "    try:\n",
    "        arxiv = ArxivAPIWrapper(top_k_results=2, doc_content_chars_max=10000)\n",
    "        docs = arxiv.run(\"Yolov8\")\n",
    "        print(f\"Alternative approach successful!\")\n",
    "        print(f\"Content preview: {docs[:1000]}...\")\n",
    "    except Exception as e2:\n",
    "        print(f\"Alternative approach also failed: {e2}\")\n",
    "        print(\"This might be due to network connectivity issues or ArXiv being temporarily unavailable.\")"
   ]
  },
  {
   "cell_type": "markdown",
   "id": "05237849",
   "metadata": {
    "vscode": {
     "languageId": "raw"
    }
   },
   "source": [
    "## Alternative SSL Certificate Fix\n",
    "\n",
    "If you're still experiencing SSL certificate issues, you can permanently fix them by installing certificates properly:\n",
    "\n",
    "### For macOS:\n",
    "```bash\n",
    "# Option 1: Install certificates via Python\n",
    "/Applications/Python\\ 3.11/Install\\ Certificates.command\n",
    "\n",
    "# Option 2: Install certificates manually\n",
    "pip install --upgrade certifi\n",
    "```\n",
    "\n",
    "### For all systems:\n",
    "```python\n",
    "import ssl\n",
    "import certifi\n",
    "\n",
    "# Use proper certificate bundle\n",
    "ssl.create_default_context = lambda: ssl.create_default_context(cafile=certifi.where())\n",
    "```\n",
    "\n",
    "## Troubleshooting Tips:\n",
    "\n",
    "1. **Network Issues**: If ArXiv is temporarily unavailable, try running the cell again later\n",
    "2. **Version Compatibility**: Ensure you have compatible versions of langchain-community and pymupdf\n",
    "3. **Query Optimization**: Try different search terms or reduce load_max_docs if facing timeouts\n"
   ]
  },
  {
   "cell_type": "code",
   "execution_count": null,
   "id": "16dc8e5d",
   "metadata": {},
   "outputs": [],
   "source": []
  }
 ],
 "metadata": {
  "kernelspec": {
   "display_name": "venv",
   "language": "python",
   "name": "python3"
  },
  "language_info": {
   "codemirror_mode": {
    "name": "ipython",
    "version": 3
   },
   "file_extension": ".py",
   "mimetype": "text/x-python",
   "name": "python",
   "nbconvert_exporter": "python",
   "pygments_lexer": "ipython3",
   "version": "3.11.6"
  }
 },
 "nbformat": 4,
 "nbformat_minor": 5
}
