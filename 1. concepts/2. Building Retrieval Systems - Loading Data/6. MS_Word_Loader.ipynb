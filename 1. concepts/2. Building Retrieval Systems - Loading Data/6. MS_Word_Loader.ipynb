{
 "cells": [
  {
   "cell_type": "markdown",
   "id": "384aa904",
   "metadata": {},
   "source": [
    "## Set Up the Environment"
   ]
  },
  {
   "cell_type": "code",
   "execution_count": 1,
   "id": "8a2197ab",
   "metadata": {},
   "outputs": [],
   "source": [
    "%run setup.ipynb"
   ]
  },
  {
   "cell_type": "markdown",
   "id": "b68c00ee",
   "metadata": {},
   "source": [
    "## Document Loaders\n",
    "\n",
    "Document loaders are used to import data from various sources into LangChain as `Document` objects. A `Document` typically includes a piece of text along with its associated metadata.\n",
    "\n",
    "### Examples of Document Loaders:\n",
    "\n",
    "- **Text File Loader:** Loads data from a simple `.txt` file.\n",
    "- **Web Page Loader:** Retrieves the text content from any web page.\n",
    "- **YouTube Video Transcript Loader:** Loads transcripts from YouTube videos.\n",
    "\n",
    "### Functionality:\n",
    "\n",
    "- **Load Method:** Each document loader has a `load` method that enables the loading of data as documents from a pre-configured source.\n",
    "- **Lazy Load Option:** Some loaders also support a \"lazy load\" feature, which allows data to be loaded into memory gradually as needed.\n",
    "\n",
    "For more detailed information, visit [LangChain's document loader documentation](https://python.langchain.com/docs/modules/data_connection/document_loaders/).\n"
   ]
  },
  {
   "cell_type": "markdown",
   "id": "1050a75d",
   "metadata": {},
   "source": [
    "### Microsoft Office Document Loaders\n",
    "\n",
    "The Microsoft Office suite of productivity software includes Microsoft Word, Microsoft Excel, Microsoft PowerPoint, Microsoft Outlook, and Microsoft OneNote. It is available for Microsoft Windows and macOS operating systems. It is also available on Android and iOS.\n",
    "\n",
    "[Unstructured.io](https://docs.unstructured.io/open-source/introduction/overview) provides a variety of document loaders to load MS Office documents. Check them out [here](https://docs.unstructured.io/open-source/core-functionality/partitioning).\n",
    "\n",
    "Here we will leverage LangChain's [`UnstructuredWordDocumentLoader`](https://api.python.langchain.com/en/latest/document_loaders/langchain_community.document_loaders.word_document.UnstructuredWordDocumentLoader.html) to load data from a MS Word document."
   ]
  },
  {
   "cell_type": "code",
   "execution_count": 32,
   "id": "efec8856",
   "metadata": {},
   "outputs": [],
   "source": [
    "from pprint import pprint"
   ]
  },
  {
   "cell_type": "code",
   "execution_count": 33,
   "id": "50a5cc5f",
   "metadata": {},
   "outputs": [],
   "source": [
    "doc_path = '../../docs/Intel Strategy.docx'"
   ]
  },
  {
   "cell_type": "code",
   "execution_count": 34,
   "id": "d5badd50",
   "metadata": {},
   "outputs": [],
   "source": [
    "from langchain_community.document_loaders import UnstructuredWordDocumentLoader\n",
    "\n",
    "loader = UnstructuredWordDocumentLoader(doc_path)\n",
    "data = loader.load()"
   ]
  },
  {
   "cell_type": "code",
   "execution_count": 36,
   "id": "e3bc06fb",
   "metadata": {},
   "outputs": [
    {
     "name": "stdout",
     "output_type": "stream",
     "text": [
      "1\n"
     ]
    }
   ],
   "source": [
    "print(len(data))"
   ]
  },
  {
   "cell_type": "code",
   "execution_count": 39,
   "id": "7dd31813",
   "metadata": {},
   "outputs": [
    {
     "data": {
      "text/plain": [
       "[Document(metadata={'source': '../../docs/Intel Strategy.docx'}, page_content=\"Intel Strategy\\n\\nOver the last few years, Intel, one of the world’s biggest chipmakers, has been transitioning towards a more datacentric approach than PC-centric. This is a welcome move, not only for the company but for innovation in technology as well, says Pat Gelsinger, CEO, Intel. According to him, the changing times as well as strides in innovation have placed Intel in a position where it can leverage the “superpowers” to make the world of computing better sustainable and far superior to the present scenario.\\n\\nThe Superpowers\\n\\nPervasive connectivity, Ubiquitous compute, AI and Cloud-to-Edge Infrastructure -- the four superpowers that will bolster Intel’s footprints into the future, will also play a key role in transforming the world of computing in any device.\\n\\n“Each of these superpowers is impressive on its own, but when they come together, that’s magic. If you’re not applying AI to every one of your business processes, you’re falling behind. We’re seeing this across every industry,” Gelsinger said.\\n\\nPervasive Connectivity: 5G-empowered pervasive connectivity, that intends to connect all, allows customers to gather, store, write, access, and analyze data regardless of device or location. This level of connectivity is essential in creating an improved quality of life, Gelsinger said. He added that Intel was partnering with Taiwan’s Pegatron to produce 5G networking that could be deployed in extreme conditions, too. “Think of it … earthquakes, tornadoes, natural disasters, where the communications infrastructure is knocked out. And imagine that you were a first responder. You’re showing up for a disaster relief situation and you have no communications.” “We’re taking advantage of the advances in 5G availability of wireless spectrum. And you can think about this as a blueprint for next-generation, commercial 5G, the ramp deployments,” Gelsinger said.\\n\\nUbiquitous compute: “Everything has become a computer, essentially any device we touch. Literally compute is now how we experience the world.” Gelsinger said. It is in line with the company’s data-centric approach as well, which include Server and Storage, including CPUs, chipsets, accelerators, memory and storage media in servers and storage systems; Networking and Connectivity, including CPUs, chipsets, accelerators, memory and storage media, and connectivity devices in network appliances and network function virtualization (NFV) systems; Internet of Things, including addressable logic application-specific integrated circuits and standard products, microprocessors, microcontrollers, digital signal processors, memory and storage media and modems in industrial, transportation, automated driving, retail, video surveillance, healthcare, public sector, office automation, gaming and smart home.\\n\\nAI and Cloud-to-Edge Infrastructure: This allows for high performance computing to be immediately available, which is the backbone of ubiquitous compute. “With the unlimited reach of the intelligent edge, we can have low latency, high bandwidth, and real-time inference capabilities anywhere we want them,” he explained.  Intelligent Edge could make visual experience of streaming services, cloud gaming, and visual workloads possible, however, there are hurdles to be overcome for that. Intel stands to overcome the challenges of deploying a complete cloud to edge infrastructure in today’s time with the launch of Habana Gaudi2 AI processor for training data centre workloads, and 12th Gen Intel Core HX processors for hybrid work.Habana Gaudi2 and Greco AI Accelerators are built on a single software stack, Synapse AI, that supports different architectures, enabling end-users to take advantage of the processors’ performance and efficiency. In addition, Gaudi2 delivers two times better AI training performance compared with current in-market A100-based offerings for key vision and NLP workloads, the company announced. The company also announced the shipment of the 4th Gen Intel Xeon Scalable processors, which will support DDR5, PCIe Gen5 and CXL 1.1, and are equipped with new integrated accelerators that deliver up to 30x performance versus the prior generation through software and hardware optimizations for AI workloads, along with new capabilities that deliver upto two times capacity gains for virtual radio access network (vRAN) deployments, for telco networks. Also, in partnership with Accenture, Intel has kickstarted Project Apollo, a program that will provide enterprises with more than 30 opensource AI solutions kits that are designed to make AI more accessible to customers in on-prem, cloud and edge environments. The company also unveiled its IPU roadmap, featuring new FPGA + Intel architecture platforms (code-named Hot Springs Canyon) and the Mount Morgan (MMG) ASIC, as well as next generation 800GB products. IPUs are dedicated products with hardened acceleration for infrastructure compute needs, allowing businesses to accomplish tasks quicker and solve problems faster.\\n\\nSingle GPU solution for media transcode, visual graphics and inference in the cloud:\\xa0Intel’s data center GPU, code-named Arctic Sound-M (ATS-M), is the industry’s first discrete GPU with an AV1 hardware encoder. ATS-M is a versatile GPU with leadership transcode quality and performance targeting 150 trillion operations per second (TOPS). Developers will be able to easily design for ATS-M with an open software stack through oneAPI. ATS-M will be available in two form factors and in more than 15 system designs from partners including Dell Technologies, Supermicro, Cisco, HPE,\\xa0Inspur\\xa0and H3C. It will launch in 2022’s third quarter.\\n\\nNew 12th Gen Intel Core HX processors for hybrid work:\\xa0The company completed the 12th Gen family with the launch of the new 12th Gen Intel Core HX processors. Created for professionals who need maximum performance and flexibility to navigate a hybrid environment, and with up to 16 cores and clock speeds up to 5 GHz, the Intel Core i9-12900HX processor is the world’s best mobile workstation platform.\\n\\nHigh performance computing to solve the world’s most complex challenges:\\xa0Argonne National Laboratories is on track to deliver 2 exaflops of peak performance with the Aurora supercomputer running on the Intel Xeon processor, code-named Sapphire Rapids with High Bandwidth Memory (HBM), and the Intel data center GPU, code-named Ponte Vecchio, with Intel oneAPI providing developers seamless system integration.\\n\\nConfidence with confidential computing:\\xa0 Bosch and Intel collaborated on a research effort to develop a confidential AI solution that allows Bosch to train its neural networks confidentially in the public cloud. To help achieve this at scale, Bosch Corporate Research has built a confidential AI platform powered by Intel Software Guard Extensions available with 3rd Gen Intel Xeon Scalable platforms.\\n\\nAgriculture autonomy with private wireless networks: Intelligent edge solutions have the potential to transform food. Blue White Robotics developed a new type of autonomous agricultural solution that transforms a grower’s existing equipment into a fleet of autonomous tractors connected to an internet-based management platform. With help from Intel and Federated Wireless, Blue White Robotics made this a scalable solution that leverages Intel Smart Edge and Intel Xeon D processors and employs the power of edge computing and shared spectrum to create a private wireless network on any farm anywhere.\\n\\nIntel is moving at a “torrid pace,” Gelsinger said. “When you think about torrid, it’s a word about speed and energy and heat. But in the Intel context, we’re also applying a vector\\xa0of that energy for setting a direction into the future.”\\n\\nIntel IDM 2.0\\n\\nThe Intel IDM 2.0 strategy revealed by new company CEO Pat Gelsinger\\xa0is an ambitious plan to restore the company’s leadership in semiconductor production. Gelsinger described IDM 2.0 as the second generation of Intel’s integrated device manufacturing model.\\n\\nIntel’s global, internal factory network for at-scale manufacturing\\xa0is a key competitive advantage that enables product optimization, improved economics and supply resilience. Gelsinger re-affirmed the company’s expectation to continue manufacturing most of its products internally. The company’s 7 Nanometer Processors development is driven by increased use of extreme ultraviolet lithography (EUV) in a rearchitected, simplified process flow.\\n\\nExpanded use of third-party foundry capacity.\\xa0 Gelsinger said he expects Intel’s engagement with third-party foundries to grow and to include manufacturing for a range of modular tiles on advanced process technologies, including products at the core of Intel’s computing offerings for both client and data center segments beginning in 2023. This will provide the increased flexibility and scale needed to optimize Intel’s roadmaps for cost, performance, schedule and supply, giving the company a unique competitive advantage.\\n\\nIntel Foundry Services.\\xa0The launch of Intel Foundry Services means the company is not only going to manufacture its own chips, but it will also produce them for other semiconductor companies, including its competitors. \\xa0Intel announced plans to become a major provider of U.S. and Europe-based foundry capacity to serve the global demand for semiconductor manufacturing. Hence, Intel is establishing a new standalone business unit, Intel Foundry Services (IFS), led by semiconductor industry veteran Dr. Randhir Thakur, who will report directly to Gelsinger. IFS will be differentiated from other foundry offerings with a combination of leading-edge process technology and packaging, committed capacity in the U.S. and Europe, and a world-class IP portfolio for customers, including x86 cores as well as ARM and RISC-V ecosystem IPs. Gelsinger noted that Intel’s foundry plans have received strong statements of support from across the industry. Intel conservatively sizes the foundry opportunity as a $100 billion addressable market by 2025.\\n\\nExpanding in the U.S. and Europe. Intel is expanding its manufacturing capacity in the U.S. and Europe to provide less dependence on any specific region. Noting that 80% of leading-edge foundry capacity is concentrated in Asia, Gelsinger believes “the industry needs more geographically balanced manufacturing capacity.”\\n\\nIntel Sustainability\\n\\n“The impact of climate change is an urgent global threat. Protecting our planet demands immediate action and fresh thinking about how the world operates. As one of the world's leading semiconductor design and manufacturing companies, Intel is in a unique position to make a difference not only in our own operations, but in a way that makes it easier for customers, partners and our whole value chain to take meaningful action too,” Gelsinger said. \\n\\nTo realize this ambitious goal, Intel has set the following interim milestones for 2030:\\n\\xa0\\n\\nAchieve 100% renewable electricity use across its global operations.\\n\\nInvest approximately $300 million in energy conservation at its facilities to achieve 4 billion cumulative kilowatt hours of energy savings.\\n\\nBuild new factories and facilities to meet US Green Building Council LEED program standards, including recently announced investments in the US, Europe and Asia.\\n\\nLaunch a cross-industry R&D initiative to identify greener chemicals with lower global warming potential and to develop new abatement equipment.\")]"
      ]
     },
     "execution_count": 39,
     "metadata": {},
     "output_type": "execute_result"
    }
   ],
   "source": [
    "data"
   ]
  },
  {
   "cell_type": "code",
   "execution_count": 42,
   "id": "7a43f326",
   "metadata": {},
   "outputs": [
    {
     "name": "stdout",
     "output_type": "stream",
     "text": [
      "page_content='Intel Strategy\n",
      "\n",
      "Over the last few years, Intel, one of the world’s biggest chipmakers, has been transitioning towards a more datacentric approach than PC-centric. This is a welcome move, not only for the company but for innovation in technology as well, says Pat Gelsinger, CEO, Intel. According to him, the changing times as well as strides in innovation have placed Intel in a position where it can leverage the “superpowers” to make the world of computing better sustainable and far superior to the present scenario.\n",
      "\n",
      "The Superpowers\n",
      "\n",
      "Pervasive connectivity, Ubiquitous compute, AI and Cloud-to-Edge Infrastructure -- the four superpowers that will bolster Intel’s footprints into the future, will also play a key role in transforming the world of computing in any device.\n",
      "\n",
      "“Each of these superpowers is impressive on its own, but when they come together, that’s magic. If you’re not applying AI to every one of your business processes, you’re falling behind. We’re seeing this across every industry,” Gelsinger said.\n",
      "\n",
      "Pervasive Connectivity: 5G-empowered pervasive connectivity, that intends to connect all, allows customers to gather, store, write, access, and analyze data regardless of device or location. This level of connectivity is essential in creating an improved quality of life, Gelsinger said. He added that Intel was partnering with Taiwan’s Pegatron to produce 5G networking that could be deployed in extreme conditions, too. “Think of it … earthquakes, tornadoes, natural disasters, where the communications infrastructure is knocked out. And imagine that you were a first responder. You’re showing up for a disaster relief situation and you have no communications.” “We’re taking advantage of the advances in 5G availability of wireless spectrum. And you can think about this as a blueprint for next-generation, commercial 5G, the ramp deployments,” Gelsinger said.\n",
      "\n",
      "Ubiquitous compute: “Everything has become a computer, essentially any device we touch. Literally compute is now how we experience the world.” Gelsinger said. It is in line with the company’s data-centric approach as well, which include Server and Storage, including CPUs, chipsets, accelerators, memory and storage media in servers and storage systems; Networking and Connectivity, including CPUs, chipsets, accelerators, memory and storage media, and connectivity devices in network appliances and network function virtualization (NFV) systems; Internet of Things, including addressable logic application-specific integrated circuits and standard products, microprocessors, microcontrollers, digital signal processors, memory and storage media and modems in industrial, transportation, automated driving, retail, video surveillance, healthcare, public sector, office automation, gaming and smart home.\n",
      "\n",
      "AI and Cloud-to-Edge Infrastructure: This allows for high performance computing to be immediately available, which is the backbone of ubiquitous compute. “With the unlimited reach of the intelligent edge, we can have low latency, high bandwidth, and real-time inference capabilities anywhere we want them,” he explained.  Intelligent Edge could make visual experience of streaming services, cloud gaming, and visual workloads possible, however, there are hurdles to be overcome for that. Intel stands to overcome the challenges of deploying a complete cloud to edge infrastructure in today’s time with the launch of Habana Gaudi2 AI processor for training data centre workloads, and 12th Gen Intel Core HX processors for hybrid work.Habana Gaudi2 and Greco AI Accelerators are built on a single software stack, Synapse AI, that supports different architectures, enabling end-users to take advantage of the processors’ performance and efficiency. In addition, Gaudi2 delivers two times better AI training performance compared with current in-market A100-based offerings for key vision and NLP workloads, the company announced. The company also announced the shipment of the 4th Gen Intel Xeon Scalable processors, which will support DDR5, PCIe Gen5 and CXL 1.1, and are equipped with new integrated accelerators that deliver up to 30x performance versus the prior generation through software and hardware optimizations for AI workloads, along with new capabilities that deliver upto two times capacity gains for virtual radio access network (vRAN) deployments, for telco networks. Also, in partnership with Accenture, Intel has kickstarted Project Apollo, a program that will provide enterprises with more than 30 opensource AI solutions kits that are designed to make AI more accessible to customers in on-prem, cloud and edge environments. The company also unveiled its IPU roadmap, featuring new FPGA + Intel architecture platforms (code-named Hot Springs Canyon) and the Mount Morgan (MMG) ASIC, as well as next generation 800GB products. IPUs are dedicated products with hardened acceleration for infrastructure compute needs, allowing businesses to accomplish tasks quicker and solve problems faster.\n",
      "\n",
      "Single GPU solution for media transcode, visual graphics and inference in the cloud: Intel’s data center GPU, code-named Arctic Sound-M (ATS-M), is the industry’s first discrete GPU with an AV1 hardware encoder. ATS-M is a versatile GPU with leadership transcode quality and performance targeting 150 trillion operations per second (TOPS). Developers will be able to easily design for ATS-M with an open software stack through oneAPI. ATS-M will be available in two form factors and in more than 15 system designs from partners including Dell Technologies, Supermicro, Cisco, HPE, Inspur and H3C. It will launch in 2022’s third quarter.\n",
      "\n",
      "New 12th Gen Intel Core HX processors for hybrid work: The company completed the 12th Gen family with the launch of the new 12th Gen Intel Core HX processors. Created for professionals who need maximum performance and flexibility to navigate a hybrid environment, and with up to 16 cores and clock speeds up to 5 GHz, the Intel Core i9-12900HX processor is the world’s best mobile workstation platform.\n",
      "\n",
      "High performance computing to solve the world’s most complex challenges: Argonne National Laboratories is on track to deliver 2 exaflops of peak performance with the Aurora supercomputer running on the Intel Xeon processor, code-named Sapphire Rapids with High Bandwidth Memory (HBM), and the Intel data center GPU, code-named Ponte Vecchio, with Intel oneAPI providing developers seamless system integration.\n",
      "\n",
      "Confidence with confidential computing:  Bosch and Intel collaborated on a research effort to develop a confidential AI solution that allows Bosch to train its neural networks confidentially in the public cloud. To help achieve this at scale, Bosch Corporate Research has built a confidential AI platform powered by Intel Software Guard Extensions available with 3rd Gen Intel Xeon Scalable platforms.\n",
      "\n",
      "Agriculture autonomy with private wireless networks: Intelligent edge solutions have the potential to transform food. Blue White Robotics developed a new type of autonomous agricultural solution that transforms a grower’s existing equipment into a fleet of autonomous tractors connected to an internet-based management platform. With help from Intel and Federated Wireless, Blue White Robotics made this a scalable solution that leverages Intel Smart Edge and Intel Xeon D processors and employs the power of edge computing and shared spectrum to create a private wireless network on any farm anywhere.\n",
      "\n",
      "Intel is moving at a “torrid pace,” Gelsinger said. “When you think about torrid, it’s a word about speed and energy and heat. But in the Intel context, we’re also applying a vector of that energy for setting a direction into the future.”\n",
      "\n",
      "Intel IDM 2.0\n",
      "\n",
      "The Intel IDM 2.0 strategy revealed by new company CEO Pat Gelsinger is an ambitious plan to restore the company’s leadership in semiconductor production. Gelsinger described IDM 2.0 as the second generation of Intel’s integrated device manufacturing model.\n",
      "\n",
      "Intel’s global, internal factory network for at-scale manufacturing is a key competitive advantage that enables product optimization, improved economics and supply resilience. Gelsinger re-affirmed the company’s expectation to continue manufacturing most of its products internally. The company’s 7 Nanometer Processors development is driven by increased use of extreme ultraviolet lithography (EUV) in a rearchitected, simplified process flow.\n",
      "\n",
      "Expanded use of third-party foundry capacity.  Gelsinger said he expects Intel’s engagement with third-party foundries to grow and to include manufacturing for a range of modular tiles on advanced process technologies, including products at the core of Intel’s computing offerings for both client and data center segments beginning in 2023. This will provide the increased flexibility and scale needed to optimize Intel’s roadmaps for cost, performance, schedule and supply, giving the company a unique competitive advantage.\n",
      "\n",
      "Intel Foundry Services. The launch of Intel Foundry Services means the company is not only going to manufacture its own chips, but it will also produce them for other semiconductor companies, including its competitors.  Intel announced plans to become a major provider of U.S. and Europe-based foundry capacity to serve the global demand for semiconductor manufacturing. Hence, Intel is establishing a new standalone business unit, Intel Foundry Services (IFS), led by semiconductor industry veteran Dr. Randhir Thakur, who will report directly to Gelsinger. IFS will be differentiated from other foundry offerings with a combination of leading-edge process technology and packaging, committed capacity in the U.S. and Europe, and a world-class IP portfolio for customers, including x86 cores as well as ARM and RISC-V ecosystem IPs. Gelsinger noted that Intel’s foundry plans have received strong statements of support from across the industry. Intel conservatively sizes the foundry opportunity as a $100 billion addressable market by 2025.\n",
      "\n",
      "Expanding in the U.S. and Europe. Intel is expanding its manufacturing capacity in the U.S. and Europe to provide less dependence on any specific region. Noting that 80% of leading-edge foundry capacity is concentrated in Asia, Gelsinger believes “the industry needs more geographically balanced manufacturing capacity.”\n",
      "\n",
      "Intel Sustainability\n",
      "\n",
      "“The impact of climate change is an urgent global threat. Protecting our planet demands immediate action and fresh thinking about how the world operates. As one of the world's leading semiconductor design and manufacturing companies, Intel is in a unique position to make a difference not only in our own operations, but in a way that makes it easier for customers, partners and our whole value chain to take meaningful action too,” Gelsinger said. \n",
      "\n",
      "To realize this ambitious goal, Intel has set the following interim milestones for 2030:\n",
      " \n",
      "\n",
      "Achieve 100% renewable electricity use across its global operations.\n",
      "\n",
      "Invest approximately $300 million in energy conservation at its facilities to achieve 4 billion cumulative kilowatt hours of energy savings.\n",
      "\n",
      "Build new factories and facilities to meet US Green Building Council LEED program standards, including recently announced investments in the US, Europe and Asia.\n",
      "\n",
      "Launch a cross-industry R&D initiative to identify greener chemicals with lower global warming potential and to develop new abatement equipment.' metadata={'source': '../../docs/Intel Strategy.docx'}\n",
      "----------------------------------------------------------------------------------------------------\n"
     ]
    }
   ],
   "source": [
    "for elem in data:\n",
    "    print(elem)\n",
    "    print(\"-\"*100)"
   ]
  },
  {
   "cell_type": "code",
   "execution_count": 12,
   "id": "d5458a1d",
   "metadata": {},
   "outputs": [
    {
     "name": "stdout",
     "output_type": "stream",
     "text": [
      "Intel Strategy\n",
      "\n",
      "Over the last few years, Intel, one of the world’s biggest chipmakers, has been transitioning towards a more datacentric approach than PC-centric. This is a welcome move, not only for the company but for innovation in technology as well, says Pat Gelsinger, CEO, Intel. According to him, the changing times as well as strides in innovation have placed Intel in a position where it can leverage the “superpowers” to make the world of computing better sustainable and far superior to the present scenario.\n",
      "\n",
      "The Superpowers\n",
      "\n",
      "Pervasive connectivity, Ubiquitous compute, AI and Cloud-to-Edge Infrastructure -- the four superpowers that will bolster Intel’s footprints into the future, will also play a key role in transforming the world of computing in any device.\n",
      "\n",
      "“Each of these superpowers is impressive on its own, but when they come together, that’s magic. If you’re not applying AI to every one of your business processes, you’re falling behind. We’re seeing this across every industry,” Gelsinger said.\n",
      "\n",
      "Pervasive Connectivity: 5G-empowered pervasive connectivity, that intends to connect all, allows customers to gather, store, write, access, and analyze data regardless of device or location. This level of connectivity is essential in creating an improved quality of life, Gelsinger said. He added that Intel was partnering with Taiwan’s Pegatron to produce 5G networking that could be deployed in extreme conditions, too. “Think of it … earthquakes, tornadoes, natural disasters, where the communications infrastructure is knocked out. And imagine that you were a first responder. You’re showing up for a disaster relief situation and you have no communications.” “We’re taking advantage of the advances in 5G availability of wireless spectrum. And you can think about this as a blueprint for next-generation, commercial 5G, the ramp deployments,” Gelsinger said.\n",
      "\n",
      "Ubiquitous compute: “Everything has become a computer, essentially any device we touch. Literally compute is now how we experience the world.” Gelsinger said. It is in line with the company’s data-centric approach as well, which include Server and Storage, including CPUs, chipsets, accelerators, memory and storage media in servers and storage systems; Networking and Connectivity, including CPUs, chipsets, accelerators, memory and storage media, and connectivity devices in network appliances and network function virtualization (NFV) systems; Internet of Things, including addressable logic application-specific integrated circuits and standard products, microprocessors, microcontrollers, digital signal processors, memory and storage media and modems in industrial, transportation, automated driving, retail, video surveillance, healthcare, public sector, office automation, gaming and smart home.\n",
      "\n",
      "AI and Cloud-to-Edge Infrastructure: This allows for high performance computing to be immediately available, which is the backbone of ubiquitous compute. “With the unlimited reach of the intelligent edge, we can have low latency, high bandwidth, and real-time inference capabilities anywhere we want them,” he explained.  Intelligent Edge could make visual experience of streaming services, cloud gaming, and visual workloads possible, however, there are hurdles to be overcome for that. Intel stands to overcome the challenges of deploying a complete cloud to edge infrastructure in today’s time with the launch of Habana Gaudi2 AI processor for training data centre workloads, and 12th Gen Intel Core HX processors for hybrid work.Habana Gaudi2 and Greco AI Accelerators are built on a single software stack, Synapse AI, that supports different architectures, enabling end-users to take advantage of the processors’ performance and efficiency. In addition, Gaudi2 delivers two times better AI training performance compared with current in-market A100-based offerings for key vision and NLP workloads, the company announced. The company also announced the shipment of the 4th Gen Intel Xeon Scalable processors, which will support DDR5, PCIe Gen5 and CXL 1.1, and are equipped with new integrated accelerators that deliver up to 30x performance versus the prior generation through software and hardware optimizations for AI workloads, along with new capabilities that deliver upto two times capacity gains for virtual radio access network (vRAN) deployments, for telco networks. Also, in partnership with Accenture, Intel has kickstarted Project Apollo, a program that will provide enterprises with more than 30 opensource AI solutions kits that are designed to make AI more accessible to customers in on-prem, cloud and edge environments. The company also unveiled its IPU roadmap, featuring new FPGA + Intel architecture platforms (code-named Hot Springs Canyon) and the Mount Morgan (MMG) ASIC, as well as next generation 800GB products. IPUs are dedicated products with hardened acceleration for infrastructure compute needs, allowing businesses to accomplish tasks quicker and solve problems faster.\n",
      "\n",
      "Single GPU solution for media transcode, visual graphics and inference in the cloud: Intel’s data center GPU, code-named Arctic Sound-M (ATS-M), is the industry’s first discrete GPU with an AV1 hardware encoder. ATS-M is a versatile GPU with leadership transcode quality and performance targeting 150 trillion operations per second (TOPS). Developers will be able to easily design for ATS-M with an open software stack through oneAPI. ATS-M will be available in two form factors and in more than 15 system designs from partners including Dell Technologies, Supermicro, Cisco, HPE, Inspur and H3C. It will launch in 2022’s third quarter.\n",
      "\n",
      "New 12th Gen Intel Core HX processors for hybrid work: The company completed the 12th Gen family with the launch of the new 12th Gen Intel Core HX processors. Created for professionals who need maximum performance and flexibility to navigate a hybrid environment, and with up to 16 cores and clock speeds up to 5 GHz, the Intel Core i9-12900HX processor is the world’s best mobile workstation platform.\n",
      "\n",
      "High performance computing to solve the world’s most complex challenges: Argonne National Laboratories is on track to deliver 2 exaflops of peak performance with the Aurora supercomputer running on the Intel Xeon processor, code-named Sapphire Rapids with High Bandwidth Memory (HBM), and the Intel data center GPU, code-named Ponte Vecchio, with Intel oneAPI providing developers seamless system integration.\n",
      "\n",
      "Confidence with confidential computing:  Bosch and Intel collaborated on a research effort to develop a confidential AI solution that allows Bosch to train its neural networks confidentially in the public cloud. To help achieve this at scale, Bosch Corporate Research has built a confidential AI platform powered by Intel Software Guard Extensions available with 3rd Gen Intel Xeon Scalable platforms.\n",
      "\n",
      "Agriculture autonomy with private wireless networks: Intelligent edge solutions have the potential to transform food. Blue White Robotics developed a new type of autonomous agricultural solution that transforms a grower’s existing equipment into a fleet of autonomous tractors connected to an internet-based management platform. With help from Intel and Federated Wireless, Blue White Robotics made this a scalable solution that leverages Intel Smart Edge and Intel Xeon D processors and employs the power of edge computing and shared spectrum to create a private wireless network on any farm anywhere.\n",
      "\n",
      "Intel is moving at a “torrid pace,” Gelsinger said. “When you think about torrid, it’s a word about speed and energy and heat. But in the Intel context, we’re also applying a vector of that energy for setting a direction into the future.”\n",
      "\n",
      "Intel IDM 2.0\n",
      "\n",
      "The Intel IDM 2.0 strategy revealed by new company CEO Pat Gelsinger is an ambitious plan to restore the company’s leadership in semiconductor production. Gelsinger described IDM 2.0 as the second generation of Intel’s integrated device manufacturing model.\n",
      "\n",
      "Intel’s global, internal factory network for at-scale manufacturing is a key competitive advantage that enables product optimization, improved economics and supply resilience. Gelsinger re-affirmed the company’s expectation to continue manufacturing most of its products internally. The company’s 7 Nanometer Processors development is driven by increased use of extreme ultraviolet lithography (EUV) in a rearchitected, simplified process flow.\n",
      "\n",
      "Expanded use of third-party foundry capacity.  Gelsinger said he expects Intel’s engagement with third-party foundries to grow and to include manufacturing for a range of modular tiles on advanced process technologies, including products at the core of Intel’s computing offerings for both client and data center segments beginning in 2023. This will provide the increased flexibility and scale needed to optimize Intel’s roadmaps for cost, performance, schedule and supply, giving the company a unique competitive advantage.\n",
      "\n",
      "Intel Foundry Services. The launch of Intel Foundry Services means the company is not only going to manufacture its own chips, but it will also produce them for other semiconductor companies, including its competitors.  Intel announced plans to become a major provider of U.S. and Europe-based foundry capacity to serve the global demand for semiconductor manufacturing. Hence, Intel is establishing a new standalone business unit, Intel Foundry Services (IFS), led by semiconductor industry veteran Dr. Randhir Thakur, who will report directly to Gelsinger. IFS will be differentiated from other foundry offerings with a combination of leading-edge process technology and packaging, committed capacity in the U.S. and Europe, and a world-class IP portfolio for customers, including x86 cores as well as ARM and RISC-V ecosystem IPs. Gelsinger noted that Intel’s foundry plans have received strong statements of support from across the industry. Intel conservatively sizes the foundry opportunity as a $100 billion addressable market by 2025.\n",
      "\n",
      "Expanding in the U.S. and Europe. Intel is expanding its manufacturing capacity in the U.S. and Europe to provide less dependence on any specific region. Noting that 80% of leading-edge foundry capacity is concentrated in Asia, Gelsinger believes “the industry needs more geographically balanced manufacturing capacity.”\n",
      "\n",
      "Intel Sustainability\n",
      "\n",
      "“The impact of climate change is an urgent global threat. Protecting our planet demands immediate action and fresh thinking about how the world operates. As one of the world's leading semiconductor design and manufacturing companies, Intel is in a unique position to make a difference not only in our own operations, but in a way that makes it easier for customers, partners and our whole value chain to take meaningful action too,” Gelsinger said. \n",
      "\n",
      "To realize this ambitious goal, Intel has set the following interim milestones for 2030:\n",
      " \n",
      "\n",
      "Achieve 100% renewable electricity use across its global operations.\n",
      "\n",
      "Invest approximately $300 million in energy conservation at its facilities to achieve 4 billion cumulative kilowatt hours of energy savings.\n",
      "\n",
      "Build new factories and facilities to meet US Green Building Council LEED program standards, including recently announced investments in the US, Europe and Asia.\n",
      "\n",
      "Launch a cross-industry R&D initiative to identify greener chemicals with lower global warming potential and to develop new abatement equipment.\n"
     ]
    }
   ],
   "source": [
    "print(data[0].page_content)"
   ]
  },
  {
   "cell_type": "markdown",
   "id": "1f27712b",
   "metadata": {},
   "source": [
    "### Load word doc with complex parsing and section based chunks"
   ]
  },
  {
   "cell_type": "code",
   "execution_count": 43,
   "id": "3da89ac3",
   "metadata": {},
   "outputs": [],
   "source": [
    "loader = UnstructuredWordDocumentLoader(doc_path,\n",
    "                                        strategy='fast',\n",
    "                                        chunking_strategy=\"by_title\",\n",
    "                                        max_characters=3000, # max limit of a document chunk\n",
    "                                        new_after_n_chars=2500, # preferred document chunk size\n",
    "                                        mode='elements')\n",
    "data = loader.load()"
   ]
  },
  {
   "cell_type": "code",
   "execution_count": 44,
   "id": "c1ac2d7f",
   "metadata": {},
   "outputs": [
    {
     "data": {
      "text/plain": [
       "4"
      ]
     },
     "execution_count": 44,
     "metadata": {},
     "output_type": "execute_result"
    }
   ],
   "source": [
    "len(data)"
   ]
  },
  {
   "cell_type": "code",
   "execution_count": 45,
   "id": "c3ff9c93",
   "metadata": {},
   "outputs": [],
   "source": [
    "from pprint import pprint"
   ]
  },
  {
   "cell_type": "code",
   "execution_count": 46,
   "id": "29fb2476",
   "metadata": {},
   "outputs": [
    {
     "name": "stdout",
     "output_type": "stream",
     "text": [
      "[Document(metadata={'source': '../../docs/Intel Strategy.docx', 'emphasized_text_contents': ['The Superpowers', 'Pervasive Connectivity', 'Ubiquitous compute'], 'emphasized_text_tags': ['b', 'b', 'b'], 'file_directory': '../../docs', 'filename': 'Intel Strategy.docx', 'last_modified': '2025-05-30T10:16:46', 'orig_elements': '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', 'languages': ['eng'], 'filetype': 'application/vnd.openxmlformats-officedocument.wordprocessingml.document', 'category': 'CompositeElement', 'element_id': '6d73a46d675acd5cfcb940ccb7c37977'}, page_content='Intel Strategy\\n\\nOver the last few years, Intel, one of the world’s biggest chipmakers, has been transitioning towards a more datacentric approach than PC-centric. This is a welcome move, not only for the company but for innovation in technology as well, says Pat Gelsinger, CEO, Intel. According to him, the changing times as well as strides in innovation have placed Intel in a position where it can leverage the “superpowers” to make the world of computing better sustainable and far superior to the present scenario.\\n\\nThe Superpowers\\n\\nPervasive connectivity, Ubiquitous compute, AI and Cloud-to-Edge Infrastructure -- the four superpowers that will bolster Intel’s footprints into the future, will also play a key role in transforming the world of computing in any device.\\n\\n“Each of these superpowers is impressive on its own, but when they come together, that’s magic. If you’re not applying AI to every one of your business processes, you’re falling behind. We’re seeing this across every industry,” Gelsinger said.\\n\\nPervasive Connectivity: 5G-empowered pervasive connectivity, that intends to connect all, allows customers to gather, store, write, access, and analyze data regardless of device or location. This level of connectivity is essential in creating an improved quality of life, Gelsinger said. He added that Intel was partnering with Taiwan’s Pegatron to produce 5G networking that could be deployed in extreme conditions, too. “Think of it … earthquakes, tornadoes, natural disasters, where the communications infrastructure is knocked out. And imagine that you were a first responder. You’re showing up for a disaster relief situation and you have no communications.” “We’re taking advantage of the advances in 5G availability of wireless spectrum. And you can think about this as a blueprint for next-generation, commercial 5G, the ramp deployments,” Gelsinger said.\\n\\nUbiquitous compute: “Everything has become a computer, essentially any device we touch. Literally compute is now how we experience the world.” Gelsinger said. It is in line with the company’s data-centric approach as well, which include Server and Storage, including CPUs, chipsets, accelerators, memory and storage media in servers and storage systems; Networking and Connectivity, including CPUs, chipsets, accelerators, memory and storage media, and connectivity devices in network appliances and network function virtualization (NFV) systems; Internet of Things, including addressable logic application-specific integrated circuits and standard products, microprocessors, microcontrollers, digital signal processors, memory and storage media and modems in industrial, transportation, automated driving, retail, video surveillance, healthcare, public sector, office automation, gaming and smart home.'),\n",
      " Document(metadata={'source': '../../docs/Intel Strategy.docx', 'emphasized_text_contents': ['AI and Cloud-to-Edge Infrastructure', 'IPU roadmap', 'Single GPU solution for media transcode, visual graphics and inference in the cloud:'], 'emphasized_text_tags': ['b', 'b', 'b'], 'file_directory': '../../docs', 'filename': 'Intel Strategy.docx', 'last_modified': '2025-05-30T10:16:46', 'orig_elements': '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', 'languages': ['eng'], 'filetype': 'application/vnd.openxmlformats-officedocument.wordprocessingml.document', 'category': 'CompositeElement', 'element_id': 'dbd96567d34d7cad54c91a52fa8b663b'}, page_content='AI and Cloud-to-Edge Infrastructure: This allows for high performance computing to be immediately available, which is the backbone of ubiquitous compute. “With the unlimited reach of the intelligent edge, we can have low latency, high bandwidth, and real-time inference capabilities anywhere we want them,” he explained. Intelligent Edge could make visual experience of streaming services, cloud gaming, and visual workloads possible, however, there are hurdles to be overcome for that. Intel stands to overcome the challenges of deploying a complete cloud to edge infrastructure in today’s time with the launch of Habana Gaudi2 AI processor for training data centre workloads, and 12th Gen Intel Core HX processors for hybrid work.Habana Gaudi2 and Greco AI Accelerators are built on a single software stack, Synapse AI, that supports different architectures, enabling end-users to take advantage of the processors’ performance and efficiency. In addition, Gaudi2 delivers two times better AI training performance compared with current in-market A100-based offerings for key vision and NLP workloads, the company announced. The company also announced the shipment of the 4th Gen Intel Xeon Scalable processors, which will support DDR5, PCIe Gen5 and CXL 1.1, and are equipped with new integrated accelerators that deliver up to 30x performance versus the prior generation through software and hardware optimizations for AI workloads, along with new capabilities that deliver upto two times capacity gains for virtual radio access network (vRAN) deployments, for telco networks. Also, in partnership with Accenture, Intel has kickstarted Project Apollo, a program that will provide enterprises with more than 30 opensource AI solutions kits that are designed to make AI more accessible to customers in on-prem, cloud and edge environments. The company also unveiled its IPU roadmap, featuring new FPGA + Intel architecture platforms (code-named Hot Springs Canyon) and the Mount Morgan (MMG) ASIC, as well as next generation 800GB products. IPUs are dedicated products with hardened acceleration for infrastructure compute needs, allowing businesses to accomplish tasks quicker and solve problems faster.\\n\\nSingle GPU solution for media transcode, visual graphics and inference in the cloud: Intel’s data center GPU, code-named Arctic Sound-M (ATS-M), is the industry’s first discrete GPU with an AV1 hardware encoder. ATS-M is a versatile GPU with leadership transcode quality and performance targeting 150 trillion operations per second (TOPS). Developers will be able to easily design for ATS-M with an open software stack through oneAPI. ATS-M will be available in two form factors and in more than 15 system designs from partners including Dell Technologies, Supermicro, Cisco, HPE, Inspur and H3C. It will launch in 2022’s third quarter.'),\n",
      " Document(metadata={'source': '../../docs/Intel Strategy.docx', 'emphasized_text_contents': ['New 12th Gen Intel Core HX processors for hybrid work:', 'High performance computing to solve the world’s most complex challenges:', 'Confidence with confidential computing:', 'Agriculture autonomy with private wireless networks', 'Intel IDM 2.0', 'Intel’s global, internal factory network for at-scale manufacturing'], 'emphasized_text_tags': ['b', 'b', 'b', 'b', 'b', 'b'], 'file_directory': '../../docs', 'filename': 'Intel Strategy.docx', 'last_modified': '2025-05-30T10:16:46', 'orig_elements': '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', 'languages': ['eng'], 'filetype': 'application/vnd.openxmlformats-officedocument.wordprocessingml.document', 'category': 'CompositeElement', 'element_id': '1165541ad1ff60df62a33fef71fa09bc'}, page_content='New 12th Gen Intel Core HX processors for hybrid work: The company completed the 12th Gen family with the launch of the new 12th Gen Intel Core HX processors. Created for professionals who need maximum performance and flexibility to navigate a hybrid environment, and with up to 16 cores and clock speeds up to 5 GHz, the Intel Core i9-12900HX processor is the world’s best mobile workstation platform.\\n\\nHigh performance computing to solve the world’s most complex challenges: Argonne National Laboratories is on track to deliver 2 exaflops of peak performance with the Aurora supercomputer running on the Intel Xeon processor, code-named Sapphire Rapids with High Bandwidth Memory (HBM), and the Intel data center GPU, code-named Ponte Vecchio, with Intel oneAPI providing developers seamless system integration.\\n\\nConfidence with confidential computing: Bosch and Intel collaborated on a research effort to develop a confidential AI solution that allows Bosch to train its neural networks confidentially in the public cloud. To help achieve this at scale, Bosch Corporate Research has built a confidential AI platform powered by Intel Software Guard Extensions available with 3rd Gen Intel Xeon Scalable platforms.\\n\\nAgriculture autonomy with private wireless networks: Intelligent edge solutions have the potential to transform food. Blue White Robotics developed a new type of autonomous agricultural solution that transforms a grower’s existing equipment into a fleet of autonomous tractors connected to an internet-based management platform. With help from Intel and Federated Wireless, Blue White Robotics made this a scalable solution that leverages Intel Smart Edge and Intel Xeon D processors and employs the power of edge computing and shared spectrum to create a private wireless network on any farm anywhere.\\n\\nIntel is moving at a “torrid pace,” Gelsinger said. “When you think about torrid, it’s a word about speed and energy and heat. But in the Intel context, we’re also applying a vector of that energy for setting a direction into the future.”\\n\\nIntel IDM 2.0\\n\\nThe Intel IDM 2.0 strategy revealed by new company CEO Pat Gelsinger is an ambitious plan to restore the company’s leadership in semiconductor production. Gelsinger described IDM 2.0 as the second generation of Intel’s integrated device manufacturing model.\\n\\nIntel’s global, internal factory network for at-scale manufacturing is a key competitive advantage that enables product optimization, improved economics and supply resilience. Gelsinger re-affirmed the company’s expectation to continue manufacturing most of its products internally. The company’s 7 Nanometer Processors development is driven by increased use of extreme ultraviolet lithography (EUV) in a rearchitected, simplified process flow.'),\n",
      " Document(metadata={'source': '../../docs/Intel Strategy.docx', 'emphasized_text_contents': ['Expanded use of third-party foundry capacity.', 'Intel Foundry Services.', 'Expanding in the U.S. and Europe', 'Intel Sustainability'], 'emphasized_text_tags': ['b', 'b', 'b', 'b'], 'file_directory': '../../docs', 'filename': 'Intel Strategy.docx', 'last_modified': '2025-05-30T10:16:46', 'orig_elements': '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', 'languages': ['eng'], 'filetype': 'application/vnd.openxmlformats-officedocument.wordprocessingml.document', 'category': 'CompositeElement', 'element_id': 'c04d633e4de3707bf9619657c386fd25'}, page_content=\"Expanded use of third-party foundry capacity. Gelsinger said he expects Intel’s engagement with third-party foundries to grow and to include manufacturing for a range of modular tiles on advanced process technologies, including products at the core of Intel’s computing offerings for both client and data center segments beginning in 2023. This will provide the increased flexibility and scale needed to optimize Intel’s roadmaps for cost, performance, schedule and supply, giving the company a unique competitive advantage.\\n\\nIntel Foundry Services. The launch of Intel Foundry Services means the company is not only going to manufacture its own chips, but it will also produce them for other semiconductor companies, including its competitors. Intel announced plans to become a major provider of U.S. and Europe-based foundry capacity to serve the global demand for semiconductor manufacturing. Hence, Intel is establishing a new standalone business unit, Intel Foundry Services (IFS), led by semiconductor industry veteran Dr. Randhir Thakur, who will report directly to Gelsinger. IFS will be differentiated from other foundry offerings with a combination of leading-edge process technology and packaging, committed capacity in the U.S. and Europe, and a world-class IP portfolio for customers, including x86 cores as well as ARM and RISC-V ecosystem IPs. Gelsinger noted that Intel’s foundry plans have received strong statements of support from across the industry. Intel conservatively sizes the foundry opportunity as a $100 billion addressable market by 2025.\\n\\nExpanding in the U.S. and Europe. Intel is expanding its manufacturing capacity in the U.S. and Europe to provide less dependence on any specific region. Noting that 80% of leading-edge foundry capacity is concentrated in Asia, Gelsinger believes “the industry needs more geographically balanced manufacturing capacity.”\\n\\nIntel Sustainability\\n\\n“The impact of climate change is an urgent global threat. Protecting our planet demands immediate action and fresh thinking about how the world operates. As one of the world's leading semiconductor design and manufacturing companies, Intel is in a unique position to make a difference not only in our own operations, but in a way that makes it easier for customers, partners and our whole value chain to take meaningful action too,” Gelsinger said.\\n\\nTo realize this ambitious goal, Intel has set the following interim milestones for 2030:\\n\\nAchieve 100% renewable electricity use across its global operations.\\n\\nInvest approximately $300 million in energy conservation at its facilities to achieve 4 billion cumulative kilowatt hours of energy savings.\\n\\nBuild new factories and facilities to meet US Green Building Council LEED program standards, including recently announced investments in the US, Europe and Asia.\\n\\nLaunch a cross-industry R&D initiative to identify greener chemicals with lower global warming potential and to develop new abatement equipment.\")]\n"
     ]
    }
   ],
   "source": [
    "pprint(data)"
   ]
  },
  {
   "cell_type": "code",
   "execution_count": 47,
   "id": "63133e3e",
   "metadata": {},
   "outputs": [
    {
     "data": {
      "text/plain": [
       "4"
      ]
     },
     "execution_count": 47,
     "metadata": {},
     "output_type": "execute_result"
    }
   ],
   "source": [
    "len(data)"
   ]
  },
  {
   "cell_type": "code",
   "execution_count": 48,
   "id": "cd10dd4f",
   "metadata": {},
   "outputs": [
    {
     "name": "stdout",
     "output_type": "stream",
     "text": [
      "page_content='Intel Strategy\n",
      "\n",
      "Over the last few years, Intel, one of the world’s biggest chipmakers, has been transitioning towards a more datacentric approach than PC-centric. This is a welcome move, not only for the company but for innovation in technology as well, says Pat Gelsinger, CEO, Intel. According to him, the changing times as well as strides in innovation have placed Intel in a position where it can leverage the “superpowers” to make the world of computing better sustainable and far superior to the present scenario.\n",
      "\n",
      "The Superpowers\n",
      "\n",
      "Pervasive connectivity, Ubiquitous compute, AI and Cloud-to-Edge Infrastructure -- the four superpowers that will bolster Intel’s footprints into the future, will also play a key role in transforming the world of computing in any device.\n",
      "\n",
      "“Each of these superpowers is impressive on its own, but when they come together, that’s magic. If you’re not applying AI to every one of your business processes, you’re falling behind. We’re seeing this across every industry,” Gelsinger said.\n",
      "\n",
      "Pervasive Connectivity: 5G-empowered pervasive connectivity, that intends to connect all, allows customers to gather, store, write, access, and analyze data regardless of device or location. This level of connectivity is essential in creating an improved quality of life, Gelsinger said. He added that Intel was partnering with Taiwan’s Pegatron to produce 5G networking that could be deployed in extreme conditions, too. “Think of it … earthquakes, tornadoes, natural disasters, where the communications infrastructure is knocked out. And imagine that you were a first responder. You’re showing up for a disaster relief situation and you have no communications.” “We’re taking advantage of the advances in 5G availability of wireless spectrum. And you can think about this as a blueprint for next-generation, commercial 5G, the ramp deployments,” Gelsinger said.\n",
      "\n",
      "Ubiquitous compute: “Everything has become a computer, essentially any device we touch. Literally compute is now how we experience the world.” Gelsinger said. It is in line with the company’s data-centric approach as well, which include Server and Storage, including CPUs, chipsets, accelerators, memory and storage media in servers and storage systems; Networking and Connectivity, including CPUs, chipsets, accelerators, memory and storage media, and connectivity devices in network appliances and network function virtualization (NFV) systems; Internet of Things, including addressable logic application-specific integrated circuits and standard products, microprocessors, microcontrollers, digital signal processors, memory and storage media and modems in industrial, transportation, automated driving, retail, video surveillance, healthcare, public sector, office automation, gaming and smart home.' metadata={'source': '../../docs/Intel Strategy.docx', 'emphasized_text_contents': ['The Superpowers', 'Pervasive Connectivity', 'Ubiquitous compute'], 'emphasized_text_tags': ['b', 'b', 'b'], 'file_directory': '../../docs', 'filename': 'Intel Strategy.docx', 'last_modified': '2025-05-30T10:16:46', 'orig_elements': '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', 'languages': ['eng'], 'filetype': 'application/vnd.openxmlformats-officedocument.wordprocessingml.document', 'category': 'CompositeElement', 'element_id': '6d73a46d675acd5cfcb940ccb7c37977'}\n"
     ]
    }
   ],
   "source": [
    "print(data[0])"
   ]
  },
  {
   "cell_type": "code",
   "execution_count": 49,
   "id": "b995ed5b",
   "metadata": {},
   "outputs": [
    {
     "name": "stdout",
     "output_type": "stream",
     "text": [
      "Intel Strategy\n",
      "\n",
      "Over the last few years, Intel, one of the world’s biggest chipmakers, has been transitioning towards a more datacentric approach than PC-centric. This is a welcome move, not only for the company but for innovation in technology as well, says Pat Gelsinger, CEO, Intel. According to him, the changing times as well as strides in innovation have placed Intel in a position where it can leverage the “superpowers” to make the world of computing better sustainable and far superior to the present scenario.\n",
      "\n",
      "The Superpowers\n",
      "\n",
      "Pervasive connectivity, Ubiquitous compute, AI and Cloud-to-Edge Infrastructure -- the four superpowers that will bolster Intel’s footprints into the future, will also play a key role in transforming the world of computing in any device.\n",
      "\n",
      "“Each of these superpowers is impressive on its own, but when they come together, that’s magic. If you’re not applying AI to every one of your business processes, you’re falling behind. We’re seeing this across every industry,” Gelsinger said.\n",
      "\n",
      "Pervasive Connectivity: 5G-empowered pervasive connectivity, that intends to connect all, allows customers to gather, store, write, access, and analyze data regardless of device or location. This level of connectivity is essential in creating an improved quality of life, Gelsinger said. He added that Intel was partnering with Taiwan’s Pegatron to produce 5G networking that could be deployed in extreme conditions, too. “Think of it … earthquakes, tornadoes, natural disasters, where the communications infrastructure is knocked out. And imagine that you were a first responder. You’re showing up for a disaster relief situation and you have no communications.” “We’re taking advantage of the advances in 5G availability of wireless spectrum. And you can think about this as a blueprint for next-generation, commercial 5G, the ramp deployments,” Gelsinger said.\n",
      "\n",
      "Ubiquitous compute: “Everything has become a computer, essentially any device we touch. Literally compute is now how we experience the world.” Gelsinger said. It is in line with the company’s data-centric approach as well, which include Server and Storage, including CPUs, chipsets, accelerators, memory and storage media in servers and storage systems; Networking and Connectivity, including CPUs, chipsets, accelerators, memory and storage media, and connectivity devices in network appliances and network function virtualization (NFV) systems; Internet of Things, including addressable logic application-specific integrated circuits and standard products, microprocessors, microcontrollers, digital signal processors, memory and storage media and modems in industrial, transportation, automated driving, retail, video surveillance, healthcare, public sector, office automation, gaming and smart home.\n"
     ]
    }
   ],
   "source": [
    "print(data[0].page_content)"
   ]
  },
  {
   "cell_type": "code",
   "execution_count": 50,
   "id": "c59ccba9",
   "metadata": {},
   "outputs": [
    {
     "name": "stdout",
     "output_type": "stream",
     "text": [
      "{'source': '../../docs/Intel Strategy.docx', 'emphasized_text_contents': ['The Superpowers', 'Pervasive Connectivity', 'Ubiquitous compute'], 'emphasized_text_tags': ['b', 'b', 'b'], 'file_directory': '../../docs', 'filename': 'Intel Strategy.docx', 'last_modified': '2025-05-30T10:16:46', 'orig_elements': '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', 'languages': ['eng'], 'filetype': 'application/vnd.openxmlformats-officedocument.wordprocessingml.document', 'category': 'CompositeElement', 'element_id': '6d73a46d675acd5cfcb940ccb7c37977'}\n"
     ]
    }
   ],
   "source": [
    "print(data[0].metadata)"
   ]
  },
  {
   "cell_type": "code",
   "execution_count": 52,
   "id": "413a6012",
   "metadata": {},
   "outputs": [
    {
     "name": "stdout",
     "output_type": "stream",
     "text": [
      "['The Superpowers', 'Pervasive Connectivity', 'Ubiquitous compute']\n"
     ]
    }
   ],
   "source": [
    "print(data[0].metadata[\"emphasized_text_contents\"])"
   ]
  },
  {
   "cell_type": "code",
   "execution_count": null,
   "id": "04115f9e",
   "metadata": {},
   "outputs": [],
   "source": []
  }
 ],
 "metadata": {
  "kernelspec": {
   "display_name": "venv",
   "language": "python",
   "name": "python3"
  },
  "language_info": {
   "codemirror_mode": {
    "name": "ipython",
    "version": 3
   },
   "file_extension": ".py",
   "mimetype": "text/x-python",
   "name": "python",
   "nbconvert_exporter": "python",
   "pygments_lexer": "ipython3",
   "version": "3.11.6"
  }
 },
 "nbformat": 4,
 "nbformat_minor": 5
}
