{
 "cells": [
  {
   "cell_type": "markdown",
   "id": "24524212",
   "metadata": {},
   "source": [
    "## Set Up the Environment"
   ]
  },
  {
   "cell_type": "code",
   "execution_count": 1,
   "id": "85802483",
   "metadata": {},
   "outputs": [],
   "source": [
    "%run setup.ipynb"
   ]
  },
  {
   "cell_type": "markdown",
   "id": "78c53a3a",
   "metadata": {},
   "source": [
    "## Document Loaders\n",
    "\n",
    "Document loaders are used to import data from various sources into LangChain as `Document` objects. A `Document` typically includes a piece of text along with its associated metadata.\n",
    "\n",
    "### Examples of Document Loaders:\n",
    "\n",
    "- **Text File Loader:** Loads data from a simple `.txt` file.\n",
    "- **Web Page Loader:** Retrieves the text content from any web page.\n",
    "- **YouTube Video Transcript Loader:** Loads transcripts from YouTube videos.\n",
    "\n",
    "### Functionality:\n",
    "\n",
    "- **Load Method:** Each document loader has a `load` method that enables the loading of data as documents from a pre-configured source.\n",
    "- **Lazy Load Option:** Some loaders also support a \"lazy load\" feature, which allows data to be loaded into memory gradually as needed.\n",
    "\n",
    "For more detailed information, visit [LangChain's document loader documentation](https://python.langchain.com/docs/modules/data_connection/document_loaders/).\n"
   ]
  },
  {
   "cell_type": "markdown",
   "id": "0653300c",
   "metadata": {},
   "source": [
    "### Markdown Loader\n",
    "\n",
    "* Markdown is a lightweight markup language for creating formatted text using a plain-text editor.\n",
    "  \n",
    "* This showcases how to load Markdown documents into a langchain document format that we can use in our pipelines and chains.\n",
    "  \n",
    "* This Loader loads the whole document.\n"
   ]
  },
  {
   "cell_type": "markdown",
   "id": "212d2053",
   "metadata": {},
   "source": [
    "#### Download nltk packages if needed"
   ]
  },
  {
   "cell_type": "code",
   "execution_count": 3,
   "id": "dc0c3b98",
   "metadata": {},
   "outputs": [
    {
     "name": "stderr",
     "output_type": "stream",
     "text": [
      "[nltk_data] Downloading package punkt_tab to\n",
      "[nltk_data]     /Users/sourav.banerjee/nltk_data...\n",
      "[nltk_data]   Package punkt_tab is already up-to-date!\n",
      "[nltk_data] Downloading package averaged_perceptron_tagger_eng to\n",
      "[nltk_data]     /Users/sourav.banerjee/nltk_data...\n",
      "[nltk_data]   Package averaged_perceptron_tagger_eng is already up-to-\n",
      "[nltk_data]       date!\n"
     ]
    },
    {
     "data": {
      "text/plain": [
       "True"
      ]
     },
     "execution_count": 3,
     "metadata": {},
     "output_type": "execute_result"
    }
   ],
   "source": [
    "import nltk\n",
    "nltk.download('punkt_tab')\n",
    "nltk.download('averaged_perceptron_tagger_eng')"
   ]
  },
  {
   "cell_type": "markdown",
   "id": "fe6842e0",
   "metadata": {},
   "source": [
    "### Load Document in a single Section"
   ]
  },
  {
   "cell_type": "code",
   "execution_count": 4,
   "id": "90b85922",
   "metadata": {},
   "outputs": [],
   "source": [
    "from langchain_community.document_loaders import UnstructuredMarkdownLoader\n",
    "loader = UnstructuredMarkdownLoader(\"../../docs/README.md\", mode='single')\n",
    "docs = loader.load()"
   ]
  },
  {
   "cell_type": "code",
   "execution_count": 7,
   "id": "b09c3935",
   "metadata": {},
   "outputs": [
    {
     "name": "stdout",
     "output_type": "stream",
     "text": [
      "\n",
      "The number of documents : 1\n",
      "\n"
     ]
    }
   ],
   "source": [
    "print(f\"\\nThe number of documents : {len(docs)}\\n\")"
   ]
  },
  {
   "cell_type": "code",
   "execution_count": 8,
   "id": "707f8c28",
   "metadata": {},
   "outputs": [
    {
     "name": "stdout",
     "output_type": "stream",
     "text": [
      "\n",
      " Type of first documents : <class 'langchain_core.documents.base.Document'>\n",
      "\n"
     ]
    }
   ],
   "source": [
    "print(f\"\\n Type of first documents : {type(docs[0])}\\n\")"
   ]
  },
  {
   "cell_type": "code",
   "execution_count": 9,
   "id": "24a5793c",
   "metadata": {},
   "outputs": [
    {
     "data": {
      "text/plain": [
       "langchain_core.documents.base.Document"
      ]
     },
     "execution_count": 9,
     "metadata": {},
     "output_type": "execute_result"
    }
   ],
   "source": [
    "type(docs[0])"
   ]
  },
  {
   "cell_type": "code",
   "execution_count": 10,
   "id": "a375fb6b",
   "metadata": {},
   "outputs": [
    {
     "name": "stdout",
     "output_type": "stream",
     "text": [
      "{'source': '../../docs/README.md'}\n"
     ]
    }
   ],
   "source": [
    "print(docs[0].metadata)"
   ]
  },
  {
   "cell_type": "code",
   "execution_count": 11,
   "id": "1ed05711",
   "metadata": {},
   "outputs": [
    {
     "name": "stdout",
     "output_type": "stream",
     "text": [
      "🦜️🔗 LangChain\n",
      "\n",
      "⚡ Build context-aware reasoning applications ⚡\n",
      "\n",
      "Release Notes\n",
      "\n",
      "CI\n",
      "\n",
      "PyPI - License\n",
      "\n",
      "Py\n"
     ]
    }
   ],
   "source": [
    "print(docs[0].page_content[:100])"
   ]
  },
  {
   "cell_type": "markdown",
   "id": "99b70631",
   "metadata": {},
   "source": [
    "### Load document and separate based on elements"
   ]
  },
  {
   "cell_type": "code",
   "execution_count": 12,
   "id": "02b30de7",
   "metadata": {},
   "outputs": [
    {
     "name": "stdout",
     "output_type": "stream",
     "text": [
      "\n",
      "The number of documents : 75\n",
      "\n"
     ]
    }
   ],
   "source": [
    "loader = UnstructuredMarkdownLoader(\"../../docs/README.md\", mode=\"elements\")\n",
    "docs = loader.load()\n",
    "print(f\"\\nThe number of documents : {len(docs)}\\n\")"
   ]
  },
  {
   "cell_type": "code",
   "execution_count": 13,
   "id": "b28ae34f",
   "metadata": {},
   "outputs": [
    {
     "data": {
      "text/plain": [
       "[Document(metadata={'source': '../../docs/README.md', 'category_depth': 0, 'languages': ['eng'], 'file_directory': '../../docs', 'filename': 'README.md', 'filetype': 'text/markdown', 'last_modified': '2025-05-30T10:16:46', 'category': 'Title', 'element_id': '200b8a7d0dd03f66e4f13456566d2b3a'}, page_content='🦜️🔗 LangChain'),\n",
       " Document(metadata={'source': '../../docs/README.md', 'languages': ['eng'], 'file_directory': '../../docs', 'filename': 'README.md', 'filetype': 'text/markdown', 'last_modified': '2025-05-30T10:16:46', 'parent_id': '200b8a7d0dd03f66e4f13456566d2b3a', 'category': 'NarrativeText', 'element_id': '80d06543c0c2b75ca147f3509e518a47'}, page_content='⚡ Build context-aware reasoning applications ⚡'),\n",
       " Document(metadata={'source': '../../docs/README.md', 'image_url': 'https://img.shields.io/github/release/langchain-ai/langchain?style=flat-square', 'link_texts': ['Release Notes'], 'link_urls': ['https://github.com/langchain-ai/langchain/releases'], 'languages': ['eng'], 'file_directory': '../../docs', 'filename': 'README.md', 'filetype': 'text/markdown', 'last_modified': '2025-05-30T10:16:46', 'category': 'Image', 'element_id': '8c57d5f8bd859747ec80d901de40bc62'}, page_content='Release Notes'),\n",
       " Document(metadata={'source': '../../docs/README.md', 'image_url': 'https://github.com/langchain-ai/langchain/actions/workflows/check_diffs.yml/badge.svg', 'link_texts': ['CI'], 'link_urls': ['https://github.com/langchain-ai/langchain/actions/workflows/check_diffs.yml'], 'languages': ['eng'], 'file_directory': '../../docs', 'filename': 'README.md', 'filetype': 'text/markdown', 'last_modified': '2025-05-30T10:16:46', 'category': 'Image', 'element_id': 'dd7e1905f92a0532e784cc37d9415421'}, page_content='CI'),\n",
       " Document(metadata={'source': '../../docs/README.md', 'image_url': 'https://img.shields.io/pypi/l/langchain-core?style=flat-square', 'link_texts': ['PyPI - License'], 'link_urls': ['https://opensource.org/licenses/MIT'], 'languages': ['eng'], 'file_directory': '../../docs', 'filename': 'README.md', 'filetype': 'text/markdown', 'last_modified': '2025-05-30T10:16:46', 'category': 'Image', 'element_id': '5220f47ead54ddb5bd890ba722404d19'}, page_content='PyPI - License'),\n",
       " Document(metadata={'source': '../../docs/README.md', 'image_url': 'https://img.shields.io/pypi/dm/langchain-core?style=flat-square', 'link_texts': ['PyPI - Downloads'], 'link_urls': ['https://pypistats.org/packages/langchain-core'], 'languages': ['eng'], 'file_directory': '../../docs', 'filename': 'README.md', 'filetype': 'text/markdown', 'last_modified': '2025-05-30T10:16:46', 'category': 'Image', 'element_id': '4aaad03a5afff6fbd8add503e9dce90b'}, page_content='PyPI - Downloads'),\n",
       " Document(metadata={'source': '../../docs/README.md', 'image_url': 'https://img.shields.io/github/stars/langchain-ai/langchain?style=flat-square', 'link_texts': ['GitHub star chart'], 'link_urls': ['https://star-history.com/#langchain-ai/langchain'], 'languages': ['eng'], 'file_directory': '../../docs', 'filename': 'README.md', 'filetype': 'text/markdown', 'last_modified': '2025-05-30T10:16:46', 'category': 'Image', 'element_id': '33a74aa12274481948e2cd15fd9be863'}, page_content='GitHub star chart'),\n",
       " Document(metadata={'source': '../../docs/README.md', 'image_url': 'https://img.shields.io/github/issues-raw/langchain-ai/langchain?style=flat-square', 'link_texts': ['Open Issues'], 'link_urls': ['https://github.com/langchain-ai/langchain/issues'], 'languages': ['eng'], 'file_directory': '../../docs', 'filename': 'README.md', 'filetype': 'text/markdown', 'last_modified': '2025-05-30T10:16:46', 'category': 'Image', 'element_id': 'e3f172111b606b07ad51171338aa94ef'}, page_content='Open Issues'),\n",
       " Document(metadata={'source': '../../docs/README.md', 'image_url': 'https://img.shields.io/static/v1?label=Dev%20Containers&message=Open&color=blue&logo=visualstudiocode&style=flat-square', 'link_texts': ['Open in Dev Containers'], 'link_urls': ['https://vscode.dev/redirect?url=vscode://ms-vscode-remote.remote-containers/cloneInVolume?url=https://github.com/langchain-ai/langchain'], 'languages': ['eng'], 'file_directory': '../../docs', 'filename': 'README.md', 'filetype': 'text/markdown', 'last_modified': '2025-05-30T10:16:46', 'category': 'Image', 'element_id': 'd65d2b296fe15e5b4d9a805f62842f55'}, page_content='Open in Dev Containers'),\n",
       " Document(metadata={'source': '../../docs/README.md', 'image_url': 'https://github.com/codespaces/badge.svg', 'link_texts': ['Open in GitHub Codespaces'], 'link_urls': ['https://codespaces.new/langchain-ai/langchain'], 'languages': ['eng'], 'file_directory': '../../docs', 'filename': 'README.md', 'filetype': 'text/markdown', 'last_modified': '2025-05-30T10:16:46', 'category': 'Image', 'element_id': '58758ef7c3621cebaf77a177e5db7ac2'}, page_content='Open in GitHub Codespaces')]"
      ]
     },
     "execution_count": 13,
     "metadata": {},
     "output_type": "execute_result"
    }
   ],
   "source": [
    "docs[:10]"
   ]
  },
  {
   "cell_type": "code",
   "execution_count": 14,
   "id": "90b5440c",
   "metadata": {},
   "outputs": [
    {
     "data": {
      "text/plain": [
       "Counter({'ListItem': 26,\n",
       "         'NarrativeText': 17,\n",
       "         'Title': 13,\n",
       "         'Image': 12,\n",
       "         'UncategorizedText': 7})"
      ]
     },
     "execution_count": 14,
     "metadata": {},
     "output_type": "execute_result"
    }
   ],
   "source": [
    "from collections import Counter\n",
    "Counter([doc.metadata['category'] for doc in docs])"
   ]
  },
  {
   "cell_type": "code",
   "execution_count": 15,
   "id": "39697a00",
   "metadata": {},
   "outputs": [
    {
     "data": {
      "text/plain": [
       "{'source': '../../docs/README.md',\n",
       " 'category_depth': 0,\n",
       " 'languages': ['eng'],\n",
       " 'file_directory': '../../docs',\n",
       " 'filename': 'README.md',\n",
       " 'filetype': 'text/markdown',\n",
       " 'last_modified': '2025-05-30T10:16:46',\n",
       " 'category': 'Title',\n",
       " 'element_id': '200b8a7d0dd03f66e4f13456566d2b3a'}"
      ]
     },
     "execution_count": 15,
     "metadata": {},
     "output_type": "execute_result"
    }
   ],
   "source": [
    "docs[0].metadata"
   ]
  },
  {
   "cell_type": "code",
   "execution_count": 16,
   "id": "35f985c8",
   "metadata": {},
   "outputs": [
    {
     "data": {
      "text/plain": [
       "'🦜️🔗 LangChain'"
      ]
     },
     "execution_count": 16,
     "metadata": {},
     "output_type": "execute_result"
    }
   ],
   "source": [
    "docs[0].page_content"
   ]
  },
  {
   "cell_type": "code",
   "execution_count": 17,
   "id": "b228eb25",
   "metadata": {},
   "outputs": [
    {
     "data": {
      "text/plain": [
       "{'source': '../../docs/README.md',\n",
       " 'languages': ['eng'],\n",
       " 'file_directory': '../../docs',\n",
       " 'filename': 'README.md',\n",
       " 'filetype': 'text/markdown',\n",
       " 'last_modified': '2025-05-30T10:16:46',\n",
       " 'parent_id': '200b8a7d0dd03f66e4f13456566d2b3a',\n",
       " 'category': 'NarrativeText',\n",
       " 'element_id': '80d06543c0c2b75ca147f3509e518a47'}"
      ]
     },
     "execution_count": 17,
     "metadata": {},
     "output_type": "execute_result"
    }
   ],
   "source": [
    "docs[1].metadata"
   ]
  },
  {
   "cell_type": "code",
   "execution_count": 18,
   "id": "cb075a8a",
   "metadata": {},
   "outputs": [
    {
     "data": {
      "text/plain": [
       "'⚡ Build context-aware reasoning applications ⚡'"
      ]
     },
     "execution_count": 18,
     "metadata": {},
     "output_type": "execute_result"
    }
   ],
   "source": [
    "docs[1].page_content"
   ]
  },
  {
   "cell_type": "markdown",
   "id": "c550d5cb",
   "metadata": {},
   "source": [
    "### Comparing Unstructured.io loaders vs LangChain wrapper API"
   ]
  },
  {
   "cell_type": "code",
   "execution_count": 1,
   "id": "4f440771",
   "metadata": {},
   "outputs": [],
   "source": [
    "from unstructured.partition.md import partition_md\n",
    "\n",
    "docs = partition_md(filename=\"../../docs/README.md\")"
   ]
  },
  {
   "cell_type": "code",
   "execution_count": 2,
   "id": "50f044d8",
   "metadata": {},
   "outputs": [
    {
     "data": {
      "text/plain": [
       "75"
      ]
     },
     "execution_count": 2,
     "metadata": {},
     "output_type": "execute_result"
    }
   ],
   "source": [
    "len(docs)"
   ]
  },
  {
   "cell_type": "markdown",
   "id": "d7e849d0",
   "metadata": {},
   "source": [
    "We can see below the documents are not any more LangChain Document type. Rather they are Unstructured Document Type"
   ]
  },
  {
   "cell_type": "code",
   "execution_count": 3,
   "id": "3526a509",
   "metadata": {},
   "outputs": [
    {
     "data": {
      "text/plain": [
       "[<unstructured.documents.elements.Title at 0x137b5e350>,\n",
       " <unstructured.documents.elements.NarrativeText at 0x13c0cc990>,\n",
       " <unstructured.documents.elements.Image at 0x13c0dd8d0>,\n",
       " <unstructured.documents.elements.Image at 0x13c0ca550>,\n",
       " <unstructured.documents.elements.Image at 0x13df3b510>,\n",
       " <unstructured.documents.elements.Image at 0x13df3b490>,\n",
       " <unstructured.documents.elements.Image at 0x13df3b450>,\n",
       " <unstructured.documents.elements.Image at 0x13df3b2d0>,\n",
       " <unstructured.documents.elements.Image at 0x13df3b550>,\n",
       " <unstructured.documents.elements.Image at 0x13df3b610>]"
      ]
     },
     "execution_count": 3,
     "metadata": {},
     "output_type": "execute_result"
    }
   ],
   "source": [
    "docs[:10]"
   ]
  },
  {
   "cell_type": "code",
   "execution_count": 4,
   "id": "9b8637fa",
   "metadata": {},
   "outputs": [
    {
     "data": {
      "text/plain": [
       "{'type': 'Title',\n",
       " 'element_id': '200b8a7d0dd03f66e4f13456566d2b3a',\n",
       " 'text': '🦜️🔗 LangChain',\n",
       " 'metadata': {'category_depth': 0,\n",
       "  'languages': ['eng'],\n",
       "  'file_directory': '../../docs',\n",
       "  'filename': 'README.md',\n",
       "  'filetype': 'text/markdown',\n",
       "  'last_modified': '2025-05-30T10:16:46'}}"
      ]
     },
     "execution_count": 4,
     "metadata": {},
     "output_type": "execute_result"
    }
   ],
   "source": [
    "docs[0].to_dict()"
   ]
  },
  {
   "cell_type": "code",
   "execution_count": 5,
   "id": "53cb6417",
   "metadata": {},
   "outputs": [
    {
     "data": {
      "text/plain": [
       "{'type': 'NarrativeText',\n",
       " 'element_id': '80d06543c0c2b75ca147f3509e518a47',\n",
       " 'text': '⚡ Build context-aware reasoning applications ⚡',\n",
       " 'metadata': {'languages': ['eng'],\n",
       "  'file_directory': '../../docs',\n",
       "  'filename': 'README.md',\n",
       "  'filetype': 'text/markdown',\n",
       "  'last_modified': '2025-05-30T10:16:46',\n",
       "  'parent_id': '200b8a7d0dd03f66e4f13456566d2b3a'}}"
      ]
     },
     "execution_count": 5,
     "metadata": {},
     "output_type": "execute_result"
    }
   ],
   "source": [
    "docs[1].to_dict()"
   ]
  },
  {
   "cell_type": "code",
   "execution_count": 11,
   "id": "d3d3bcb1",
   "metadata": {},
   "outputs": [
    {
     "name": "stdout",
     "output_type": "stream",
     "text": [
      "Document 1:\n",
      "Text: 🦜️🔗 LangChain\n",
      "Metadata: {'category_depth': 0, 'languages': ['eng'], 'file_directory': '../../docs', 'filename': 'README.md', 'filetype': 'text/markdown', 'last_modified': '2025-05-30T10:16:46'}\n",
      "Document 2:\n",
      "Text: ⚡ Build context-aware reasoning applications ⚡\n",
      "Metadata: {'languages': ['eng'], 'file_directory': '../../docs', 'filename': 'README.md', 'filetype': 'text/markdown', 'last_modified': '2025-05-30T10:16:46', 'parent_id': '200b8a7d0dd03f66e4f13456566d2b3a'}\n",
      "Document 3:\n",
      "Text: Release Notes\n",
      "Metadata: {'image_url': 'https://img.shields.io/github/release/langchain-ai/langchain?style=flat-square', 'link_texts': ['Release Notes'], 'link_urls': ['https://github.com/langchain-ai/langchain/releases'], 'languages': ['eng'], 'file_directory': '../../docs', 'filename': 'README.md', 'filetype': 'text/markdown', 'last_modified': '2025-05-30T10:16:46'}\n",
      "Document 4:\n",
      "Text: CI\n",
      "Metadata: {'image_url': 'https://github.com/langchain-ai/langchain/actions/workflows/check_diffs.yml/badge.svg', 'link_texts': ['CI'], 'link_urls': ['https://github.com/langchain-ai/langchain/actions/workflows/check_diffs.yml'], 'languages': ['eng'], 'file_directory': '../../docs', 'filename': 'README.md', 'filetype': 'text/markdown', 'last_modified': '2025-05-30T10:16:46'}\n",
      "Document 5:\n",
      "Text: PyPI - License\n",
      "Metadata: {'image_url': 'https://img.shields.io/pypi/l/langchain-core?style=flat-square', 'link_texts': ['PyPI - License'], 'link_urls': ['https://opensource.org/licenses/MIT'], 'languages': ['eng'], 'file_directory': '../../docs', 'filename': 'README.md', 'filetype': 'text/markdown', 'last_modified': '2025-05-30T10:16:46'}\n",
      "Document 6:\n",
      "Text: PyPI - Downloads\n",
      "Metadata: {'image_url': 'https://img.shields.io/pypi/dm/langchain-core?style=flat-square', 'link_texts': ['PyPI - Downloads'], 'link_urls': ['https://pypistats.org/packages/langchain-core'], 'languages': ['eng'], 'file_directory': '../../docs', 'filename': 'README.md', 'filetype': 'text/markdown', 'last_modified': '2025-05-30T10:16:46'}\n",
      "Document 7:\n",
      "Text: GitHub star chart\n",
      "Metadata: {'image_url': 'https://img.shields.io/github/stars/langchain-ai/langchain?style=flat-square', 'link_texts': ['GitHub star chart'], 'link_urls': ['https://star-history.com/#langchain-ai/langchain'], 'languages': ['eng'], 'file_directory': '../../docs', 'filename': 'README.md', 'filetype': 'text/markdown', 'last_modified': '2025-05-30T10:16:46'}\n",
      "Document 8:\n",
      "Text: Open Issues\n",
      "Metadata: {'image_url': 'https://img.shields.io/github/issues-raw/langchain-ai/langchain?style=flat-square', 'link_texts': ['Open Issues'], 'link_urls': ['https://github.com/langchain-ai/langchain/issues'], 'languages': ['eng'], 'file_directory': '../../docs', 'filename': 'README.md', 'filetype': 'text/markdown', 'last_modified': '2025-05-30T10:16:46'}\n",
      "Document 9:\n",
      "Text: Open in Dev Containers\n",
      "Metadata: {'image_url': 'https://img.shields.io/static/v1?label=Dev%20Containers&message=Open&color=blue&logo=visualstudiocode&style=flat-square', 'link_texts': ['Open in Dev Containers'], 'link_urls': ['https://vscode.dev/redirect?url=vscode://ms-vscode-remote.remote-containers/cloneInVolume?url=https://github.com/langchain-ai/langchain'], 'languages': ['eng'], 'file_directory': '../../docs', 'filename': 'README.md', 'filetype': 'text/markdown', 'last_modified': '2025-05-30T10:16:46'}\n",
      "Document 10:\n",
      "Text: Open in GitHub Codespaces\n",
      "Metadata: {'image_url': 'https://github.com/codespaces/badge.svg', 'link_texts': ['Open in GitHub Codespaces'], 'link_urls': ['https://codespaces.new/langchain-ai/langchain'], 'languages': ['eng'], 'file_directory': '../../docs', 'filename': 'README.md', 'filetype': 'text/markdown', 'last_modified': '2025-05-30T10:16:46'}\n",
      "Document 11:\n",
      "Text: Twitter\n",
      "Metadata: {'image_url': 'https://img.shields.io/twitter/url/https/twitter.com/langchainai.svg?style=social&label=Follow%20%40LangChainAI', 'link_texts': ['Twitter'], 'link_urls': ['https://twitter.com/langchainai'], 'languages': ['eng'], 'file_directory': '../../docs', 'filename': 'README.md', 'filetype': 'text/markdown', 'last_modified': '2025-05-30T10:16:46'}\n",
      "Document 12:\n",
      "Text: Looking for the JS/TS library? Check out LangChain.js.\n",
      "Metadata: {'link_texts': ['LangChain.js'], 'link_urls': ['https://github.com/langchain-ai/langchainjs'], 'languages': ['eng'], 'file_directory': '../../docs', 'filename': 'README.md', 'filetype': 'text/markdown', 'last_modified': '2025-05-30T10:16:46'}\n",
      "Document 13:\n",
      "Text: To help you ship LangChain apps to production faster, check out LangSmith. LangSmith is a unified developer platform for building, testing, and monitoring LLM applications. Fill out this form to speak with our sales team.\n",
      "Metadata: {'link_texts': ['LangSmith', 'LangSmith', 'this form'], 'link_urls': ['https://smith.langchain.com', 'https://smith.langchain.com', 'https://www.langchain.com/contact-sales'], 'languages': ['eng'], 'file_directory': '../../docs', 'filename': 'README.md', 'filetype': 'text/markdown', 'last_modified': '2025-05-30T10:16:46'}\n",
      "Document 14:\n",
      "Text: Quick Install\n",
      "Metadata: {'category_depth': 1, 'languages': ['eng'], 'file_directory': '../../docs', 'filename': 'README.md', 'filetype': 'text/markdown', 'last_modified': '2025-05-30T10:16:46'}\n",
      "Document 15:\n",
      "Text: With pip:\n",
      "Metadata: {'languages': ['eng'], 'file_directory': '../../docs', 'filename': 'README.md', 'filetype': 'text/markdown', 'last_modified': '2025-05-30T10:16:46', 'parent_id': 'ed4430453c5601144a0b3c2a466bcc88'}\n",
      "Document 16:\n",
      "Text: bash pip install langchain\n",
      "Metadata: {'languages': ['eng'], 'file_directory': '../../docs', 'filename': 'README.md', 'filetype': 'text/markdown', 'last_modified': '2025-05-30T10:16:46', 'parent_id': 'ed4430453c5601144a0b3c2a466bcc88'}\n",
      "Document 17:\n",
      "Text: With conda:\n",
      "Metadata: {'languages': ['eng'], 'file_directory': '../../docs', 'filename': 'README.md', 'filetype': 'text/markdown', 'last_modified': '2025-05-30T10:16:46', 'parent_id': 'ed4430453c5601144a0b3c2a466bcc88'}\n",
      "Document 18:\n",
      "Text: bash conda install langchain -c conda-forge\n",
      "Metadata: {'languages': ['eng'], 'file_directory': '../../docs', 'filename': 'README.md', 'filetype': 'text/markdown', 'last_modified': '2025-05-30T10:16:46', 'parent_id': 'ed4430453c5601144a0b3c2a466bcc88'}\n",
      "Document 19:\n",
      "Text: 🤔 What is LangChain?\n",
      "Metadata: {'category_depth': 1, 'languages': ['eng'], 'file_directory': '../../docs', 'filename': 'README.md', 'filetype': 'text/markdown', 'last_modified': '2025-05-30T10:16:46'}\n",
      "Document 20:\n",
      "Text: LangChain is a framework for developing applications powered by large language models (LLMs).\n",
      "Metadata: {'emphasized_text_contents': ['LangChain'], 'emphasized_text_tags': ['b'], 'languages': ['eng'], 'file_directory': '../../docs', 'filename': 'README.md', 'filetype': 'text/markdown', 'last_modified': '2025-05-30T10:16:46', 'parent_id': '8daf9eee2ff018ff90d7f1c171b8655e'}\n",
      "Document 21:\n",
      "Text: For these applications, LangChain simplifies the entire application lifecycle:\n",
      "Metadata: {'languages': ['eng'], 'file_directory': '../../docs', 'filename': 'README.md', 'filetype': 'text/markdown', 'last_modified': '2025-05-30T10:16:46', 'parent_id': '8daf9eee2ff018ff90d7f1c171b8655e'}\n",
      "Document 22:\n",
      "Text: Open-source libraries: Build your applications using LangChain's open-source components and third-party integrations. Use LangGraph to build stateful agents with first-class streaming and human-in-the-loop support.\n",
      "Metadata: {'category_depth': 1, 'emphasized_text_contents': ['Open-source libraries'], 'emphasized_text_tags': ['b'], 'link_texts': ['components', 'third-party integrations', 'LangGraph'], 'link_urls': ['https://python.langchain.com/docs/concepts/', 'https://python.langchain.com/docs/integrations/providers/', 'https://langchain-ai.github.io/langgraph/'], 'languages': ['eng'], 'file_directory': '../../docs', 'filename': 'README.md', 'filetype': 'text/markdown', 'last_modified': '2025-05-30T10:16:46', 'parent_id': '8daf9eee2ff018ff90d7f1c171b8655e'}\n",
      "Document 23:\n",
      "Text: Productionization: Inspect, monitor, and evaluate your apps with LangSmith so that you can constantly optimize and deploy with confidence.\n",
      "Metadata: {'category_depth': 1, 'emphasized_text_contents': ['Productionization'], 'emphasized_text_tags': ['b'], 'link_texts': ['LangSmith'], 'link_urls': ['https://docs.smith.langchain.com/'], 'languages': ['eng'], 'file_directory': '../../docs', 'filename': 'README.md', 'filetype': 'text/markdown', 'last_modified': '2025-05-30T10:16:46', 'parent_id': '8daf9eee2ff018ff90d7f1c171b8655e'}\n",
      "Document 24:\n",
      "Text: Deployment: Turn your LangGraph applications into production-ready APIs and Assistants with LangGraph Platform.\n",
      "Metadata: {'category_depth': 1, 'emphasized_text_contents': ['Deployment'], 'emphasized_text_tags': ['b'], 'link_texts': ['LangGraph Platform'], 'link_urls': ['https://langchain-ai.github.io/langgraph/cloud/'], 'languages': ['eng'], 'file_directory': '../../docs', 'filename': 'README.md', 'filetype': 'text/markdown', 'last_modified': '2025-05-30T10:16:46', 'parent_id': '8daf9eee2ff018ff90d7f1c171b8655e'}\n",
      "Document 25:\n",
      "Text: Open-source libraries\n",
      "Metadata: {'category_depth': 2, 'languages': ['eng'], 'file_directory': '../../docs', 'filename': 'README.md', 'filetype': 'text/markdown', 'last_modified': '2025-05-30T10:16:46', 'parent_id': '8daf9eee2ff018ff90d7f1c171b8655e'}\n",
      "Document 26:\n",
      "Text: langchain-core: Base abstractions.\n",
      "Metadata: {'category_depth': 1, 'emphasized_text_contents': ['langchain-core'], 'emphasized_text_tags': ['b'], 'languages': ['eng'], 'file_directory': '../../docs', 'filename': 'README.md', 'filetype': 'text/markdown', 'last_modified': '2025-05-30T10:16:46', 'parent_id': '3216990a491506917913a01867737dd6'}\n",
      "Document 27:\n",
      "Text: Integration packages (e.g. langchain-openai, langchain-anthropic, etc.): Important integrations have been split into lightweight packages that are co-maintained by the LangChain team and the integration developers.\n",
      "Metadata: {'category_depth': 1, 'emphasized_text_contents': ['Integration packages', 'langchain-openai', 'langchain-anthropic'], 'emphasized_text_tags': ['b', 'b', 'b'], 'languages': ['eng'], 'file_directory': '../../docs', 'filename': 'README.md', 'filetype': 'text/markdown', 'last_modified': '2025-05-30T10:16:46', 'parent_id': '3216990a491506917913a01867737dd6'}\n",
      "Document 28:\n",
      "Text: langchain: Chains, agents, and retrieval strategies that make up an application's cognitive architecture.\n",
      "Metadata: {'category_depth': 1, 'emphasized_text_contents': ['langchain'], 'emphasized_text_tags': ['b'], 'languages': ['eng'], 'file_directory': '../../docs', 'filename': 'README.md', 'filetype': 'text/markdown', 'last_modified': '2025-05-30T10:16:46', 'parent_id': '3216990a491506917913a01867737dd6'}\n",
      "Document 29:\n",
      "Text: langchain-community: Third-party integrations that are community maintained.\n",
      "Metadata: {'category_depth': 1, 'emphasized_text_contents': ['langchain-community'], 'emphasized_text_tags': ['b'], 'languages': ['eng'], 'file_directory': '../../docs', 'filename': 'README.md', 'filetype': 'text/markdown', 'last_modified': '2025-05-30T10:16:46', 'parent_id': '3216990a491506917913a01867737dd6'}\n",
      "Document 30:\n",
      "Text: LangGraph: LangGraph powers production-grade agents, trusted by Linkedin, Uber, Klarna, GitLab, and many more. Build robust and stateful multi-actor applications with LLMs by modeling steps as edges and nodes in a graph. Integrates smoothly with LangChain, but can be used without it. To learn more about LangGraph, check out our first LangChain Academy course, Introduction to LangGraph, available here.\n",
      "Metadata: {'category_depth': 1, 'emphasized_text_contents': ['LangGraph', 'Introduction to LangGraph'], 'emphasized_text_tags': ['b', 'i'], 'link_texts': ['LangGraph', 'here'], 'link_urls': ['https://langchain-ai.github.io/langgraph', 'https://academy.langchain.com/courses/intro-to-langgraph'], 'languages': ['eng'], 'file_directory': '../../docs', 'filename': 'README.md', 'filetype': 'text/markdown', 'last_modified': '2025-05-30T10:16:46', 'parent_id': '3216990a491506917913a01867737dd6'}\n",
      "Document 31:\n",
      "Text: Productionization:\n",
      "Metadata: {'category_depth': 2, 'languages': ['eng'], 'file_directory': '../../docs', 'filename': 'README.md', 'filetype': 'text/markdown', 'last_modified': '2025-05-30T10:16:46', 'parent_id': '8daf9eee2ff018ff90d7f1c171b8655e'}\n",
      "Document 32:\n",
      "Text: LangSmith: A developer platform that lets you debug, test, evaluate, and monitor chains built on any LLM framework and seamlessly integrates with LangChain.\n",
      "Metadata: {'category_depth': 1, 'emphasized_text_contents': ['LangSmith'], 'emphasized_text_tags': ['b'], 'link_texts': ['LangSmith'], 'link_urls': ['https://docs.smith.langchain.com/'], 'languages': ['eng'], 'file_directory': '../../docs', 'filename': 'README.md', 'filetype': 'text/markdown', 'last_modified': '2025-05-30T10:16:46', 'parent_id': 'f0b7a54886bf5ddc1fd0985bd4738d39'}\n",
      "Document 33:\n",
      "Text: Deployment:\n",
      "Metadata: {'category_depth': 2, 'languages': ['eng'], 'file_directory': '../../docs', 'filename': 'README.md', 'filetype': 'text/markdown', 'last_modified': '2025-05-30T10:16:46', 'parent_id': '8daf9eee2ff018ff90d7f1c171b8655e'}\n",
      "Document 34:\n",
      "Text: LangGraph Platform: Turn your LangGraph applications into production-ready APIs and Assistants.\n",
      "Metadata: {'category_depth': 1, 'emphasized_text_contents': ['LangGraph Platform'], 'emphasized_text_tags': ['b'], 'link_texts': ['LangGraph Platform'], 'link_urls': ['https://langchain-ai.github.io/langgraph/cloud/'], 'languages': ['eng'], 'file_directory': '../../docs', 'filename': 'README.md', 'filetype': 'text/markdown', 'last_modified': '2025-05-30T10:16:46', 'parent_id': 'a01207b161c8b976c771f678f9a18ea5'}\n",
      "Document 35:\n",
      "Text: Diagram outlining the hierarchical organization of the LangChain framework, displaying the interconnected parts across multiple layers.\n",
      "Metadata: {'image_url': 'docs/static/svg/langchain_stack_112024.svg#gh-light-mode-only', 'languages': ['eng'], 'file_directory': '../../docs', 'filename': 'README.md', 'filetype': 'text/markdown', 'last_modified': '2025-05-30T10:16:46'}\n",
      "Document 36:\n",
      "Text: Diagram outlining the hierarchical organization of the LangChain framework, displaying the interconnected parts across multiple layers.\n",
      "Metadata: {'image_url': 'docs/static/svg/langchain_stack_112024_dark.svg#gh-dark-mode-only', 'languages': ['eng'], 'file_directory': '../../docs', 'filename': 'README.md', 'filetype': 'text/markdown', 'last_modified': '2025-05-30T10:16:46'}\n",
      "Document 37:\n",
      "Text: 🧱 What can you build with LangChain?\n",
      "Metadata: {'category_depth': 1, 'languages': ['eng'], 'file_directory': '../../docs', 'filename': 'README.md', 'filetype': 'text/markdown', 'last_modified': '2025-05-30T10:16:46'}\n",
      "Document 38:\n",
      "Text: ❓ Question answering with RAG\n",
      "Metadata: {'emphasized_text_contents': ['❓ Question answering with RAG'], 'emphasized_text_tags': ['b'], 'languages': ['eng'], 'file_directory': '../../docs', 'filename': 'README.md', 'filetype': 'text/markdown', 'last_modified': '2025-05-30T10:16:46', 'parent_id': '08eed75ab2f44c2abb4f797e87b8f012'}\n",
      "Document 39:\n",
      "Text: Documentation\n",
      "Metadata: {'category_depth': 1, 'link_texts': ['Documentation'], 'link_urls': ['https://python.langchain.com/docs/tutorials/rag/'], 'languages': ['eng'], 'file_directory': '../../docs', 'filename': 'README.md', 'filetype': 'text/markdown', 'last_modified': '2025-05-30T10:16:46', 'parent_id': '08eed75ab2f44c2abb4f797e87b8f012'}\n",
      "Document 40:\n",
      "Text: End-to-end Example: Chat LangChain and repo\n",
      "Metadata: {'category_depth': 1, 'link_texts': ['Chat LangChain', 'repo'], 'link_urls': ['https://chat.langchain.com', 'https://github.com/langchain-ai/chat-langchain'], 'languages': ['eng'], 'file_directory': '../../docs', 'filename': 'README.md', 'filetype': 'text/markdown', 'last_modified': '2025-05-30T10:16:46', 'parent_id': '08eed75ab2f44c2abb4f797e87b8f012'}\n",
      "Document 41:\n",
      "Text: 🧱 Extracting structured output\n",
      "Metadata: {'emphasized_text_contents': ['🧱 Extracting structured output'], 'emphasized_text_tags': ['b'], 'languages': ['eng'], 'file_directory': '../../docs', 'filename': 'README.md', 'filetype': 'text/markdown', 'last_modified': '2025-05-30T10:16:46', 'parent_id': '08eed75ab2f44c2abb4f797e87b8f012'}\n",
      "Document 42:\n",
      "Text: Documentation\n",
      "Metadata: {'category_depth': 1, 'link_texts': ['Documentation'], 'link_urls': ['https://python.langchain.com/docs/tutorials/extraction/'], 'languages': ['eng'], 'file_directory': '../../docs', 'filename': 'README.md', 'filetype': 'text/markdown', 'last_modified': '2025-05-30T10:16:46', 'parent_id': '08eed75ab2f44c2abb4f797e87b8f012'}\n",
      "Document 43:\n",
      "Text: End-to-end Example: LangChain Extract\n",
      "Metadata: {'category_depth': 1, 'link_texts': ['LangChain Extract'], 'link_urls': ['https://github.com/langchain-ai/langchain-extract/'], 'languages': ['eng'], 'file_directory': '../../docs', 'filename': 'README.md', 'filetype': 'text/markdown', 'last_modified': '2025-05-30T10:16:46', 'parent_id': '08eed75ab2f44c2abb4f797e87b8f012'}\n",
      "Document 44:\n",
      "Text: 🤖 Chatbots\n",
      "Metadata: {'emphasized_text_contents': ['🤖 Chatbots'], 'emphasized_text_tags': ['b'], 'languages': ['eng'], 'file_directory': '../../docs', 'filename': 'README.md', 'filetype': 'text/markdown', 'last_modified': '2025-05-30T10:16:46', 'parent_id': '08eed75ab2f44c2abb4f797e87b8f012'}\n",
      "Document 45:\n",
      "Text: Documentation\n",
      "Metadata: {'category_depth': 1, 'link_texts': ['Documentation'], 'link_urls': ['https://python.langchain.com/docs/tutorials/chatbot/'], 'languages': ['eng'], 'file_directory': '../../docs', 'filename': 'README.md', 'filetype': 'text/markdown', 'last_modified': '2025-05-30T10:16:46', 'parent_id': '08eed75ab2f44c2abb4f797e87b8f012'}\n",
      "Document 46:\n",
      "Text: End-to-end Example: Web LangChain (web researcher chatbot) and repo\n",
      "Metadata: {'category_depth': 1, 'link_texts': ['Web LangChain (web researcher chatbot)', 'repo'], 'link_urls': ['https://weblangchain.vercel.app', 'https://github.com/langchain-ai/weblangchain'], 'languages': ['eng'], 'file_directory': '../../docs', 'filename': 'README.md', 'filetype': 'text/markdown', 'last_modified': '2025-05-30T10:16:46', 'parent_id': '08eed75ab2f44c2abb4f797e87b8f012'}\n",
      "Document 47:\n",
      "Text: And much more! Head to the Tutorials section of the docs for more.\n",
      "Metadata: {'link_texts': ['Tutorials'], 'link_urls': ['https://python.langchain.com/docs/tutorials/'], 'languages': ['eng'], 'file_directory': '../../docs', 'filename': 'README.md', 'filetype': 'text/markdown', 'last_modified': '2025-05-30T10:16:46', 'parent_id': '08eed75ab2f44c2abb4f797e87b8f012'}\n",
      "Document 48:\n",
      "Text: 🚀 How does LangChain help?\n",
      "Metadata: {'category_depth': 1, 'languages': ['eng'], 'file_directory': '../../docs', 'filename': 'README.md', 'filetype': 'text/markdown', 'last_modified': '2025-05-30T10:16:46'}\n",
      "Document 49:\n",
      "Text: The main value props of the LangChain libraries are:\n",
      "Metadata: {'languages': ['eng'], 'file_directory': '../../docs', 'filename': 'README.md', 'filetype': 'text/markdown', 'last_modified': '2025-05-30T10:16:46', 'parent_id': '33611798ce51efaf7af7837d480eb269'}\n",
      "Document 50:\n",
      "Text: Components: composable building blocks, tools and integrations for working with language models. Components are modular and easy-to-use, whether you are using the rest of the LangChain framework or not.\n",
      "Metadata: {'category_depth': 1, 'emphasized_text_contents': ['Components'], 'emphasized_text_tags': ['b'], 'languages': ['eng'], 'file_directory': '../../docs', 'filename': 'README.md', 'filetype': 'text/markdown', 'last_modified': '2025-05-30T10:16:46', 'parent_id': '33611798ce51efaf7af7837d480eb269'}\n",
      "Document 51:\n",
      "Text: Easy orchestration with LangGraph: LangGraph, built on top of langchain-core, has built-in support for messages, tools, and other LangChain abstractions. This makes it easy to combine components into production-ready applications with persistence, streaming, and other key features. Check out the LangChain tutorials page for examples.\n",
      "Metadata: {'category_depth': 1, 'emphasized_text_contents': ['Easy orchestration with LangGraph'], 'emphasized_text_tags': ['b'], 'link_texts': ['LangGraph', 'messages', 'tools', 'tutorials page'], 'link_urls': ['https://langchain-ai.github.io/langgraph/', 'https://python.langchain.com/docs/concepts/messages/', 'https://python.langchain.com/docs/concepts/tools/', 'https://python.langchain.com/docs/tutorials/#orchestration'], 'languages': ['eng'], 'file_directory': '../../docs', 'filename': 'README.md', 'filetype': 'text/markdown', 'last_modified': '2025-05-30T10:16:46', 'parent_id': '33611798ce51efaf7af7837d480eb269'}\n",
      "Document 52:\n",
      "Text: Components\n",
      "Metadata: {'category_depth': 1, 'languages': ['eng'], 'file_directory': '../../docs', 'filename': 'README.md', 'filetype': 'text/markdown', 'last_modified': '2025-05-30T10:16:46'}\n",
      "Document 53:\n",
      "Text: Components fall into the following modules:\n",
      "Metadata: {'emphasized_text_contents': ['modules'], 'emphasized_text_tags': ['b'], 'languages': ['eng'], 'file_directory': '../../docs', 'filename': 'README.md', 'filetype': 'text/markdown', 'last_modified': '2025-05-30T10:16:46', 'parent_id': 'dd4ee3a482cd163ff746cff84ca4e9c3'}\n",
      "Document 54:\n",
      "Text: 📃 Model I/O\n",
      "Metadata: {'emphasized_text_contents': ['📃 Model I/O'], 'emphasized_text_tags': ['b'], 'languages': ['eng'], 'file_directory': '../../docs', 'filename': 'README.md', 'filetype': 'text/markdown', 'last_modified': '2025-05-30T10:16:46', 'parent_id': 'dd4ee3a482cd163ff746cff84ca4e9c3'}\n",
      "Document 55:\n",
      "Text: This includes prompt management and a generic interface for chat models, including a consistent interface for tool-calling and structured output across model providers.\n",
      "Metadata: {'link_texts': ['prompt management', 'chat models', 'tool-calling', 'structured output'], 'link_urls': ['https://python.langchain.com/docs/concepts/prompt_templates/', 'https://python.langchain.com/docs/concepts/chat_models/', 'https://python.langchain.com/docs/concepts/tool_calling/', 'https://python.langchain.com/docs/concepts/structured_outputs/'], 'languages': ['eng'], 'file_directory': '../../docs', 'filename': 'README.md', 'filetype': 'text/markdown', 'last_modified': '2025-05-30T10:16:46', 'parent_id': 'dd4ee3a482cd163ff746cff84ca4e9c3'}\n",
      "Document 56:\n",
      "Text: 📚 Retrieval\n",
      "Metadata: {'emphasized_text_contents': ['📚 Retrieval'], 'emphasized_text_tags': ['b'], 'languages': ['eng'], 'file_directory': '../../docs', 'filename': 'README.md', 'filetype': 'text/markdown', 'last_modified': '2025-05-30T10:16:46', 'parent_id': 'dd4ee3a482cd163ff746cff84ca4e9c3'}\n",
      "Document 57:\n",
      "Text: Retrieval Augmented Generation involves loading data from a variety of sources, preparing it, then searching over (a.k.a. retrieving from) it for use in the generation step.\n",
      "Metadata: {'link_texts': ['loading data', 'preparing it', 'searching over (a.k.a. retrieving from)'], 'link_urls': ['https://python.langchain.com/docs/concepts/document_loaders/', 'https://python.langchain.com/docs/concepts/text_splitters/', 'https://python.langchain.com/docs/concepts/retrievers/'], 'languages': ['eng'], 'file_directory': '../../docs', 'filename': 'README.md', 'filetype': 'text/markdown', 'last_modified': '2025-05-30T10:16:46', 'parent_id': 'dd4ee3a482cd163ff746cff84ca4e9c3'}\n",
      "Document 58:\n",
      "Text: 🤖 Agents\n",
      "Metadata: {'emphasized_text_contents': ['🤖 Agents'], 'emphasized_text_tags': ['b'], 'languages': ['eng'], 'file_directory': '../../docs', 'filename': 'README.md', 'filetype': 'text/markdown', 'last_modified': '2025-05-30T10:16:46', 'parent_id': 'dd4ee3a482cd163ff746cff84ca4e9c3'}\n",
      "Document 59:\n",
      "Text: Agents allow an LLM autonomy over how a task is accomplished. Agents make decisions about which Actions to take, then take that Action, observe the result, and repeat until the task is complete. LangGraph makes it easy to use LangChain components to build both custom and built-in LLM agents.\n",
      "Metadata: {'link_texts': ['LangGraph', 'custom', 'built-in'], 'link_urls': ['https://langchain-ai.github.io/langgraph/', 'https://langchain-ai.github.io/langgraph/tutorials/', 'https://langchain-ai.github.io/langgraph/how-tos/create-react-agent/'], 'languages': ['eng'], 'file_directory': '../../docs', 'filename': 'README.md', 'filetype': 'text/markdown', 'last_modified': '2025-05-30T10:16:46', 'parent_id': 'dd4ee3a482cd163ff746cff84ca4e9c3'}\n",
      "Document 60:\n",
      "Text: 📖 Documentation\n",
      "Metadata: {'category_depth': 1, 'languages': ['eng'], 'file_directory': '../../docs', 'filename': 'README.md', 'filetype': 'text/markdown', 'last_modified': '2025-05-30T10:16:46'}\n",
      "Document 61:\n",
      "Text: Please see here for full documentation, which includes:\n",
      "Metadata: {'link_texts': ['here'], 'link_urls': ['https://python.langchain.com'], 'languages': ['eng'], 'file_directory': '../../docs', 'filename': 'README.md', 'filetype': 'text/markdown', 'last_modified': '2025-05-30T10:16:46', 'parent_id': 'efff4b2acd7641d8df3036723e42d4ae'}\n",
      "Document 62:\n",
      "Text: Introduction: Overview of the framework and the structure of the docs.\n",
      "Metadata: {'category_depth': 1, 'link_texts': ['Introduction'], 'link_urls': ['https://python.langchain.com/docs/introduction/'], 'languages': ['eng'], 'file_directory': '../../docs', 'filename': 'README.md', 'filetype': 'text/markdown', 'last_modified': '2025-05-30T10:16:46', 'parent_id': 'efff4b2acd7641d8df3036723e42d4ae'}\n",
      "Document 63:\n",
      "Text: Tutorials: If you're looking to build something specific or are more of a hands-on learner, check out our tutorials. This is the best place to get started.\n",
      "Metadata: {'category_depth': 1, 'link_texts': ['Tutorials'], 'link_urls': ['https://python.langchain.com/docs/tutorials/'], 'languages': ['eng'], 'file_directory': '../../docs', 'filename': 'README.md', 'filetype': 'text/markdown', 'last_modified': '2025-05-30T10:16:46', 'parent_id': 'efff4b2acd7641d8df3036723e42d4ae'}\n",
      "Document 64:\n",
      "Text: How-to guides: Answers to “How do I….?” type questions. These guides are goal-oriented and concrete; they're meant to help you complete a specific task.\n",
      "Metadata: {'category_depth': 1, 'link_texts': ['How-to guides'], 'link_urls': ['https://python.langchain.com/docs/how_to/'], 'languages': ['eng'], 'file_directory': '../../docs', 'filename': 'README.md', 'filetype': 'text/markdown', 'last_modified': '2025-05-30T10:16:46', 'parent_id': 'efff4b2acd7641d8df3036723e42d4ae'}\n",
      "Document 65:\n",
      "Text: Conceptual guide: Conceptual explanations of the key parts of the framework.\n",
      "Metadata: {'category_depth': 1, 'link_texts': ['Conceptual guide'], 'link_urls': ['https://python.langchain.com/docs/concepts/'], 'languages': ['eng'], 'file_directory': '../../docs', 'filename': 'README.md', 'filetype': 'text/markdown', 'last_modified': '2025-05-30T10:16:46', 'parent_id': 'efff4b2acd7641d8df3036723e42d4ae'}\n",
      "Document 66:\n",
      "Text: API Reference: Thorough documentation of every class and method.\n",
      "Metadata: {'category_depth': 1, 'link_texts': ['API Reference'], 'link_urls': ['https://python.langchain.com/api_reference/'], 'languages': ['eng'], 'file_directory': '../../docs', 'filename': 'README.md', 'filetype': 'text/markdown', 'last_modified': '2025-05-30T10:16:46', 'parent_id': 'efff4b2acd7641d8df3036723e42d4ae'}\n",
      "Document 67:\n",
      "Text: 🌐 Ecosystem\n",
      "Metadata: {'category_depth': 1, 'languages': ['eng'], 'file_directory': '../../docs', 'filename': 'README.md', 'filetype': 'text/markdown', 'last_modified': '2025-05-30T10:16:46'}\n",
      "Document 68:\n",
      "Text: 🦜🛠️ LangSmith: Trace and evaluate your language model applications and intelligent agents to help you move from prototype to production.\n",
      "Metadata: {'category_depth': 1, 'link_texts': ['🦜🛠️ LangSmith'], 'link_urls': ['https://docs.smith.langchain.com/'], 'languages': ['eng'], 'file_directory': '../../docs', 'filename': 'README.md', 'filetype': 'text/markdown', 'last_modified': '2025-05-30T10:16:46', 'parent_id': '928ab9cc3de337b75139a1a5d14fc6c0'}\n",
      "Document 69:\n",
      "Text: 🦜🕸️ LangGraph: Create stateful, multi-actor applications with LLMs. Integrates smoothly with LangChain, but can be used without it.\n",
      "Metadata: {'category_depth': 1, 'link_texts': ['🦜🕸️ LangGraph'], 'link_urls': ['https://langchain-ai.github.io/langgraph/'], 'languages': ['eng'], 'file_directory': '../../docs', 'filename': 'README.md', 'filetype': 'text/markdown', 'last_modified': '2025-05-30T10:16:46', 'parent_id': '928ab9cc3de337b75139a1a5d14fc6c0'}\n",
      "Document 70:\n",
      "Text: 🦜🕸️ LangGraph Platform: Deploy LLM applications built with LangGraph into production.\n",
      "Metadata: {'category_depth': 1, 'link_texts': ['🦜🕸️ LangGraph Platform'], 'link_urls': ['https://langchain-ai.github.io/langgraph/concepts/#langgraph-platform'], 'languages': ['eng'], 'file_directory': '../../docs', 'filename': 'README.md', 'filetype': 'text/markdown', 'last_modified': '2025-05-30T10:16:46', 'parent_id': '928ab9cc3de337b75139a1a5d14fc6c0'}\n",
      "Document 71:\n",
      "Text: 💁 Contributing\n",
      "Metadata: {'category_depth': 1, 'languages': ['eng'], 'file_directory': '../../docs', 'filename': 'README.md', 'filetype': 'text/markdown', 'last_modified': '2025-05-30T10:16:46'}\n",
      "Document 72:\n",
      "Text: As an open-source project in a rapidly developing field, we are extremely open to contributions, whether it be in the form of a new feature, improved infrastructure, or better documentation.\n",
      "Metadata: {'languages': ['eng'], 'file_directory': '../../docs', 'filename': 'README.md', 'filetype': 'text/markdown', 'last_modified': '2025-05-30T10:16:46', 'parent_id': '146562ca498c167e8dee58c54d6e4092'}\n",
      "Document 73:\n",
      "Text: For detailed information on how to contribute, see here.\n",
      "Metadata: {'link_texts': ['here'], 'link_urls': ['https://python.langchain.com/docs/contributing/'], 'languages': ['eng'], 'file_directory': '../../docs', 'filename': 'README.md', 'filetype': 'text/markdown', 'last_modified': '2025-05-30T10:16:46', 'parent_id': '146562ca498c167e8dee58c54d6e4092'}\n",
      "Document 74:\n",
      "Text: 🌟 Contributors\n",
      "Metadata: {'category_depth': 1, 'languages': ['eng'], 'file_directory': '../../docs', 'filename': 'README.md', 'filetype': 'text/markdown', 'last_modified': '2025-05-30T10:16:46'}\n",
      "Document 75:\n",
      "Text: langchain contributors\n",
      "Metadata: {'image_url': 'https://contrib.rocks/image?repo=langchain-ai/langchain&max=2000', 'link_texts': ['langchain contributors'], 'link_urls': ['https://github.com/langchain-ai/langchain/graphs/contributors'], 'languages': ['eng'], 'file_directory': '../../docs', 'filename': 'README.md', 'filetype': 'text/markdown', 'last_modified': '2025-05-30T10:16:46'}\n"
     ]
    }
   ],
   "source": [
    "i = 0\n",
    "for doc in docs:\n",
    "    print(f\"Document {i+1}:\")\n",
    "    print(f\"Text: {doc.text}\")\n",
    "    print(f\"Metadata: {doc.metadata.to_dict()}\")\n",
    "    i = i+1\n"
   ]
  },
  {
   "cell_type": "markdown",
   "id": "1c6057e5",
   "metadata": {},
   "source": [
    "#### Convert UnStructured Documents to LangChain Documents"
   ]
  },
  {
   "cell_type": "code",
   "execution_count": 12,
   "id": "1591208f",
   "metadata": {},
   "outputs": [
    {
     "data": {
      "text/plain": [
       "[Document(metadata={'category_depth': 0, 'languages': ['eng'], 'file_directory': '../../docs', 'filename': 'README.md', 'filetype': 'text/markdown', 'last_modified': '2025-05-30T10:16:46'}, page_content='🦜️🔗 LangChain'),\n",
       " Document(metadata={'languages': ['eng'], 'file_directory': '../../docs', 'filename': 'README.md', 'filetype': 'text/markdown', 'last_modified': '2025-05-30T10:16:46', 'parent_id': '200b8a7d0dd03f66e4f13456566d2b3a'}, page_content='⚡ Build context-aware reasoning applications ⚡'),\n",
       " Document(metadata={'image_url': 'https://img.shields.io/github/release/langchain-ai/langchain?style=flat-square', 'link_texts': ['Release Notes'], 'link_urls': ['https://github.com/langchain-ai/langchain/releases'], 'languages': ['eng'], 'file_directory': '../../docs', 'filename': 'README.md', 'filetype': 'text/markdown', 'last_modified': '2025-05-30T10:16:46'}, page_content='Release Notes'),\n",
       " Document(metadata={'image_url': 'https://github.com/langchain-ai/langchain/actions/workflows/check_diffs.yml/badge.svg', 'link_texts': ['CI'], 'link_urls': ['https://github.com/langchain-ai/langchain/actions/workflows/check_diffs.yml'], 'languages': ['eng'], 'file_directory': '../../docs', 'filename': 'README.md', 'filetype': 'text/markdown', 'last_modified': '2025-05-30T10:16:46'}, page_content='CI'),\n",
       " Document(metadata={'image_url': 'https://img.shields.io/pypi/l/langchain-core?style=flat-square', 'link_texts': ['PyPI - License'], 'link_urls': ['https://opensource.org/licenses/MIT'], 'languages': ['eng'], 'file_directory': '../../docs', 'filename': 'README.md', 'filetype': 'text/markdown', 'last_modified': '2025-05-30T10:16:46'}, page_content='PyPI - License'),\n",
       " Document(metadata={'image_url': 'https://img.shields.io/pypi/dm/langchain-core?style=flat-square', 'link_texts': ['PyPI - Downloads'], 'link_urls': ['https://pypistats.org/packages/langchain-core'], 'languages': ['eng'], 'file_directory': '../../docs', 'filename': 'README.md', 'filetype': 'text/markdown', 'last_modified': '2025-05-30T10:16:46'}, page_content='PyPI - Downloads'),\n",
       " Document(metadata={'image_url': 'https://img.shields.io/github/stars/langchain-ai/langchain?style=flat-square', 'link_texts': ['GitHub star chart'], 'link_urls': ['https://star-history.com/#langchain-ai/langchain'], 'languages': ['eng'], 'file_directory': '../../docs', 'filename': 'README.md', 'filetype': 'text/markdown', 'last_modified': '2025-05-30T10:16:46'}, page_content='GitHub star chart'),\n",
       " Document(metadata={'image_url': 'https://img.shields.io/github/issues-raw/langchain-ai/langchain?style=flat-square', 'link_texts': ['Open Issues'], 'link_urls': ['https://github.com/langchain-ai/langchain/issues'], 'languages': ['eng'], 'file_directory': '../../docs', 'filename': 'README.md', 'filetype': 'text/markdown', 'last_modified': '2025-05-30T10:16:46'}, page_content='Open Issues'),\n",
       " Document(metadata={'image_url': 'https://img.shields.io/static/v1?label=Dev%20Containers&message=Open&color=blue&logo=visualstudiocode&style=flat-square', 'link_texts': ['Open in Dev Containers'], 'link_urls': ['https://vscode.dev/redirect?url=vscode://ms-vscode-remote.remote-containers/cloneInVolume?url=https://github.com/langchain-ai/langchain'], 'languages': ['eng'], 'file_directory': '../../docs', 'filename': 'README.md', 'filetype': 'text/markdown', 'last_modified': '2025-05-30T10:16:46'}, page_content='Open in Dev Containers'),\n",
       " Document(metadata={'image_url': 'https://github.com/codespaces/badge.svg', 'link_texts': ['Open in GitHub Codespaces'], 'link_urls': ['https://codespaces.new/langchain-ai/langchain'], 'languages': ['eng'], 'file_directory': '../../docs', 'filename': 'README.md', 'filetype': 'text/markdown', 'last_modified': '2025-05-30T10:16:46'}, page_content='Open in GitHub Codespaces')]"
      ]
     },
     "execution_count": 12,
     "metadata": {},
     "output_type": "execute_result"
    }
   ],
   "source": [
    "from langchain_core.documents import Document\n",
    "\n",
    "lc_docs = [Document(page_content=doc.text,\n",
    "                    metadata=doc.metadata.to_dict())\n",
    "              for doc in docs]\n",
    "lc_docs[:10]"
   ]
  },
  {
   "cell_type": "code",
   "execution_count": null,
   "id": "4261a38b",
   "metadata": {},
   "outputs": [],
   "source": []
  }
 ],
 "metadata": {
  "kernelspec": {
   "display_name": "venv",
   "language": "python",
   "name": "python3"
  },
  "language_info": {
   "codemirror_mode": {
    "name": "ipython",
    "version": 3
   },
   "file_extension": ".py",
   "mimetype": "text/x-python",
   "name": "python",
   "nbconvert_exporter": "python",
   "pygments_lexer": "ipython3",
   "version": "3.11.6"
  }
 },
 "nbformat": 4,
 "nbformat_minor": 5
}
